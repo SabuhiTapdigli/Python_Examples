{
 "cells": [
  {
   "cell_type": "code",
   "execution_count": 2,
   "metadata": {},
   "outputs": [
    {
     "data": {
      "text/plain": [
       "array([0.  , 0.55, 1.1 , 1.65, 2.2 , 2.75, 3.3 , 3.85, 4.4 , 4.95, 5.5 ,\n",
       "       6.05, 6.6 , 7.15, 7.7 , 8.25, 8.8 , 9.35, 9.9 ])"
      ]
     },
     "execution_count": 2,
     "metadata": {},
     "output_type": "execute_result"
    }
   ],
   "source": [
    "import numpy as np\n",
    "np.arange(0,10,0.55)"
   ]
  },
  {
   "cell_type": "code",
   "execution_count": 4,
   "metadata": {},
   "outputs": [
    {
     "data": {
      "text/plain": [
       "array([ 0.        ,  1.11111111,  2.22222222,  3.33333333,  4.44444444,\n",
       "        5.55555556,  6.66666667,  7.77777778,  8.88888889, 10.        ])"
      ]
     },
     "execution_count": 4,
     "metadata": {},
     "output_type": "execute_result"
    }
   ],
   "source": [
    "np.linspace(0,10,10)"
   ]
  },
  {
   "cell_type": "code",
   "execution_count": 9,
   "metadata": {},
   "outputs": [
    {
     "data": {
      "text/plain": [
       "array([[1., 0., 0.],\n",
       "       [0., 1., 0.],\n",
       "       [0., 0., 1.]])"
      ]
     },
     "execution_count": 9,
     "metadata": {},
     "output_type": "execute_result"
    }
   ],
   "source": [
    "np.eye(3)"
   ]
  },
  {
   "cell_type": "code",
   "execution_count": 12,
   "metadata": {},
   "outputs": [
    {
     "data": {
      "text/plain": [
       "array([[0.3023166 , 0.39337055, 0.27498893],\n",
       "       [0.28026534, 0.17524077, 0.83553241],\n",
       "       [0.28233387, 0.97551004, 0.29914394]])"
      ]
     },
     "execution_count": 12,
     "metadata": {},
     "output_type": "execute_result"
    }
   ],
   "source": [
    "np.random.rand(3,3)"
   ]
  },
  {
   "cell_type": "code",
   "execution_count": 17,
   "metadata": {},
   "outputs": [
    {
     "data": {
      "text/plain": [
       "array([[ 2.12417577e+00, -1.40945540e+00,  4.26483591e-01,\n",
       "        -2.92626267e-01,  2.48124481e+00],\n",
       "       [-1.63991749e-01,  5.01018097e-01, -6.02917248e-01,\n",
       "         1.43742670e+00, -1.48015024e+00],\n",
       "       [ 2.17582943e+00,  2.21502897e+00,  1.30347967e-01,\n",
       "        -4.80307194e-01, -6.83976310e-04]])"
      ]
     },
     "execution_count": 17,
     "metadata": {},
     "output_type": "execute_result"
    }
   ],
   "source": [
    "np.random.randn(3,5)"
   ]
  },
  {
   "cell_type": "code",
   "execution_count": 21,
   "metadata": {},
   "outputs": [
    {
     "data": {
      "text/plain": [
       "array([14, 72, 16, 74,  7, 85, 15, 68, 48, 83])"
      ]
     },
     "execution_count": 21,
     "metadata": {},
     "output_type": "execute_result"
    }
   ],
   "source": [
    "np.random.randint(1,100,10)"
   ]
  },
  {
   "cell_type": "code",
   "execution_count": 40,
   "metadata": {},
   "outputs": [
    {
     "data": {
      "text/plain": [
       "array([ 0,  1,  2,  3,  4,  5,  6,  7,  8,  9, 10, 11, 12, 13, 14, 15, 16,\n",
       "       17, 18, 19, 20, 21, 22, 23, 24])"
      ]
     },
     "execution_count": 40,
     "metadata": {},
     "output_type": "execute_result"
    }
   ],
   "source": [
    "arr=np.arange(25)\n",
    "arr"
   ]
  },
  {
   "cell_type": "code",
   "execution_count": 43,
   "metadata": {},
   "outputs": [
    {
     "data": {
      "text/plain": [
       "array([[ 0,  1,  2,  3,  4],\n",
       "       [ 5,  6,  7,  8,  9],\n",
       "       [10, 11, 12, 13, 14],\n",
       "       [15, 16, 17, 18, 19],\n",
       "       [20, 21, 22, 23, 24]])"
      ]
     },
     "execution_count": 43,
     "metadata": {},
     "output_type": "execute_result"
    }
   ],
   "source": [
    "arr.reshape(5,5)"
   ]
  },
  {
   "cell_type": "code",
   "execution_count": 36,
   "metadata": {},
   "outputs": [
    {
     "data": {
      "text/plain": [
       "array([[ 0.41343488, -0.76329457,  0.85543493, -0.51428116, -0.6280981 ,\n",
       "        -0.73676133,  0.22624667, -0.49072623,  1.52319668, -0.19808535],\n",
       "       [ 0.32512534, -1.41025284, -0.59709034,  1.62303368,  0.70087853,\n",
       "         0.28091535, -0.69454125,  0.35920267,  0.38580733, -0.40152071],\n",
       "       [ 0.25441196, -0.33106732,  0.34776914,  2.23085901,  0.85297185,\n",
       "        -0.84409732, -1.94789499,  0.64633821,  0.20844371, -0.94267942],\n",
       "       [-1.2737396 ,  1.32650001, -1.33919689,  0.29378244, -0.34865006,\n",
       "        -1.03589261, -0.28943039,  1.45776194,  0.9459262 , -1.37296358],\n",
       "       [ 1.04792799,  1.94324415,  1.64046293, -1.1890878 , -0.53451784,\n",
       "         0.03679685,  0.89321836,  0.66508769,  0.40553857,  0.04928981],\n",
       "       [-0.14018018,  0.03838015, -1.16215282,  0.27074199, -0.57918778,\n",
       "         1.18685125, -1.3742473 , -0.6887175 ,  1.18992782, -0.03605723],\n",
       "       [-0.96046731,  0.21903089,  1.17891212,  0.64561179, -0.57833225,\n",
       "        -1.01867425, -1.43276511,  1.0681959 , -0.37787575, -0.64359307],\n",
       "       [-0.31404581,  0.45287832, -0.46043354,  0.151198  ,  2.11514896,\n",
       "         0.04210417, -0.51162928, -0.44107925,  0.04103616,  1.24385135],\n",
       "       [-0.71679384, -0.83307112, -0.00441055,  0.70145772, -0.7242426 ,\n",
       "        -0.82476236, -0.47656737,  1.79238062, -2.17597409, -0.97461265],\n",
       "       [ 0.88725741,  0.18145174, -0.52418278, -1.29655516,  0.52262898,\n",
       "         0.79799261, -0.45618319, -0.74081507, -0.37121844, -0.18539844]])"
      ]
     },
     "execution_count": 36,
     "metadata": {},
     "output_type": "execute_result"
    }
   ],
   "source": [
    "arr=np.random.randn(10,10)\n",
    "# arr.reshape(5,5)\n",
    "# ValueError: cannot reshape array of size 100 into shape (5,5)\n",
    "arr.reshape(10,10)\n"
   ]
  },
  {
   "cell_type": "code",
   "execution_count": 59,
   "metadata": {},
   "outputs": [
    {
     "data": {
      "text/plain": [
       "array([  1,  99,  99,  99,  99, 100, 100, 100, 100])"
      ]
     },
     "execution_count": 59,
     "metadata": {},
     "output_type": "execute_result"
    }
   ],
   "source": [
    "arr=np.arange(1,10)\n",
    "newarr=arr\n",
    "newarr[1:5]=99\n",
    "arr[5:10]=100\n",
    "copy_arr=arr.copy()\n",
    "copy_arr[:]=0\n",
    "copy_arr\n",
    "arr"
   ]
  },
  {
   "cell_type": "code",
   "execution_count": 101,
   "metadata": {},
   "outputs": [
    {
     "name": "stdout",
     "output_type": "stream",
     "text": [
      "[[1 2 3]\n",
      " [5 3 4]\n",
      " [4 5 6]]\n"
     ]
    },
    {
     "data": {
      "text/plain": [
       "array([[1],\n",
       "       [5]])"
      ]
     },
     "execution_count": 101,
     "metadata": {},
     "output_type": "execute_result"
    }
   ],
   "source": [
    "arr=np.array([[1,2,3],[5,3,4],[4,5,6]])\n",
    "print(arr)\n",
    "arr[0:2,0:1]"
   ]
  },
  {
   "cell_type": "code",
   "execution_count": 112,
   "metadata": {},
   "outputs": [
    {
     "data": {
      "text/plain": [
       "array([1, 2, 3, 4])"
      ]
     },
     "execution_count": 112,
     "metadata": {},
     "output_type": "execute_result"
    }
   ],
   "source": [
    "arr=np.arange(1,10)\n",
    "bolean=arr>5\n",
    "# bolean array([False, False, False, False, False,  True,  True,  True,  True])\n",
    "# arr[bolean] --> array([6, 7, 8, 9])\n",
    "# arr[arr<5]-->array([1, 2, 3, 4])\n"
   ]
  },
  {
   "cell_type": "code",
   "execution_count": 121,
   "metadata": {},
   "outputs": [
    {
     "name": "stdout",
     "output_type": "stream",
     "text": [
      "[[ 0  1  2  3  4  5  6  7  8  9]\n",
      " [10 11 12 13 14 15 16 17 18 19]\n",
      " [20 21 22 23 24 25 26 27 28 29]\n",
      " [30 31 32 33 34 35 36 37 38 39]\n",
      " [40 41 42 43 44 45 46 47 48 49]]\n"
     ]
    },
    {
     "data": {
      "text/plain": [
       "array([[14, 15, 16],\n",
       "       [24, 25, 26],\n",
       "       [34, 35, 36]])"
      ]
     },
     "execution_count": 121,
     "metadata": {},
     "output_type": "execute_result"
    }
   ],
   "source": [
    "arr=np.arange(50).reshape(5,10)\n",
    "print(arr)\n",
    "middle=arr[1:4,4:7]\n",
    "middle\n"
   ]
  },
  {
   "cell_type": "code",
   "execution_count": 124,
   "metadata": {},
   "outputs": [
    {
     "data": {
      "text/plain": [
       "array([[4, 7],\n",
       "       [2, 6]])"
      ]
     },
     "execution_count": 124,
     "metadata": {},
     "output_type": "execute_result"
    }
   ],
   "source": [
    "test = np.array([[4,7], [2,6]])\n",
    "test"
   ]
  },
  {
   "cell_type": "code",
   "execution_count": 123,
   "metadata": {},
   "outputs": [
    {
     "data": {
      "text/plain": [
       "array([[ 0.6, -0.7],\n",
       "       [-0.2,  0.4]])"
      ]
     },
     "execution_count": 123,
     "metadata": {},
     "output_type": "execute_result"
    }
   ],
   "source": [
    "np.linalg.inv(test)"
   ]
  }
 ],
 "metadata": {
  "kernelspec": {
   "display_name": "Python 3",
   "language": "python",
   "name": "python3"
  },
  "language_info": {
   "codemirror_mode": {
    "name": "ipython",
    "version": 3
   },
   "file_extension": ".py",
   "mimetype": "text/x-python",
   "name": "python",
   "nbconvert_exporter": "python",
   "pygments_lexer": "ipython3",
   "version": "3.7.4"
  }
 },
 "nbformat": 4,
 "nbformat_minor": 2
}
