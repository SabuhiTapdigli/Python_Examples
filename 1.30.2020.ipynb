{
 "cells": [
  {
   "cell_type": "code",
   "execution_count": 10,
   "metadata": {},
   "outputs": [],
   "source": [
    "# data=list(\"abcde\")\n",
    "# data2=set(\"abcde\")\n",
    "# print(data,data2)\n",
    "# ourput ['a', 'b', 'c', 'd', 'e'] {'b', 'd', 'c', 'e', 'a'}\n",
    "\n",
    "# data=list(\"a,b,c,d,e\")\n",
    "# data2=set(\"a,b,c,d,e\")\n",
    "# print(data,data2)\n",
    "# output---(['a', ',', 'b', ',', 'c', ',', 'd', ',', 'e'] {'b', 'd', 'c', ',', 'e', 'a'})\n",
    "\n",
    "# data=list(\"a\",\"b\",\"c\",\"d\",\"e\")\n",
    "# data2=set(\"a\",\"b\",\"c\",\"d\",\"e\")\n",
    "# print(data,data2)\n",
    "#output error\n"
   ]
  },
  {
   "cell_type": "code",
   "execution_count": 26,
   "metadata": {},
   "outputs": [
    {
     "name": "stdout",
     "output_type": "stream",
     "text": [
      "True 1\n",
      "True 2\n",
      "True 3\n",
      "True 4\n",
      "True 5\n",
      "True 6\n"
     ]
    }
   ],
   "source": [
    "name=\"Sabuhi\"\n",
    "for i in range(6):\n",
    "    if name[0:3]==\"Sab\":\n",
    "        i+=1 # error vermedi cunku name i range ile int e cevirmisik\n",
    "        print(\"True\",i)"
   ]
  },
  {
   "cell_type": "code",
   "execution_count": 28,
   "metadata": {},
   "outputs": [
    {
     "ename": "TypeError",
     "evalue": "can only concatenate str (not \"int\") to str",
     "output_type": "error",
     "traceback": [
      "\u001b[1;31m---------------------------------------------------------------------------\u001b[0m",
      "\u001b[1;31mTypeError\u001b[0m                                 Traceback (most recent call last)",
      "\u001b[1;32m<ipython-input-28-ca0fad26cffe>\u001b[0m in \u001b[0;36m<module>\u001b[1;34m\u001b[0m\n\u001b[0;32m      2\u001b[0m \u001b[1;32mfor\u001b[0m \u001b[0mi\u001b[0m \u001b[1;32min\u001b[0m \u001b[0mname\u001b[0m\u001b[1;33m:\u001b[0m\u001b[1;33m\u001b[0m\u001b[1;33m\u001b[0m\u001b[0m\n\u001b[0;32m      3\u001b[0m     \u001b[1;32mif\u001b[0m \u001b[0mname\u001b[0m\u001b[1;33m[\u001b[0m\u001b[1;36m0\u001b[0m\u001b[1;33m]\u001b[0m\u001b[1;33m==\u001b[0m\u001b[1;34m\"S\"\u001b[0m\u001b[1;33m:\u001b[0m\u001b[1;33m\u001b[0m\u001b[1;33m\u001b[0m\u001b[0m\n\u001b[1;32m----> 4\u001b[1;33m         \u001b[0mi\u001b[0m\u001b[1;33m+=\u001b[0m\u001b[1;36m1\u001b[0m \u001b[1;31m#error verir cunki string 1 artirmaq olmur yeni i burda str int deyil\u001b[0m\u001b[1;33m\u001b[0m\u001b[1;33m\u001b[0m\u001b[0m\n\u001b[0m\u001b[0;32m      5\u001b[0m         \u001b[0mprint\u001b[0m\u001b[1;33m(\u001b[0m\u001b[1;34m\"True\"\u001b[0m\u001b[1;33m,\u001b[0m\u001b[0mi\u001b[0m\u001b[1;33m)\u001b[0m\u001b[1;33m\u001b[0m\u001b[1;33m\u001b[0m\u001b[0m\n",
      "\u001b[1;31mTypeError\u001b[0m: can only concatenate str (not \"int\") to str"
     ]
    }
   ],
   "source": [
    "name=\"Sabuhi\"\n",
    "for i in name:\n",
    "    if name[0]==\"S\":\n",
    "        i+=1 #error verir cunki string 1 artirmaq olmur yeni i burda str int deyil\n",
    "        print(\"True\",i)"
   ]
  },
  {
   "cell_type": "code",
   "execution_count": 31,
   "metadata": {},
   "outputs": [
    {
     "name": "stdout",
     "output_type": "stream",
     "text": [
      "sebuhi\n",
      "inside\n",
      "inside\n",
      "inside\n",
      "not\n",
      "inside\n",
      "inside\n",
      "6\n"
     ]
    }
   ],
   "source": [
    "letters=\"abcdefghdiklmnoprst\"\n",
    "name=input()\n",
    "\n",
    "i=0\n",
    "while i<len(name):\n",
    "    char=name[i:i+]\n",
    "    if char in letters:\n",
    "        print(\"inside\")\n",
    "    else:\n",
    "        print(\"not\")\n",
    "    i+=1\n",
    "\n",
    "print(i)"
   ]
  },
  {
   "cell_type": "code",
   "execution_count": 37,
   "metadata": {},
   "outputs": [
    {
     "name": "stdout",
     "output_type": "stream",
     "text": [
      "Iteration 0; count is: 1\n",
      "Iteration 1; count is: 12\n",
      "Iteration 2; count is: 1\n",
      "Iteration 3; count is: 12\n",
      "Iteration 4; count is: 1\n"
     ]
    }
   ],
   "source": [
    "iteration = 0\n",
    "while iteration < 5:\n",
    "    count = 0\n",
    "    for letter in \"hello, world\":\n",
    "        count += 1\n",
    "        if iteration % 2 == 0:\n",
    "            break\n",
    "    print(\"Iteration \" + str(iteration) + \"; count is: \" + str(count))\n",
    "    iteration += 1 "
   ]
  },
  {
   "cell_type": "code",
   "execution_count": 51,
   "metadata": {},
   "outputs": [
    {
     "name": "stdout",
     "output_type": "stream",
     "text": [
      "asd\n",
      "0\n"
     ]
    }
   ],
   "source": [
    "word=input()\n",
    "count=0\n",
    "key=\"bob\"\n",
    "for i in range(len(word)):\n",
    "    if word[i:i+len(key)]==key:\n",
    "        count+=1\n",
    "print(count)\n"
   ]
  },
  {
   "cell_type": "code",
   "execution_count": 52,
   "metadata": {},
   "outputs": [
    {
     "name": "stdout",
     "output_type": "stream",
     "text": [
      "bob\n",
      "1\n"
     ]
    }
   ],
   "source": [
    "word=input()\n",
    "count=0\n",
    "\n",
    "for i in range(len(word)):\n",
    "    if word[i:i+3]==\"bob\":\n",
    "        count+=1\n",
    "print(count)"
   ]
  },
  {
   "cell_type": "code",
   "execution_count": 55,
   "metadata": {},
   "outputs": [
    {
     "name": "stdout",
     "output_type": "stream",
     "text": [
      "sd\n"
     ]
    }
   ],
   "source": [
    "letters=\"abcdefghklmnoprstuwyz\"\n",
    "word=input()\n",
    "for i in range(len(word)):\n",
    "    if word[i:len(word)]==letters:\n",
    "        print(word[i:len(word)])\n",
    "    #last test but not finished yet"
   ]
  },
  {
   "cell_type": "code",
   "execution_count": 91,
   "metadata": {},
   "outputs": [
    {
     "name": "stdout",
     "output_type": "stream",
     "text": [
      "num_guess is  1451\n",
      "Failed on cube root of 29\n"
     ]
    }
   ],
   "source": [
    "cube=29\n",
    "epsilon=0.001\n",
    "guess=0.0\n",
    "increment=0.02\n",
    "num_guess=0\n",
    "while abs(guess**3-cube)>=epsilon and guess<=cube:\n",
    "    guess+=increment\n",
    "    num_guess+=1\n",
    "print(\"num_guess is \", num_guess)\n",
    "if abs(guess**3-cube)>=epsilon:\n",
    "    print(\"Failed on cube root of\",cube)\n",
    "else:\n",
    "    print(guess,\"close to\", cube)\n"
   ]
  },
  {
   "cell_type": "code",
   "execution_count": 93,
   "metadata": {},
   "outputs": [],
   "source": [
    "# x = 25\n",
    "# epsilon = 0.01\n",
    "# step = 0.1\n",
    "# guess = 0.0\n",
    "\n",
    "# while guess <= x:\n",
    "#     if abs(guess**2 -x) < epsilon:\n",
    "#         break\n",
    "#     else:\n",
    "#         guess += step\n",
    "\n",
    "# if abs(guess**2 - x) >= epsilon:\n",
    "#     print('failed')\n",
    "# else:\n",
    "#     print('succeeded: ' + str(guess))\n",
    "    \n",
    "#     output 4.999 or 5.0\n",
    "\n",
    "# x = 25\n",
    "# epsilon = 0.01\n",
    "# step = 0.1\n",
    "# guess = 0.0\n",
    "\n",
    "# while guess <= x:\n",
    "#     if abs(guess**2 -x) >= epsilon:\n",
    "#         guess += step\n",
    "\n",
    "# if abs(guess**2 - x) >= epsilon:\n",
    "#     print('failed')\n",
    "# else:\n",
    "#     print('succeeded: ' + str(guess))\n",
    "    \n",
    "#     output will be infinite loop because there is not break\n",
    "\n",
    "# x = 25\n",
    "# epsilon = 0.01\n",
    "# step = 0.1\n",
    "# guess = 0.0\n",
    "\n",
    "# while abs(guess**2-x) >= epsilon:\n",
    "#     if guess <= x:\n",
    "#         guess += step\n",
    "#     else:\n",
    "#         break\n",
    "\n",
    "# if abs(guess**2 - x) >= epsilon:\n",
    "#     print('failed')\n",
    "# else:\n",
    "#     print('succeeded: ' + str(guess))\n",
    "    \n",
    "#     output will be 5.0\n",
    "    \n",
    "#     if x=23  code will success but output will failed"
   ]
  },
  {
   "cell_type": "code",
   "execution_count": null,
   "metadata": {},
   "outputs": [
    {
     "name": "stdout",
     "output_type": "stream",
     "text": [
      "Please think of a number between 0 and 100!\n"
     ]
    }
   ],
   "source": [
    "print(\"Please think of a number between 0 and 100!\")\n",
    "Secret_num=input(\"Your secret Number is 91: \")"
   ]
  }
 ],
 "metadata": {
  "kernelspec": {
   "display_name": "Python 3",
   "language": "python",
   "name": "python3"
  },
  "language_info": {
   "codemirror_mode": {
    "name": "ipython",
    "version": 3
   },
   "file_extension": ".py",
   "mimetype": "text/x-python",
   "name": "python",
   "nbconvert_exporter": "python",
   "pygments_lexer": "ipython3",
   "version": "3.7.4"
  }
 },
 "nbformat": 4,
 "nbformat_minor": 2
}
