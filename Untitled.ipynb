{
 "cells": [
  {
   "cell_type": "code",
   "execution_count": 6,
   "metadata": {},
   "outputs": [
    {
     "name": "stdout",
     "output_type": "stream",
     "text": [
      "enter even number\n"
     ]
    },
    {
     "data": {
      "text/plain": [
       "False"
      ]
     },
     "execution_count": 6,
     "metadata": {},
     "output_type": "execute_result"
    }
   ],
   "source": [
    "def is_even(i):\n",
    "    print(\"enter even number\")\n",
    "#     return i%2==0 ans will be True if i==4 if not will return False\n",
    "#     if i%2==0:\n",
    "#         return True   This will not return False or True if don't write return True and False\n",
    "#     else:\n",
    "#         return False\n",
    "    \n",
    "is_even(3)"
   ]
  },
  {
   "cell_type": "code",
   "execution_count": 10,
   "metadata": {},
   "outputs": [
    {
     "name": "stdout",
     "output_type": "stream",
     "text": [
      "the value for print 4\n"
     ]
    }
   ],
   "source": [
    "def f(x):\n",
    "    x=x+1\n",
    "    print(\"the value for print \" + str(x))\n",
    "    return x\n",
    "x=3\n",
    "z=f(x)\n"
   ]
  },
  {
   "cell_type": "code",
   "execution_count": 13,
   "metadata": {},
   "outputs": [
    {
     "data": {
      "text/plain": [
       "19"
      ]
     },
     "execution_count": 13,
     "metadata": {},
     "output_type": "execute_result"
    }
   ],
   "source": [
    "x=12\n",
    "def g(x):\n",
    "    x+=1\n",
    "    def h(y):\n",
    "        return x+y\n",
    "    return h(6)\n",
    "g(x)"
   ]
  },
  {
   "cell_type": "code",
   "execution_count": 37,
   "metadata": {},
   "outputs": [
    {
     "name": "stdout",
     "output_type": "stream",
     "text": [
      "Your hidden answer is  16.0\n",
      "Your iteration is  53\n"
     ]
    }
   ],
   "source": [
    "array=[1,2,3,4,5,6,7,8,9,10,11,12,13,14,15,16]\n",
    "hide=array[15]\n",
    "low=array[0]\n",
    "high=array[len(array)-1]\n",
    "ans=(low+high)/2\n",
    "iteration=0\n",
    "\n",
    "while True:\n",
    "    if ans>hide:\n",
    "        high=ans\n",
    "        ans=(low+high)/2\n",
    "        iteration+=1\n",
    "    elif ans<hide:\n",
    "        low=ans\n",
    "        ans=(low+high)/2\n",
    "        iteration+=1\n",
    "    else:\n",
    "        print(\"Your hidden answer is \",str(ans))\n",
    "        print(\"Your iteration is \",str(iteration))\n",
    "        break"
   ]
  },
  {
   "cell_type": "code",
   "execution_count": 38,
   "metadata": {},
   "outputs": [
    {
     "name": "stdout",
     "output_type": "stream",
     "text": [
      "Your hidden answer is  10.0\n",
      "Your iteration is  50\n"
     ]
    }
   ],
   "source": [
    "array=[1,2,3,4,5,6,7,8,9,10,11,12,13,14,15,16]\n",
    "hide=10\n",
    "low=min(array)\n",
    "high=max(array)\n",
    "ans=(low+high)/2\n",
    "iteration=0\n",
    "\n",
    "while True:\n",
    "    if ans>hide:\n",
    "        high=ans\n",
    "        ans=(low+high)/2\n",
    "        iteration+=1\n",
    "    elif ans<hide:\n",
    "        low=ans\n",
    "        ans=(low+high)/2\n",
    "        iteration+=1\n",
    "    else:\n",
    "        print(\"Your hidden answer is \",str(ans))\n",
    "        print(\"Your iteration is \",str(iteration))\n",
    "        break"
   ]
  },
  {
   "cell_type": "code",
   "execution_count": 33,
   "metadata": {},
   "outputs": [
    {
     "name": "stdout",
     "output_type": "stream",
     "text": [
      "Your hidden answer is  4.0\n",
      "Your iteration is  53\n"
     ]
    }
   ],
   "source": [
    "array=[1,2,3,4,5,6,7,8,9,10,11,12,13,14,15,16]\n",
    "hide=4\n",
    "low=1\n",
    "high=16\n",
    "ans=(low+high)/2\n",
    "iteration=0\n",
    "\n",
    "while True:\n",
    "    if ans>hide:\n",
    "        high=ans\n",
    "        ans=(low+high)/2\n",
    "        iteration+=1\n",
    "    elif ans<hide:\n",
    "        low=ans\n",
    "        ans=(low+high)/2\n",
    "        iteration+=1\n",
    "    else:\n",
    "        print(\"Your hidden answer is \",str(ans))\n",
    "        \n",
    "        break\n",
    "print(\"Your iteration is \",str(iteration))"
   ]
  }
 ],
 "metadata": {
  "kernelspec": {
   "display_name": "Python 3",
   "language": "python",
   "name": "python3"
  },
  "language_info": {
   "codemirror_mode": {
    "name": "ipython",
    "version": 3
   },
   "file_extension": ".py",
   "mimetype": "text/x-python",
   "name": "python",
   "nbconvert_exporter": "python",
   "pygments_lexer": "ipython3",
   "version": "3.7.4"
  }
 },
 "nbformat": 4,
 "nbformat_minor": 2
}
