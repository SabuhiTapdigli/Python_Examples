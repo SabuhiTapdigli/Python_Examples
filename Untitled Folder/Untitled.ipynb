{
 "cells": [
  {
   "cell_type": "code",
   "execution_count": 5,
   "metadata": {},
   "outputs": [
    {
     "name": "stdout",
     "output_type": "stream",
     "text": [
      "23\n",
      "2 3 "
     ]
    }
   ],
   "source": [
    "a=input()\n",
    "for i in a:\n",
    "    print(i,end=\" \")"
   ]
  },
  {
   "cell_type": "code",
   "execution_count": 6,
   "metadata": {},
   "outputs": [
    {
     "name": "stdout",
     "output_type": "stream",
     "text": [
      "12345\n",
      "5\n"
     ]
    }
   ],
   "source": [
    "a=input()\n",
    "print(len(a))"
   ]
  },
  {
   "cell_type": "code",
   "execution_count": 29,
   "metadata": {},
   "outputs": [
    {
     "name": "stdout",
     "output_type": "stream",
     "text": [
      "32\n",
      "257\n"
     ]
    }
   ],
   "source": [
    "a=int(input())\n",
    "if a<=3:\n",
    "    print(12+((a-1)*8))\n",
    "if a>=4:\n",
    "    print(12+((a-2)*8)+5)\n",
    "    qapikqajib"
   ]
  },
  {
   "cell_type": "code",
   "execution_count": 112,
   "metadata": {},
   "outputs": [
    {
     "name": "stdout",
     "output_type": "stream",
     "text": [
      "qapikqajib\n",
      "2\n",
      "5\n"
     ]
    },
    {
     "data": {
      "text/plain": [
       "'qkipaqajib'"
      ]
     },
     "execution_count": 112,
     "metadata": {},
     "output_type": "execute_result"
    }
   ],
   "source": [
    "a=input()\n",
    "b=int(input())\n",
    "c=int(input())\n",
    "spc=a[b-1:c]\n",
    "print(spc)\n",
    "spc_reverse=spc[::-1]\n",
    "print(spc_reverse)\n",
    "yc=a.replace(spc,spc_reverse)\n",
    "yc"
   ]
  },
  {
   "cell_type": "code",
   "execution_count": 32,
   "metadata": {},
   "outputs": [
    {
     "name": "stdout",
     "output_type": "stream",
     "text": [
      "123\n",
      "1\n"
     ]
    }
   ],
   "source": [
    "a=list(input())\n",
    "c=-1\n",
    "count=0\n",
    "for i in range(int(len(a)/2)):\n",
    "    if a[i]==a[c]:\n",
    "        count+=1\n",
    "    c-=1\n",
    "if (len(a))%2==1:\n",
    "    count+=1\n",
    "print(count)\n",
    "            "
   ]
  },
  {
   "cell_type": "code",
   "execution_count": 220,
   "metadata": {},
   "outputs": [
    {
     "name": "stdout",
     "output_type": "stream",
     "text": [
      "129\n",
      "192\n"
     ]
    }
   ],
   "source": [
    "#dovru surusdurme\n",
    "a=int(input())\n",
    "arr=[]\n",
    "for i in range(a):\n",
    "    if a%2==1:\n",
    "        arr.insert(0,1)\n",
    "    else:\n",
    "        arr.insert(0,0)\n",
    "    a=int(a/2)\n",
    "    if a==0:\n",
    "        break\n",
    "def decimal(arr):\n",
    "    leng=len(arr)\n",
    "    d=1\n",
    "    new=[]\n",
    "    for i in arr:\n",
    "        new+=[i*(2**(leng-d))]\n",
    "        d+=1\n",
    "    return sum(new)\n",
    "\n",
    "def findmax(arr):\n",
    "    maxu=[]\n",
    "    i=0\n",
    "    while i<len(arr):\n",
    "        maxu+=[decimal(arr)]\n",
    "        arr.insert(len(arr),arr[0])\n",
    "        arr.pop(0)\n",
    "        i+=1\n",
    "    print(max(maxu))\n",
    "findmax(arr)\n",
    "\n",
    "\n"
   ]
  },
  {
   "cell_type": "code",
   "execution_count": 254,
   "metadata": {},
   "outputs": [
    {
     "name": "stdout",
     "output_type": "stream",
     "text": [
      "1 65\n",
      "10\n"
     ]
    }
   ],
   "source": [
    "#Dəniz quldurları və sikkələr\n",
    "inp=input().split(\" \")\n",
    "a=int(inp[0])\n",
    "m=int(inp[1])\n",
    "count=0\n",
    "for i in range(1,m):\n",
    "    d=m-a\n",
    "    m=d\n",
    "    count+=1\n",
    "    if d==a:\n",
    "        break\n",
    "    a+=1\n",
    "print(count)\n",
    "\n"
   ]
  },
  {
   "cell_type": "code",
   "execution_count": 40,
   "metadata": {},
   "outputs": [
    {
     "name": "stdout",
     "output_type": "stream",
     "text": [
      "3\n",
      "10\n"
     ]
    }
   ],
   "source": [
    "#kibrit copleri\n",
    "import math\n",
    "num=int(input())\n",
    "n=int(math.sqrt(num))\n",
    "b=(2*(n-1)*3)+((n-1)**2)*2 +4\n",
    "qaliq=num-n**2\n",
    "t=0\n",
    "if qaliq>n and qaliq!=0:\n",
    "    t+=2*3+(qaliq-2)*2\n",
    "elif qaliq<=n and qaliq!=0:\n",
    "    t+=1*3+(qaliq-1)*2\n",
    "print(b+t)"
   ]
  },
  {
   "cell_type": "code",
   "execution_count": 18,
   "metadata": {},
   "outputs": [
    {
     "name": "stdout",
     "output_type": "stream",
     "text": [
      "4 4\n",
      "10 30 25 45\n",
      "45\n",
      "agac list inverse [10, 25, 30, 45]\n",
      "bol 27\n",
      "big + 75\n",
      "big + 100\n",
      "second 25\n"
     ]
    }
   ],
   "source": [
    "#Sal\n",
    "a=input().split(\" \")\n",
    "b=input().split(\" \")\n",
    "\n",
    "sal=int(a[1])\n",
    "agac=list(map(int,b))\n",
    "agac=sorted(agac)\n",
    "big=agac[len(agac)-1]\n",
    "print(big)\n",
    "print(\"agac list inverse\",agac)\n",
    "if sum(agac)//sal<=agac[0]:\n",
    "    print(\"First if\",sum(agac)//sal)\n",
    "\n",
    "elif sum(agac)//sal>agac[0]:\n",
    "    print(\"bol\",sum(agac)//sal)\n",
    "    for i in range(len(agac)-2,-1,-1):\n",
    "        if big//sal>=agac[i]:\n",
    "            print(\"second\",big//sal)\n",
    "        else:\n",
    "            big+=agac[i]\n",
    "            print (\"big +\",big)\n",
    "        \n",
    "                  \n",
    "    \n",
    "    \n"
   ]
  },
  {
   "cell_type": "code",
   "execution_count": 384,
   "metadata": {},
   "outputs": [
    {
     "name": "stdout",
     "output_type": "stream",
     "text": [
      "1 100 1\n",
      "0.0\n"
     ]
    }
   ],
   "source": [
    "#yuksek deqiqlik\n",
    "a=input().split(\" \")\n",
    "f=int(a[0])\n",
    "b=int(a[1])\n",
    "size=int(a[2])\n",
    "c=str(f/b).split(\".\")\n",
    "d=c[1]\n",
    "if len(d)>=size and size !=0:\n",
    "    print(c[0]+'.'+d[:size])\n",
    "if size == 0:\n",
    "    print (c[0])\n",
    "for i in range(size):\n",
    "    if len(d)<size:\n",
    "        d+='0'\n",
    "        if len(d)==size:\n",
    "            print(c[0]+'.'+d[:size])\n",
    "            break\n",
    "    \n",
    "\n"
   ]
  },
  {
   "cell_type": "code",
   "execution_count": 85,
   "metadata": {},
   "outputs": [
    {
     "name": "stdout",
     "output_type": "stream",
     "text": [
      "2\n",
      "1999 2000\n",
      "1991 1997\n",
      "2 1999 2000 1991 1997\n",
      "2\n",
      "2\n",
      "2 2 2\n"
     ]
    }
   ],
   "source": [
    "#Saxta Baba\n",
    "a=int(input())\n",
    "for i in range(a):\n",
    "    b=input().split(\" \")\n",
    "    c=input().split(\" \")\n",
    "\n",
    "    "
   ]
  },
  {
   "cell_type": "code",
   "execution_count": 96,
   "metadata": {
    "scrolled": true
   },
   "outputs": [
    {
     "name": "stdout",
     "output_type": "stream",
     "text": [
      "8\n",
      "5\n",
      "5 8\n",
      "8 2\n",
      "3 4\n",
      "4 5\n",
      "6 8\n",
      "[2, 3, 4, 4, 5, 5, 6, 8, 8, 8]\n",
      "2\n",
      "[[1, 2], [1, 3], [2, 4], [2, 5], [1, 6], [0, 7], [3, 8]]\n"
     ]
    }
   ],
   "source": [
    "#Merid Komandasi\n",
    "friends=int(input())\n",
    "couples=int(input())\n",
    "arr1=[]\n",
    "for i in range(couples):\n",
    "    a=input().split(\" \")\n",
    "    arr1+=[int(a[0])]\n",
    "    arr1+=[int(a[1])]\n",
    "arr1=sorted(arr1)\n",
    "print(arr1)\n",
    "print(arr1[0])\n",
    "count=0\n",
    "arr2=[]\n",
    "for i in range(arr1[0],friends+1):\n",
    "    x=arr1.count(i)\n",
    "    arr2+=[[x,i]]\n",
    "\n",
    "pr\n",
    "# 8\n",
    "# 5\n",
    "# 5 8\n",
    "# 8 2\n",
    "# 3 4\n",
    "# 4 5\n",
    "# 6 8\n",
    "     \n",
    "\n",
    "    "
   ]
  },
  {
   "cell_type": "code",
   "execution_count": 58,
   "metadata": {},
   "outputs": [
    {
     "name": "stdout",
     "output_type": "stream",
     "text": [
      "4\n",
      "1 2 3 5 "
     ]
    }
   ],
   "source": [
    "a=[1,2,2,3,1,3,3,5,1,5,5,2]\n",
    "count=0\n",
    "arr=[]\n",
    "for i in range(1,6):\n",
    "    x=a.count(i)\n",
    "    if x>count:\n",
    "        count=x\n",
    "        arr+=[i]\n",
    "    elif x==count:\n",
    "        arr+=[i]\n",
    "print(len(arr))\n",
    "for i in arr:\n",
    "    print(i,end=\" \")\n",
    "        \n",
    "    "
   ]
  },
  {
   "cell_type": "code",
   "execution_count": 234,
   "metadata": {},
   "outputs": [
    {
     "data": {
      "text/plain": [
       "[1, 2, 3, 4, 5]"
      ]
     },
     "execution_count": 234,
     "metadata": {},
     "output_type": "execute_result"
    }
   ],
   "source": [
    "a=['1', '2', '1', '3', '1', '4', '1', '5', '5', '2', '2', '3']\n",
    "b=list(map(int,a))\n",
    "arr=[]\n",
    "new=[]\n",
    "for i in b:\n",
    "    if i not in arr:\n",
    "         arr+=[i]\n",
    "for i in arr:\n",
    "    x=b.count(i)\n",
    "    new+=[x]\n",
    "    \n",
    "    \n"
   ]
  },
  {
   "cell_type": "code",
   "execution_count": 130,
   "metadata": {},
   "outputs": [
    {
     "name": "stdout",
     "output_type": "stream",
     "text": [
      "[0, 2, 4, 0, 1, 5]\n"
     ]
    }
   ],
   "source": [
    "#Other\n",
    "arr=[1,0,2,5,4,0]\n",
    "new=[]\n",
    "new1=[]\n",
    "for i in arr:\n",
    "    if i%2==0:\n",
    "        new+=[i]\n",
    "    else:\n",
    "        new1+=[i]\n",
    "new+=new1\n",
    "print(new)"
   ]
  },
  {
   "cell_type": "code",
   "execution_count": null,
   "metadata": {},
   "outputs": [],
   "source": [
    "[['sebuhi', 20.1], ['emil', 20.0], ['tumu', 22.2], ['fuad', 20.1]]"
   ]
  },
  {
   "cell_type": "code",
   "execution_count": 111,
   "metadata": {},
   "outputs": [
    {
     "name": "stdout",
     "output_type": "stream",
     "text": [
      "20.0 20.0\n"
     ]
    }
   ],
   "source": [
    "# num=int(input())\n",
    "arr=[['sebuhi', 20.2], ['emil', 20.0], ['tumu', 20.0], ['fuad', 20.1],['pervin', 25],['isi', 20.1],['qara', 29]]\n",
    "m1=arr[0][1]\n",
    "m2=arr[1][1]\n",
    "for i in range(num):\n",
    "#     name=input()\n",
    "#     mark=float(input())\n",
    "    if m1 > arr[i][1]:\n",
    "        m1,m2=arr[i][1],m1\n",
    "    elif m2>arr[i][1]:\n",
    "        m2=arr[i][1]\n",
    "print(m1,m2)"
   ]
  },
  {
   "cell_type": "code",
   "execution_count": 109,
   "metadata": {},
   "outputs": [
    {
     "name": "stdout",
     "output_type": "stream",
     "text": [
      "0 1\n"
     ]
    }
   ],
   "source": [
    "a=[4,3,0,5,9,1]\n",
    "m1,m2=a[0],a[1]\n",
    "for i in a:\n",
    "    if i < m1:\n",
    "        m1, m2 = i, m1\n",
    "    elif i < m2:\n",
    "        m2 = i\n",
    "print(m1,m2)\n"
   ]
  },
  {
   "cell_type": "code",
   "execution_count": 72,
   "metadata": {},
   "outputs": [
    {
     "name": "stdout",
     "output_type": "stream",
     "text": [
      "0 3\n"
     ]
    }
   ],
   "source": [
    "a=[4,3,1,5,9,0]\n",
    "m1,m2=a[0],a[1]\n",
    "\n",
    "for i in a:\n",
    "    if m1>i:\n",
    "        m1=i\n",
    "    elif m2>i and m2!=m1:\n",
    "        m2=i\n",
    "print(m1,m2)\n"
   ]
  },
  {
   "cell_type": "code",
   "execution_count": 159,
   "metadata": {},
   "outputs": [
    {
     "name": "stdout",
     "output_type": "stream",
     "text": [
      "0 0\n"
     ]
    }
   ],
   "source": [
    "a=[0,1,3,5,9,2]\n",
    "m1,m2=a[0],a[0]\n",
    "for i in a:\n",
    "    if i<m1:\n",
    "        m2=m1\n",
    "        m1=i\n",
    "    elif i<m2:\n",
    "        m2=i\n",
    "    \n",
    "print(m1,m2)"
   ]
  },
  {
   "cell_type": "code",
   "execution_count": 90,
   "metadata": {},
   "outputs": [
    {
     "name": "stdout",
     "output_type": "stream",
     "text": [
      "0 1\n"
     ]
    }
   ],
   "source": [
    "a=[4,3,0,5,9,1]\n",
    "m1,m2=a[0],a[1]\n",
    "for i in a:\n",
    "    if i < m1:\n",
    "        m1, m2 = i, m1\n",
    "    elif i < m2:\n",
    "        m2 = i\n",
    "print(m1,m2)\n"
   ]
  },
  {
   "cell_type": "code",
   "execution_count": 157,
   "metadata": {},
   "outputs": [
    {
     "name": "stdout",
     "output_type": "stream",
     "text": [
      "0 1\n"
     ]
    }
   ],
   "source": [
    "a=[0,1,3,5,9,7]\n",
    "m1,m2=a[0],None\n",
    "for i in a[1:]:\n",
    "    if i < m1:\n",
    "        m1, m2 = i, m1\n",
    "    elif m2==None or i < m2:\n",
    "        m2 = i\n",
    "print(m1,m2)"
   ]
  },
  {
   "cell_type": "code",
   "execution_count": 138,
   "metadata": {},
   "outputs": [
    {
     "name": "stdout",
     "output_type": "stream",
     "text": [
      "Smallest element is: 0\n",
      "Second Smallest element is: 1\n"
     ]
    }
   ],
   "source": [
    "def Range(list1):  \n",
    "    lowest = list1[0]  \n",
    "    lowest2 = None\n",
    "    for item in list1[1:]:      \n",
    "        if item < lowest:  \n",
    "            lowest2 = lowest \n",
    "            lowest = item  \n",
    "        elif lowest2 == None or lowest2 > item:  \n",
    "            lowest2 = item  \n",
    " \n",
    "    print(\"Smallest element is:\", lowest)  \n",
    "    print(\"Second Smallest element is:\", lowest2)  \n",
    "  \n",
    "  \n",
    "# Driver Code \n",
    "list1 =[0,1,3,5,9,7]\n",
    "Range(list1)"
   ]
  },
  {
   "cell_type": "code",
   "execution_count": 198,
   "metadata": {},
   "outputs": [
    {
     "name": "stdout",
     "output_type": "stream",
     "text": [
      "9\n",
      "25\n"
     ]
    }
   ],
   "source": [
    "num=int(input())\n",
    "i=3\n",
    "kvad_2=7\n",
    "while i<num+1:\n",
    "    if i%2==1:\n",
    "        kvad_2+=3\n",
    "    else:\n",
    "        kvad_2+=2\n",
    "    i+=1\n",
    "print(kvad_2)\n",
    "\n",
    "\n",
    "\n",
    "    "
   ]
  },
  {
   "cell_type": "code",
   "execution_count": 267,
   "metadata": {},
   "outputs": [
    {
     "name": "stdout",
     "output_type": "stream",
     "text": [
      "6\n",
      "-3 -2\n",
      "-1 4\n",
      "6 1\n",
      "3 10\n",
      "-4 9\n",
      "-3 -2\n",
      "40 4\n"
     ]
    }
   ],
   "source": [
    "a=int(input())\n",
    "arr1=[] \n",
    "arr2=[] \n",
    "k1=0 \n",
    "k2=0 \n",
    "for i in range(a): \n",
    "    b=input().split(\" \") \n",
    "    if i%2==0: \n",
    "        arr1+=[int(b[0])] \n",
    "        arr2+=[int(b[1])] \n",
    "    else: \n",
    "        arr1+=[int(b[1])] \n",
    "        arr2+=[int(b[0])]\n",
    "for i in range(len(arr1)-1): \n",
    "    k1+=arr1[i]*arr1[i+1]\n",
    "    k2+=arr2[i]*arr2[i+1]\n",
    "\n",
    "print(k1,k2)"
   ]
  },
  {
   "cell_type": "code",
   "execution_count": 73,
   "metadata": {},
   "outputs": [
    {
     "name": "stdout",
     "output_type": "stream",
     "text": [
      "Sarlarin sayi: 1\n",
      "Sarlarin rengi: 1\n"
     ]
    },
    {
     "data": {
      "text/plain": [
       "0"
      ]
     },
     "execution_count": 73,
     "metadata": {},
     "output_type": "execute_result"
    }
   ],
   "source": [
    "##Şarlar\n",
    "num=int(input(\"Sarlarin sayi: \"))\n",
    "arr=list(map(int,input(\"Sarlarin rengi: \").split(\" \")))\n",
    "dic={}\n",
    "new=[]\n",
    "count=0\n",
    "for i in range(len(arr)):\n",
    "    dic[arr[i]]=arr.count(arr[i])\n",
    "for i in dic.keys():\n",
    "    if dic[i]==max(dic.values()):\n",
    "        new+=[i]\n",
    "for i in arr:\n",
    "    if i!=new[0]:\n",
    "        i=new[0]\n",
    "        count+=1\n",
    "count\n",
    "          \n"
   ]
  },
  {
   "cell_type": "code",
   "execution_count": 108,
   "metadata": {},
   "outputs": [
    {
     "name": "stdout",
     "output_type": "stream",
     "text": [
      "4\n",
      "4 9 9 6\n"
     ]
    },
    {
     "data": {
      "text/plain": [
       "2"
      ]
     },
     "execution_count": 108,
     "metadata": {},
     "output_type": "execute_result"
    }
   ],
   "source": [
    "##Şarlar\n",
    "def find(num,arr):\n",
    "    num=int(input())\n",
    "    arr=list(map(int,input().split(\" \")))\n",
    "    count2=1\n",
    "    new=[]\n",
    "    for i in range(len(arr)):\n",
    "        count1=1\n",
    "        for j in range(i+1,len(arr)):\n",
    "            if arr[i]==arr[j]:\n",
    "                count1+=1\n",
    "        if count1>count2:\n",
    "            count2=count1\n",
    "            new+=[arr[i]]\n",
    "    return len(arr)-count2\n",
    "find(num,arr)"
   ]
  },
  {
   "cell_type": "code",
   "execution_count": 80,
   "metadata": {},
   "outputs": [
    {
     "data": {
      "text/plain": [
       "{3: 0, 1: 3, 2: 3, 5: 1, 4: 1}"
      ]
     },
     "execution_count": 80,
     "metadata": {},
     "output_type": "execute_result"
    }
   ],
   "source": [
    "##Şarlar\n",
    "arr=[3, 1, 2,1,2,5,4,1,2]\n",
    "dic={}\n",
    "new=[]\n",
    "for i in range(len(arr)):\n",
    "    count=0\n",
    "    if arr[i] not in new:\n",
    "        new+=[arr[i]]\n",
    "        for j in range(1,len(arr)):\n",
    "            if arr[i]==arr[j]:\n",
    "                count+=1\n",
    "        dic[arr[i]]=count\n",
    "dic\n"
   ]
  },
  {
   "cell_type": "code",
   "execution_count": 113,
   "metadata": {},
   "outputs": [
    {
     "name": "stdout",
     "output_type": "stream",
     "text": [
      "11 3 7\n",
      "7\n"
     ]
    }
   ],
   "source": [
    "##Orta ədəd\n",
    "num=list(map(int,input().split(\" \")))\n",
    "num.sort()\n",
    "print(num[1])"
   ]
  },
  {
   "cell_type": "code",
   "execution_count": 135,
   "metadata": {},
   "outputs": [
    {
     "name": "stdout",
     "output_type": "stream",
     "text": [
      "21\n",
      "3\n"
     ]
    }
   ],
   "source": [
    "##Neçə dəfə olar?\n",
    "n=int(input())\n",
    "count=0\n",
    "while True:\n",
    "    a=0\n",
    "    t=str(n)\n",
    "    for i in range(len(t)):\n",
    "        a+=int(t[i])\n",
    "    n-=a\n",
    "    count+=1\n",
    "    if n<=0:\n",
    "        break\n",
    "print(count)\n",
    "\n"
   ]
  },
  {
   "cell_type": "code",
   "execution_count": 7,
   "metadata": {},
   "outputs": [
    {
     "name": "stdout",
     "output_type": "stream",
     "text": [
      "23\n"
     ]
    },
    {
     "data": {
      "text/plain": [
       "3"
      ]
     },
     "execution_count": 7,
     "metadata": {},
     "output_type": "execute_result"
    }
   ],
   "source": [
    "n=int(input())\n",
    "def recur(n):\n",
    "    count=0\n",
    "    a=0\n",
    "    t=str(n)\n",
    "    for i in range(len(t)):\n",
    "        a+=int(t[i])\n",
    "    n-=a\n",
    "    count+=1\n",
    "    if n<=0:\n",
    "        return count\n",
    "    else:\n",
    "        return count+recur(n)\n",
    "recur(n)"
   ]
  },
  {
   "cell_type": "code",
   "execution_count": 156,
   "metadata": {},
   "outputs": [
    {
     "data": {
      "text/plain": [
       "6"
      ]
     },
     "execution_count": 156,
     "metadata": {},
     "output_type": "execute_result"
    }
   ],
   "source": [
    "def fakt(n):\n",
    "    if n==1:\n",
    "        return 1\n",
    "    else:\n",
    "        return n*fakt(n-1)\n",
    "#     for i in range(1,n+1):\n",
    "#         count*=i\n",
    "#     return count\n",
    "fakt(3)\n",
    "    \n",
    "        "
   ]
  },
  {
   "cell_type": "code",
   "execution_count": 13,
   "metadata": {},
   "outputs": [
    {
     "name": "stdout",
     "output_type": "stream",
     "text": [
      "True\n"
     ]
    }
   ],
   "source": [
    "al='1'\n",
    "print(al.isalnum())"
   ]
  },
  {
   "cell_type": "code",
   "execution_count": 9,
   "metadata": {},
   "outputs": [
    {
     "name": "stdout",
     "output_type": "stream",
     "text": [
      "False\n"
     ]
    }
   ],
   "source": [
    "al=\"ab1d\"\n",
    "print(al.isalpha())"
   ]
  },
  {
   "cell_type": "code",
   "execution_count": 32,
   "metadata": {},
   "outputs": [
    {
     "name": "stdout",
     "output_type": "stream",
     "text": [
      "qw\n",
      "True\n",
      "True\n",
      "False\n",
      "True\n",
      "False\n"
     ]
    }
   ],
   "source": [
    "S=input()\n",
    "arr1=[]\n",
    "arr2=[]\n",
    "arr3=[]\n",
    "arr4=[]\n",
    "arr5=[]\n",
    "for i in S:\n",
    "    a=i.isalnum()\n",
    "    b=i.isalpha()\n",
    "    c=i.isdigit()\n",
    "    d=i.islower()\n",
    "    e=i.isupper()\n",
    "    arr1+=[a]\n",
    "    arr2+=[b]\n",
    "    arr3+=[c]\n",
    "    arr4+=[d]\n",
    "    arr5+=[e]\n",
    "\n",
    "if True in arr1:\n",
    "    print(\"True\")\n",
    "else: print(\"False\")\n",
    "if True in arr2:\n",
    "    print(\"True\")\n",
    "else: print(\"False\")\n",
    "if True in arr3:\n",
    "    print(\"True\")\n",
    "else: print(\"False\")\n",
    "if True in arr4:\n",
    "    print(\"True\")\n",
    "else: print(\"False\")\n",
    "if True in arr5:\n",
    "    print(\"True\")\n",
    "else: print(\"False\")"
   ]
  },
  {
   "cell_type": "code",
   "execution_count": 59,
   "metadata": {},
   "outputs": [
    {
     "name": "stdout",
     "output_type": "stream",
     "text": [
      "5\n",
      "    H    \n",
      "   HHH   \n",
      "  HHHHH  \n",
      " HHHHHHH \n",
      "HHHHHHHHH\n",
      "  HHHHH             \n",
      "  HHHHH             \n",
      "  HHHHH             \n",
      "  HHHHH             \n",
      "  HHHHH             \n",
      "  HHHHH             \n",
      "  HHHHHHHHHHHHHHHHHHHHHHHHH   \n",
      "  HHHHHHHHHHHHHHHHHHHHHHHHH   \n",
      "  HHHHHHHHHHHHHHHHHHHHHHHHH   \n",
      "  HHHHH             \n",
      "  HHHHH             \n",
      "  HHHHH             \n",
      "  HHHHH             \n",
      "  HHHHH             \n",
      "  HHHHH             \n",
      " HHHHH HHHH                   \n",
      "  HHHH  HHH                   \n",
      "   HHH   HH                   \n",
      "    HH    H                   \n",
      "     H                        \n"
     ]
    }
   ],
   "source": [
    "thickness = int(input()) #This must be an odd number\n",
    "c = 'H'\n",
    "\n",
    "#Top Cone\n",
    "for i in range(thickness):\n",
    "    print((c*i).rjust(thickness-1,\" \")+c+(c*i).ljust(thickness-1,\" \"))\n",
    "\n",
    "#Top Pillars\n",
    "for i in range(thickness+1):\n",
    "    print((c*(thickness-2)).rjust(thickness*1,\" \")+(c*(thickness-3)).ljust(thickness*3,\" \"))\n",
    "for i in range((thickness+1)//2):\n",
    "    print((c*thickness*5).center(thickness*6))    \n",
    "#Bottom Pillars\n",
    "for i in range(thickness+1):\n",
    "    print((c*(thickness-2)).rjust(thickness*1,\" \")+(c*(thickness-3)).ljust(thickness*3,\" \"))\n",
    "#Bottom Cone\n",
    "for i in range(thickness):\n",
    "    print(((c*(thickness-i-1)).rjust(thickness,\" \")+c+(c*(thickness-i-1)).rjust(thickness)).ljust(thickness*6,\" \"))"
   ]
  },
  {
   "cell_type": "code",
   "execution_count": 89,
   "metadata": {},
   "outputs": [
    {
     "name": "stdout",
     "output_type": "stream",
     "text": [
      "ABCDEFGHIJKLIMNOQRSTUVWXYZ\n",
      "4\n",
      "4\n",
      "ABCD\n",
      "EFGH\n",
      "IJKL\n",
      "IMNO\n",
      "QRST\n",
      "UVWX\n",
      "YZ\n"
     ]
    }
   ],
   "source": [
    "st=input()\n",
    "n=int(input())\n",
    "w=n\n",
    "t=\"\"\n",
    "for i in range(len(st)):\n",
    "    t+=st[i]\n",
    "    if i==w-1:\n",
    "        t+=\"\\n\"\n",
    "        w+=n\n",
    "print(t)\n",
    "    "
   ]
  },
  {
   "cell_type": "code",
   "execution_count": 73,
   "metadata": {},
   "outputs": [
    {
     "name": "stdout",
     "output_type": "stream",
     "text": [
      "Sal\n",
      "am\n"
     ]
    }
   ],
   "source": [
    "x=\"Salam\"\n",
    "t=\"\"\n",
    "for i in range(len(x)):\n",
    "    t+=x[i]\n",
    "    if i==2:\n",
    "        t+=\"\\n\"\n"
   ]
  },
  {
   "cell_type": "code",
   "execution_count": null,
   "metadata": {},
   "outputs": [],
   "source": []
  },
  {
   "cell_type": "code",
   "execution_count": 209,
   "metadata": {},
   "outputs": [
    {
     "name": "stdout",
     "output_type": "stream",
     "text": [
      "5\n",
      "++12\n",
      "1.2\n",
      ".1\n",
      "+.133455643423\n",
      "32\n",
      "False\n",
      "False\n",
      "False\n",
      "False\n",
      "False\n"
     ]
    }
   ],
   "source": [
    "##### import re\n",
    "n=int(input())\n",
    "arr=[]\n",
    "for i in range(n):\n",
    "    string=input()\n",
    "    a=re.findall(\"\\w{0}.\\d+.\\d{1,24}\",string)\n",
    "    if a==[]:\n",
    "        arr+=[\"False\"]\n",
    "    elif string==a[0]:\n",
    "        arr+=[\"True\"]\n",
    "    else:\n",
    "        arr+=[\"False\"]\n",
    "for i in arr:\n",
    "    print(i)"
   ]
  },
  {
   "cell_type": "code",
   "execution_count": 243,
   "metadata": {},
   "outputs": [
    {
     "name": "stdout",
     "output_type": "stream",
     "text": [
      "100\n",
      "000\n",
      "000\n",
      "000\n"
     ]
    }
   ],
   "source": [
    "a=input()\n",
    "b=re.split(\"[,.]\",a)\n",
    "for i in b:\n",
    "    print(i,sep=\"\\n\")"
   ]
  }
 ],
 "metadata": {
  "kernelspec": {
   "display_name": "Python 3",
   "language": "python",
   "name": "python3"
  },
  "language_info": {
   "codemirror_mode": {
    "name": "ipython",
    "version": 3
   },
   "file_extension": ".py",
   "mimetype": "text/x-python",
   "name": "python",
   "nbconvert_exporter": "python",
   "pygments_lexer": "ipython3",
   "version": "3.7.4"
  }
 },
 "nbformat": 4,
 "nbformat_minor": 2
}
