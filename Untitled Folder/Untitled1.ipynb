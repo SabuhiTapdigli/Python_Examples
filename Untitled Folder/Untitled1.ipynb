{
 "cells": [
  {
   "cell_type": "code",
   "execution_count": 6,
   "metadata": {},
   "outputs": [
    {
     "name": "stdout",
     "output_type": "stream",
     "text": [
      "qapikqajib\n",
      "2\n",
      "4\n",
      "api\n",
      "ipa\n"
     ]
    },
    {
     "data": {
      "text/plain": [
       "'qipakqajib'"
      ]
     },
     "execution_count": 6,
     "metadata": {},
     "output_type": "execute_result"
    }
   ],
   "source": [
    "a=input()\n",
    "b=int(input())\n",
    "c=int(input())\n",
    "spc=a[b-1:c]\n",
    "print(spc)\n",
    "spc_reverse=spc[::-1]\n",
    "print(spc_reverse)\n",
    "yc=a.replace(spc,spc_reverse)\n",
    "yc"
   ]
  }
 ],
 "metadata": {
  "kernelspec": {
   "display_name": "Python 3",
   "language": "python",
   "name": "python3"
  },
  "language_info": {
   "codemirror_mode": {
    "name": "ipython",
    "version": 3
   },
   "file_extension": ".py",
   "mimetype": "text/x-python",
   "name": "python",
   "nbconvert_exporter": "python",
   "pygments_lexer": "ipython3",
   "version": "3.7.4"
  }
 },
 "nbformat": 4,
 "nbformat_minor": 2
}
