{
 "cells": [
  {
   "cell_type": "code",
   "execution_count": 1,
   "metadata": {},
   "outputs": [
    {
     "name": "stdout",
     "output_type": "stream",
     "text": [
      "True\n"
     ]
    }
   ],
   "source": [
    "sen=\"Name/Sabuhi/Surname/Tapdigli/Job/Engineer/Tel/0515674716\"\n",
    "import re\n",
    "pattern='^S.*i$'\n",
    "test=\"Sabuhi\"\n",
    "x=re.match(pattern,test)\n",
    "if x:\n",
    "    print(\"True\")\n",
    "else:\n",
    "    print(\"False\")"
   ]
  },
  {
   "cell_type": "code",
   "execution_count": 63,
   "metadata": {},
   "outputs": [
    {
     "data": {
      "text/plain": [
       "['a', 'a', 'b', 'a', 'a', 'b']"
      ]
     },
     "execution_count": 63,
     "metadata": {},
     "output_type": "execute_result"
    }
   ],
   "source": [
    "sen=\"Name/Sabuhi/Surname/Tapdigli/Job/Engineer/Tel/0515674716\"\n",
    "import re\n",
    "x=re.findall(\"[a-b]\",sen)\n",
    "x"
   ]
  },
  {
   "cell_type": "code",
   "execution_count": 64,
   "metadata": {},
   "outputs": [
    {
     "data": {
      "text/plain": [
       "['0', '5', '1', '5', '6', '7', '4', '7', '1', '6']"
      ]
     },
     "execution_count": 64,
     "metadata": {},
     "output_type": "execute_result"
    }
   ],
   "source": [
    "x=re.findall(\"\\d\",sen)\n",
    "x"
   ]
  },
  {
   "cell_type": "code",
   "execution_count": 2,
   "metadata": {},
   "outputs": [
    {
     "data": {
      "text/plain": [
       "['N',\n",
       " 'a',\n",
       " 'm',\n",
       " 'e',\n",
       " '/',\n",
       " 'S',\n",
       " 'a',\n",
       " 'b',\n",
       " 'u',\n",
       " 'h',\n",
       " 'i',\n",
       " '/',\n",
       " 'S',\n",
       " 'u',\n",
       " 'r',\n",
       " 'n',\n",
       " 'a',\n",
       " 'm',\n",
       " 'e',\n",
       " '/',\n",
       " 'T',\n",
       " 'a',\n",
       " 'p',\n",
       " 'd',\n",
       " 'i',\n",
       " 'g',\n",
       " 'l',\n",
       " 'i',\n",
       " '/',\n",
       " 'J',\n",
       " 'o',\n",
       " 'b',\n",
       " '/',\n",
       " 'E',\n",
       " 'n',\n",
       " 'g',\n",
       " 'i',\n",
       " 'n',\n",
       " 'e',\n",
       " 'e',\n",
       " 'r',\n",
       " '/',\n",
       " 'T',\n",
       " 'e',\n",
       " 'l',\n",
       " '/']"
      ]
     },
     "execution_count": 2,
     "metadata": {},
     "output_type": "execute_result"
    }
   ],
   "source": [
    "x=re.findall(\"\\D\",sen)\n",
    "#Return a match at every no-digit character:\n",
    "x"
   ]
  },
  {
   "cell_type": "code",
   "execution_count": 24,
   "metadata": {},
   "outputs": [
    {
     "data": {
      "text/plain": [
       "['ee']"
      ]
     },
     "execution_count": 24,
     "metadata": {},
     "output_type": "execute_result"
    }
   ],
   "source": [
    "x=re.findall(\"e{2}\",sen)\n",
    "x\n",
    "#Check if the string contains \"a\" followed by exactly two \"l\" characters:"
   ]
  },
  {
   "cell_type": "code",
   "execution_count": 13,
   "metadata": {},
   "outputs": [
    {
     "data": {
      "text/plain": [
       "['Name']"
      ]
     },
     "execution_count": 13,
     "metadata": {},
     "output_type": "execute_result"
    }
   ],
   "source": [
    "x=re.findall(\"Name|surname\",sen)\n",
    "x"
   ]
  },
  {
   "cell_type": "code",
   "execution_count": 34,
   "metadata": {},
   "outputs": [
    {
     "data": {
      "text/plain": [
       "['Name']"
      ]
     },
     "execution_count": 34,
     "metadata": {},
     "output_type": "execute_result"
    }
   ],
   "source": [
    "x=re.findall(\"\\AName\",sen)\n",
    "x\n",
    "#Check if the string starts with \"Name\": if write NAME or Surname will give empty array"
   ]
  },
  {
   "cell_type": "code",
   "execution_count": 55,
   "metadata": {},
   "outputs": [
    {
     "name": "stdout",
     "output_type": "stream",
     "text": [
      "['16', '16']\n",
      "['16', '16']\n"
     ]
    }
   ],
   "source": [
    "sen=\"16Name/Sabuhi/ 16Surname/Tapdigli/Job/Engineer/Tel16 /0515674716\"\n",
    "x=re.findall(r\"\\b16\",sen)\n",
    "y=re.findall(r\"16\\b\",sen)\n",
    "print(x)\n",
    "print(y)"
   ]
  },
  {
   "cell_type": "code",
   "execution_count": 61,
   "metadata": {},
   "outputs": [
    {
     "data": {
      "text/plain": [
       "['me', 'me']"
      ]
     },
     "execution_count": 61,
     "metadata": {},
     "output_type": "execute_result"
    }
   ],
   "source": [
    "sen=\"16Name/Sabuhi/ 16Surname/Tapdigli/Job/Engineer/Tel16 /0515674716\"\n",
    "x=re.findall(r\"\\Bme\",sen)\n",
    "#Check if \"me\" is present, but NOT at the beginning of a word:\n",
    "x"
   ]
  },
  {
   "cell_type": "code",
   "execution_count": 70,
   "metadata": {},
   "outputs": [
    {
     "data": {
      "text/plain": [
       "[' ', ' ']"
      ]
     },
     "execution_count": 70,
     "metadata": {},
     "output_type": "execute_result"
    }
   ],
   "source": [
    "sen=\"16Name/Sabuhi/ 16Surname/Tapdigli/Job/Engineer/Tel16 /0515674716\"\n",
    "x=re.findall(\"\\s\",sen)\n",
    "x\n",
    "#Return a match at every white-space character:\n",
    "# \\S Return a match at every NON white-space character:"
   ]
  },
  {
   "cell_type": "code",
   "execution_count": 117,
   "metadata": {},
   "outputs": [
    {
     "name": "stdout",
     "output_type": "stream",
     "text": [
      "{'Sabuhi': '26', 'Emil': '25', 'Fuad': '44', 'Emin': '25'}\n"
     ]
    }
   ],
   "source": [
    "Person=\"Sabuhi is 26 and Emil is 25 Fuad is 44 and Emin is 25\"\n",
    "age=re.findall(r\"\\d{1,3}\",Person)\n",
    "name=re.findall(r\"[A-Z][a-z]*\",Person)\n",
    "dic={}\n",
    "x=0\n",
    "for i in name:\n",
    "    dic[i]=age[x]\n",
    "    x+=1\n",
    "print(dic)\n",
    "\n",
    "\n",
    "\n"
   ]
  },
  {
   "cell_type": "code",
   "execution_count": 25,
   "metadata": {},
   "outputs": [
    {
     "data": {
      "text/plain": [
       "{'Sabuhi': 26, 'Emil': 25, 'Fuad': 44, 'Emin': 25}"
      ]
     },
     "execution_count": 25,
     "metadata": {},
     "output_type": "execute_result"
    }
   ],
   "source": [
    "Person=\"Sabuhi is 26 and Emil is 25 Fuad is 44 and Emin is 25\"\n",
    "name=re.findall(r\"[A-Z][a-z]*\",Person)\n",
    "age=re.findall(r\"\\d{2}\",Person)\n",
    "dic={}\n",
    "for i in range(len(name)):\n",
    "    dic[name[i]]=int(age[i])\n",
    "dic"
   ]
  },
  {
   "cell_type": "code",
   "execution_count": 26,
   "metadata": {},
   "outputs": [
    {
     "data": {
      "text/plain": [
       "['inform', 'inform']"
      ]
     },
     "execution_count": 26,
     "metadata": {},
     "output_type": "execute_result"
    }
   ],
   "source": [
    "allinform=re.findall(\"inform\",\"we need to inform him with the latest information \")\n",
    "# for i in allinform:\n",
    "#     print(i)\n",
    "allinform"
   ]
  },
  {
   "cell_type": "code",
   "execution_count": 122,
   "metadata": {},
   "outputs": [
    {
     "name": "stdout",
     "output_type": "stream",
     "text": [
      "(11, 17)\n",
      "(38, 44)\n"
     ]
    }
   ],
   "source": [
    "str=\"we need to inform him with the latest information \"\n",
    "for i in re.finditer(\"inform\",str):\n",
    "    loc=i.span()\n",
    "    print(loc)\n",
    "#it gives location of searched word "
   ]
  },
  {
   "cell_type": "code",
   "execution_count": 138,
   "metadata": {},
   "outputs": [
    {
     "data": {
      "text/plain": [
       "['Sat', 'pat']"
      ]
     },
     "execution_count": 138,
     "metadata": {},
     "output_type": "execute_result"
    }
   ],
   "source": [
    "str=\"Sat,hat,mat,pat\"\n",
    "# allstr=re.findall(\"[Shmp]at\",str) --> ['Sat', 'hat', 'mat', 'pat']\n",
    "#allstr=re.findall(\"[A-z]at\",str)-->['Sat', 'hat', 'mat', 'pat']\n",
    "# allstr=re.findall(\"[A-z]+\",str)-->['Sat', 'hat', 'mat', 'pat']\n",
    "# allstr=re.findall(\"[A-z]*\",str)-->['Sat', '', 'hat', '', 'mat', '', 'pat', '']\n",
    "# allstr=re.findall(\"[^h-m]at\",str) ^ means appart from  this -->['Sat', 'pat']\n",
    "allstr\n"
   ]
  },
  {
   "cell_type": "code",
   "execution_count": 144,
   "metadata": {},
   "outputs": [
    {
     "data": {
      "text/plain": [
       "'apple apple apple apple'"
      ]
     },
     "execution_count": 144,
     "metadata": {},
     "output_type": "execute_result"
    }
   ],
   "source": [
    "food=\"hat rat mat pat\"\n",
    "# regex=re.compile(\"[r]at\")\n",
    "# food=regex.sub(\"food\",food)-->'hat food mat pat'\n",
    "regex=re.compile(\"[a-z]at\")\n",
    "food=regex.sub(\"apple\",food)\n",
    "food\n"
   ]
  },
  {
   "cell_type": "code",
   "execution_count": 150,
   "metadata": {},
   "outputs": [
    {
     "name": "stdout",
     "output_type": "stream",
     "text": [
      "<re.Match object; span=(6, 13), match='\\\\drogba'>\n"
     ]
    }
   ],
   "source": [
    "randstr=\"he is \\\\drogba\"\n",
    "# print(randstr)-->he is \\drogba\n",
    "randstr\n",
    "print(re.search(r\"\\\\drogba\",randstr))"
   ]
  },
  {
   "cell_type": "code",
   "execution_count": 155,
   "metadata": {},
   "outputs": [
    {
     "data": {
      "text/plain": [
       "' Keep the blue flag flying high Man Un '"
      ]
     },
     "execution_count": 155,
     "metadata": {},
     "output_type": "execute_result"
    }
   ],
   "source": [
    "randstr=\"\"\"\n",
    "Keep the blue flag\n",
    "flying high\n",
    "Man Un\n",
    "\"\"\"\n",
    "# regex=re.compile(\"\\n\")\n",
    "# randstr=regex.sub(\" \", randstr)\n",
    "# print(randstr)--> Keep the blue flag flying high Chelsea \n",
    "randstr=re.sub(\"\\n\",\" \", randstr)\n",
    "randstr"
   ]
  },
  {
   "cell_type": "code",
   "execution_count": 160,
   "metadata": {},
   "outputs": [
    {
     "name": "stdout",
     "output_type": "stream",
     "text": [
      "Matches: 1\n"
     ]
    }
   ],
   "source": [
    "randstr=\"12345\"\n",
    "# print(\"Matches:\",len(re.findall(\"\\d\",randstr)))-->Matches: 5\n",
    "# print(\"Matches:\",len(re.findall(\"\\D\",randstr)))-->Matches: 0\n",
    "print(\"Matches:\",len(re.findall(\"\\d{5}\",randstr)))"
   ]
  },
  {
   "cell_type": "code",
   "execution_count": 190,
   "metadata": {},
   "outputs": [
    {
     "name": "stdout",
     "output_type": "stream",
     "text": [
      "['12345', '12345', '12345']\n"
     ]
    }
   ],
   "source": [
    "num=\"123 12345 123456 1234567\"\n",
    "d=re.findall(r\"\\d{5}\",num)\n",
    "print(d)"
   ]
  },
  {
   "cell_type": "code",
   "execution_count": 178,
   "metadata": {},
   "outputs": [],
   "source": [
    "# \\w-->[a-zA-Z0-9_]\n",
    "# \\W-->[^a-zA-Z0-9_] it will match everything but the things that are present inside the bases"
   ]
  },
  {
   "cell_type": "code",
   "execution_count": 191,
   "metadata": {},
   "outputs": [
    {
     "name": "stdout",
     "output_type": "stream",
     "text": [
      "fake\n"
     ]
    }
   ],
   "source": [
    "phn=\"412-5545-1212\"\n",
    "if re.search(\"\\d{3}-\\d{3}-\\d{4}\" ,phn):\n",
    "# if re.search(\"\\w{3}-\\w{3}-\\w{4}\" ,phn):\n",
    "    print(\"it is a phone number\")\n",
    "else:\n",
    "    print(\"fake\")"
   ]
  },
  {
   "cell_type": "code",
   "execution_count": 208,
   "metadata": {},
   "outputs": [
    {
     "name": "stdout",
     "output_type": "stream",
     "text": [
      "True\n"
     ]
    }
   ],
   "source": [
    "if re.search(\"\\w{2,20}\\s\\w{2,20}\",\"Sabuhi Tapdigli\"):\n",
    "    print(True)\n",
    "else:\n",
    "    print(False)\n",
    "#if there is not gap between words will be false but if we write \\S then it will be true"
   ]
  },
  {
   "cell_type": "code",
   "execution_count": 214,
   "metadata": {},
   "outputs": [
    {
     "name": "stdout",
     "output_type": "stream",
     "text": [
      "EmailMatches: 0\n"
     ]
    }
   ],
   "source": [
    "email=\"sk@aol.com md @.com @seo.com dc@.com\"\n",
    "print(\"EmailMatches:\", len(re.findall(\"[\\w._%+-]{1-20}@[\\w.-]{2-20}.[A-Za-z]{2,3}\",email)))"
   ]
  },
  {
   "cell_type": "code",
   "execution_count": 254,
   "metadata": {},
   "outputs": [
    {
     "data": {
      "text/plain": [
       "['99']"
      ]
     },
     "execution_count": 254,
     "metadata": {},
     "output_type": "execute_result"
    }
   ],
   "source": [
    "# website=\"http\\\\:www.sabuhi.com\\\\\"\n",
    "# print(re.findall(\"\\w{3}.\\w{1,20}.\\w{3}\", website))\n",
    "data=\"Sabuhi Tapdigli/1500Azn/99yash/1234\"\n",
    "# data2=\"Pervin Yunusov/1200Azn/25yash\"\n",
    "# fulname=re.compile(\"\\w{1,20} \\w{1,20}\",data)\n",
    "# fulname2=fulname(data2)\n",
    "Salary=re.findall(\"(\\d{3,4})[A-z]{3}\",data)\n",
    "age=re.findall(\"(\\d{1,2})[a-z]{1,4}\",data)\n",
    "age\n",
    "\n"
   ]
  },
  {
   "cell_type": "code",
   "execution_count": 2,
   "metadata": {},
   "outputs": [
    {
     "name": "stdout",
     "output_type": "stream",
     "text": [
      "www.sabuhi.com\n"
     ]
    }
   ],
   "source": [
    "import re\n",
    "data=\"Sabuhi Tapdigli/1500Azn/99yash/code1234\"\n",
    "salary=re.compile(\"\\d{3-4}\\w[A-z]\")"
   ]
  },
  {
   "cell_type": "code",
   "execution_count": 31,
   "metadata": {},
   "outputs": [
    {
     "name": "stdout",
     "output_type": "stream",
     "text": [
      "4\n",
      "+4\n",
      "True\n",
      "-4\n",
      "True\n",
      "4.0\n",
      "True\n",
      "5\n",
      "False\n"
     ]
    }
   ],
   "source": [
    "import re\n",
    "for i in range(int(input())):\n",
    "    data=input()\n",
    "    if re.findall(\".\\d\",data):\n",
    "        print(True)\n",
    "    else:\n",
    "        print(False)"
   ]
  }
 ],
 "metadata": {
  "kernelspec": {
   "display_name": "Python 3",
   "language": "python",
   "name": "python3"
  },
  "language_info": {
   "codemirror_mode": {
    "name": "ipython",
    "version": 3
   },
   "file_extension": ".py",
   "mimetype": "text/x-python",
   "name": "python",
   "nbconvert_exporter": "python",
   "pygments_lexer": "ipython3",
   "version": "3.7.4"
  }
 },
 "nbformat": 4,
 "nbformat_minor": 2
}
