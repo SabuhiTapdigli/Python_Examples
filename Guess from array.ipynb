{
 "cells": [
  {
   "cell_type": "code",
   "execution_count": 2,
   "metadata": {},
   "outputs": [
    {
     "name": "stdout",
     "output_type": "stream",
     "text": [
      "Your hidden answer is  16.0\n",
      "Your iteration is  53\n"
     ]
    }
   ],
   "source": [
    "array=[1,2,3,4,5,6,7,8,9,10,11,12,13,14,15,16]\n",
    "hide=array[15]\n",
    "low=array[0]\n",
    "high=array[len(array)-1]\n",
    "ans=(low+high)/2\n",
    "iteration=0\n",
    "\n",
    "while True:\n",
    "    if ans>hide:\n",
    "        high=ans\n",
    "        ans=(low+high)/2\n",
    "        iteration+=1\n",
    "    elif ans<hide:\n",
    "        low=ans\n",
    "        ans=(low+high)/2\n",
    "        iteration+=1\n",
    "    else:\n",
    "        print(\"Your hidden answer is \",str(ans))\n",
    "        print(\"Your iteration is \",str(iteration))\n",
    "        break"
   ]
  },
  {
   "cell_type": "code",
   "execution_count": 4,
   "metadata": {},
   "outputs": [
    {
     "name": "stdout",
     "output_type": "stream",
     "text": [
      "Your hidden answer is  10.0\n",
      "Your iteration is  50\n"
     ]
    }
   ],
   "source": [
    "array=[1,2,3,4,5,6,7,8,9,10,11,12,13,14,15,16]\n",
    "hide=10\n",
    "low=min(array)\n",
    "high=max(array)\n",
    "ans=(low+high)/2\n",
    "iteration=0\n",
    "\n",
    "while True:\n",
    "    if ans>hide:\n",
    "        high=ans\n",
    "        ans=(low+high)/2\n",
    "        iteration+=1\n",
    "    elif ans<hide:\n",
    "        low=ans\n",
    "        ans=(low+high)/2\n",
    "        iteration+=1\n",
    "    else:\n",
    "        print(\"Your hidden answer is \",str(ans))\n",
    "        print(\"Your iteration is \",str(iteration))\n",
    "        break"
   ]
  },
  {
   "cell_type": "code",
   "execution_count": 5,
   "metadata": {},
   "outputs": [
    {
     "name": "stdout",
     "output_type": "stream",
     "text": [
      "Your hidden answer is  4.0\n",
      "Your iteration is  53\n"
     ]
    }
   ],
   "source": [
    "array=[1,2,3,4,5,6,7,8,9,10,11,12,13,14,15,16]\n",
    "hide=4\n",
    "low=1\n",
    "high=16\n",
    "ans=(low+high)/2\n",
    "iteration=0\n",
    "\n",
    "while True:\n",
    "    if ans>hide:\n",
    "        high=ans\n",
    "        ans=(low+high)/2\n",
    "        iteration+=1\n",
    "    elif ans<hide:\n",
    "        low=ans\n",
    "        ans=(low+high)/2\n",
    "        iteration+=1\n",
    "    else:\n",
    "        print(\"Your hidden answer is \",str(ans))\n",
    "        \n",
    "        break\n",
    "print(\"Your iteration is \",str(iteration))"
   ]
  }
 ],
 "metadata": {
  "kernelspec": {
   "display_name": "Python 3",
   "language": "python",
   "name": "python3"
  },
  "language_info": {
   "codemirror_mode": {
    "name": "ipython",
    "version": 3
   },
   "file_extension": ".py",
   "mimetype": "text/x-python",
   "name": "python",
   "nbconvert_exporter": "python",
   "pygments_lexer": "ipython3",
   "version": "3.7.4"
  }
 },
 "nbformat": 4,
 "nbformat_minor": 2
}
