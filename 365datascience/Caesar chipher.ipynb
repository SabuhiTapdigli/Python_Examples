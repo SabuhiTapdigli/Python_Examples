{
 "cells": [
  {
   "cell_type": "code",
   "execution_count": 72,
   "metadata": {},
   "outputs": [
    {
     "data": {
      "text/plain": [
       "'H3ll@*my*ntm3'"
      ]
     },
     "execution_count": 72,
     "metadata": {},
     "output_type": "execute_result"
    }
   ],
   "source": [
    "def encrypt(text):\n",
    "    sait=\"aeoui\"\n",
    "    for i in range(len(text)):\n",
    "        if text[i]==\" \":\n",
    "            text=text.replace(text[i],'*')\n",
    "        elif text[i]==\"a\":\n",
    "            text=text.replace(text[i],'t')\n",
    "        elif text[i]==\"e\":\n",
    "            text=text.replace(text[i],'3')\n",
    "        elif text[i]==\"o\":\n",
    "            text=text.replace(text[i],'@')\n",
    "        elif text[i]==\"u\":\n",
    "            text=text.replace(text[i],'/')\n",
    "        elif text[i]==\"u\":\n",
    "            text=text.replace(text[i],'&')\n",
    "    return text\n",
    "text=\"Hello my name\"\n",
    "encrypt(text)\n"
   ]
  },
  {
   "cell_type": "markdown",
   "metadata": {},
   "source": [
    "## Caesar Cipher task"
   ]
  },
  {
   "cell_type": "code",
   "execution_count": 32,
   "metadata": {},
   "outputs": [
    {
     "name": "stdout",
     "output_type": "stream",
     "text": [
      "khoor\n"
     ]
    }
   ],
   "source": [
    "alphabet=\"abcdefghijklmnopqrstuvwxyz\"\n",
    "text=\"hello\"\n",
    "output=\"\"\n",
    "for i in text:\n",
    "    alpha_index=alphabet.find(i)\n",
    "    output += alphabet[alpha_index+3]\n",
    "print(output)"
   ]
  },
  {
   "cell_type": "markdown",
   "metadata": {},
   "source": [
    "### Write a function do deal with shift"
   ]
  },
  {
   "cell_type": "code",
   "execution_count": 58,
   "metadata": {},
   "outputs": [
    {
     "data": {
      "text/plain": [
       "22"
      ]
     },
     "execution_count": 58,
     "metadata": {},
     "output_type": "execute_result"
    }
   ],
   "source": [
    "def shift_amount(i):\n",
    "    return i%26"
   ]
  },
  {
   "cell_type": "code",
   "execution_count": 60,
   "metadata": {},
   "outputs": [
    {
     "data": {
      "text/plain": [
       "'mjqqt rd sfrj nx xfgzmn fsi flj 26'"
      ]
     },
     "execution_count": 60,
     "metadata": {},
     "output_type": "execute_result"
    }
   ],
   "source": [
    "def encrypt(text,num):\n",
    "    num=5\n",
    "    alphabet=\"abcdefghijklmnopqrstuvwxyz\"\n",
    "    output=\"\"\n",
    "    text=text.lower()\n",
    "    for i in text:\n",
    "        if i not in alphabet:\n",
    "                output+=i\n",
    "        else: \n",
    "            new=alphabet.find(i)\n",
    "            new+=num\n",
    "            output+=alphabet[shift_amount(new)]\n",
    "    return output\n",
    "text=\"Hello my name is Sabuhi and age 26\"\n",
    "encrypt(text,num)"
   ]
  },
  {
   "cell_type": "code",
   "execution_count": 53,
   "metadata": {},
   "outputs": [
    {
     "data": {
      "text/plain": [
       "'hello my name is sabuhi and age 26'"
      ]
     },
     "execution_count": 53,
     "metadata": {},
     "output_type": "execute_result"
    }
   ],
   "source": [
    "def nonencrypt(text,num):\n",
    "    num=5\n",
    "    num=-num\n",
    "    alphabet=\"abcdefghijklmnopqrstuvwxyz\"\n",
    "    output=\"\"\n",
    "    text=text.lower()\n",
    "    for i in text:\n",
    "        if i not in alphabet:\n",
    "                output+=i\n",
    "        else: \n",
    "            new=alphabet.find(i)\n",
    "            output+=alphabet[shift_amount(new+shift_amount(num))]\n",
    "    return output\n",
    "text=\"mjqqt rd sfrj nx xfgzmn fsi flj 26\"\n",
    "nonencrypt(text,num)"
   ]
  },
  {
   "cell_type": "code",
   "execution_count": 74,
   "metadata": {},
   "outputs": [
    {
     "data": {
      "text/plain": [
       "1000000000"
      ]
     },
     "execution_count": 74,
     "metadata": {},
     "output_type": "execute_result"
    }
   ],
   "source": []
  }
 ],
 "metadata": {
  "kernelspec": {
   "display_name": "Python 3",
   "language": "python",
   "name": "python3"
  },
  "language_info": {
   "codemirror_mode": {
    "name": "ipython",
    "version": 3
   },
   "file_extension": ".py",
   "mimetype": "text/x-python",
   "name": "python",
   "nbconvert_exporter": "python",
   "pygments_lexer": "ipython3",
   "version": "3.7.4"
  }
 },
 "nbformat": 4,
 "nbformat_minor": 2
}
