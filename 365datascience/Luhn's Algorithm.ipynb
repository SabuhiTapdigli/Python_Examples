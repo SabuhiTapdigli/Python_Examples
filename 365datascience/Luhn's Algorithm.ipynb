{
 "cells": [
  {
   "cell_type": "markdown",
   "metadata": {},
   "source": [
    "## Luhn's Algorithm"
   ]
  },
  {
   "cell_type": "code",
   "execution_count": null,
   "metadata": {},
   "outputs": [],
   "source": [
    "'''1. Multiply every 2nd digit by 2 starting from the 2 nd to last and then add those digits together\n",
    "   2. Add that number to the sum of the digits that were not multiplied by two \n",
    "   3. Find the remainder when that is divided by 10 if remainder is 0 number is valid!\n",
    "   Example: 371449635398431 multiply every second number by two and add all of them:\n",
    "       then add other which we did not multiply  and sum of them divided by 10 if remainder = 0 it is valid\n",
    "    '''"
   ]
  },
  {
   "cell_type": "markdown",
   "metadata": {},
   "source": [
    "## my solution"
   ]
  },
  {
   "cell_type": "code",
   "execution_count": 16,
   "metadata": {},
   "outputs": [
    {
     "name": "stdout",
     "output_type": "stream",
     "text": [
      "Plese enter your credit number: 371449635398431\n",
      "Valid card\n"
     ]
    }
   ],
   "source": [
    "num=list(map(int,input(\"Plese enter your credit number: \")))\n",
    "mysum=0\n",
    "for i in range(len(num)):\n",
    "    if i%2==1:\n",
    "        if num[i]*2>9:\n",
    "            a=str(num[i]*2)\n",
    "            mysum+=int(a[0])+int(a[1])\n",
    "        else:\n",
    "            mysum+=num[i]*2\n",
    "    else:\n",
    "        mysum+=num[i]\n",
    "if mysum%10==0:\n",
    "    print(\"Valid card\") \n",
    "else:\n",
    "    print(\"invalid\")"
   ]
  },
  {
   "cell_type": "markdown",
   "metadata": {},
   "source": [
    "## Coin change algorithm"
   ]
  },
  {
   "cell_type": "code",
   "execution_count": 71,
   "metadata": {},
   "outputs": [
    {
     "data": {
      "text/plain": [
       "dict_keys([1, 4, 9, 16, 25, 36, 49, 64, 81, 100, 121, 144, 169, 196, 225, 256, 289, 324, 361, 400, 441, 484, 529, 576, 625, 676, 729, 784, 841, 900, 961])"
      ]
     },
     "execution_count": 71,
     "metadata": {},
     "output_type": "execute_result"
    }
   ],
   "source": [
    "a=[1,1,1,1,1,1,1,1,1,1]\n",
    "b=1001\n",
    "coins=[1]*b\n",
    "for i in range(1,len(coins)):\n",
    "    for j in range(i,len(coins),i+1):\n",
    "        if coins[j]==1:\n",
    "            coins[j]=0\n",
    "        elif coins[j]==0:\n",
    "            coins[j]=1\n",
    "            \n",
    "dic={}\n",
    "for i in range(len(coins)):\n",
    "    if coins[i]==1:\n",
    "        dic[i+1]=coins[i]\n",
    "dic.keys()"
   ]
  },
  {
   "cell_type": "code",
   "execution_count": 79,
   "metadata": {},
   "outputs": [],
   "source": [
    "arr=[]\n",
    "for i in range(1001):\n",
    "    arr+=[1]\n",
    "arr"
   ]
  }
 ],
 "metadata": {
  "kernelspec": {
   "display_name": "Python 3",
   "language": "python",
   "name": "python3"
  },
  "language_info": {
   "codemirror_mode": {
    "name": "ipython",
    "version": 3
   },
   "file_extension": ".py",
   "mimetype": "text/x-python",
   "name": "python",
   "nbconvert_exporter": "python",
   "pygments_lexer": "ipython3",
   "version": "3.7.4"
  }
 },
 "nbformat": 4,
 "nbformat_minor": 2
}
