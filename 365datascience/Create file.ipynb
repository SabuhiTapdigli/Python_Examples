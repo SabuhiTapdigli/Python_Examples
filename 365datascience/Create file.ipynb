{
 "cells": [
  {
   "cell_type": "code",
   "execution_count": 2,
   "metadata": {},
   "outputs": [],
   "source": [
    "#create a file\n",
    "f=open('new_file.txt',\"w\")\n",
    "# print(type(f))   <class '_io.TextIOWrapper'>\n",
    "f.write(\"Hello My Name is Sabuhi \\n I am from Baku \\twhat about you\")\n",
    "f.close()"
   ]
  },
  {
   "cell_type": "code",
   "execution_count": 9,
   "metadata": {},
   "outputs": [
    {
     "name": "stdout",
     "output_type": "stream",
     "text": [
      "Hello My Name is Sabuhi \n",
      " I am from Baku \twhat about you\n"
     ]
    }
   ],
   "source": [
    "#read a file\n",
    "f=open(\"new_file.txt\",\"r\")\n",
    "print(f.read())\n",
    "#read first line of text\n",
    "# print(f.readline())  #Hello My Name is Sabuhi \n",
    "#readlines() give in list compares to just read  ['Hello My Name is Sabuhi \\n', ' I am from Baku \\twhat about you']\n",
    "# print(f.readlines())\n",
    "f.close()"
   ]
  },
  {
   "cell_type": "code",
   "execution_count": 32,
   "metadata": {},
   "outputs": [
    {
     "name": "stdout",
     "output_type": "stream",
     "text": [
      "Hello My Name is Sabuhi \n",
      " I am from Baku \twhat about youmy name is fuad i AM 25 YEAR OLDmy name is fuad i AM 25 YEAR OLDmy name is fuad i AM 25 YEAR OLDmy name is fuad i AM 25 YEAR OLDmy name is fuad i AM 25 YEAR OLDmy name is fuad i AM 25 YEAR OLDmy name is fuad i AM 25 YEAR OLDmy name is fuad i AM 25 YEAR OLDmy name is fuad i AM 25 YEAR OLDmy name is fuad i AM 25 YEAR OLDmy name is fuad i AM 25 YEAR OLDmy name is fuad i AM 25 YEAR OLDmy name is fuad i AM 25 YEAR OLDmy name is fuad i AM 25 YEAR OLDmy name is fuad i AM 25 YEAR OLD\n"
     ]
    }
   ],
   "source": [
    "#open in append mode\n",
    "# f=open(\"new_file.txt\",\"a\")\n",
    "# f.write(\"my name is fuad i AM 25 YEAR OLD\")\n",
    "# f.close()\n",
    "\n",
    "f=open(\"new_file.txt\",\"r\")\n",
    "print(f.read())\n",
    "f.close()"
   ]
  },
  {
   "cell_type": "code",
   "execution_count": 33,
   "metadata": {},
   "outputs": [
    {
     "name": "stdout",
     "output_type": "stream",
     "text": [
      "Hello My Name is Sabuhi \n",
      "\n",
      " I am from Baku \twhat about youmy name is fuad i AM 25 YEAR OLDmy name is fuad i AM 25 YEAR OLDmy name is fuad i AM 25 YEAR OLDmy name is fuad i AM 25 YEAR OLDmy name is fuad i AM 25 YEAR OLDmy name is fuad i AM 25 YEAR OLDmy name is fuad i AM 25 YEAR OLDmy name is fuad i AM 25 YEAR OLDmy name is fuad i AM 25 YEAR OLDmy name is fuad i AM 25 YEAR OLDmy name is fuad i AM 25 YEAR OLDmy name is fuad i AM 25 YEAR OLDmy name is fuad i AM 25 YEAR OLDmy name is fuad i AM 25 YEAR OLDmy name is fuad i AM 25 YEAR OLD\n"
     ]
    }
   ],
   "source": [
    "#open a file without using close() at the end\n",
    "with open (\"new_file.txt\", \"r\") as f:\n",
    "    for line in  f.readlines():\n",
    "        print(line)"
   ]
  }
 ],
 "metadata": {
  "kernelspec": {
   "display_name": "Python 3",
   "language": "python",
   "name": "python3"
  },
  "language_info": {
   "codemirror_mode": {
    "name": "ipython",
    "version": 3
   },
   "file_extension": ".py",
   "mimetype": "text/x-python",
   "name": "python",
   "nbconvert_exporter": "python",
   "pygments_lexer": "ipython3",
   "version": "3.7.4"
  }
 },
 "nbformat": 4,
 "nbformat_minor": 2
}
