{
 "cells": [
  {
   "cell_type": "markdown",
   "metadata": {},
   "source": [
    "## LINEAR SEARCH"
   ]
  },
  {
   "cell_type": "code",
   "execution_count": null,
   "metadata": {},
   "outputs": [],
   "source": [
    "def linear_search(item,my_list):\n",
    "    i=0\n",
    "    while i<len(my_list):\n",
    "        return my_list[i]==item\n",
    "        i+=1\n",
    "my_list=[1,2,4,6,10,43,87,12]\n",
    "linear_search(88,my_list)"
   ]
  },
  {
   "cell_type": "markdown",
   "metadata": {},
   "source": [
    "## Binary Search"
   ]
  },
  {
   "cell_type": "code",
   "execution_count": 43,
   "metadata": {},
   "outputs": [
    {
     "name": "stdout",
     "output_type": "stream",
     "text": [
      "72\n",
      "Count 1\n"
     ]
    }
   ],
   "source": [
    "def binary_search(item,my_list):\n",
    "    minu=0\n",
    "    maxu=len(my_list)-1\n",
    "    count=0\n",
    "    while True:\n",
    "        mean=(minu+maxu)//2\n",
    "        if my_list.index(item)>mean:\n",
    "            minu=mean\n",
    "            count=+1\n",
    "        elif my_list.index(item)<mean:\n",
    "            maxu=mean\n",
    "            count+=1\n",
    "        elif my_list.index(item)==mean:\n",
    "            print(my_list[mean])\n",
    "            break\n",
    "    print(\"Count\",count)\n",
    "my_list=[1,72,5,6,10,43,2,12]\n",
    "binary_search(72,my_list)"
   ]
  },
  {
   "cell_type": "markdown",
   "metadata": {},
   "source": [
    "## Bubble sort\n"
   ]
  },
  {
   "cell_type": "code",
   "execution_count": 57,
   "metadata": {},
   "outputs": [
    {
     "name": "stdout",
     "output_type": "stream",
     "text": [
      "[3, 4, 6, 31, 12, 34, 2]\n",
      "[3, 4, 6, 12, 31, 34, 2]\n",
      "[3, 4, 6, 12, 31, 2, 34]\n",
      "[3, 4, 6, 12, 2, 31, 34]\n",
      "[3, 4, 6, 2, 12, 31, 34]\n",
      "[3, 4, 2, 6, 12, 31, 34]\n",
      "[3, 2, 4, 6, 12, 31, 34]\n",
      "[2, 3, 4, 6, 12, 31, 34]\n"
     ]
    },
    {
     "data": {
      "text/plain": [
       "[2, 3, 4, 6, 12, 31, 34]"
      ]
     },
     "execution_count": 57,
     "metadata": {},
     "output_type": "execute_result"
    }
   ],
   "source": [
    "def bubble_sort(arr):\n",
    "    for i in range(len(arr)-1):\n",
    "        for j in range(len(arr)-1):\n",
    "            if arr[j]>arr[j+1]:\n",
    "                arr[j],arr[j+1]=arr[j+1],arr[j]\n",
    "                print(arr)\n",
    "    return arr\n",
    "arr=[4,3,6,31,12,34,2]\n",
    "bubble_sort(arr)"
   ]
  },
  {
   "cell_type": "markdown",
   "metadata": {},
   "source": [
    "## Insertion Sort\n"
   ]
  },
  {
   "cell_type": "code",
   "execution_count": 60,
   "metadata": {},
   "outputs": [
    {
     "name": "stdout",
     "output_type": "stream",
     "text": [
      "value in for: 3\n",
      "j 1\n",
      "arr[j] in while: 4\n",
      "arr[j-1] in while: 4\n",
      "arr[j] at the end while: 3\n",
      "value in for: 6\n",
      "j 2\n",
      "arr[j] at the end while: 6\n",
      "value in for: 31\n",
      "j 3\n",
      "arr[j] at the end while: 31\n",
      "value in for: 12\n",
      "j 4\n",
      "arr[j] in while: 31\n",
      "arr[j-1] in while: 31\n",
      "arr[j] at the end while: 12\n",
      "value in for: 34\n",
      "j 5\n",
      "arr[j] at the end while: 34\n",
      "value in for: 2\n",
      "j 6\n",
      "arr[j] in while: 34\n",
      "arr[j-1] in while: 34\n",
      "arr[j] in while: 31\n",
      "arr[j-1] in while: 31\n",
      "arr[j] in while: 12\n",
      "arr[j-1] in while: 12\n",
      "arr[j] in while: 6\n",
      "arr[j-1] in while: 6\n",
      "arr[j] in while: 4\n",
      "arr[j-1] in while: 4\n",
      "arr[j] in while: 3\n",
      "arr[j-1] in while: 3\n",
      "arr[j] at the end while: 2\n"
     ]
    },
    {
     "data": {
      "text/plain": [
       "[2, 3, 4, 6, 12, 31, 34]"
      ]
     },
     "execution_count": 60,
     "metadata": {},
     "output_type": "execute_result"
    }
   ],
   "source": [
    "def insertion_sort(arr):\n",
    "    n=len(arr)\n",
    "    for i in range(1,n):\n",
    "        value = arr[i]\n",
    "        print(\"value in for:\",value)\n",
    "        j=i\n",
    "        print(\"j\",j)\n",
    "        while j>0 and arr[j-1]>value:\n",
    "            arr[j] = arr[j-1]\n",
    "            print(\"arr[j] in while:\", arr[j])\n",
    "            print(\"arr[j-1] in while:\", arr[j-1])\n",
    "            j-=1\n",
    "        arr[j]=value\n",
    "        print(\"arr[j] at the end while:\", arr[j])\n",
    "    return arr\n",
    "arr=[4,3,6,31,12,34,2]\n",
    "insertion_sort(arr)"
   ]
  }
 ],
 "metadata": {
  "kernelspec": {
   "display_name": "Python 3",
   "language": "python",
   "name": "python3"
  },
  "language_info": {
   "codemirror_mode": {
    "name": "ipython",
    "version": 3
   },
   "file_extension": ".py",
   "mimetype": "text/x-python",
   "name": "python",
   "nbconvert_exporter": "python",
   "pygments_lexer": "ipython3",
   "version": "3.7.4"
  }
 },
 "nbformat": 4,
 "nbformat_minor": 2
}
