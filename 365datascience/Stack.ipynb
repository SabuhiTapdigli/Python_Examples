{
 "cells": [
  {
   "cell_type": "code",
   "execution_count": 19,
   "metadata": {},
   "outputs": [
    {
     "data": {
      "text/plain": [
       "3"
      ]
     },
     "execution_count": 19,
     "metadata": {},
     "output_type": "execute_result"
    }
   ],
   "source": [
    "class Stack():\n",
    "    def __init__(self):\n",
    "        self.list=[]\n",
    "    def empty(self):\n",
    "        if not self.list:\n",
    "            return True\n",
    "        else:\n",
    "            return False\n",
    "    def push (self,item):\n",
    "        self.list.append(item)\n",
    "    def pop (self):\n",
    "        return self.list.pop()\n",
    "    def peek(self):\n",
    "        if self.list==[]:\n",
    "            return None\n",
    "        else:\n",
    "            return self.list[-1]\n",
    "    def __repr__(self):\n",
    "        return repr(self.list)\n",
    "n1=Stack()\n",
    "n1.push(10)\n",
    "n1.push(3)\n",
    "n1.push(13)\n",
    "n1.pop()\n",
    "n1.peek()"
   ]
  },
  {
   "cell_type": "code",
   "execution_count": 179,
   "metadata": {},
   "outputs": [
    {
     "data": {
      "text/plain": [
       "False"
      ]
     },
     "execution_count": 179,
     "metadata": {},
     "output_type": "execute_result"
    }
   ],
   "source": [
    "#balance bracket my solution\n",
    "def balance(a):\n",
    "    f,s,t=[\"{\",\"}\"],[\"(\",\")\"],[\"[\",\"]\"]\n",
    "    q=[]\n",
    "    count=0\n",
    "    half=int(len(a)/2)\n",
    "    for i in range(half):\n",
    "        q+=a[i],a[-(i+1)]\n",
    "        if q==f or q==s or q==t:\n",
    "            count+=1\n",
    "            q.pop()\n",
    "            q.pop()\n",
    "    return half==count\n",
    "a=\"]{({[()]})}\"\n",
    "balance(a)\n"
   ]
  },
  {
   "cell_type": "code",
   "execution_count": 181,
   "metadata": {},
   "outputs": [
    {
     "data": {
      "text/plain": [
       "True"
      ]
     },
     "execution_count": 181,
     "metadata": {},
     "output_type": "execute_result"
    }
   ],
   "source": [
    "#teacher solution\n",
    "def balance(a):\n",
    "    d={')': '(', '}': '{', ']': '['}\n",
    "    stack=[]\n",
    "    for char in a:\n",
    "        if not stack:\n",
    "            stack.append(char)\n",
    "        elif char not in d:\n",
    "            stack.append(char)\n",
    "        elif d[char]==stack[-1]:\n",
    "            stack.pop()\n",
    "        else:\n",
    "            stack.append(char)\n",
    "    if not stack:\n",
    "        return True\n",
    "    else:\n",
    "        return False\n",
    "\n",
    "a=\"{({[()]})}\"\n",
    "balance(a)"
   ]
  },
  {
   "cell_type": "markdown",
   "metadata": {},
   "source": [
    "## Tower Of Hanoi\n",
    "    \n"
   ]
  },
  {
   "cell_type": "code",
   "execution_count": 197,
   "metadata": {},
   "outputs": [],
   "source": [
    "A=[6,5,4,3,2,1]\n",
    "B=[]\n",
    "C=[]"
   ]
  },
  {
   "cell_type": "code",
   "execution_count": 198,
   "metadata": {},
   "outputs": [
    {
     "data": {
      "text/plain": [
       "63"
      ]
     },
     "execution_count": 198,
     "metadata": {},
     "output_type": "execute_result"
    }
   ],
   "source": [
    "count=0\n",
    "def hanoi(A,B,C,n):\n",
    "    global count\n",
    "    if n==1:\n",
    "        disk=A.pop()\n",
    "        C.append(disk)\n",
    "        count+=1\n",
    "    else:\n",
    "        hanoi(A,C,B,n-1)\n",
    "        hanoi(A,B,C,1)\n",
    "        hanoi(B,A,C,n-1)\n",
    "    return count\n",
    "hanoi(A,B,C,6)"
   ]
  },
  {
   "cell_type": "code",
   "execution_count": 199,
   "metadata": {},
   "outputs": [
    {
     "data": {
      "text/plain": [
       "[6, 5, 4, 3, 2, 1]"
      ]
     },
     "execution_count": 199,
     "metadata": {},
     "output_type": "execute_result"
    }
   ],
   "source": [
    "C"
   ]
  }
 ],
 "metadata": {
  "kernelspec": {
   "display_name": "Python 3",
   "language": "python",
   "name": "python3"
  },
  "language_info": {
   "codemirror_mode": {
    "name": "ipython",
    "version": 3
   },
   "file_extension": ".py",
   "mimetype": "text/x-python",
   "name": "python",
   "nbconvert_exporter": "python",
   "pygments_lexer": "ipython3",
   "version": "3.7.4"
  }
 },
 "nbformat": 4,
 "nbformat_minor": 2
}
