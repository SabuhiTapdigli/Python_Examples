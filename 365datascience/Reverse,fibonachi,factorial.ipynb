{
 "cells": [
  {
   "cell_type": "code",
   "execution_count": 1,
   "metadata": {},
   "outputs": [
    {
     "name": "stdout",
     "output_type": "stream",
     "text": [
      "[10, 12, 23, 3, 4, 1]\n",
      "[10, 12, 3, 23, 4, 1]\n",
      "[10, 12, 3, 4, 23, 1]\n",
      "[10, 12, 3, 4, 1, 23]\n",
      "[10, 3, 12, 4, 1, 23]\n",
      "[10, 3, 4, 12, 1, 23]\n",
      "[10, 3, 4, 1, 12, 23]\n",
      "[3, 10, 4, 1, 12, 23]\n",
      "[3, 4, 10, 1, 12, 23]\n",
      "[3, 4, 1, 10, 12, 23]\n",
      "[3, 1, 4, 10, 12, 23]\n",
      "[1, 3, 4, 10, 12, 23]\n",
      "[1, 3, 4, 10, 12, 23]\n"
     ]
    }
   ],
   "source": [
    "#Sorting\n",
    "arr=[10,23,12,3,4,1]\n",
    "for i in range(len(arr)):\n",
    "    for j in range(len(arr)-1):\n",
    "        if arr[j]>arr[j+1]:\n",
    "            arr[j+1],arr[j]=arr[j],arr[j+1]\n",
    "            print(arr)\n",
    "print(arr) "
   ]
  },
  {
   "cell_type": "code",
   "execution_count": 2,
   "metadata": {},
   "outputs": [
    {
     "data": {
      "text/plain": [
       "0"
      ]
     },
     "execution_count": 2,
     "metadata": {},
     "output_type": "execute_result"
    }
   ],
   "source": [
    "ls=[122,3,4,5]\n",
    "del ls[1]\n",
    "#difference between del and and pop both are used to delete using index but pop return deleted thing.\n",
    "#remove delete using value not index\n",
    "ls.index(122)"
   ]
  },
  {
   "cell_type": "code",
   "execution_count": 3,
   "metadata": {},
   "outputs": [
    {
     "name": "stdout",
     "output_type": "stream",
     "text": [
      "se\n",
      "es\n"
     ]
    }
   ],
   "source": [
    "#reverse string\n",
    "# a=input()\n",
    "# b=\"\"\n",
    "# for i in range(len(a)-1,-1,-1):\n",
    "#     b+=a[i]\n",
    "# print(b)\n",
    "a=input()\n",
    "b=\"\"\n",
    "for i in a:\n",
    "    b=i+b\n",
    "print(b)"
   ]
  },
  {
   "cell_type": "code",
   "execution_count": 4,
   "metadata": {},
   "outputs": [
    {
     "name": "stdout",
     "output_type": "stream",
     "text": [
      "4\n",
      "24\n"
     ]
    }
   ],
   "source": [
    "#factorial\n",
    "num=int(input())\n",
    "time=1\n",
    "for i in range(1,num+1):\n",
    "    time*=i\n",
    "print(time)"
   ]
  },
  {
   "cell_type": "code",
   "execution_count": 5,
   "metadata": {},
   "outputs": [
    {
     "name": "stdout",
     "output_type": "stream",
     "text": [
      "4\n",
      "[0, 1, 1, 2]\n"
     ]
    }
   ],
   "source": [
    "#fibonacci\n",
    "num=int(input())\n",
    "a=0\n",
    "b=1\n",
    "fib=[]\n",
    "for i in range(num):\n",
    "    fib+=[a]\n",
    "    a,b=b,a+b\n",
    "print(fib)"
   ]
  },
  {
   "cell_type": "code",
   "execution_count": 6,
   "metadata": {},
   "outputs": [
    {
     "name": "stdout",
     "output_type": "stream",
     "text": [
      "\t*****\n",
      "\t*\n",
      "\t****\n",
      "\t*\n",
      "\t*\n",
      "\t*\n"
     ]
    }
   ],
   "source": [
    "print(\"\\t*****\\n\\t*\\n\\t****\\n\\t*\\n\\t*\\n\\t*\")"
   ]
  },
  {
   "cell_type": "code",
   "execution_count": 7,
   "metadata": {},
   "outputs": [
    {
     "name": "stdout",
     "output_type": "stream",
     "text": [
      "* * * * \n",
      "*   * *\n",
      "* *   *\n",
      "* * * * "
     ]
    }
   ],
   "source": [
    "for i in range(1,10):\n",
    "    for j in range(1,10):\n",
    "        if i==1 and j<5:\n",
    "            print(\"*\",end=\" \")\n",
    "        elif i==2 and j==1:\n",
    "            print()\n",
    "            print(\"*\",end=\"   \")\n",
    "        elif i==2 and j==3:\n",
    "            print(\"*\",end=\" \")\n",
    "        elif i==2 and j==4:\n",
    "            print(\"*\")\n",
    "        elif i==3 and j==1:\n",
    "            print(\"*\",end=\" \")\n",
    "        elif i==3 and j==2:\n",
    "            print(\"*\",end=\"   \")\n",
    "        elif i==3 and j==4:\n",
    "            print(\"*\")\n",
    "        elif i==4 and j<5:\n",
    "            print(\"*\",end=\" \")"
   ]
  },
  {
   "cell_type": "code",
   "execution_count": null,
   "metadata": {},
   "outputs": [],
   "source": []
  }
 ],
 "metadata": {
  "kernelspec": {
   "display_name": "Python 3",
   "language": "python",
   "name": "python3"
  },
  "language_info": {
   "codemirror_mode": {
    "name": "ipython",
    "version": 3
   },
   "file_extension": ".py",
   "mimetype": "text/x-python",
   "name": "python",
   "nbconvert_exporter": "python",
   "pygments_lexer": "ipython3",
   "version": "3.7.4"
  }
 },
 "nbformat": 4,
 "nbformat_minor": 2
}
