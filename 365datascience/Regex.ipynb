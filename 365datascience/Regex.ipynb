{
 "cells": [
  {
   "cell_type": "code",
   "execution_count": 1,
   "metadata": {},
   "outputs": [],
   "source": [
    "import math"
   ]
  },
  {
   "cell_type": "code",
   "execution_count": 3,
   "metadata": {},
   "outputs": [
    {
     "data": {
      "text/plain": [
       "3.141592653589793"
      ]
     },
     "execution_count": 3,
     "metadata": {},
     "output_type": "execute_result"
    }
   ],
   "source": [
    "pi=math.pi\n",
    "pi"
   ]
  },
  {
   "cell_type": "code",
   "execution_count": 9,
   "metadata": {},
   "outputs": [
    {
     "data": {
      "text/plain": [
       "'3.141592653589793'"
      ]
     },
     "execution_count": 9,
     "metadata": {},
     "output_type": "execute_result"
    }
   ],
   "source": [
    "f'{pi}'"
   ]
  },
  {
   "cell_type": "code",
   "execution_count": 12,
   "metadata": {},
   "outputs": [
    {
     "data": {
      "text/plain": [
       "'3.1416'"
      ]
     },
     "execution_count": 12,
     "metadata": {},
     "output_type": "execute_result"
    }
   ],
   "source": [
    "f'{pi:.5}'"
   ]
  },
  {
   "cell_type": "code",
   "execution_count": 15,
   "metadata": {},
   "outputs": [
    {
     "data": {
      "text/plain": [
       "'3.1416'"
      ]
     },
     "execution_count": 15,
     "metadata": {},
     "output_type": "execute_result"
    }
   ],
   "source": [
    "f'{pi:.4f}'"
   ]
  },
  {
   "cell_type": "code",
   "execution_count": 17,
   "metadata": {},
   "outputs": [
    {
     "data": {
      "text/plain": [
       "'      3.1416'"
      ]
     },
     "execution_count": 17,
     "metadata": {},
     "output_type": "execute_result"
    }
   ],
   "source": [
    "f'{pi:12.4f}'\n",
    "#12 will give us space"
   ]
  },
  {
   "cell_type": "code",
   "execution_count": 18,
   "metadata": {},
   "outputs": [
    {
     "data": {
      "text/plain": [
       "'0000003.1416'"
      ]
     },
     "execution_count": 18,
     "metadata": {},
     "output_type": "execute_result"
    }
   ],
   "source": [
    "f'{pi:012.4f}'\n",
    "#len  '0000003.1416' ==12\n"
   ]
  },
  {
   "cell_type": "code",
   "execution_count": 20,
   "metadata": {},
   "outputs": [
    {
     "data": {
      "text/plain": [
       "'+3.1416'"
      ]
     },
     "execution_count": 20,
     "metadata": {},
     "output_type": "execute_result"
    }
   ],
   "source": [
    "f'{pi:+.4f}'\n",
    "#12 will give us space"
   ]
  },
  {
   "cell_type": "code",
   "execution_count": 21,
   "metadata": {},
   "outputs": [
    {
     "data": {
      "text/plain": [
       "'3.1416      '"
      ]
     },
     "execution_count": 21,
     "metadata": {},
     "output_type": "execute_result"
    }
   ],
   "source": [
    "f'{pi:<12.4f}'\n",
    "#12 will give us space from right side"
   ]
  },
  {
   "cell_type": "code",
   "execution_count": 23,
   "metadata": {},
   "outputs": [
    {
     "data": {
      "text/plain": [
       "'   3.1416   '"
      ]
     },
     "execution_count": 23,
     "metadata": {},
     "output_type": "execute_result"
    }
   ],
   "source": [
    "f'{pi:^12.4f}'\n",
    "#12 will give us space from both side"
   ]
  },
  {
   "cell_type": "code",
   "execution_count": 24,
   "metadata": {},
   "outputs": [
    {
     "data": {
      "text/plain": [
       "'+     3.1416'"
      ]
     },
     "execution_count": 24,
     "metadata": {},
     "output_type": "execute_result"
    }
   ],
   "source": [
    "f'{pi:=+12.4f}'\n",
    "#12 will give us space after +"
   ]
  },
  {
   "cell_type": "markdown",
   "metadata": {},
   "source": [
    "# Regex"
   ]
  },
  {
   "cell_type": "code",
   "execution_count": 66,
   "metadata": {},
   "outputs": [
    {
     "name": "stdout",
     "output_type": "stream",
     "text": [
      "221\n",
      "sadedir\n"
     ]
    }
   ],
   "source": [
    "import math\n",
    "num=int(input())\n",
    "if num ==2 or num==3 or num==5 or num==7:\n",
    "    print(\"sadedir\")\n",
    "elif num%2==0 or num%3==0 or num%5==0 or num%7==0 or math.sqrt(num)%1==0:\n",
    "    print(\"sade deyil\")\n",
    "else:\n",
    "    print(\"sadedir\")"
   ]
  },
  {
   "cell_type": "code",
   "execution_count": 90,
   "metadata": {},
   "outputs": [
    {
     "name": "stdout",
     "output_type": "stream",
     "text": [
      "221\n",
      "sade deyil\n"
     ]
    }
   ],
   "source": [
    "count=0\n",
    "num=int(input())\n",
    "for i in range(1,num+1):\n",
    "    if num%i==0:\n",
    "        count+=1\n",
    "if count>2:\n",
    "    print(\"sade deyil\")\n",
    "else:print(\"sadedir\")\n",
    "    "
   ]
  },
  {
   "cell_type": "code",
   "execution_count": 591,
   "metadata": {},
   "outputs": [],
   "source": [
    "import numpy as np\n",
    "import pandas as pd\n",
    "import re\n",
    "# np.where(pd.isnull(df))\n",
    "# df.dropna(axis=0,how=\"any\",inplace=True)"
   ]
  },
  {
   "cell_type": "code",
   "execution_count": 592,
   "metadata": {},
   "outputs": [
    {
     "data": {
      "text/plain": [
       "(array([  6838,  11713,  11714,  11715,  19143,  19144,  19411,  30119,\n",
       "         30121,  31212,  31213,  37978,  37979,  37980,  37981,  39972,\n",
       "         94515, 107148], dtype=int64),\n",
       " array([0, 1, 1, 1, 1, 1, 1, 1, 1, 1, 1, 1, 1, 1, 1, 1, 0, 0], dtype=int64))"
      ]
     },
     "execution_count": 592,
     "metadata": {},
     "output_type": "execute_result"
    }
   ],
   "source": [
    "df=pd.read_csv(\"regex.csv\",  sep=\"\\t\")\n",
    "np.where(pd.isnull(df))"
   ]
  },
  {
   "cell_type": "code",
   "execution_count": 597,
   "metadata": {},
   "outputs": [],
   "source": [
    "df[\"ADDL_TEXT\"].replace(np.nan,\"No data\",inplace=True)"
   ]
  },
  {
   "cell_type": "code",
   "execution_count": 633,
   "metadata": {},
   "outputs": [
    {
     "data": {
      "text/plain": [
       "'BAKCELL PAYMENT~20180801~AZN~15.00~BAKU~4127..0431~4814~RD097228~AZE~~'"
      ]
     },
     "execution_count": 633,
     "metadata": {},
     "output_type": "execute_result"
    }
   ],
   "source": [
    "df[\"ADDL_TEXT\"][107409]"
   ]
  },
  {
   "cell_type": "code",
   "execution_count": 622,
   "metadata": {},
   "outputs": [
    {
     "data": {
      "text/plain": [
       "['ATM CNV']"
      ]
     },
     "execution_count": 622,
     "metadata": {},
     "output_type": "execute_result"
    }
   ],
   "source": [
    "df[\"ADDL_TEXT\"][1]\n",
    "atm=re.findall(\"(^ATM\\s\\w*)\\s\",df[\"ADDL_TEXT\"][1])\n",
    "atm"
   ]
  },
  {
   "cell_type": "code",
   "execution_count": null,
   "metadata": {},
   "outputs": [],
   "source": []
  },
  {
   "cell_type": "code",
   "execution_count": 623,
   "metadata": {},
   "outputs": [],
   "source": [
    "a=df[\"ADDL_TEXT\"]\n",
    "arr=[]\n",
    "arr2=[]\n",
    "arr3=[]\n",
    "for i in range(len(a)):\n",
    "    city=re.findall(\"~(\\w*)~\\d{4}..\\d{4}\",a[i])\n",
    "    time=re.findall(\"~(\\d{8})~\\w{3}\",a[i])\n",
    "    atm=re.findall(\"(^ATM\\s\\w*)\\s\",a[i])\n",
    "    arr+=[city]\n",
    "    arr2+=[time]\n",
    "    arr3+=[atm]\n"
   ]
  },
  {
   "cell_type": "code",
   "execution_count": 601,
   "metadata": {},
   "outputs": [
    {
     "data": {
      "text/html": [
       "<div>\n",
       "<style scoped>\n",
       "    .dataframe tbody tr th:only-of-type {\n",
       "        vertical-align: middle;\n",
       "    }\n",
       "\n",
       "    .dataframe tbody tr th {\n",
       "        vertical-align: top;\n",
       "    }\n",
       "\n",
       "    .dataframe thead th {\n",
       "        text-align: right;\n",
       "    }\n",
       "</style>\n",
       "<table border=\"1\" class=\"dataframe\">\n",
       "  <thead>\n",
       "    <tr style=\"text-align: right;\">\n",
       "      <th></th>\n",
       "      <th>RELATED_CUSTOMER</th>\n",
       "      <th>ADDL_TEXT</th>\n",
       "      <th>City</th>\n",
       "      <th>Time</th>\n",
       "    </tr>\n",
       "  </thead>\n",
       "  <tbody>\n",
       "    <tr>\n",
       "      <td>0</td>\n",
       "      <td>3922924.0</td>\n",
       "      <td>ATM CNV FAVORIT MARKET~20180731~AZN~10.00~BAKU...</td>\n",
       "      <td>BAKU</td>\n",
       "      <td>20180731</td>\n",
       "    </tr>\n",
       "    <tr>\n",
       "      <td>1</td>\n",
       "      <td>3922924.0</td>\n",
       "      <td>ATM CNV FAVORIT MARKET~20180731~AZN~20.00~BAKU...</td>\n",
       "      <td>BAKU</td>\n",
       "      <td>20180731</td>\n",
       "    </tr>\n",
       "    <tr>\n",
       "      <td>2</td>\n",
       "      <td>3922924.0</td>\n",
       "      <td>ATM CNV FAVORIT MARKET~20180731~AZN~20.00~BAKU...</td>\n",
       "      <td>BAKU</td>\n",
       "      <td>20180731</td>\n",
       "    </tr>\n",
       "    <tr>\n",
       "      <td>3</td>\n",
       "      <td>3922964.0</td>\n",
       "      <td>ATM CNV,POCHT N111,3MKR~20180801~AZN~7.00~BAKU...</td>\n",
       "      <td>BAKU</td>\n",
       "      <td>20180801</td>\n",
       "    </tr>\n",
       "    <tr>\n",
       "      <td>4</td>\n",
       "      <td>3923336.0</td>\n",
       "      <td>ATM CNV SUM 3 MKR,~20180801~AZN~145.00~BAKU~41...</td>\n",
       "      <td>BAKU</td>\n",
       "      <td>20180801</td>\n",
       "    </tr>\n",
       "    <tr>\n",
       "      <td>...</td>\n",
       "      <td>...</td>\n",
       "      <td>...</td>\n",
       "      <td>...</td>\n",
       "      <td>...</td>\n",
       "    </tr>\n",
       "    <tr>\n",
       "      <td>107409</td>\n",
       "      <td>4839400.0</td>\n",
       "      <td>BAKCELL PAYMENT~20180801~AZN~15.00~BAKU~4127.....</td>\n",
       "      <td>BAKU</td>\n",
       "      <td>20180801</td>\n",
       "    </tr>\n",
       "    <tr>\n",
       "      <td>107410</td>\n",
       "      <td>4839404.0</td>\n",
       "      <td>AZERCELL PAYMENT~20180801~AZN~1.00~BAKU~4127.....</td>\n",
       "      <td>BAKU</td>\n",
       "      <td>20180801</td>\n",
       "    </tr>\n",
       "    <tr>\n",
       "      <td>107411</td>\n",
       "      <td>4839429.0</td>\n",
       "      <td>KATV TV (PP)~20180801~AZN~32.00~BAKU~4127..070...</td>\n",
       "      <td>BAKU</td>\n",
       "      <td>20180801</td>\n",
       "    </tr>\n",
       "    <tr>\n",
       "      <td>107412</td>\n",
       "      <td>4839429.0</td>\n",
       "      <td>ATM CCS, YASAMAL DSMF~20180801~AZN~5.00~BAKU~4...</td>\n",
       "      <td>BAKU</td>\n",
       "      <td>20180801</td>\n",
       "    </tr>\n",
       "    <tr>\n",
       "      <td>107413</td>\n",
       "      <td>4839429.0</td>\n",
       "      <td>ATM CCS, TEL QEB KOM-SI~20180801~AZN~40.00~BAK...</td>\n",
       "      <td>BAKU</td>\n",
       "      <td>20180801</td>\n",
       "    </tr>\n",
       "  </tbody>\n",
       "</table>\n",
       "<p>107414 rows × 4 columns</p>\n",
       "</div>"
      ],
      "text/plain": [
       "        RELATED_CUSTOMER                                          ADDL_TEXT  \\\n",
       "0              3922924.0  ATM CNV FAVORIT MARKET~20180731~AZN~10.00~BAKU...   \n",
       "1              3922924.0  ATM CNV FAVORIT MARKET~20180731~AZN~20.00~BAKU...   \n",
       "2              3922924.0  ATM CNV FAVORIT MARKET~20180731~AZN~20.00~BAKU...   \n",
       "3              3922964.0  ATM CNV,POCHT N111,3MKR~20180801~AZN~7.00~BAKU...   \n",
       "4              3923336.0  ATM CNV SUM 3 MKR,~20180801~AZN~145.00~BAKU~41...   \n",
       "...                  ...                                                ...   \n",
       "107409         4839400.0  BAKCELL PAYMENT~20180801~AZN~15.00~BAKU~4127.....   \n",
       "107410         4839404.0  AZERCELL PAYMENT~20180801~AZN~1.00~BAKU~4127.....   \n",
       "107411         4839429.0  KATV TV (PP)~20180801~AZN~32.00~BAKU~4127..070...   \n",
       "107412         4839429.0  ATM CCS, YASAMAL DSMF~20180801~AZN~5.00~BAKU~4...   \n",
       "107413         4839429.0  ATM CCS, TEL QEB KOM-SI~20180801~AZN~40.00~BAK...   \n",
       "\n",
       "        City      Time  \n",
       "0       BAKU  20180731  \n",
       "1       BAKU  20180731  \n",
       "2       BAKU  20180731  \n",
       "3       BAKU  20180801  \n",
       "4       BAKU  20180801  \n",
       "...      ...       ...  \n",
       "107409  BAKU  20180801  \n",
       "107410  BAKU  20180801  \n",
       "107411  BAKU  20180801  \n",
       "107412  BAKU  20180801  \n",
       "107413  BAKU  20180801  \n",
       "\n",
       "[107414 rows x 4 columns]"
      ]
     },
     "execution_count": 601,
     "metadata": {},
     "output_type": "execute_result"
    }
   ],
   "source": [
    "df1=pd.DataFrame(arr)\n",
    "df1=df1.rename(columns={0:\"City\"})\n",
    "df1=df1.drop(columns=1,axis=1)\n",
    "df2=pd.DataFrame(arr2)\n",
    "df2=df2.rename(columns={0:\"Time\"})\n",
    "df=pd.concat([df,df1,df2],axis=1)\n",
    "df"
   ]
  },
  {
   "cell_type": "code",
   "execution_count": 628,
   "metadata": {},
   "outputs": [
    {
     "data": {
      "text/html": [
       "<div>\n",
       "<style scoped>\n",
       "    .dataframe tbody tr th:only-of-type {\n",
       "        vertical-align: middle;\n",
       "    }\n",
       "\n",
       "    .dataframe tbody tr th {\n",
       "        vertical-align: top;\n",
       "    }\n",
       "\n",
       "    .dataframe thead th {\n",
       "        text-align: right;\n",
       "    }\n",
       "</style>\n",
       "<table border=\"1\" class=\"dataframe\">\n",
       "  <thead>\n",
       "    <tr style=\"text-align: right;\">\n",
       "      <th></th>\n",
       "      <th>RELATED_CUSTOMER</th>\n",
       "      <th>ADDL_TEXT</th>\n",
       "      <th>City</th>\n",
       "      <th>Time</th>\n",
       "      <th>Atm</th>\n",
       "    </tr>\n",
       "  </thead>\n",
       "  <tbody>\n",
       "    <tr>\n",
       "      <td>0</td>\n",
       "      <td>3922924.0</td>\n",
       "      <td>ATM CNV FAVORIT MARKET~20180731~AZN~10.00~BAKU...</td>\n",
       "      <td>BAKU</td>\n",
       "      <td>20180731</td>\n",
       "      <td>ATM CNV</td>\n",
       "    </tr>\n",
       "    <tr>\n",
       "      <td>1</td>\n",
       "      <td>3922924.0</td>\n",
       "      <td>ATM CNV FAVORIT MARKET~20180731~AZN~20.00~BAKU...</td>\n",
       "      <td>BAKU</td>\n",
       "      <td>20180731</td>\n",
       "      <td>ATM CNV</td>\n",
       "    </tr>\n",
       "    <tr>\n",
       "      <td>2</td>\n",
       "      <td>3922924.0</td>\n",
       "      <td>ATM CNV FAVORIT MARKET~20180731~AZN~20.00~BAKU...</td>\n",
       "      <td>BAKU</td>\n",
       "      <td>20180731</td>\n",
       "      <td>ATM CNV</td>\n",
       "    </tr>\n",
       "    <tr>\n",
       "      <td>3</td>\n",
       "      <td>3922964.0</td>\n",
       "      <td>ATM CNV,POCHT N111,3MKR~20180801~AZN~7.00~BAKU...</td>\n",
       "      <td>BAKU</td>\n",
       "      <td>20180801</td>\n",
       "      <td>None</td>\n",
       "    </tr>\n",
       "    <tr>\n",
       "      <td>4</td>\n",
       "      <td>3923336.0</td>\n",
       "      <td>ATM CNV SUM 3 MKR,~20180801~AZN~145.00~BAKU~41...</td>\n",
       "      <td>BAKU</td>\n",
       "      <td>20180801</td>\n",
       "      <td>ATM CNV</td>\n",
       "    </tr>\n",
       "    <tr>\n",
       "      <td>...</td>\n",
       "      <td>...</td>\n",
       "      <td>...</td>\n",
       "      <td>...</td>\n",
       "      <td>...</td>\n",
       "      <td>...</td>\n",
       "    </tr>\n",
       "    <tr>\n",
       "      <td>107409</td>\n",
       "      <td>4839400.0</td>\n",
       "      <td>BAKCELL PAYMENT~20180801~AZN~15.00~BAKU~4127.....</td>\n",
       "      <td>BAKU</td>\n",
       "      <td>20180801</td>\n",
       "      <td>None</td>\n",
       "    </tr>\n",
       "    <tr>\n",
       "      <td>107410</td>\n",
       "      <td>4839404.0</td>\n",
       "      <td>AZERCELL PAYMENT~20180801~AZN~1.00~BAKU~4127.....</td>\n",
       "      <td>BAKU</td>\n",
       "      <td>20180801</td>\n",
       "      <td>None</td>\n",
       "    </tr>\n",
       "    <tr>\n",
       "      <td>107411</td>\n",
       "      <td>4839429.0</td>\n",
       "      <td>KATV TV (PP)~20180801~AZN~32.00~BAKU~4127..070...</td>\n",
       "      <td>BAKU</td>\n",
       "      <td>20180801</td>\n",
       "      <td>None</td>\n",
       "    </tr>\n",
       "    <tr>\n",
       "      <td>107412</td>\n",
       "      <td>4839429.0</td>\n",
       "      <td>ATM CCS, YASAMAL DSMF~20180801~AZN~5.00~BAKU~4...</td>\n",
       "      <td>BAKU</td>\n",
       "      <td>20180801</td>\n",
       "      <td>None</td>\n",
       "    </tr>\n",
       "    <tr>\n",
       "      <td>107413</td>\n",
       "      <td>4839429.0</td>\n",
       "      <td>ATM CCS, TEL QEB KOM-SI~20180801~AZN~40.00~BAK...</td>\n",
       "      <td>BAKU</td>\n",
       "      <td>20180801</td>\n",
       "      <td>None</td>\n",
       "    </tr>\n",
       "  </tbody>\n",
       "</table>\n",
       "<p>107414 rows × 5 columns</p>\n",
       "</div>"
      ],
      "text/plain": [
       "        RELATED_CUSTOMER                                          ADDL_TEXT  \\\n",
       "0              3922924.0  ATM CNV FAVORIT MARKET~20180731~AZN~10.00~BAKU...   \n",
       "1              3922924.0  ATM CNV FAVORIT MARKET~20180731~AZN~20.00~BAKU...   \n",
       "2              3922924.0  ATM CNV FAVORIT MARKET~20180731~AZN~20.00~BAKU...   \n",
       "3              3922964.0  ATM CNV,POCHT N111,3MKR~20180801~AZN~7.00~BAKU...   \n",
       "4              3923336.0  ATM CNV SUM 3 MKR,~20180801~AZN~145.00~BAKU~41...   \n",
       "...                  ...                                                ...   \n",
       "107409         4839400.0  BAKCELL PAYMENT~20180801~AZN~15.00~BAKU~4127.....   \n",
       "107410         4839404.0  AZERCELL PAYMENT~20180801~AZN~1.00~BAKU~4127.....   \n",
       "107411         4839429.0  KATV TV (PP)~20180801~AZN~32.00~BAKU~4127..070...   \n",
       "107412         4839429.0  ATM CCS, YASAMAL DSMF~20180801~AZN~5.00~BAKU~4...   \n",
       "107413         4839429.0  ATM CCS, TEL QEB KOM-SI~20180801~AZN~40.00~BAK...   \n",
       "\n",
       "        City      Time      Atm  \n",
       "0       BAKU  20180731  ATM CNV  \n",
       "1       BAKU  20180731  ATM CNV  \n",
       "2       BAKU  20180731  ATM CNV  \n",
       "3       BAKU  20180801     None  \n",
       "4       BAKU  20180801  ATM CNV  \n",
       "...      ...       ...      ...  \n",
       "107409  BAKU  20180801     None  \n",
       "107410  BAKU  20180801     None  \n",
       "107411  BAKU  20180801     None  \n",
       "107412  BAKU  20180801     None  \n",
       "107413  BAKU  20180801     None  \n",
       "\n",
       "[107414 rows x 5 columns]"
      ]
     },
     "execution_count": 628,
     "metadata": {},
     "output_type": "execute_result"
    }
   ],
   "source": [
    "df3=pd.DataFrame(arr3)\n",
    "df3=df3.rename(columns={0:\"Atm\"})\n",
    "df=pd.concat([df,df3],axis=1)\n",
    "df"
   ]
  },
  {
   "cell_type": "code",
   "execution_count": 632,
   "metadata": {},
   "outputs": [
    {
     "data": {
      "text/html": [
       "<div>\n",
       "<style scoped>\n",
       "    .dataframe tbody tr th:only-of-type {\n",
       "        vertical-align: middle;\n",
       "    }\n",
       "\n",
       "    .dataframe tbody tr th {\n",
       "        vertical-align: top;\n",
       "    }\n",
       "\n",
       "    .dataframe thead th {\n",
       "        text-align: right;\n",
       "    }\n",
       "</style>\n",
       "<table border=\"1\" class=\"dataframe\">\n",
       "  <thead>\n",
       "    <tr style=\"text-align: right;\">\n",
       "      <th></th>\n",
       "      <th>RELATED_CUSTOMER</th>\n",
       "      <th>ADDL_TEXT</th>\n",
       "      <th>City</th>\n",
       "      <th>Time</th>\n",
       "      <th>Atm</th>\n",
       "    </tr>\n",
       "  </thead>\n",
       "  <tbody>\n",
       "    <tr>\n",
       "      <td>0</td>\n",
       "      <td>3922924.0</td>\n",
       "      <td>ATM CNV FAVORIT MARKET~20180731~AZN~10.00~BAKU...</td>\n",
       "      <td>BAKU</td>\n",
       "      <td>2018-07-31</td>\n",
       "      <td>ATM CNV</td>\n",
       "    </tr>\n",
       "    <tr>\n",
       "      <td>1</td>\n",
       "      <td>3922924.0</td>\n",
       "      <td>ATM CNV FAVORIT MARKET~20180731~AZN~20.00~BAKU...</td>\n",
       "      <td>BAKU</td>\n",
       "      <td>2018-07-31</td>\n",
       "      <td>ATM CNV</td>\n",
       "    </tr>\n",
       "    <tr>\n",
       "      <td>2</td>\n",
       "      <td>3922924.0</td>\n",
       "      <td>ATM CNV FAVORIT MARKET~20180731~AZN~20.00~BAKU...</td>\n",
       "      <td>BAKU</td>\n",
       "      <td>2018-07-31</td>\n",
       "      <td>ATM CNV</td>\n",
       "    </tr>\n",
       "    <tr>\n",
       "      <td>3</td>\n",
       "      <td>3922964.0</td>\n",
       "      <td>ATM CNV,POCHT N111,3MKR~20180801~AZN~7.00~BAKU...</td>\n",
       "      <td>BAKU</td>\n",
       "      <td>2018-08-01</td>\n",
       "      <td>None</td>\n",
       "    </tr>\n",
       "    <tr>\n",
       "      <td>4</td>\n",
       "      <td>3923336.0</td>\n",
       "      <td>ATM CNV SUM 3 MKR,~20180801~AZN~145.00~BAKU~41...</td>\n",
       "      <td>BAKU</td>\n",
       "      <td>2018-08-01</td>\n",
       "      <td>ATM CNV</td>\n",
       "    </tr>\n",
       "    <tr>\n",
       "      <td>...</td>\n",
       "      <td>...</td>\n",
       "      <td>...</td>\n",
       "      <td>...</td>\n",
       "      <td>...</td>\n",
       "      <td>...</td>\n",
       "    </tr>\n",
       "    <tr>\n",
       "      <td>107409</td>\n",
       "      <td>4839400.0</td>\n",
       "      <td>BAKCELL PAYMENT~20180801~AZN~15.00~BAKU~4127.....</td>\n",
       "      <td>BAKU</td>\n",
       "      <td>2018-08-01</td>\n",
       "      <td>None</td>\n",
       "    </tr>\n",
       "    <tr>\n",
       "      <td>107410</td>\n",
       "      <td>4839404.0</td>\n",
       "      <td>AZERCELL PAYMENT~20180801~AZN~1.00~BAKU~4127.....</td>\n",
       "      <td>BAKU</td>\n",
       "      <td>2018-08-01</td>\n",
       "      <td>None</td>\n",
       "    </tr>\n",
       "    <tr>\n",
       "      <td>107411</td>\n",
       "      <td>4839429.0</td>\n",
       "      <td>KATV TV (PP)~20180801~AZN~32.00~BAKU~4127..070...</td>\n",
       "      <td>BAKU</td>\n",
       "      <td>2018-08-01</td>\n",
       "      <td>None</td>\n",
       "    </tr>\n",
       "    <tr>\n",
       "      <td>107412</td>\n",
       "      <td>4839429.0</td>\n",
       "      <td>ATM CCS, YASAMAL DSMF~20180801~AZN~5.00~BAKU~4...</td>\n",
       "      <td>BAKU</td>\n",
       "      <td>2018-08-01</td>\n",
       "      <td>None</td>\n",
       "    </tr>\n",
       "    <tr>\n",
       "      <td>107413</td>\n",
       "      <td>4839429.0</td>\n",
       "      <td>ATM CCS, TEL QEB KOM-SI~20180801~AZN~40.00~BAK...</td>\n",
       "      <td>BAKU</td>\n",
       "      <td>2018-08-01</td>\n",
       "      <td>None</td>\n",
       "    </tr>\n",
       "  </tbody>\n",
       "</table>\n",
       "<p>107414 rows × 5 columns</p>\n",
       "</div>"
      ],
      "text/plain": [
       "        RELATED_CUSTOMER                                          ADDL_TEXT  \\\n",
       "0              3922924.0  ATM CNV FAVORIT MARKET~20180731~AZN~10.00~BAKU...   \n",
       "1              3922924.0  ATM CNV FAVORIT MARKET~20180731~AZN~20.00~BAKU...   \n",
       "2              3922924.0  ATM CNV FAVORIT MARKET~20180731~AZN~20.00~BAKU...   \n",
       "3              3922964.0  ATM CNV,POCHT N111,3MKR~20180801~AZN~7.00~BAKU...   \n",
       "4              3923336.0  ATM CNV SUM 3 MKR,~20180801~AZN~145.00~BAKU~41...   \n",
       "...                  ...                                                ...   \n",
       "107409         4839400.0  BAKCELL PAYMENT~20180801~AZN~15.00~BAKU~4127.....   \n",
       "107410         4839404.0  AZERCELL PAYMENT~20180801~AZN~1.00~BAKU~4127.....   \n",
       "107411         4839429.0  KATV TV (PP)~20180801~AZN~32.00~BAKU~4127..070...   \n",
       "107412         4839429.0  ATM CCS, YASAMAL DSMF~20180801~AZN~5.00~BAKU~4...   \n",
       "107413         4839429.0  ATM CCS, TEL QEB KOM-SI~20180801~AZN~40.00~BAK...   \n",
       "\n",
       "        City       Time      Atm  \n",
       "0       BAKU 2018-07-31  ATM CNV  \n",
       "1       BAKU 2018-07-31  ATM CNV  \n",
       "2       BAKU 2018-07-31  ATM CNV  \n",
       "3       BAKU 2018-08-01     None  \n",
       "4       BAKU 2018-08-01  ATM CNV  \n",
       "...      ...        ...      ...  \n",
       "107409  BAKU 2018-08-01     None  \n",
       "107410  BAKU 2018-08-01     None  \n",
       "107411  BAKU 2018-08-01     None  \n",
       "107412  BAKU 2018-08-01     None  \n",
       "107413  BAKU 2018-08-01     None  \n",
       "\n",
       "[107414 rows x 5 columns]"
      ]
     },
     "execution_count": 632,
     "metadata": {},
     "output_type": "execute_result"
    }
   ],
   "source": [
    "df[\"Time\"]=pd.to_datetime(df['Time'])\n",
    "df"
   ]
  }
 ],
 "metadata": {
  "kernelspec": {
   "display_name": "Python 3",
   "language": "python",
   "name": "python3"
  },
  "language_info": {
   "codemirror_mode": {
    "name": "ipython",
    "version": 3
   },
   "file_extension": ".py",
   "mimetype": "text/x-python",
   "name": "python",
   "nbconvert_exporter": "python",
   "pygments_lexer": "ipython3",
   "version": "3.7.4"
  }
 },
 "nbformat": 4,
 "nbformat_minor": 2
}
