{
 "cells": [
  {
   "cell_type": "code",
   "execution_count": 17,
   "metadata": {},
   "outputs": [
    {
     "data": {
      "text/plain": [
       "['__add__',\n",
       " '__class__',\n",
       " '__contains__',\n",
       " '__delattr__',\n",
       " '__dir__',\n",
       " '__doc__',\n",
       " '__eq__',\n",
       " '__format__',\n",
       " '__ge__',\n",
       " '__getattribute__',\n",
       " '__getitem__',\n",
       " '__getnewargs__',\n",
       " '__gt__',\n",
       " '__hash__',\n",
       " '__init__',\n",
       " '__init_subclass__',\n",
       " '__iter__',\n",
       " '__le__',\n",
       " '__len__',\n",
       " '__lt__',\n",
       " '__mod__',\n",
       " '__mul__',\n",
       " '__ne__',\n",
       " '__new__',\n",
       " '__reduce__',\n",
       " '__reduce_ex__',\n",
       " '__repr__',\n",
       " '__rmod__',\n",
       " '__rmul__',\n",
       " '__setattr__',\n",
       " '__sizeof__',\n",
       " '__str__',\n",
       " '__subclasshook__',\n",
       " 'capitalize',\n",
       " 'casefold',\n",
       " 'center',\n",
       " 'count',\n",
       " 'encode',\n",
       " 'endswith',\n",
       " 'expandtabs',\n",
       " 'find',\n",
       " 'format',\n",
       " 'format_map',\n",
       " 'index',\n",
       " 'isalnum',\n",
       " 'isalpha',\n",
       " 'isascii',\n",
       " 'isdecimal',\n",
       " 'isdigit',\n",
       " 'isidentifier',\n",
       " 'islower',\n",
       " 'isnumeric',\n",
       " 'isprintable',\n",
       " 'isspace',\n",
       " 'istitle',\n",
       " 'isupper',\n",
       " 'join',\n",
       " 'ljust',\n",
       " 'lower',\n",
       " 'lstrip',\n",
       " 'maketrans',\n",
       " 'partition',\n",
       " 'replace',\n",
       " 'rfind',\n",
       " 'rindex',\n",
       " 'rjust',\n",
       " 'rpartition',\n",
       " 'rsplit',\n",
       " 'rstrip',\n",
       " 'split',\n",
       " 'splitlines',\n",
       " 'startswith',\n",
       " 'strip',\n",
       " 'swapcase',\n",
       " 'title',\n",
       " 'translate',\n",
       " 'upper',\n",
       " 'zfill']"
      ]
     },
     "execution_count": 17,
     "metadata": {},
     "output_type": "execute_result"
    }
   ],
   "source": [
    "x=1\n",
    "a=[1,2,3]\n",
    "b=(1,2,3)\n",
    "c=\"sabuhi\"\n",
    "# help(a)\n",
    "dir(c)"
   ]
  },
  {
   "cell_type": "code",
   "execution_count": 23,
   "metadata": {},
   "outputs": [
    {
     "name": "stdout",
     "output_type": "stream",
     "text": [
      "5\n"
     ]
    }
   ],
   "source": [
    "class myclass:\n",
    "    x=5\n",
    "p1=myclass()\n",
    "print(p1.x)"
   ]
  },
  {
   "cell_type": "code",
   "execution_count": null,
   "metadata": {},
   "outputs": [],
   "source": [
    "# class Person:\n",
    "    def __init__(self,name,age):\n",
    "        self.name=name\n",
    "        self.age=age\n",
    "    def myfunc(self):\n",
    "        print(\"Hello my name is \" + self.name)\n",
    "        print(\"My age is \",self.age)\n",
    "p1=Person(\"Sabuhi\",26)\n",
    "p1.myfunc()\n",
    "p1.age=30\n",
    "print(p1.age)\n",
    "del p1.age\n",
    "#delete the age property from p1 object\n",
    "print(p1.age)\n",
    "#You can delete objects by using the del keyword:\n",
    "# del p1\n",
    "# print(p1) --name 'p1' is not defined\n",
    "**Note: The self parameter is a reference to the current instance of the class,**\n",
    "#and is used to access variables that belong to the class."
   ]
  },
  {
   "cell_type": "code",
   "execution_count": 46,
   "metadata": {},
   "outputs": [
    {
     "name": "stdout",
     "output_type": "stream",
     "text": [
      "sabuhi 26 patient\n",
      "fuad 25 patient\n"
     ]
    }
   ],
   "source": [
    "#we have instance variable which created in def __init__(self,variable1,variable2)\n",
    "#class variable which is written belongs to each object \n",
    "class Patient(object):\n",
    "    status=\"patient\"\n",
    "    def __init__(self,name,age):\n",
    "        self.name=name\n",
    "        self.age=age\n",
    "p1=Patient(\"sabuhi\",26)\n",
    "p2=Patient(\"fuad\",25)\n",
    "print(p1.name,p1.age,p1.status)\n",
    "print(p2.name,p2.age,p2.status)"
   ]
  },
  {
   "cell_type": "code",
   "execution_count": 106,
   "metadata": {},
   "outputs": [
    {
     "name": "stdout",
     "output_type": "stream",
     "text": [
      "Person name: Sabuhi and Person age: 26 Current info: ['info has been added']\n"
     ]
    }
   ],
   "source": [
    "class Patiend(object):\n",
    "    status=\"Patitent\"\n",
    "    def __init__(self,name,age):\n",
    "        self.name=name\n",
    "        self.age=age\n",
    "        self.condition=[]\n",
    "    def detail(self):\n",
    "        print(f'Person name: {self.name} and Person age: {self.age}' \\\n",
    "             f' Current info: {self.condition}')\n",
    "    def add_info(self,info):\n",
    "        self.condition.append(info)\n",
    "p1=Patiend(\"Sabuhi\",26)\n",
    "p2=Patiend(\"Emil\",25)\n",
    "p1.add_info(\"info has been added\")\n",
    "p1.detail()"
   ]
  },
  {
   "cell_type": "code",
   "execution_count": 112,
   "metadata": {},
   "outputs": [
    {
     "name": "stdout",
     "output_type": "stream",
     "text": [
      "Sabuhi is 1200 and 26 is\n",
      "My name is Pervin Yunusov,my age is 24 and my favoruite color red\n"
     ]
    }
   ],
   "source": [
    "class Person():\n",
    "    status=\"Worker\"\n",
    "    def __init__(self,name,age):\n",
    "        self.name=name\n",
    "        self.age=age\n",
    "    def salary(self,a):\n",
    "        print(f\"{self.name} is {a} and {self.age} is\")\n",
    "p1=Person('Sabuhi',26)\n",
    "p2=Person('Emil',25)\n",
    "p1.salary(1200)\n",
    "class Employee(Person):\n",
    "    def __init__(self,name,age,color,surname):\n",
    "#By using the super() function, you do not have to use the name of the parent element,\n",
    "#it will automatically inherit the methods and properties from its parent.\n",
    "        super().__init__(name,age)\n",
    "        self.color=color\n",
    "        self.surname=surname\n",
    "    def welcome(self):\n",
    "        print(f\"My name is {self.name} {self.surname},my age is {self.age} and my favoruite color {self.color}\")\n",
    "p3=Employee(\"Pervin\",24,\"red\",\"Yunusov\")\n",
    "p3.welcome()"
   ]
  },
  {
   "cell_type": "code",
   "execution_count": 120,
   "metadata": {},
   "outputs": [
    {
     "name": "stdout",
     "output_type": "stream",
     "text": [
      "Bear have 4 legs,['new type info']\n"
     ]
    }
   ],
   "source": [
    "class Animals():\n",
    "    status=\"General_info\"\n",
    "    def __init__(self,name,gender,color):\n",
    "        self.name=name\n",
    "        self.gender=gender\n",
    "        self.color=gender\n",
    "        self.info=[]\n",
    "    def types(self,legs):\n",
    "        print(f\"{self.name} have {legs} legs,{self.info}\")\n",
    "    def add_info(self,new_info):\n",
    "        self.info.append(new_info)\n",
    "a1=Animals(\"Bear\",\"Male\",\"brown\")\n",
    "a1.add_info(\"new type info\")\n",
    "a1.types(4)"
   ]
  },
  {
   "cell_type": "code",
   "execution_count": 148,
   "metadata": {},
   "outputs": [
    {
     "name": "stdout",
     "output_type": "stream",
     "text": [
      "How much would you like to deposit?:2\n",
      "Your current balance is: 2.0 M\n",
      "How much would you like to withdraw?:1\n",
      "Withdrawal successful: balance is now 1.0 M\n"
     ]
    }
   ],
   "source": [
    "#Practical exercise related BANK\n",
    "class Bank_account():\n",
    "    def __init__(self,balance=0.0):\n",
    "        self.balance=balance\n",
    "    def display_money(self):\n",
    "        print(f\"Your balance is: {self.balance} M\")\n",
    "    def withdraw(self):\n",
    "        amount=float(input(\"How much would you like to withdraw?:\"))\n",
    "        if amount> self.balance:\n",
    "            print(f\"Sorry you don't have sufficient funds, your balance is {self.balance}\")\n",
    "        elif amount<=self.balance:\n",
    "            self.balance-=amount\n",
    "            print(f\"Withdrawal successful: balance is now {self.balance} M\")\n",
    "    def add_money(self):\n",
    "        amount=float(input(\"How much would you like to deposit?:\"))\n",
    "        self.balance +=amount\n",
    "        print(f\"Your current balance is: {self.balance} M\")\n",
    "p1=Bank_account()\n",
    "p1.add_money()\n",
    "p1.withdraw()"
   ]
  },
  {
   "cell_type": "code",
   "execution_count": 156,
   "metadata": {},
   "outputs": [
    {
     "data": {
      "text/plain": [
       "78.53981633974483"
      ]
     },
     "execution_count": 156,
     "metadata": {},
     "output_type": "execute_result"
    }
   ],
   "source": [
    "#calculate circle area\n",
    "import math\n",
    "class Circle():\n",
    "    def __init__(self,radius):\n",
    "        self.radius=radius\n",
    "    def cal_area(self):\n",
    "        area=math.pi*(self.radius)**2\n",
    "        return area\n",
    "c1=Circle(5)\n",
    "c1.cal_area()"
   ]
  }
 ],
 "metadata": {
  "kernelspec": {
   "display_name": "Python 3",
   "language": "python",
   "name": "python3"
  },
  "language_info": {
   "codemirror_mode": {
    "name": "ipython",
    "version": 3
   },
   "file_extension": ".py",
   "mimetype": "text/x-python",
   "name": "python",
   "nbconvert_exporter": "python",
   "pygments_lexer": "ipython3",
   "version": "3.7.4"
  }
 },
 "nbformat": 4,
 "nbformat_minor": 2
}
