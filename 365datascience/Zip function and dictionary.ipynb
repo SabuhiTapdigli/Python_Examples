{
 "cells": [
  {
   "cell_type": "code",
   "execution_count": null,
   "metadata": {},
   "outputs": [],
   "source": [
    "dic={1:\"a\",5:\"3\",0:\"1\",1:\"b\"}\n",
    "# for key,item in dic.items():\n",
    "# #     if i>2:\n",
    "#         print(key,item)\n",
    "#     print(i[0])  --- get keys  items()\n",
    "#     print(i[1])-- get values in items()\n",
    "# for i in dic.keys()\n",
    "\n",
    "# if \"a\" in dic.values():\n",
    "#     print(\"yes\")\n",
    "\n",
    "x=dic.get(1,0)+1\n",
    "x"
   ]
  },
  {
   "cell_type": "code",
   "execution_count": null,
   "metadata": {},
   "outputs": [],
   "source": [
    "#count char\n",
    "cent=\"Hello My Name is Tapdigli Sabuhi and I am from Baku! and I 25 years old\"\n",
    "dic={}\n",
    "for i in cent:\n",
    "    dic[i.lower()] = dic.get(i,0)+1\n",
    "print(dic)\n",
    "\n",
    "import matplotlib.pyplot as plt\n",
    "%matplotlib inline\n",
    "x,y=zip(*dic.items())\n",
    "plt.bar(x,y)\n",
    "\n",
    "clean={}\n",
    "for k , v in dic.items():\n",
    "    if k.isalpha():\n",
    "#isalpha() find if k is letter or not        \n",
    "        clean[k]=v\n",
    "x,y=zip(*clean.items())\n",
    "plt.bar(x,y)"
   ]
  },
  {
   "cell_type": "code",
   "execution_count": 5,
   "metadata": {},
   "outputs": [
    {
     "name": "stdout",
     "output_type": "stream",
     "text": [
      "(1, 2, 3, 4) ('a', 'b', 'c', 'd')\n"
     ]
    }
   ],
   "source": [
    "#zip function\n",
    "lis1=[1,2,3,4]\n",
    "lis2=[\"a\",\"b\",\"c\",\"d\"]\n",
    "joined=list(zip(lis1,lis2))\n",
    "#will make separete data\n",
    "x,y=zip(*joined)\n",
    "print(x,y)"
   ]
  },
  {
   "cell_type": "code",
   "execution_count": 12,
   "metadata": {},
   "outputs": [
    {
     "data": {
      "text/plain": [
       "{'h': 2,\n",
       " 'e': 3,\n",
       " 'l': 4,\n",
       " 'o': 3,\n",
       " 'm': 4,\n",
       " 'y': 2,\n",
       " 'n': 3,\n",
       " 'a': 8,\n",
       " 'i': 6,\n",
       " 's': 3,\n",
       " 't': 1,\n",
       " 'p': 1,\n",
       " 'd': 4,\n",
       " 'g': 1,\n",
       " 'b': 2,\n",
       " 'u': 2,\n",
       " 'f': 1,\n",
       " 'r': 2,\n",
       " 'k': 1}"
      ]
     },
     "execution_count": 12,
     "metadata": {},
     "output_type": "execute_result"
    }
   ],
   "source": [
    "#dic comphrension\n",
    "cent=\"Hello My Name is Tapdigli Sabuhi and I am from Baku! and I 25 years old\"\n",
    "from collections import Counter\n",
    "new_dic=dict(Counter(cent.lower()))\n",
    "#keep only aplha\n",
    "new_dic={k:v for k,v in new_dic.items() if k.isalpha()}\n",
    "new_dic"
   ]
  },
  {
   "cell_type": "code",
   "execution_count": 17,
   "metadata": {},
   "outputs": [
    {
     "data": {
      "text/plain": [
       "{1: 0, 2: 1, 3: 1, 4: 2, 5: 3, 6: 5, 7: 8}"
      ]
     },
     "execution_count": 17,
     "metadata": {},
     "output_type": "execute_result"
    }
   ],
   "source": [
    "#fibonacci\n",
    "a=0\n",
    "b=1\n",
    "dic={}\n",
    "for i in range(1,8):\n",
    "    dic[i]=a\n",
    "    a,b=b,a+b\n",
    "dic"
   ]
  },
  {
   "cell_type": "code",
   "execution_count": 36,
   "metadata": {},
   "outputs": [
    {
     "data": {
      "text/plain": [
       "9807"
      ]
     },
     "execution_count": 36,
     "metadata": {},
     "output_type": "execute_result"
    }
   ],
   "source": [
    "import datetime\n",
    "today=datetime.date.today()\n",
    "today\n",
    "my=datetime.date(1993,5,20)\n",
    "current=today-my\n",
    "current.days\n"
   ]
  },
  {
   "cell_type": "code",
   "execution_count": 46,
   "metadata": {},
   "outputs": [
    {
     "data": {
      "text/plain": [
       "<BarContainer object of 26 artists>"
      ]
     },
     "execution_count": 46,
     "metadata": {},
     "output_type": "execute_result"
    },
    {
     "data": {
      "image/png": "[encoded data removed]",
      "text/plain": [
       "<Figure size 432x288 with 1 Axes>"
      ]
     },
     "metadata": {
      "needs_background": "light"
     },
     "output_type": "display_data"
    }
   ],
   "source": [
    "import random\n",
    "import matplotlib.pyplot as plt\n",
    "%matplotlib inline\n",
    "keys='ABCDEFGHIJKLMNOPQRSTUVWXYZ'\n",
    "dic={}\n",
    "for i in range(len(keys)):\n",
    "    a=random.randint(0,100)\n",
    "    dic[keys[i]]=a\n",
    "dic\n",
    "x,y=zip(*dic.items())\n",
    "plt.bar(x,y)\n"
   ]
  }
 ],
 "metadata": {
  "kernelspec": {
   "display_name": "Python 3",
   "language": "python",
   "name": "python3"
  },
  "language_info": {
   "codemirror_mode": {
    "name": "ipython",
    "version": 3
   },
   "file_extension": ".py",
   "mimetype": "text/x-python",
   "name": "python",
   "nbconvert_exporter": "python",
   "pygments_lexer": "ipython3",
   "version": "3.7.4"
  }
 },
 "nbformat": 4,
 "nbformat_minor": 2
}
