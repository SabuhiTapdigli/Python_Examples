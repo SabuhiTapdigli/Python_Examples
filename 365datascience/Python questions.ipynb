{
 "cells": [
  {
   "cell_type": "code",
   "execution_count": 3,
   "metadata": {},
   "outputs": [
    {
     "name": "stdout",
     "output_type": "stream",
     "text": [
      "3.7.4 (default, Aug  9 2019, 18:34:13) [MSC v.1915 64 bit (AMD64)]\n"
     ]
    }
   ],
   "source": [
    "\"\"\"Question 1\n",
    "Can you write a short program that will print out the version of Python\n",
    "that you are using?\"\"\"\n",
    "import sys\n",
    "sys.version\n",
    "print(sys.version)"
   ]
  },
  {
   "cell_type": "code",
   "execution_count": 5,
   "metadata": {},
   "outputs": [
    {
     "name": "stdout",
     "output_type": "stream",
     "text": [
      "James,Alison,Fred,Sally,Matthew\n"
     ]
    },
    {
     "data": {
      "text/plain": [
       "['James', 'Alison', 'Fred', 'Sally', 'Matthew']"
      ]
     },
     "execution_count": 5,
     "metadata": {},
     "output_type": "execute_result"
    }
   ],
   "source": [
    "\"\"\"Question 2\n",
    "Write a program that requests five names separated by commas and create a\n",
    "list containing those names. Print your answer.\n",
    "For example James,Alison,Fred,Sally,Matthew\n",
    "should return ['James','Alison','Fred','Sally','Matthew']\"\"\"\n",
    "name=list(input().split(\",\"))\n",
    "name"
   ]
  },
  {
   "cell_type": "code",
   "execution_count": 13,
   "metadata": {},
   "outputs": [
    {
     "name": "stdout",
     "output_type": "stream",
     "text": [
      "22\n",
      "333\n",
      "4444\n",
      "1\n"
     ]
    }
   ],
   "source": [
    "\"\"\"Question 4\n",
    "Write a program that takes a list of non-negative integers and prints each integer\n",
    "to the screen the same number of times as the value of the integer, each new value\n",
    "on a new line. For example\n",
    "[2,3,4,1] would print:\n",
    "22\n",
    "333\n",
    "4444\n",
    "1\"\"\"\n",
    "arr=[2,3,4,1]\n",
    "for i in arr:\n",
    "    print(int(str(i)*i))"
   ]
  },
  {
   "cell_type": "code",
   "execution_count": null,
   "metadata": {},
   "outputs": [],
   "source": [
    "\"\"\"Question 5\n",
    "Write some code that will return the number of CPUs in the system.\"\"\"\n"
   ]
  },
  {
   "cell_type": "code",
   "execution_count": 21,
   "metadata": {},
   "outputs": [
    {
     "name": "stdout",
     "output_type": "stream",
     "text": [
      "88\n"
     ]
    },
    {
     "data": {
      "text/plain": [
       "16"
      ]
     },
     "execution_count": 21,
     "metadata": {},
     "output_type": "execute_result"
    }
   ],
   "source": [
    "\"\"\"Question 6\n",
    "Write a program that will return the sum of the digits of an integer.\"\"\"\n",
    "num=input()\n",
    "count=0\n",
    "for i in range(len(num)):\n",
    "    count+=int(num[i])\n",
    "count"
   ]
  },
  {
   "cell_type": "code",
   "execution_count": 30,
   "metadata": {},
   "outputs": [
    {
     "name": "stdout",
     "output_type": "stream",
     "text": [
      "potential\n"
     ]
    },
    {
     "data": {
      "text/plain": [
       "'otentialpay'"
      ]
     },
     "execution_count": 30,
     "metadata": {},
     "output_type": "execute_result"
    }
   ],
   "source": [
    "\"\"\"Question 7\n",
    "Write a program that converts text into pig latin. Pig latin works as follows:\n",
    "All letters before initial vowel are placed at the end of the word and then 'ay'\n",
    "is added (explanation adapted from Wikipedia), so pig becomes igpay, cat becomes\n",
    "atcay, potential becomes otentialpay etc.\"\"\"\n",
    "word=list(input())\n",
    "word+=[word[0],\"ay\"]\n",
    "word.pop(0)\n",
    "word=\"\".join(word)\n",
    "word"
   ]
  },
  {
   "cell_type": "code",
   "execution_count": 36,
   "metadata": {},
   "outputs": [
    {
     "name": "stdout",
     "output_type": "stream",
     "text": [
      "all\n"
     ]
    }
   ],
   "source": [
    "\"\"\"Question 8\n",
    "Write a function that will check for the occurrence of double letters in\n",
    "a string. If the string contains double letters next to each other it\n",
    "will return True, otherwise it will return False.\"\"\"\n",
    "word=list(input())\n",
    "for i in range(len(word)-1):\n",
    "    if word[i]==word[i+1]:\n",
    "        print(True)\n",
    "        break\n"
   ]
  }
 ],
 "metadata": {
  "kernelspec": {
   "display_name": "Python 3",
   "language": "python",
   "name": "python3"
  },
  "language_info": {
   "codemirror_mode": {
    "name": "ipython",
    "version": 3
   },
   "file_extension": ".py",
   "mimetype": "text/x-python",
   "name": "python",
   "nbconvert_exporter": "python",
   "pygments_lexer": "ipython3",
   "version": "3.7.4"
  }
 },
 "nbformat": 4,
 "nbformat_minor": 2
}
