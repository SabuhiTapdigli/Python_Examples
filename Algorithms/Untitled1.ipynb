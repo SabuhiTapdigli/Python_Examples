{
 "cells": [
  {
   "cell_type": "code",
   "execution_count": 2,
   "metadata": {},
   "outputs": [
    {
     "data": {
      "text/html": [
       "<div>\n",
       "<style scoped>\n",
       "    .dataframe tbody tr th:only-of-type {\n",
       "        vertical-align: middle;\n",
       "    }\n",
       "\n",
       "    .dataframe tbody tr th {\n",
       "        vertical-align: top;\n",
       "    }\n",
       "\n",
       "    .dataframe thead th {\n",
       "        text-align: right;\n",
       "    }\n",
       "</style>\n",
       "<table border=\"1\" class=\"dataframe\">\n",
       "  <thead>\n",
       "    <tr style=\"text-align: right;\">\n",
       "      <th></th>\n",
       "      <th>Id</th>\n",
       "      <th>Salary</th>\n",
       "    </tr>\n",
       "  </thead>\n",
       "  <tbody>\n",
       "    <tr>\n",
       "      <td>0</td>\n",
       "      <td>1</td>\n",
       "      <td>1100</td>\n",
       "    </tr>\n",
       "    <tr>\n",
       "      <td>1</td>\n",
       "      <td>2</td>\n",
       "      <td>1650</td>\n",
       "    </tr>\n",
       "    <tr>\n",
       "      <td>2</td>\n",
       "      <td>3</td>\n",
       "      <td>2000</td>\n",
       "    </tr>\n",
       "    <tr>\n",
       "      <td>3</td>\n",
       "      <td>4</td>\n",
       "      <td>1500</td>\n",
       "    </tr>\n",
       "  </tbody>\n",
       "</table>\n",
       "</div>"
      ],
      "text/plain": [
       "   Id  Salary\n",
       "0   1    1100\n",
       "1   2    1650\n",
       "2   3    2000\n",
       "3   4    1500"
      ]
     },
     "execution_count": 2,
     "metadata": {},
     "output_type": "execute_result"
    }
   ],
   "source": [
    "import numpy as np\n",
    "import pandas as pd\n",
    "dic={\"Id\":[1,2,3,4,1,2],\n",
    "    \"Age\":[18,25,36,45,18,25],\n",
    "    \"Salary\":[1000,1500,2000,1500,1200,1800],\n",
    "    \"Date\":[\"01.01.2019\",\"01.01.2019\",\"01.01.2019\",\"01.01.2019\",\"01.02.2019\",\"01.02.2019\"]}\n",
    "df=pd.DataFrame(dic)\n",
    "df=df.groupby('Id')[\"Salary\"].mean().reset_index()\n",
    "df\n",
    "\n"
   ]
  },
  {
   "cell_type": "code",
   "execution_count": null,
   "metadata": {},
   "outputs": [],
   "source": [
    "# dic={\"Id\":[1,2,3,4,1,2],\n",
    "#     \"Age\":[18,25,36,45,18,25],\n",
    "#     \"Salary\":[1000,1500,2000,1500,1200,1800],\n",
    "#     \"Date\":[\"01.01.2019\",\"01.01.2019\",\"01.01.2019\",\"01.01.2019\",\"01.02.2019\",\"01.02.2019\"]}\n",
    "# df=pd.DataFrame(dic)\n",
    "\n",
    "# # df.axes\n",
    "# # df.dtypes\n",
    "# # df.ndim\n",
    "# # df.shape\n",
    "# # df.size\n",
    "# # a=pd.DataFrame(np.random.rand(5,3),columns=[\"Col1\",\"Col2\",\"Col3\"])\n",
    "# # d=pd.DataFrame(np.random.rand(5,3),columns=[\"A\",\"B\",\"C\"])\n",
    "\n",
    "\n",
    "# a=df[[\"Id\",\"Salary\"]]\n",
    "# x1,x2=np.split(a,[4])"
   ]
  }
 ],
 "metadata": {
  "kernelspec": {
   "display_name": "Python 3",
   "language": "python",
   "name": "python3"
  },
  "language_info": {
   "codemirror_mode": {
    "name": "ipython",
    "version": 3
   },
   "file_extension": ".py",
   "mimetype": "text/x-python",
   "name": "python",
   "nbconvert_exporter": "python",
   "pygments_lexer": "ipython3",
   "version": "3.7.4"
  }
 },
 "nbformat": 4,
 "nbformat_minor": 2
}
