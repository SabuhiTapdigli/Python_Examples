{
 "cells": [
  {
   "cell_type": "code",
   "execution_count": 177,
   "metadata": {},
   "outputs": [
    {
     "data": {
      "text/html": [
       "        <script type=\"text/javascript\">\n",
       "        window.PlotlyConfig = {MathJaxConfig: 'local'};\n",
       "        if (window.MathJax) {MathJax.Hub.Config({SVG: {font: \"STIX-Web\"}});}\n",
       "        if (typeof require !== 'undefined') {\n",
       "        require.undef(\"plotly\");\n",
       "        requirejs.config({\n",
       "            paths: {\n",
       "                'plotly': ['https://cdn.plot.ly/plotly-latest.min']\n",
       "            }\n",
       "        });\n",
       "        require(['plotly'], function(Plotly) {\n",
       "            window._Plotly = Plotly;\n",
       "        });\n",
       "        }\n",
       "        </script>\n",
       "        "
      ]
     },
     "metadata": {},
     "output_type": "display_data"
    }
   ],
   "source": [
    "import numpy as np # linear algebra\n",
    "import pandas as pd # data processing\n",
    "#Vizualization libraries\n",
    "import matplotlib.pyplot as plt\n",
    "import seaborn as sns\n",
    "import plotly.graph_objects as go\n",
    "import io\n",
    "import plotly.offline as py#visualization\n",
    "py.init_notebook_mode(connected=True)#visualization\n",
    "import plotly.subplots as tls#visualization\n",
    "import plotly.figure_factory as ff#visualization\n",
    "import plotly_express as px\n",
    "from sklearn.model_selection import train_test_split\n",
    "from sklearn.preprocessing import StandardScaler\n",
    "from sklearn.metrics import classification_report,accuracy_score,f1_score,confusion_matrix\n",
    "from sklearn.metrics import roc_auc_score,roc_curve,scorer\n",
    "from sklearn.linear_model import LogisticRegression\n",
    "from sklearn.datasets import make_classification\n",
    "from sklearn.ensemble import ExtraTreesClassifier"
   ]
  },
  {
   "cell_type": "markdown",
   "metadata": {},
   "source": [
    "# <a id=\"1\">1.Data</a>"
   ]
  },
  {
   "cell_type": "code",
   "execution_count": 3,
   "metadata": {},
   "outputs": [
    {
     "data": {
      "text/html": [
       "<div>\n",
       "<style scoped>\n",
       "    .dataframe tbody tr th:only-of-type {\n",
       "        vertical-align: middle;\n",
       "    }\n",
       "\n",
       "    .dataframe tbody tr th {\n",
       "        vertical-align: top;\n",
       "    }\n",
       "\n",
       "    .dataframe thead th {\n",
       "        text-align: right;\n",
       "    }\n",
       "</style>\n",
       "<table border=\"1\" class=\"dataframe\">\n",
       "  <thead>\n",
       "    <tr style=\"text-align: right;\">\n",
       "      <th></th>\n",
       "      <th>Time</th>\n",
       "      <th>V1</th>\n",
       "      <th>V2</th>\n",
       "      <th>V3</th>\n",
       "      <th>V4</th>\n",
       "      <th>V5</th>\n",
       "      <th>V6</th>\n",
       "      <th>V7</th>\n",
       "      <th>V8</th>\n",
       "      <th>V9</th>\n",
       "      <th>...</th>\n",
       "      <th>V21</th>\n",
       "      <th>V22</th>\n",
       "      <th>V23</th>\n",
       "      <th>V24</th>\n",
       "      <th>V25</th>\n",
       "      <th>V26</th>\n",
       "      <th>V27</th>\n",
       "      <th>V28</th>\n",
       "      <th>Amount</th>\n",
       "      <th>Class</th>\n",
       "    </tr>\n",
       "  </thead>\n",
       "  <tbody>\n",
       "    <tr>\n",
       "      <td>0</td>\n",
       "      <td>0.0</td>\n",
       "      <td>-1.359807</td>\n",
       "      <td>-0.072781</td>\n",
       "      <td>2.536347</td>\n",
       "      <td>1.378155</td>\n",
       "      <td>-0.338321</td>\n",
       "      <td>0.462388</td>\n",
       "      <td>0.239599</td>\n",
       "      <td>0.098698</td>\n",
       "      <td>0.363787</td>\n",
       "      <td>...</td>\n",
       "      <td>-0.018307</td>\n",
       "      <td>0.277838</td>\n",
       "      <td>-0.110474</td>\n",
       "      <td>0.066928</td>\n",
       "      <td>0.128539</td>\n",
       "      <td>-0.189115</td>\n",
       "      <td>0.133558</td>\n",
       "      <td>-0.021053</td>\n",
       "      <td>149.62</td>\n",
       "      <td>0</td>\n",
       "    </tr>\n",
       "    <tr>\n",
       "      <td>1</td>\n",
       "      <td>0.0</td>\n",
       "      <td>1.191857</td>\n",
       "      <td>0.266151</td>\n",
       "      <td>0.166480</td>\n",
       "      <td>0.448154</td>\n",
       "      <td>0.060018</td>\n",
       "      <td>-0.082361</td>\n",
       "      <td>-0.078803</td>\n",
       "      <td>0.085102</td>\n",
       "      <td>-0.255425</td>\n",
       "      <td>...</td>\n",
       "      <td>-0.225775</td>\n",
       "      <td>-0.638672</td>\n",
       "      <td>0.101288</td>\n",
       "      <td>-0.339846</td>\n",
       "      <td>0.167170</td>\n",
       "      <td>0.125895</td>\n",
       "      <td>-0.008983</td>\n",
       "      <td>0.014724</td>\n",
       "      <td>2.69</td>\n",
       "      <td>0</td>\n",
       "    </tr>\n",
       "    <tr>\n",
       "      <td>2</td>\n",
       "      <td>1.0</td>\n",
       "      <td>-1.358354</td>\n",
       "      <td>-1.340163</td>\n",
       "      <td>1.773209</td>\n",
       "      <td>0.379780</td>\n",
       "      <td>-0.503198</td>\n",
       "      <td>1.800499</td>\n",
       "      <td>0.791461</td>\n",
       "      <td>0.247676</td>\n",
       "      <td>-1.514654</td>\n",
       "      <td>...</td>\n",
       "      <td>0.247998</td>\n",
       "      <td>0.771679</td>\n",
       "      <td>0.909412</td>\n",
       "      <td>-0.689281</td>\n",
       "      <td>-0.327642</td>\n",
       "      <td>-0.139097</td>\n",
       "      <td>-0.055353</td>\n",
       "      <td>-0.059752</td>\n",
       "      <td>378.66</td>\n",
       "      <td>0</td>\n",
       "    </tr>\n",
       "    <tr>\n",
       "      <td>3</td>\n",
       "      <td>1.0</td>\n",
       "      <td>-0.966272</td>\n",
       "      <td>-0.185226</td>\n",
       "      <td>1.792993</td>\n",
       "      <td>-0.863291</td>\n",
       "      <td>-0.010309</td>\n",
       "      <td>1.247203</td>\n",
       "      <td>0.237609</td>\n",
       "      <td>0.377436</td>\n",
       "      <td>-1.387024</td>\n",
       "      <td>...</td>\n",
       "      <td>-0.108300</td>\n",
       "      <td>0.005274</td>\n",
       "      <td>-0.190321</td>\n",
       "      <td>-1.175575</td>\n",
       "      <td>0.647376</td>\n",
       "      <td>-0.221929</td>\n",
       "      <td>0.062723</td>\n",
       "      <td>0.061458</td>\n",
       "      <td>123.50</td>\n",
       "      <td>0</td>\n",
       "    </tr>\n",
       "    <tr>\n",
       "      <td>4</td>\n",
       "      <td>2.0</td>\n",
       "      <td>-1.158233</td>\n",
       "      <td>0.877737</td>\n",
       "      <td>1.548718</td>\n",
       "      <td>0.403034</td>\n",
       "      <td>-0.407193</td>\n",
       "      <td>0.095921</td>\n",
       "      <td>0.592941</td>\n",
       "      <td>-0.270533</td>\n",
       "      <td>0.817739</td>\n",
       "      <td>...</td>\n",
       "      <td>-0.009431</td>\n",
       "      <td>0.798278</td>\n",
       "      <td>-0.137458</td>\n",
       "      <td>0.141267</td>\n",
       "      <td>-0.206010</td>\n",
       "      <td>0.502292</td>\n",
       "      <td>0.219422</td>\n",
       "      <td>0.215153</td>\n",
       "      <td>69.99</td>\n",
       "      <td>0</td>\n",
       "    </tr>\n",
       "  </tbody>\n",
       "</table>\n",
       "<p>5 rows × 31 columns</p>\n",
       "</div>"
      ],
      "text/plain": [
       "   Time        V1        V2        V3        V4        V5        V6        V7  \\\n",
       "0   0.0 -1.359807 -0.072781  2.536347  1.378155 -0.338321  0.462388  0.239599   \n",
       "1   0.0  1.191857  0.266151  0.166480  0.448154  0.060018 -0.082361 -0.078803   \n",
       "2   1.0 -1.358354 -1.340163  1.773209  0.379780 -0.503198  1.800499  0.791461   \n",
       "3   1.0 -0.966272 -0.185226  1.792993 -0.863291 -0.010309  1.247203  0.237609   \n",
       "4   2.0 -1.158233  0.877737  1.548718  0.403034 -0.407193  0.095921  0.592941   \n",
       "\n",
       "         V8        V9  ...       V21       V22       V23       V24       V25  \\\n",
       "0  0.098698  0.363787  ... -0.018307  0.277838 -0.110474  0.066928  0.128539   \n",
       "1  0.085102 -0.255425  ... -0.225775 -0.638672  0.101288 -0.339846  0.167170   \n",
       "2  0.247676 -1.514654  ...  0.247998  0.771679  0.909412 -0.689281 -0.327642   \n",
       "3  0.377436 -1.387024  ... -0.108300  0.005274 -0.190321 -1.175575  0.647376   \n",
       "4 -0.270533  0.817739  ... -0.009431  0.798278 -0.137458  0.141267 -0.206010   \n",
       "\n",
       "        V26       V27       V28  Amount  Class  \n",
       "0 -0.189115  0.133558 -0.021053  149.62      0  \n",
       "1  0.125895 -0.008983  0.014724    2.69      0  \n",
       "2 -0.139097 -0.055353 -0.059752  378.66      0  \n",
       "3 -0.221929  0.062723  0.061458  123.50      0  \n",
       "4  0.502292  0.219422  0.215153   69.99      0  \n",
       "\n",
       "[5 rows x 31 columns]"
      ]
     },
     "execution_count": 3,
     "metadata": {},
     "output_type": "execute_result"
    }
   ],
   "source": [
    "df=pd.read_csv(\"creditcard.csv\")\n",
    "df.head()"
   ]
  },
  {
   "cell_type": "markdown",
   "metadata": {},
   "source": [
    "# <a id=\"2\">1.1. Data overview</a>"
   ]
  },
  {
   "cell_type": "code",
   "execution_count": 37,
   "metadata": {},
   "outputs": [
    {
     "name": "stdout",
     "output_type": "stream",
     "text": [
      "Rows     :  284807\n",
      "Columns  :  31\n",
      "\n",
      "Features : \n",
      " ['Time', 'V1', 'V2', 'V3', 'V4', 'V5', 'V6', 'V7', 'V8', 'V9', 'V10', 'V11', 'V12', 'V13', 'V14', 'V15', 'V16', 'V17', 'V18', 'V19', 'V20', 'V21', 'V22', 'V23', 'V24', 'V25', 'V26', 'V27', 'V28', 'Amount', 'Class']\n",
      "\n",
      "Missing values :   0\n",
      "\n",
      "Unique values :  \n",
      " Time      124592\n",
      "V1        275663\n",
      "V2        275663\n",
      "V3        275663\n",
      "V4        275663\n",
      "V5        275663\n",
      "V6        275663\n",
      "V7        275663\n",
      "V8        275663\n",
      "V9        275663\n",
      "V10       275663\n",
      "V11       275663\n",
      "V12       275663\n",
      "V13       275663\n",
      "V14       275663\n",
      "V15       275663\n",
      "V16       275663\n",
      "V17       275663\n",
      "V18       275663\n",
      "V19       275663\n",
      "V20       275663\n",
      "V21       275663\n",
      "V22       275663\n",
      "V23       275663\n",
      "V24       275663\n",
      "V25       275663\n",
      "V26       275663\n",
      "V27       275663\n",
      "V28       275663\n",
      "Amount     32767\n",
      "Class          2\n",
      "dtype: int64\n",
      "<class 'pandas.core.frame.DataFrame'>\n",
      "RangeIndex: 284807 entries, 0 to 284806\n",
      "Data columns (total 31 columns):\n",
      "Time      284807 non-null float64\n",
      "V1        284807 non-null float64\n",
      "V2        284807 non-null float64\n",
      "V3        284807 non-null float64\n",
      "V4        284807 non-null float64\n",
      "V5        284807 non-null float64\n",
      "V6        284807 non-null float64\n",
      "V7        284807 non-null float64\n",
      "V8        284807 non-null float64\n",
      "V9        284807 non-null float64\n",
      "V10       284807 non-null float64\n",
      "V11       284807 non-null float64\n",
      "V12       284807 non-null float64\n",
      "V13       284807 non-null float64\n",
      "V14       284807 non-null float64\n",
      "V15       284807 non-null float64\n",
      "V16       284807 non-null float64\n",
      "V17       284807 non-null float64\n",
      "V18       284807 non-null float64\n",
      "V19       284807 non-null float64\n",
      "V20       284807 non-null float64\n",
      "V21       284807 non-null float64\n",
      "V22       284807 non-null float64\n",
      "V23       284807 non-null float64\n",
      "V24       284807 non-null float64\n",
      "V25       284807 non-null float64\n",
      "V26       284807 non-null float64\n",
      "V27       284807 non-null float64\n",
      "V28       284807 non-null float64\n",
      "Amount    284807 non-null float64\n",
      "Class     284807 non-null int64\n",
      "dtypes: float64(30), int64(1)\n",
      "memory usage: 67.4 MB\n"
     ]
    }
   ],
   "source": [
    "print (\"Rows     : \" ,df.shape[0])\n",
    "print (\"Columns  : \" ,df.shape[1])\n",
    "print (\"\\nFeatures : \\n\" ,df.columns.tolist())\n",
    "print (\"\\nMissing values :  \", df.isnull().sum().values.sum())\n",
    "print (\"\\nUnique values :  \\n\",df.nunique())\n",
    "df.info()"
   ]
  },
  {
   "cell_type": "code",
   "execution_count": 165,
   "metadata": {},
   "outputs": [
    {
     "data": {
      "text/plain": [
       "<matplotlib.axes._subplots.AxesSubplot at 0x27788099d88>"
      ]
     },
     "execution_count": 165,
     "metadata": {},
     "output_type": "execute_result"
    },
    {
     "data": {
      "image/png": "[encoded data removed]",
      "text/plain": [
       "<Figure size 864x432 with 2 Axes>"
      ]
     },
     "metadata": {
      "needs_background": "light"
     },
     "output_type": "display_data"
    }
   ],
   "source": [
    "plt.figure(figsize=(12,6))\n",
    "sns.heatmap(df.isnull())"
   ]
  },
  {
   "cell_type": "markdown",
   "metadata": {},
   "source": [
    "# <a id=\"2\"> 2. Exploratory Data Analysis </a>"
   ]
  },
  {
   "cell_type": "code",
   "execution_count": 38,
   "metadata": {},
   "outputs": [
    {
     "data": {
      "text/html": [
       "<div>\n",
       "<style scoped>\n",
       "    .dataframe tbody tr th:only-of-type {\n",
       "        vertical-align: middle;\n",
       "    }\n",
       "\n",
       "    .dataframe tbody tr th {\n",
       "        vertical-align: top;\n",
       "    }\n",
       "\n",
       "    .dataframe thead th {\n",
       "        text-align: right;\n",
       "    }\n",
       "</style>\n",
       "<table border=\"1\" class=\"dataframe\">\n",
       "  <thead>\n",
       "    <tr style=\"text-align: right;\">\n",
       "      <th></th>\n",
       "      <th>Time</th>\n",
       "      <th>V1</th>\n",
       "      <th>V2</th>\n",
       "      <th>V3</th>\n",
       "      <th>V4</th>\n",
       "      <th>V5</th>\n",
       "      <th>V6</th>\n",
       "      <th>V7</th>\n",
       "      <th>V8</th>\n",
       "      <th>V9</th>\n",
       "      <th>...</th>\n",
       "      <th>V21</th>\n",
       "      <th>V22</th>\n",
       "      <th>V23</th>\n",
       "      <th>V24</th>\n",
       "      <th>V25</th>\n",
       "      <th>V26</th>\n",
       "      <th>V27</th>\n",
       "      <th>V28</th>\n",
       "      <th>Amount</th>\n",
       "      <th>Class</th>\n",
       "    </tr>\n",
       "  </thead>\n",
       "  <tbody>\n",
       "    <tr>\n",
       "      <td>count</td>\n",
       "      <td>284807.000000</td>\n",
       "      <td>2.848070e+05</td>\n",
       "      <td>2.848070e+05</td>\n",
       "      <td>2.848070e+05</td>\n",
       "      <td>2.848070e+05</td>\n",
       "      <td>2.848070e+05</td>\n",
       "      <td>2.848070e+05</td>\n",
       "      <td>2.848070e+05</td>\n",
       "      <td>2.848070e+05</td>\n",
       "      <td>2.848070e+05</td>\n",
       "      <td>...</td>\n",
       "      <td>2.848070e+05</td>\n",
       "      <td>2.848070e+05</td>\n",
       "      <td>2.848070e+05</td>\n",
       "      <td>2.848070e+05</td>\n",
       "      <td>2.848070e+05</td>\n",
       "      <td>2.848070e+05</td>\n",
       "      <td>2.848070e+05</td>\n",
       "      <td>2.848070e+05</td>\n",
       "      <td>284807.000000</td>\n",
       "      <td>284807.000000</td>\n",
       "    </tr>\n",
       "    <tr>\n",
       "      <td>mean</td>\n",
       "      <td>94813.859575</td>\n",
       "      <td>3.919560e-15</td>\n",
       "      <td>5.688174e-16</td>\n",
       "      <td>-8.769071e-15</td>\n",
       "      <td>2.782312e-15</td>\n",
       "      <td>-1.552563e-15</td>\n",
       "      <td>2.010663e-15</td>\n",
       "      <td>-1.694249e-15</td>\n",
       "      <td>-1.927028e-16</td>\n",
       "      <td>-3.137024e-15</td>\n",
       "      <td>...</td>\n",
       "      <td>1.537294e-16</td>\n",
       "      <td>7.959909e-16</td>\n",
       "      <td>5.367590e-16</td>\n",
       "      <td>4.458112e-15</td>\n",
       "      <td>1.453003e-15</td>\n",
       "      <td>1.699104e-15</td>\n",
       "      <td>-3.660161e-16</td>\n",
       "      <td>-1.206049e-16</td>\n",
       "      <td>88.349619</td>\n",
       "      <td>0.001727</td>\n",
       "    </tr>\n",
       "    <tr>\n",
       "      <td>std</td>\n",
       "      <td>47488.145955</td>\n",
       "      <td>1.958696e+00</td>\n",
       "      <td>1.651309e+00</td>\n",
       "      <td>1.516255e+00</td>\n",
       "      <td>1.415869e+00</td>\n",
       "      <td>1.380247e+00</td>\n",
       "      <td>1.332271e+00</td>\n",
       "      <td>1.237094e+00</td>\n",
       "      <td>1.194353e+00</td>\n",
       "      <td>1.098632e+00</td>\n",
       "      <td>...</td>\n",
       "      <td>7.345240e-01</td>\n",
       "      <td>7.257016e-01</td>\n",
       "      <td>6.244603e-01</td>\n",
       "      <td>6.056471e-01</td>\n",
       "      <td>5.212781e-01</td>\n",
       "      <td>4.822270e-01</td>\n",
       "      <td>4.036325e-01</td>\n",
       "      <td>3.300833e-01</td>\n",
       "      <td>250.120109</td>\n",
       "      <td>0.041527</td>\n",
       "    </tr>\n",
       "    <tr>\n",
       "      <td>min</td>\n",
       "      <td>0.000000</td>\n",
       "      <td>-5.640751e+01</td>\n",
       "      <td>-7.271573e+01</td>\n",
       "      <td>-4.832559e+01</td>\n",
       "      <td>-5.683171e+00</td>\n",
       "      <td>-1.137433e+02</td>\n",
       "      <td>-2.616051e+01</td>\n",
       "      <td>-4.355724e+01</td>\n",
       "      <td>-7.321672e+01</td>\n",
       "      <td>-1.343407e+01</td>\n",
       "      <td>...</td>\n",
       "      <td>-3.483038e+01</td>\n",
       "      <td>-1.093314e+01</td>\n",
       "      <td>-4.480774e+01</td>\n",
       "      <td>-2.836627e+00</td>\n",
       "      <td>-1.029540e+01</td>\n",
       "      <td>-2.604551e+00</td>\n",
       "      <td>-2.256568e+01</td>\n",
       "      <td>-1.543008e+01</td>\n",
       "      <td>0.000000</td>\n",
       "      <td>0.000000</td>\n",
       "    </tr>\n",
       "    <tr>\n",
       "      <td>25%</td>\n",
       "      <td>54201.500000</td>\n",
       "      <td>-9.203734e-01</td>\n",
       "      <td>-5.985499e-01</td>\n",
       "      <td>-8.903648e-01</td>\n",
       "      <td>-8.486401e-01</td>\n",
       "      <td>-6.915971e-01</td>\n",
       "      <td>-7.682956e-01</td>\n",
       "      <td>-5.540759e-01</td>\n",
       "      <td>-2.086297e-01</td>\n",
       "      <td>-6.430976e-01</td>\n",
       "      <td>...</td>\n",
       "      <td>-2.283949e-01</td>\n",
       "      <td>-5.423504e-01</td>\n",
       "      <td>-1.618463e-01</td>\n",
       "      <td>-3.545861e-01</td>\n",
       "      <td>-3.171451e-01</td>\n",
       "      <td>-3.269839e-01</td>\n",
       "      <td>-7.083953e-02</td>\n",
       "      <td>-5.295979e-02</td>\n",
       "      <td>5.600000</td>\n",
       "      <td>0.000000</td>\n",
       "    </tr>\n",
       "    <tr>\n",
       "      <td>50%</td>\n",
       "      <td>84692.000000</td>\n",
       "      <td>1.810880e-02</td>\n",
       "      <td>6.548556e-02</td>\n",
       "      <td>1.798463e-01</td>\n",
       "      <td>-1.984653e-02</td>\n",
       "      <td>-5.433583e-02</td>\n",
       "      <td>-2.741871e-01</td>\n",
       "      <td>4.010308e-02</td>\n",
       "      <td>2.235804e-02</td>\n",
       "      <td>-5.142873e-02</td>\n",
       "      <td>...</td>\n",
       "      <td>-2.945017e-02</td>\n",
       "      <td>6.781943e-03</td>\n",
       "      <td>-1.119293e-02</td>\n",
       "      <td>4.097606e-02</td>\n",
       "      <td>1.659350e-02</td>\n",
       "      <td>-5.213911e-02</td>\n",
       "      <td>1.342146e-03</td>\n",
       "      <td>1.124383e-02</td>\n",
       "      <td>22.000000</td>\n",
       "      <td>0.000000</td>\n",
       "    </tr>\n",
       "    <tr>\n",
       "      <td>75%</td>\n",
       "      <td>139320.500000</td>\n",
       "      <td>1.315642e+00</td>\n",
       "      <td>8.037239e-01</td>\n",
       "      <td>1.027196e+00</td>\n",
       "      <td>7.433413e-01</td>\n",
       "      <td>6.119264e-01</td>\n",
       "      <td>3.985649e-01</td>\n",
       "      <td>5.704361e-01</td>\n",
       "      <td>3.273459e-01</td>\n",
       "      <td>5.971390e-01</td>\n",
       "      <td>...</td>\n",
       "      <td>1.863772e-01</td>\n",
       "      <td>5.285536e-01</td>\n",
       "      <td>1.476421e-01</td>\n",
       "      <td>4.395266e-01</td>\n",
       "      <td>3.507156e-01</td>\n",
       "      <td>2.409522e-01</td>\n",
       "      <td>9.104512e-02</td>\n",
       "      <td>7.827995e-02</td>\n",
       "      <td>77.165000</td>\n",
       "      <td>0.000000</td>\n",
       "    </tr>\n",
       "    <tr>\n",
       "      <td>max</td>\n",
       "      <td>172792.000000</td>\n",
       "      <td>2.454930e+00</td>\n",
       "      <td>2.205773e+01</td>\n",
       "      <td>9.382558e+00</td>\n",
       "      <td>1.687534e+01</td>\n",
       "      <td>3.480167e+01</td>\n",
       "      <td>7.330163e+01</td>\n",
       "      <td>1.205895e+02</td>\n",
       "      <td>2.000721e+01</td>\n",
       "      <td>1.559499e+01</td>\n",
       "      <td>...</td>\n",
       "      <td>2.720284e+01</td>\n",
       "      <td>1.050309e+01</td>\n",
       "      <td>2.252841e+01</td>\n",
       "      <td>4.584549e+00</td>\n",
       "      <td>7.519589e+00</td>\n",
       "      <td>3.517346e+00</td>\n",
       "      <td>3.161220e+01</td>\n",
       "      <td>3.384781e+01</td>\n",
       "      <td>25691.160000</td>\n",
       "      <td>1.000000</td>\n",
       "    </tr>\n",
       "  </tbody>\n",
       "</table>\n",
       "<p>8 rows × 31 columns</p>\n",
       "</div>"
      ],
      "text/plain": [
       "                Time            V1            V2            V3            V4  \\\n",
       "count  284807.000000  2.848070e+05  2.848070e+05  2.848070e+05  2.848070e+05   \n",
       "mean    94813.859575  3.919560e-15  5.688174e-16 -8.769071e-15  2.782312e-15   \n",
       "std     47488.145955  1.958696e+00  1.651309e+00  1.516255e+00  1.415869e+00   \n",
       "min         0.000000 -5.640751e+01 -7.271573e+01 -4.832559e+01 -5.683171e+00   \n",
       "25%     54201.500000 -9.203734e-01 -5.985499e-01 -8.903648e-01 -8.486401e-01   \n",
       "50%     84692.000000  1.810880e-02  6.548556e-02  1.798463e-01 -1.984653e-02   \n",
       "75%    139320.500000  1.315642e+00  8.037239e-01  1.027196e+00  7.433413e-01   \n",
       "max    172792.000000  2.454930e+00  2.205773e+01  9.382558e+00  1.687534e+01   \n",
       "\n",
       "                 V5            V6            V7            V8            V9  \\\n",
       "count  2.848070e+05  2.848070e+05  2.848070e+05  2.848070e+05  2.848070e+05   \n",
       "mean  -1.552563e-15  2.010663e-15 -1.694249e-15 -1.927028e-16 -3.137024e-15   \n",
       "std    1.380247e+00  1.332271e+00  1.237094e+00  1.194353e+00  1.098632e+00   \n",
       "min   -1.137433e+02 -2.616051e+01 -4.355724e+01 -7.321672e+01 -1.343407e+01   \n",
       "25%   -6.915971e-01 -7.682956e-01 -5.540759e-01 -2.086297e-01 -6.430976e-01   \n",
       "50%   -5.433583e-02 -2.741871e-01  4.010308e-02  2.235804e-02 -5.142873e-02   \n",
       "75%    6.119264e-01  3.985649e-01  5.704361e-01  3.273459e-01  5.971390e-01   \n",
       "max    3.480167e+01  7.330163e+01  1.205895e+02  2.000721e+01  1.559499e+01   \n",
       "\n",
       "       ...           V21           V22           V23           V24  \\\n",
       "count  ...  2.848070e+05  2.848070e+05  2.848070e+05  2.848070e+05   \n",
       "mean   ...  1.537294e-16  7.959909e-16  5.367590e-16  4.458112e-15   \n",
       "std    ...  7.345240e-01  7.257016e-01  6.244603e-01  6.056471e-01   \n",
       "min    ... -3.483038e+01 -1.093314e+01 -4.480774e+01 -2.836627e+00   \n",
       "25%    ... -2.283949e-01 -5.423504e-01 -1.618463e-01 -3.545861e-01   \n",
       "50%    ... -2.945017e-02  6.781943e-03 -1.119293e-02  4.097606e-02   \n",
       "75%    ...  1.863772e-01  5.285536e-01  1.476421e-01  4.395266e-01   \n",
       "max    ...  2.720284e+01  1.050309e+01  2.252841e+01  4.584549e+00   \n",
       "\n",
       "                V25           V26           V27           V28         Amount  \\\n",
       "count  2.848070e+05  2.848070e+05  2.848070e+05  2.848070e+05  284807.000000   \n",
       "mean   1.453003e-15  1.699104e-15 -3.660161e-16 -1.206049e-16      88.349619   \n",
       "std    5.212781e-01  4.822270e-01  4.036325e-01  3.300833e-01     250.120109   \n",
       "min   -1.029540e+01 -2.604551e+00 -2.256568e+01 -1.543008e+01       0.000000   \n",
       "25%   -3.171451e-01 -3.269839e-01 -7.083953e-02 -5.295979e-02       5.600000   \n",
       "50%    1.659350e-02 -5.213911e-02  1.342146e-03  1.124383e-02      22.000000   \n",
       "75%    3.507156e-01  2.409522e-01  9.104512e-02  7.827995e-02      77.165000   \n",
       "max    7.519589e+00  3.517346e+00  3.161220e+01  3.384781e+01   25691.160000   \n",
       "\n",
       "               Class  \n",
       "count  284807.000000  \n",
       "mean        0.001727  \n",
       "std         0.041527  \n",
       "min         0.000000  \n",
       "25%         0.000000  \n",
       "50%         0.000000  \n",
       "75%         0.000000  \n",
       "max         1.000000  \n",
       "\n",
       "[8 rows x 31 columns]"
      ]
     },
     "execution_count": 38,
     "metadata": {},
     "output_type": "execute_result"
    }
   ],
   "source": [
    "df.describe()"
   ]
  },
  {
   "cell_type": "code",
   "execution_count": 91,
   "metadata": {},
   "outputs": [],
   "source": [
    "df1000=df[[\"Time\",\"Amount\",\"Class\",\"V1\",\"V10\",\"V20\",\"V28\"]][:1000:]"
   ]
  },
  {
   "cell_type": "code",
   "execution_count": 52,
   "metadata": {},
   "outputs": [
    {
     "data": {
      "text/plain": [
       "<seaborn.axisgrid.PairGrid at 0x277b1b7b348>"
      ]
     },
     "execution_count": 52,
     "metadata": {},
     "output_type": "execute_result"
    },
    {
     "data": {
      "image/png": "[encoded data removed]",
      "text/plain": [
       "<Figure size 1260x1260 with 56 Axes>"
      ]
     },
     "metadata": {
      "needs_background": "light"
     },
     "output_type": "display_data"
    }
   ],
   "source": [
    "sns.pairplot(df1000)"
   ]
  },
  {
   "cell_type": "code",
   "execution_count": 142,
   "metadata": {},
   "outputs": [
    {
     "data": {
      "text/plain": [
       "<matplotlib.axes._subplots.AxesSubplot at 0x27787ba6988>"
      ]
     },
     "execution_count": 142,
     "metadata": {},
     "output_type": "execute_result"
    },
    {
     "data": {
      "image/png": "[encoded data removed]",
      "text/plain": [
       "<Figure size 1080x720 with 6 Axes>"
      ]
     },
     "metadata": {
      "needs_background": "light"
     },
     "output_type": "display_data"
    }
   ],
   "source": [
    "fig, axes = plt.subplots(2, 3,figsize=(15,10))\n",
    "sns.boxplot(x=\"Class\",y=\"Time\",data=df1000,ax=axes[0][0])\n",
    "sns.boxplot(x=\"Class\",y=\"Amount\",data=df1000,ax=axes[0][1])\n",
    "sns.boxplot(x=\"Class\",y=\"V1\",data=df1000,ax=axes[0][2])\n",
    "sns.boxplot(x=\"Class\",y=\"V10\",data=df1000,ax=axes[1][0])\n",
    "sns.boxplot(x=\"Class\",y=\"V20\",data=df1000,ax=axes[1][1])\n",
    "sns.boxplot(x=\"Class\",y=\"V28\",data=df1000,ax=axes[1][2])"
   ]
  },
  {
   "cell_type": "code",
   "execution_count": 161,
   "metadata": {},
   "outputs": [],
   "source": [
    "df2=df1000[[\"V1\",\"V10\",\"V20\",\"V28\",\"Class\"]]\n",
    "df2=pd.melt(df2,id_vars=\"Class\",var_name=\"Features\",value_name=\"value\")"
   ]
  },
  {
   "cell_type": "code",
   "execution_count": 162,
   "metadata": {},
   "outputs": [
    {
     "data": {
      "text/plain": [
       "(-0.03, 0.05)"
      ]
     },
     "execution_count": 162,
     "metadata": {},
     "output_type": "execute_result"
    },
    {
     "data": {
      "image/png": "[encoded data removed]",
      "text/plain": [
       "<Figure size 720x360 with 1 Axes>"
      ]
     },
     "metadata": {
      "needs_background": "light"
     },
     "output_type": "display_data"
    }
   ],
   "source": [
    "plt.figure(figsize=(10,5))\n",
    "sns.violinplot(x=\"Features\",y=\"Class\",data=df2)\n",
    "plt.ylim(-0.03,0.05)"
   ]
  },
  {
   "cell_type": "code",
   "execution_count": 146,
   "metadata": {},
   "outputs": [
    {
     "data": {
      "application/vnd.plotly.v1+json": {
       "config": {
        "linkText": "Export to plot.ly",
        "plotlyServerURL": "https://plot.ly",
        "showLink": false
       },
       "data": [
        {
         "colorbar": {
          "title": {
           "side": "right",
           "text": "Pearson Correlation coefficient"
          }
         },
         "colorscale": [
          [
           0,
           "#440154"
          ],
          [
           0.1111111111111111,
           "#482878"
          ],
          [
           0.2222222222222222,
           "#3e4989"
          ],
          [
           0.3333333333333333,
           "#31688e"
          ],
          [
           0.4444444444444444,
           "#26828e"
          ],
          [
           0.5555555555555556,
           "#1f9e89"
          ],
          [
           0.6666666666666666,
           "#35b779"
          ],
          [
           0.7777777777777778,
           "#6ece58"
          ],
          [
           0.8888888888888888,
           "#b5de2b"
          ],
          [
           1,
           "#fde725"
          ]
         ],
         "type": "heatmap",
         "x": [
          "Time",
          "V1",
          "V2",
          "V3",
          "V4",
          "V5",
          "V6",
          "V7",
          "V8",
          "V9",
          "V10",
          "V11",
          "V12",
          "V13",
          "V14",
          "V15",
          "V16",
          "V17",
          "V18",
          "V19",
          "V20",
          "V21",
          "V22",
          "V23",
          "V24",
          "V25",
          "V26",
          "V27",
          "V28",
          "Amount",
          "Class"
         ],
         "y": [
          "Time",
          "V1",
          "V2",
          "V3",
          "V4",
          "V5",
          "V6",
          "V7",
          "V8",
          "V9",
          "V10",
          "V11",
          "V12",
          "V13",
          "V14",
          "V15",
          "V16",
          "V17",
          "V18",
          "V19",
          "V20",
          "V21",
          "V22",
          "V23",
          "V24",
          "V25",
          "V26",
          "V27",
          "V28",
          "Amount",
          "Class"
         ],
         "z": [
          [
           1,
           0.11739630597839038,
           -0.010593327121342824,
           -0.4196181722115274,
           -0.10526020544572907,
           0.17307212331039132,
           -0.06301647037315185,
           0.08471437480499064,
           -0.036949434690009234,
           -0.008660433697683826,
           0.030616628592320998,
           -0.247689437486676,
           0.12434806837193435,
           -0.06590202369761745,
           -0.09875681920622573,
           -0.18345327348103926,
           0.011902867722434169,
           -0.0732972133177982,
           0.0904381325486108,
           0.028975302561135702,
           -0.050866018468354125,
           0.04473572628908131,
           0.14405905486146361,
           0.05114236494177459,
           -0.01618186845930756,
           -0.23308279059831727,
           -0.04140710060605869,
           -0.005134591123997185,
           -0.00941268817905229,
           -0.010596373389027794,
           -0.012322570929207388
          ],
          [
           0.11739630597839038,
           1,
           4.697350469303551e-17,
           -1.4243902059686005e-15,
           1.7553161779289217e-17,
           6.391161669471292e-17,
           2.3980709770418513e-16,
           1.9915501374737307e-15,
           -9.490675007800317e-17,
           2.169581213429927e-16,
           7.433820311961892e-17,
           2.438579939865168e-16,
           2.422085686197315e-16,
           -2.1154575974358543e-16,
           9.352582101868325e-16,
           -3.252450522649766e-16,
           6.308789420709271e-16,
           -5.011523652693261e-16,
           2.870125410612712e-16,
           1.8181284220979656e-16,
           1.0369590992129756e-16,
           -1.7550716645972822e-16,
           7.477367318608595e-17,
           9.8087050691241e-16,
           7.354268947261299e-17,
           -9.80535825835762e-16,
           -8.621897115333697e-17,
           3.208232666296793e-17,
           9.820892381030474e-16,
           -0.2277086529223733,
           -0.10134729859476972
          ],
          [
           -0.010593327121342824,
           4.697350469303551e-17,
           1,
           2.5121750714409137e-16,
           -1.1263879227470274e-16,
           -2.0398681269046878e-16,
           5.024680187208391e-16,
           3.966485971893093e-16,
           -4.413983699818799e-17,
           -5.728717684247186e-17,
           -4.782388028758161e-16,
           9.468995338458089e-16,
           -6.588252269838018e-16,
           3.8545209124444075e-16,
           -2.5410356302730153e-16,
           2.831060398874419e-16,
           4.9340966407057414e-17,
           -9.88300831623274e-16,
           2.6366536758978006e-16,
           9.528279876906872e-17,
           -9.309954234873892e-16,
           8.444409270662718e-17,
           2.500829887528209e-16,
           1.0595623755274829e-16,
           -8.142353883260877e-18,
           -4.2618939369731003e-17,
           2.6016216813109624e-16,
           -4.478471686789538e-16,
           -3.6764149016336483e-16,
           -0.5314089393279761,
           0.09128865034433538
          ],
          [
           -0.4196181722115274,
           -1.4243902059686005e-15,
           2.5121750714409137e-16,
           1,
           -3.416909563582894e-16,
           -1.4365139542036057e-15,
           1.4315807755940398e-15,
           2.168574002566472e-15,
           3.43311332136107e-16,
           -4.2337696756874986e-16,
           6.289266548633001e-16,
           -5.5017576044096325e-17,
           2.2065217643485405e-16,
           -6.883374817728902e-16,
           4.2713356664797924e-16,
           1.1227556391297603e-16,
           1.1833638474388061e-15,
           4.5766190576473034e-17,
           5.427964933764996e-16,
           2.5767730840927773e-16,
           -9.429297063823965e-16,
           -2.9719688089311593e-17,
           4.64825857532626e-16,
           2.1152064352247126e-17,
           -9.35163727807543e-17,
           4.77116409549272e-16,
           6.52150102710198e-16,
           6.23983163821225e-16,
           7.726947968617977e-16,
           -0.2108804752898809,
           -0.19296082706681578
          ],
          [
           -0.10526020544572907,
           1.7553161779289217e-17,
           -1.1263879227470274e-16,
           -3.416909563582894e-16,
           1,
           -1.9409286439617865e-15,
           -2.7126586886236714e-16,
           1.556329701171321e-16,
           5.195643066686186e-16,
           3.859584685437448e-16,
           6.05549045249224e-16,
           -2.083600390696615e-16,
           -5.657963073632406e-16,
           -1.5061286509824824e-16,
           -8.522435353909579e-17,
           -1.5077183944666259e-16,
           -6.939204446250171e-16,
           -4.397925045613137e-16,
           1.4936674701942726e-16,
           -2.656938197861949e-16,
           -3.223122626397701e-16,
           -9.976949748132026e-17,
           2.0999222414130102e-16,
           6.002528368080155e-17,
           2.229738048262382e-16,
           5.394585327676311e-16,
           -6.179751205718167e-16,
           -6.403423118940277e-17,
           -5.863663716792992e-17,
           0.09873166631355308,
           0.1334474862385853
          ],
          [
           0.17307212331039132,
           6.391161669471292e-17,
           -2.0398681269046878e-16,
           -1.4365139542036057e-15,
           -1.9409286439617865e-15,
           1,
           7.92636400349042e-16,
           -4.209851031726028e-16,
           7.589187042426899e-16,
           4.205205598981968e-16,
           -6.601715637863726e-16,
           7.342758743248868e-16,
           3.761032796473548e-16,
           -9.578658627900394e-16,
           -3.6348033472491274e-16,
           -5.13261964319789e-16,
           -3.5170755100094507e-16,
           1.4257292172260904e-16,
           1.1095251803361662e-15,
           -3.1382336312527622e-16,
           2.0760476522387344e-16,
           -1.3687009808916957e-16,
           5.060028886806578e-16,
           1.6375955892256685e-16,
           -9.286095241008335e-16,
           5.62510173430715e-16,
           9.144690397102394e-16,
           4.465959872943668e-16,
           -3.299167045653117e-16,
           -0.3863562561629983,
           -0.09497429899115034
          ],
          [
           -0.06301647037315185,
           2.3980709770418513e-16,
           5.024680187208391e-16,
           1.4315807755940398e-15,
           -2.7126586886236714e-16,
           7.92636400349042e-16,
           1,
           1.4294258928140596e-16,
           -1.7074207710631247e-16,
           1.1144466036868126e-16,
           2.850776088868655e-16,
           4.865798820483105e-16,
           2.1405887949496597e-16,
           -2.268061188129328e-16,
           3.452800739121104e-16,
           -6.368110803667889e-18,
           -2.477917428814335e-16,
           3.56758194056749e-16,
           2.8114735521402637e-16,
           2.717166605431606e-16,
           1.89863788859714e-16,
           -1.5759029882239836e-16,
           -3.3629021985502797e-16,
           -7.232186079944992e-17,
           -1.2618666737393462e-15,
           1.0819325397375282e-15,
           -2.378414330737614e-16,
           -2.6238176403384213e-16,
           4.813154962515046e-16,
           0.21598118022524546,
           -0.04364316069982903
          ],
          [
           0.08471437480499064,
           1.9915501374737307e-15,
           3.966485971893093e-16,
           2.168574002566472e-15,
           1.556329701171321e-16,
           -4.209851031726028e-16,
           1.4294258928140596e-16,
           1,
           -8.691834007321221e-17,
           7.933251258248913e-16,
           3.0433325508713744e-17,
           -1.0841048725436476e-15,
           1.5100448298714108e-15,
           -9.892325329273464e-17,
           -1.7294619304292526e-16,
           1.9368323437101253e-17,
           2.8936720721427667e-16,
           1.1496920729508888e-15,
           -1.116788768994299e-16,
           -2.874017355022162e-16,
           1.7442418093476607e-16,
           1.9386040332758097e-16,
           -1.0581305571733644e-15,
           2.327910850139693e-16,
           -2.5897271089901555e-17,
           1.1741685219656185e-15,
           -7.334506706505357e-16,
           -5.886824870718553e-16,
           -6.836763971408741e-17,
           0.3973112781816456,
           -0.1872565915137108
          ],
          [
           -0.036949434690009234,
           -9.490675007800317e-17,
           -4.413983699818799e-17,
           3.43311332136107e-16,
           5.195643066686186e-16,
           7.589187042426899e-16,
           -1.7074207710631247e-16,
           -8.691834007321221e-17,
           1,
           2.900829164006858e-16,
           9.051847046162048e-17,
           1.9547468907111642e-16,
           -6.266057335149056e-17,
           -2.382948219078945e-16,
           -1.131098166453681e-16,
           2.0214910344084665e-16,
           5.027191539695068e-16,
           -3.508776882047421e-16,
           -4.0938516593066296e-16,
           -5.339821294317655e-16,
           -1.0955343839503754e-16,
           -2.412439149228703e-16,
           5.475558954149982e-16,
           3.8971042017378507e-16,
           -1.8029674162345125e-16,
           -1.3907907337517785e-16,
           -1.2099749799703609e-16,
           1.7336334457336845e-16,
           -4.484325128855218e-16,
           -0.10307909564496406,
           0.01987512391473314
          ],
          [
           -0.008660433697683826,
           2.169581213429927e-16,
           -5.728717684247186e-17,
           -4.2337696756874986e-16,
           3.859584685437448e-16,
           4.205205598981968e-16,
           1.1144466036868126e-16,
           7.933251258248913e-16,
           2.900829164006858e-16,
           1,
           -2.771760907024676e-16,
           4.682341453502196e-16,
           -2.445230126531115e-15,
           -2.650350817714165e-16,
           2.3433166957553687e-16,
           -1.58810520463812e-15,
           -3.251906339425996e-16,
           6.53599218181438e-16,
           1.20384303130105e-16,
           1.1207517610035042e-16,
           -4.340941046017256e-16,
           4.5783885586743406e-17,
           2.87185507390413e-17,
           5.929285593829755e-16,
           -2.3463847260570976e-16,
           1.0996453453566545e-15,
           -1.388725465004255e-15,
           -2.287413539277934e-16,
           9.146778793869368e-16,
           -0.044245601964438844,
           -0.09773268607377422
          ],
          [
           0.030616628592320998,
           7.433820311961892e-17,
           -4.782388028758161e-16,
           6.289266548633001e-16,
           6.05549045249224e-16,
           -6.601715637863726e-16,
           2.850776088868655e-16,
           3.0433325508713744e-17,
           9.051847046162048e-17,
           -2.771760907024676e-16,
           1,
           2.6244478203421265e-16,
           1.4399071956675003e-15,
           -8.853582292873185e-16,
           2.62251313455413e-16,
           7.615271975860196e-16,
           -1.7059225660821137e-15,
           3.674182481840675e-15,
           3.9867101885812585e-16,
           2.6630382605287952e-17,
           -1.1418883004372414e-15,
           8.089504044058091e-16,
           -6.707597511111739e-16,
           3.8097317653039156e-16,
           -4.032805822808412e-17,
           -2.863812839160603e-16,
           -2.554293125824367e-16,
           -3.1032391006030947e-16,
           -1.5159343333064705e-16,
           -0.10150214079141875,
           -0.21688294364035493
          ],
          [
           -0.247689437486676,
           2.438579939865168e-16,
           9.468995338458089e-16,
           -5.5017576044096325e-17,
           -2.083600390696615e-16,
           7.342758743248868e-16,
           4.865798820483105e-16,
           -1.0841048725436476e-15,
           1.9547468907111642e-16,
           4.682341453502196e-16,
           2.6244478203421265e-16,
           1,
           3.1760289930647844e-15,
           1.9458101918841887e-15,
           3.6371603937557764e-17,
           4.801345414477026e-16,
           -6.173867121161474e-16,
           8.719713249574576e-16,
           5.978229401547032e-16,
           3.216337735443194e-16,
           -2.31018892156596e-16,
           -3.9118928386087586e-16,
           -3.8116399467973734e-17,
           2.2320067070374305e-16,
           1.2198486681987171e-15,
           -4.567634591202646e-16,
           -1.11097620127e-16,
           -2.635826882118173e-16,
           -3.091913754851766e-16,
           0.00010397702176390005,
           0.15487564474346413
          ],
          [
           0.12434806837193435,
           2.422085686197315e-16,
           -6.588252269838018e-16,
           2.2065217643485405e-16,
           -5.657963073632406e-16,
           3.761032796473548e-16,
           2.1405887949496597e-16,
           1.5100448298714108e-15,
           -6.266057335149056e-17,
           -2.445230126531115e-15,
           1.4399071956675003e-15,
           3.1760289930647844e-15,
           1,
           -2.30614867282284e-14,
           1.7616523139202088e-16,
           8.858185553175463e-16,
           3.5304179219174667e-16,
           -9.86981350565337e-16,
           -5.881813610718528e-16,
           9.282566332879422e-17,
           1.2769764319805682e-16,
           3.229576349501141e-16,
           -5.903992319081279e-16,
           1.392161909964573e-16,
           4.901644218121291e-16,
           5.053736216125121e-16,
           -5.75932134590796e-16,
           -2.312619227348268e-16,
           7.327446176608607e-16,
           -0.009541802153203993,
           -0.2605929248764044
          ],
          [
           -0.06590202369761745,
           -2.1154575974358543e-16,
           3.8545209124444075e-16,
           -6.883374817728902e-16,
           -1.5061286509824824e-16,
           -9.578658627900394e-16,
           -2.268061188129328e-16,
           -9.892325329273464e-17,
           -2.382948219078945e-16,
           -2.650350817714165e-16,
           -8.853582292873185e-16,
           1.9458101918841887e-15,
           -2.30614867282284e-14,
           1,
           2.8414278940572312e-15,
           -4.728047856632067e-16,
           3.361767224109221e-16,
           -3.18790496639285e-16,
           3.192534738009977e-16,
           -2.5949880172362765e-16,
           2.345665429224732e-18,
           9.499130222115147e-17,
           -2.6597099815020735e-17,
           -5.88430404726872e-16,
           -5.47054669764163e-16,
           8.066738102868638e-17,
           -2.1215175292340002e-16,
           -4.520413993295758e-16,
           1.0495413404678255e-15,
           0.005293409030420574,
           -0.004569778799447076
          ],
          [
           -0.09875681920622573,
           9.352582101868325e-16,
           -2.5410356302730153e-16,
           4.2713356664797924e-16,
           -8.522435353909579e-17,
           -3.6348033472491274e-16,
           3.452800739121104e-16,
           -1.7294619304292526e-16,
           -1.131098166453681e-16,
           2.3433166957553687e-16,
           2.62251313455413e-16,
           3.6371603937557764e-17,
           1.7616523139202088e-16,
           2.8414278940572312e-15,
           1,
           4.165737866592706e-17,
           7.910366880885718e-17,
           4.62614026314667e-15,
           8.980954985521477e-17,
           -1.0614860979537985e-16,
           -1.7894327001031818e-16,
           1.6341411879944447e-17,
           3.4396990290023924e-16,
           7.620728041131482e-17,
           2.335748697225345e-16,
           -2.6067831133798455e-16,
           -6.580254460910154e-18,
           1.2857703641311588e-16,
           2.5032709535183875e-15,
           0.033751171763095715,
           -0.30254369580346246
          ],
          [
           -0.18345327348103926,
           -3.252450522649766e-16,
           2.831060398874419e-16,
           1.1227556391297603e-16,
           -1.5077183944666259e-16,
           -5.13261964319789e-16,
           -6.368110803667889e-18,
           1.9368323437101253e-17,
           2.0214910344084665e-16,
           -1.58810520463812e-15,
           7.615271975860196e-16,
           4.801345414477026e-16,
           8.858185553175463e-16,
           -4.728047856632067e-16,
           4.165737866592706e-17,
           1,
           1.3359039962288514e-15,
           3.208310114843514e-16,
           7.538156191279672e-16,
           -8.556257334752408e-16,
           3.2404754077826765e-16,
           1.9474583639622415e-17,
           -8.936817433611573e-16,
           1.1198267483250852e-16,
           -4.589688645071322e-16,
           3.86974028599292e-16,
           3.7610941948455377e-16,
           -1.265234759498814e-15,
           -1.063285849840148e-15,
           -0.0029858481245596145,
           -0.004223402267843587
          ],
          [
           0.011902867722434169,
           6.308789420709271e-16,
           4.9340966407057414e-17,
           1.1833638474388061e-15,
           -6.939204446250171e-16,
           -3.5170755100094507e-16,
           -2.477917428814335e-16,
           2.8936720721427667e-16,
           5.027191539695068e-16,
           -3.251906339425996e-16,
           -1.7059225660821137e-15,
           -6.173867121161474e-16,
           3.5304179219174667e-16,
           3.361767224109221e-16,
           7.910366880885718e-17,
           1.3359039962288514e-15,
           1,
           1.8542965976048037e-15,
           -3.0151186901909073e-15,
           1.041659426265336e-15,
           3.9034563979213206e-16,
           -3.927400820166545e-16,
           3.8783841030638234e-17,
           8.519669711724586e-16,
           -4.2892390537046083e-16,
           -6.644103895769482e-16,
           -5.186502709462185e-16,
           7.82003813125417e-16,
           8.637186332774415e-16,
           -0.00390952671355957,
           -0.1965389403034051
          ],
          [
           -0.0732972133177982,
           -5.011523652693261e-16,
           -9.88300831623274e-16,
           4.5766190576473034e-17,
           -4.397925045613137e-16,
           1.4257292172260904e-16,
           3.56758194056749e-16,
           1.1496920729508888e-15,
           -3.508776882047421e-16,
           6.53599218181438e-16,
           3.674182481840675e-15,
           8.719713249574576e-16,
           -9.86981350565337e-16,
           -3.18790496639285e-16,
           4.62614026314667e-15,
           3.208310114843514e-16,
           1.8542965976048037e-15,
           1,
           -5.5847142278321085e-15,
           -3.9167912841066605e-16,
           -9.88743100644142e-16,
           -7.753967320352673e-16,
           -8.389702985770906e-16,
           5.367784007995552e-16,
           -5.543631193082124e-17,
           4.82206756659376e-16,
           4.870302476457008e-16,
           8.844372917976604e-16,
           -2.1826917895047174e-16,
           0.007309042076999584,
           -0.32648106724269765
          ],
          [
           0.0904381325486108,
           2.870125410612712e-16,
           2.6366536758978006e-16,
           5.427964933764996e-16,
           1.4936674701942726e-16,
           1.1095251803361662e-15,
           2.8114735521402637e-16,
           -1.116788768994299e-16,
           -4.0938516593066296e-16,
           1.20384303130105e-16,
           3.9867101885812585e-16,
           5.978229401547032e-16,
           -5.881813610718528e-16,
           3.192534738009977e-16,
           8.980954985521477e-17,
           7.538156191279672e-16,
           -3.0151186901909073e-15,
           -5.5847142278321085e-15,
           1,
           -2.4241848837623725e-15,
           -4.942764229999567e-16,
           -1.1409725626328734e-15,
           -8.662635295568186e-17,
           -3.6242359808456257e-16,
           -1.1260429012275976e-16,
           -2.31085578160587e-16,
           3.1839636603217856e-16,
           2.435169894645409e-16,
           8.844995437650056e-16,
           0.03565034071999314,
           -0.11148525388869356
          ],
          [
           0.028975302561135702,
           1.8181284220979656e-16,
           9.528279876906872e-17,
           2.5767730840927773e-16,
           -2.656938197861949e-16,
           -3.1382336312527622e-16,
           2.717166605431606e-16,
           -2.874017355022162e-16,
           -5.339821294317655e-16,
           1.1207517610035042e-16,
           2.6630382605287952e-17,
           3.216337735443194e-16,
           9.282566332879422e-17,
           -2.5949880172362765e-16,
           -1.0614860979537985e-16,
           -8.556257334752408e-16,
           1.041659426265336e-15,
           -3.9167912841066605e-16,
           -2.4241848837623725e-15,
           1,
           2.938450393284115e-16,
           4.032541118721999e-16,
           -9.690436133618996e-16,
           5.733798477170509e-16,
           3.1267155498318856e-17,
           7.415355207360278e-16,
           5.614353636423969e-16,
           -1.1130348924995528e-16,
           -1.3758426994273998e-15,
           -0.056150787231150925,
           0.03478301303640623
          ],
          [
           -0.050866018468354125,
           1.0369590992129756e-16,
           -9.309954234873892e-16,
           -9.429297063823965e-16,
           -3.223122626397701e-16,
           2.0760476522387344e-16,
           1.89863788859714e-16,
           1.7442418093476607e-16,
           -1.0955343839503754e-16,
           -4.340941046017256e-16,
           -1.1418883004372414e-15,
           -2.31018892156596e-16,
           1.2769764319805682e-16,
           2.345665429224732e-18,
           -1.7894327001031818e-16,
           3.2404754077826765e-16,
           3.9034563979213206e-16,
           -9.88743100644142e-16,
           -4.942764229999567e-16,
           2.938450393284115e-16,
           1,
           -1.1208279014696702e-15,
           1.105842137377626e-15,
           4.986738551320919e-16,
           1.6374877113131516e-16,
           -1.51824203691294e-16,
           -2.975081370539997e-16,
           -1.4460692304257987e-15,
           -1.1335786671526752e-16,
           0.3394034045461327,
           0.020090324196912198
          ],
          [
           0.04473572628908131,
           -1.7550716645972822e-16,
           8.444409270662718e-17,
           -2.9719688089311593e-17,
           -9.976949748132026e-17,
           -1.3687009808916957e-16,
           -1.5759029882239836e-16,
           1.9386040332758097e-16,
           -2.412439149228703e-16,
           4.5783885586743406e-17,
           8.089504044058091e-16,
           -3.9118928386087586e-16,
           3.229576349501141e-16,
           9.499130222115147e-17,
           1.6341411879944447e-17,
           1.9474583639622415e-17,
           -3.927400820166545e-16,
           -7.753967320352673e-16,
           -1.1409725626328734e-15,
           4.032541118721999e-16,
           -1.1208279014696702e-15,
           1,
           3.905947731585261e-15,
           6.127322976607841e-16,
           1.298253962240953e-16,
           -2.826293290019709e-16,
           -4.907301464167065e-16,
           -1.033402834335688e-15,
           5.132234418316568e-16,
           0.10599892763770487,
           0.0404133806104527
          ],
          [
           0.14405905486146361,
           7.477367318608595e-17,
           2.500829887528209e-16,
           4.64825857532626e-16,
           2.0999222414130102e-16,
           5.060028886806578e-16,
           -3.3629021985502797e-16,
           -1.0581305571733644e-15,
           5.475558954149982e-16,
           2.87185507390413e-17,
           -6.707597511111739e-16,
           -3.8116399467973734e-17,
           -5.903992319081279e-16,
           -2.6597099815020735e-17,
           3.4396990290023924e-16,
           -8.936817433611573e-16,
           3.8783841030638234e-17,
           -8.389702985770906e-16,
           -8.662635295568186e-17,
           -9.690436133618996e-16,
           1.105842137377626e-15,
           3.905947731585261e-15,
           1,
           3.130811611743313e-16,
           1.1508293277186672e-17,
           -6.078985686650928e-16,
           -8.477049529791709e-16,
           -1.2949098332750935e-16,
           -3.0213763383560694e-16,
           -0.06480064637319197,
           0.0008053175052959154
          ],
          [
           0.05114236494177459,
           9.8087050691241e-16,
           1.0595623755274829e-16,
           2.1152064352247126e-17,
           6.002528368080155e-17,
           1.6375955892256685e-16,
           -7.232186079944992e-17,
           2.327910850139693e-16,
           3.8971042017378507e-16,
           5.929285593829755e-16,
           3.8097317653039156e-16,
           2.2320067070374305e-16,
           1.392161909964573e-16,
           -5.88430404726872e-16,
           7.620728041131482e-17,
           1.1198267483250852e-16,
           8.519669711724586e-16,
           5.367784007995552e-16,
           -3.6242359808456257e-16,
           5.733798477170509e-16,
           4.986738551320919e-16,
           6.127322976607841e-16,
           3.130811611743313e-16,
           1,
           -4.4112712897152573e-17,
           -9.93836170323736e-16,
           8.848699877795545e-16,
           5.524044459353367e-16,
           9.029820988356278e-16,
           -0.11263255363252014,
           -0.002685155740242337
          ],
          [
           -0.01618186845930756,
           7.354268947261299e-17,
           -8.142353883260877e-18,
           -9.35163727807543e-17,
           2.229738048262382e-16,
           -9.286095241008335e-16,
           -1.2618666737393462e-15,
           -2.5897271089901555e-17,
           -1.8029674162345125e-16,
           -2.3463847260570976e-16,
           -4.032805822808412e-17,
           1.2198486681987171e-15,
           4.901644218121291e-16,
           -5.47054669764163e-16,
           2.335748697225345e-16,
           -4.589688645071322e-16,
           -4.2892390537046083e-16,
           -5.543631193082124e-17,
           -1.1260429012275976e-16,
           3.1267155498318856e-17,
           1.6374877113131516e-16,
           1.298253962240953e-16,
           1.1508293277186672e-17,
           -4.4112712897152573e-17,
           1,
           1.5573175937621677e-15,
           3.1291949759272247e-16,
           -3.736529028239242e-16,
           -2.259275263071112e-16,
           0.0051462174307666435,
           -0.0072209067159303
          ],
          [
           -0.23308279059831727,
           -9.80535825835762e-16,
           -4.2618939369731003e-17,
           4.77116409549272e-16,
           5.394585327676311e-16,
           5.62510173430715e-16,
           1.0819325397375282e-15,
           1.1741685219656185e-15,
           -1.3907907337517785e-16,
           1.0996453453566545e-15,
           -2.863812839160603e-16,
           -4.567634591202646e-16,
           5.053736216125121e-16,
           8.066738102868638e-17,
           -2.6067831133798455e-16,
           3.86974028599292e-16,
           -6.644103895769482e-16,
           4.82206756659376e-16,
           -2.31085578160587e-16,
           7.415355207360278e-16,
           -1.51824203691294e-16,
           -2.826293290019709e-16,
           -6.078985686650928e-16,
           -9.93836170323736e-16,
           1.5573175937621677e-15,
           1,
           2.8108839756315866e-15,
           -6.107118183523937e-16,
           3.3993749490546135e-16,
           -0.04783686317613344,
           0.0033077055972894065
          ],
          [
           -0.04140710060605869,
           -8.621897115333697e-17,
           2.6016216813109624e-16,
           6.52150102710198e-16,
           -6.179751205718167e-16,
           9.144690397102394e-16,
           -2.378414330737614e-16,
           -7.334506706505357e-16,
           -1.2099749799703609e-16,
           -1.388725465004255e-15,
           -2.554293125824367e-16,
           -1.11097620127e-16,
           -5.75932134590796e-16,
           -2.1215175292340002e-16,
           -6.580254460910154e-18,
           3.7610941948455377e-16,
           -5.186502709462185e-16,
           4.870302476457008e-16,
           3.1839636603217856e-16,
           5.614353636423969e-16,
           -2.975081370539997e-16,
           -4.907301464167065e-16,
           -8.477049529791709e-16,
           8.848699877795545e-16,
           3.1291949759272247e-16,
           2.8108839756315866e-15,
           1,
           -3.383860803125168e-16,
           -3.7514028339105706e-16,
           -0.0032080371509785287,
           0.004455397501269385
          ],
          [
           -0.005134591123997185,
           3.208232666296793e-17,
           -4.478471686789538e-16,
           6.23983163821225e-16,
           -6.403423118940277e-17,
           4.465959872943668e-16,
           -2.6238176403384213e-16,
           -5.886824870718553e-16,
           1.7336334457336845e-16,
           -2.287413539277934e-16,
           -3.1032391006030947e-16,
           -2.635826882118173e-16,
           -2.312619227348268e-16,
           -4.520413993295758e-16,
           1.2857703641311588e-16,
           -1.265234759498814e-15,
           7.82003813125417e-16,
           8.844372917976604e-16,
           2.435169894645409e-16,
           -1.1130348924995528e-16,
           -1.4460692304257987e-15,
           -1.033402834335688e-15,
           -1.2949098332750935e-16,
           5.524044459353367e-16,
           -3.736529028239242e-16,
           -6.107118183523937e-16,
           -3.383860803125168e-16,
           1,
           -3.7701242306407464e-16,
           0.028825463424356136,
           0.017579728189458178
          ],
          [
           -0.00941268817905229,
           9.820892381030474e-16,
           -3.6764149016336483e-16,
           7.726947968617977e-16,
           -5.863663716792992e-17,
           -3.299167045653117e-16,
           4.813154962515046e-16,
           -6.836763971408741e-17,
           -4.484325128855218e-16,
           9.146778793869368e-16,
           -1.5159343333064705e-16,
           -3.091913754851766e-16,
           7.327446176608607e-16,
           1.0495413404678255e-15,
           2.5032709535183875e-15,
           -1.063285849840148e-15,
           8.637186332774415e-16,
           -2.1826917895047174e-16,
           8.844995437650056e-16,
           -1.3758426994273998e-15,
           -1.1335786671526752e-16,
           5.132234418316568e-16,
           -3.0213763383560694e-16,
           9.029820988356278e-16,
           -2.259275263071112e-16,
           3.3993749490546135e-16,
           -3.7514028339105706e-16,
           -3.7701242306407464e-16,
           1,
           0.010258215893042686,
           0.009536040916206127
          ],
          [
           -0.010596373389027794,
           -0.2277086529223733,
           -0.5314089393279761,
           -0.2108804752898809,
           0.09873166631355308,
           -0.3863562561629983,
           0.21598118022524546,
           0.3973112781816456,
           -0.10307909564496406,
           -0.044245601964438844,
           -0.10150214079141875,
           0.00010397702176390005,
           -0.009541802153203993,
           0.005293409030420574,
           0.033751171763095715,
           -0.0029858481245596145,
           -0.00390952671355957,
           0.007309042076999584,
           0.03565034071999314,
           -0.056150787231150925,
           0.3394034045461327,
           0.10599892763770487,
           -0.06480064637319197,
           -0.11263255363252014,
           0.0051462174307666435,
           -0.04783686317613344,
           -0.0032080371509785287,
           0.028825463424356136,
           0.010258215893042686,
           1,
           0.0056317530067495365
          ],
          [
           -0.012322570929207388,
           -0.10134729859476972,
           0.09128865034433538,
           -0.19296082706681578,
           0.1334474862385853,
           -0.09497429899115034,
           -0.04364316069982903,
           -0.1872565915137108,
           0.01987512391473314,
           -0.09773268607377422,
           -0.21688294364035493,
           0.15487564474346413,
           -0.2605929248764044,
           -0.004569778799447076,
           -0.30254369580346246,
           -0.004223402267843587,
           -0.1965389403034051,
           -0.32648106724269765,
           -0.11148525388869356,
           0.03478301303640623,
           0.020090324196912198,
           0.0404133806104527,
           0.0008053175052959154,
           -0.002685155740242337,
           -0.0072209067159303,
           0.0033077055972894065,
           0.004455397501269385,
           0.017579728189458178,
           0.009536040916206127,
           0.0056317530067495365,
           1
          ]
         ]
        }
       ],
       "layout": {
        "autosize": false,
        "height": 850,
        "margin": {
         "b": 10,
         "l": 110,
         "r": 0,
         "t": 25
        },
        "template": {
         "data": {
          "bar": [
           {
            "error_x": {
             "color": "#2a3f5f"
            },
            "error_y": {
             "color": "#2a3f5f"
            },
            "marker": {
             "line": {
              "color": "#E5ECF6",
              "width": 0.5
             }
            },
            "type": "bar"
           }
          ],
          "barpolar": [
           {
            "marker": {
             "line": {
              "color": "#E5ECF6",
              "width": 0.5
             }
            },
            "type": "barpolar"
           }
          ],
          "carpet": [
           {
            "aaxis": {
             "endlinecolor": "#2a3f5f",
             "gridcolor": "white",
             "linecolor": "white",
             "minorgridcolor": "white",
             "startlinecolor": "#2a3f5f"
            },
            "baxis": {
             "endlinecolor": "#2a3f5f",
             "gridcolor": "white",
             "linecolor": "white",
             "minorgridcolor": "white",
             "startlinecolor": "#2a3f5f"
            },
            "type": "carpet"
           }
          ],
          "choropleth": [
           {
            "colorbar": {
             "outlinewidth": 0,
             "ticks": ""
            },
            "type": "choropleth"
           }
          ],
          "contour": [
           {
            "colorbar": {
             "outlinewidth": 0,
             "ticks": ""
            },
            "colorscale": [
             [
              0,
              "#0d0887"
             ],
             [
              0.1111111111111111,
              "#46039f"
             ],
             [
              0.2222222222222222,
              "#7201a8"
             ],
             [
              0.3333333333333333,
              "#9c179e"
             ],
             [
              0.4444444444444444,
              "#bd3786"
             ],
             [
              0.5555555555555556,
              "#d8576b"
             ],
             [
              0.6666666666666666,
              "#ed7953"
             ],
             [
              0.7777777777777778,
              "#fb9f3a"
             ],
             [
              0.8888888888888888,
              "#fdca26"
             ],
             [
              1,
              "#f0f921"
             ]
            ],
            "type": "contour"
           }
          ],
          "contourcarpet": [
           {
            "colorbar": {
             "outlinewidth": 0,
             "ticks": ""
            },
            "type": "contourcarpet"
           }
          ],
          "heatmap": [
           {
            "colorbar": {
             "outlinewidth": 0,
             "ticks": ""
            },
            "colorscale": [
             [
              0,
              "#0d0887"
             ],
             [
              0.1111111111111111,
              "#46039f"
             ],
             [
              0.2222222222222222,
              "#7201a8"
             ],
             [
              0.3333333333333333,
              "#9c179e"
             ],
             [
              0.4444444444444444,
              "#bd3786"
             ],
             [
              0.5555555555555556,
              "#d8576b"
             ],
             [
              0.6666666666666666,
              "#ed7953"
             ],
             [
              0.7777777777777778,
              "#fb9f3a"
             ],
             [
              0.8888888888888888,
              "#fdca26"
             ],
             [
              1,
              "#f0f921"
             ]
            ],
            "type": "heatmap"
           }
          ],
          "heatmapgl": [
           {
            "colorbar": {
             "outlinewidth": 0,
             "ticks": ""
            },
            "colorscale": [
             [
              0,
              "#0d0887"
             ],
             [
              0.1111111111111111,
              "#46039f"
             ],
             [
              0.2222222222222222,
              "#7201a8"
             ],
             [
              0.3333333333333333,
              "#9c179e"
             ],
             [
              0.4444444444444444,
              "#bd3786"
             ],
             [
              0.5555555555555556,
              "#d8576b"
             ],
             [
              0.6666666666666666,
              "#ed7953"
             ],
             [
              0.7777777777777778,
              "#fb9f3a"
             ],
             [
              0.8888888888888888,
              "#fdca26"
             ],
             [
              1,
              "#f0f921"
             ]
            ],
            "type": "heatmapgl"
           }
          ],
          "histogram": [
           {
            "marker": {
             "colorbar": {
              "outlinewidth": 0,
              "ticks": ""
             }
            },
            "type": "histogram"
           }
          ],
          "histogram2d": [
           {
            "colorbar": {
             "outlinewidth": 0,
             "ticks": ""
            },
            "colorscale": [
             [
              0,
              "#0d0887"
             ],
             [
              0.1111111111111111,
              "#46039f"
             ],
             [
              0.2222222222222222,
              "#7201a8"
             ],
             [
              0.3333333333333333,
              "#9c179e"
             ],
             [
              0.4444444444444444,
              "#bd3786"
             ],
             [
              0.5555555555555556,
              "#d8576b"
             ],
             [
              0.6666666666666666,
              "#ed7953"
             ],
             [
              0.7777777777777778,
              "#fb9f3a"
             ],
             [
              0.8888888888888888,
              "#fdca26"
             ],
             [
              1,
              "#f0f921"
             ]
            ],
            "type": "histogram2d"
           }
          ],
          "histogram2dcontour": [
           {
            "colorbar": {
             "outlinewidth": 0,
             "ticks": ""
            },
            "colorscale": [
             [
              0,
              "#0d0887"
             ],
             [
              0.1111111111111111,
              "#46039f"
             ],
             [
              0.2222222222222222,
              "#7201a8"
             ],
             [
              0.3333333333333333,
              "#9c179e"
             ],
             [
              0.4444444444444444,
              "#bd3786"
             ],
             [
              0.5555555555555556,
              "#d8576b"
             ],
             [
              0.6666666666666666,
              "#ed7953"
             ],
             [
              0.7777777777777778,
              "#fb9f3a"
             ],
             [
              0.8888888888888888,
              "#fdca26"
             ],
             [
              1,
              "#f0f921"
             ]
            ],
            "type": "histogram2dcontour"
           }
          ],
          "mesh3d": [
           {
            "colorbar": {
             "outlinewidth": 0,
             "ticks": ""
            },
            "type": "mesh3d"
           }
          ],
          "parcoords": [
           {
            "line": {
             "colorbar": {
              "outlinewidth": 0,
              "ticks": ""
             }
            },
            "type": "parcoords"
           }
          ],
          "pie": [
           {
            "automargin": true,
            "type": "pie"
           }
          ],
          "scatter": [
           {
            "marker": {
             "colorbar": {
              "outlinewidth": 0,
              "ticks": ""
             }
            },
            "type": "scatter"
           }
          ],
          "scatter3d": [
           {
            "line": {
             "colorbar": {
              "outlinewidth": 0,
              "ticks": ""
             }
            },
            "marker": {
             "colorbar": {
              "outlinewidth": 0,
              "ticks": ""
             }
            },
            "type": "scatter3d"
           }
          ],
          "scattercarpet": [
           {
            "marker": {
             "colorbar": {
              "outlinewidth": 0,
              "ticks": ""
             }
            },
            "type": "scattercarpet"
           }
          ],
          "scattergeo": [
           {
            "marker": {
             "colorbar": {
              "outlinewidth": 0,
              "ticks": ""
             }
            },
            "type": "scattergeo"
           }
          ],
          "scattergl": [
           {
            "marker": {
             "colorbar": {
              "outlinewidth": 0,
              "ticks": ""
             }
            },
            "type": "scattergl"
           }
          ],
          "scattermapbox": [
           {
            "marker": {
             "colorbar": {
              "outlinewidth": 0,
              "ticks": ""
             }
            },
            "type": "scattermapbox"
           }
          ],
          "scatterpolar": [
           {
            "marker": {
             "colorbar": {
              "outlinewidth": 0,
              "ticks": ""
             }
            },
            "type": "scatterpolar"
           }
          ],
          "scatterpolargl": [
           {
            "marker": {
             "colorbar": {
              "outlinewidth": 0,
              "ticks": ""
             }
            },
            "type": "scatterpolargl"
           }
          ],
          "scatterternary": [
           {
            "marker": {
             "colorbar": {
              "outlinewidth": 0,
              "ticks": ""
             }
            },
            "type": "scatterternary"
           }
          ],
          "surface": [
           {
            "colorbar": {
             "outlinewidth": 0,
             "ticks": ""
            },
            "colorscale": [
             [
              0,
              "#0d0887"
             ],
             [
              0.1111111111111111,
              "#46039f"
             ],
             [
              0.2222222222222222,
              "#7201a8"
             ],
             [
              0.3333333333333333,
              "#9c179e"
             ],
             [
              0.4444444444444444,
              "#bd3786"
             ],
             [
              0.5555555555555556,
              "#d8576b"
             ],
             [
              0.6666666666666666,
              "#ed7953"
             ],
             [
              0.7777777777777778,
              "#fb9f3a"
             ],
             [
              0.8888888888888888,
              "#fdca26"
             ],
             [
              1,
              "#f0f921"
             ]
            ],
            "type": "surface"
           }
          ],
          "table": [
           {
            "cells": {
             "fill": {
              "color": "#EBF0F8"
             },
             "line": {
              "color": "white"
             }
            },
            "header": {
             "fill": {
              "color": "#C8D4E3"
             },
             "line": {
              "color": "white"
             }
            },
            "type": "table"
           }
          ]
         },
         "layout": {
          "annotationdefaults": {
           "arrowcolor": "#2a3f5f",
           "arrowhead": 0,
           "arrowwidth": 1
          },
          "coloraxis": {
           "colorbar": {
            "outlinewidth": 0,
            "ticks": ""
           }
          },
          "colorscale": {
           "diverging": [
            [
             0,
             "#8e0152"
            ],
            [
             0.1,
             "#c51b7d"
            ],
            [
             0.2,
             "#de77ae"
            ],
            [
             0.3,
             "#f1b6da"
            ],
            [
             0.4,
             "#fde0ef"
            ],
            [
             0.5,
             "#f7f7f7"
            ],
            [
             0.6,
             "#e6f5d0"
            ],
            [
             0.7,
             "#b8e186"
            ],
            [
             0.8,
             "#7fbc41"
            ],
            [
             0.9,
             "#4d9221"
            ],
            [
             1,
             "#276419"
            ]
           ],
           "sequential": [
            [
             0,
             "#0d0887"
            ],
            [
             0.1111111111111111,
             "#46039f"
            ],
            [
             0.2222222222222222,
             "#7201a8"
            ],
            [
             0.3333333333333333,
             "#9c179e"
            ],
            [
             0.4444444444444444,
             "#bd3786"
            ],
            [
             0.5555555555555556,
             "#d8576b"
            ],
            [
             0.6666666666666666,
             "#ed7953"
            ],
            [
             0.7777777777777778,
             "#fb9f3a"
            ],
            [
             0.8888888888888888,
             "#fdca26"
            ],
            [
             1,
             "#f0f921"
            ]
           ],
           "sequentialminus": [
            [
             0,
             "#0d0887"
            ],
            [
             0.1111111111111111,
             "#46039f"
            ],
            [
             0.2222222222222222,
             "#7201a8"
            ],
            [
             0.3333333333333333,
             "#9c179e"
            ],
            [
             0.4444444444444444,
             "#bd3786"
            ],
            [
             0.5555555555555556,
             "#d8576b"
            ],
            [
             0.6666666666666666,
             "#ed7953"
            ],
            [
             0.7777777777777778,
             "#fb9f3a"
            ],
            [
             0.8888888888888888,
             "#fdca26"
            ],
            [
             1,
             "#f0f921"
            ]
           ]
          },
          "colorway": [
           "#636efa",
           "#EF553B",
           "#00cc96",
           "#ab63fa",
           "#FFA15A",
           "#19d3f3",
           "#FF6692",
           "#B6E880",
           "#FF97FF",
           "#FECB52"
          ],
          "font": {
           "color": "#2a3f5f"
          },
          "geo": {
           "bgcolor": "white",
           "lakecolor": "white",
           "landcolor": "#E5ECF6",
           "showlakes": true,
           "showland": true,
           "subunitcolor": "white"
          },
          "hoverlabel": {
           "align": "left"
          },
          "hovermode": "closest",
          "mapbox": {
           "style": "light"
          },
          "paper_bgcolor": "white",
          "plot_bgcolor": "#E5ECF6",
          "polar": {
           "angularaxis": {
            "gridcolor": "white",
            "linecolor": "white",
            "ticks": ""
           },
           "bgcolor": "#E5ECF6",
           "radialaxis": {
            "gridcolor": "white",
            "linecolor": "white",
            "ticks": ""
           }
          },
          "scene": {
           "xaxis": {
            "backgroundcolor": "#E5ECF6",
            "gridcolor": "white",
            "gridwidth": 2,
            "linecolor": "white",
            "showbackground": true,
            "ticks": "",
            "zerolinecolor": "white"
           },
           "yaxis": {
            "backgroundcolor": "#E5ECF6",
            "gridcolor": "white",
            "gridwidth": 2,
            "linecolor": "white",
            "showbackground": true,
            "ticks": "",
            "zerolinecolor": "white"
           },
           "zaxis": {
            "backgroundcolor": "#E5ECF6",
            "gridcolor": "white",
            "gridwidth": 2,
            "linecolor": "white",
            "showbackground": true,
            "ticks": "",
            "zerolinecolor": "white"
           }
          },
          "shapedefaults": {
           "line": {
            "color": "#2a3f5f"
           }
          },
          "ternary": {
           "aaxis": {
            "gridcolor": "white",
            "linecolor": "white",
            "ticks": ""
           },
           "baxis": {
            "gridcolor": "white",
            "linecolor": "white",
            "ticks": ""
           },
           "bgcolor": "#E5ECF6",
           "caxis": {
            "gridcolor": "white",
            "linecolor": "white",
            "ticks": ""
           }
          },
          "title": {
           "x": 0.05
          },
          "xaxis": {
           "automargin": true,
           "gridcolor": "white",
           "linecolor": "white",
           "ticks": "",
           "title": {
            "standoff": 15
           },
           "zerolinecolor": "white",
           "zerolinewidth": 2
          },
          "yaxis": {
           "automargin": true,
           "gridcolor": "white",
           "linecolor": "white",
           "ticks": "",
           "title": {
            "standoff": 15
           },
           "zerolinecolor": "white",
           "zerolinewidth": 2
          }
         }
        },
        "title": {
         "text": "Correlation Matrix for variables"
        },
        "width": 850,
        "xaxis": {
         "tickfont": {
          "size": 12
         }
        },
        "yaxis": {
         "tickfont": {
          "size": 12
         }
        }
       }
      },
      "text/html": [
       "<div>\n",
       "        \n",
       "        \n",
       "            <div id=\"4ada6b65-2aa6-4245-9d8e-79fb7db1b720\" class=\"plotly-graph-div\" style=\"height:850px; width:850px;\"></div>\n",
       "            <script type=\"text/javascript\">\n",
       "                require([\"plotly\"], function(Plotly) {\n",
       "                    window.PLOTLYENV=window.PLOTLYENV || {};\n",
       "                    \n",
       "                if (document.getElementById(\"4ada6b65-2aa6-4245-9d8e-79fb7db1b720\")) {\n",
       "                    Plotly.newPlot(\n",
       "                        '4ada6b65-2aa6-4245-9d8e-79fb7db1b720',\n",
       "                        [{\"colorbar\": {\"title\": {\"side\": \"right\", \"text\": \"Pearson Correlation coefficient\"}}, \"colorscale\": [[0.0, \"#440154\"], [0.1111111111111111, \"#482878\"], [0.2222222222222222, \"#3e4989\"], [0.3333333333333333, \"#31688e\"], [0.4444444444444444, \"#26828e\"], [0.5555555555555556, \"#1f9e89\"], [0.6666666666666666, \"#35b779\"], [0.7777777777777778, \"#6ece58\"], [0.8888888888888888, \"#b5de2b\"], [1.0, \"#fde725\"]], \"type\": \"heatmap\", \"x\": [\"Time\", \"V1\", \"V2\", \"V3\", \"V4\", \"V5\", \"V6\", \"V7\", \"V8\", \"V9\", \"V10\", \"V11\", \"V12\", \"V13\", \"V14\", \"V15\", \"V16\", \"V17\", \"V18\", \"V19\", \"V20\", \"V21\", \"V22\", \"V23\", \"V24\", \"V25\", \"V26\", \"V27\", \"V28\", \"Amount\", \"Class\"], \"y\": [\"Time\", \"V1\", \"V2\", \"V3\", \"V4\", \"V5\", \"V6\", \"V7\", \"V8\", \"V9\", \"V10\", \"V11\", \"V12\", \"V13\", \"V14\", \"V15\", \"V16\", \"V17\", \"V18\", \"V19\", \"V20\", \"V21\", \"V22\", \"V23\", \"V24\", \"V25\", \"V26\", \"V27\", \"V28\", \"Amount\", \"Class\"], \"z\": [[1.0, 0.11739630597839038, -0.010593327121342824, -0.4196181722115274, -0.10526020544572907, 0.17307212331039132, -0.06301647037315185, 0.08471437480499064, -0.036949434690009234, -0.008660433697683826, 0.030616628592320998, -0.247689437486676, 0.12434806837193435, -0.06590202369761745, -0.09875681920622573, -0.18345327348103926, 0.011902867722434169, -0.0732972133177982, 0.0904381325486108, 0.028975302561135702, -0.050866018468354125, 0.04473572628908131, 0.14405905486146361, 0.05114236494177459, -0.01618186845930756, -0.23308279059831727, -0.04140710060605869, -0.005134591123997185, -0.00941268817905229, -0.010596373389027794, -0.012322570929207388], [0.11739630597839038, 1.0, 4.697350469303551e-17, -1.4243902059686005e-15, 1.7553161779289217e-17, 6.391161669471292e-17, 2.3980709770418513e-16, 1.9915501374737307e-15, -9.490675007800317e-17, 2.169581213429927e-16, 7.433820311961892e-17, 2.438579939865168e-16, 2.422085686197315e-16, -2.1154575974358543e-16, 9.352582101868325e-16, -3.252450522649766e-16, 6.308789420709271e-16, -5.011523652693261e-16, 2.870125410612712e-16, 1.8181284220979656e-16, 1.0369590992129756e-16, -1.7550716645972822e-16, 7.477367318608595e-17, 9.8087050691241e-16, 7.354268947261299e-17, -9.80535825835762e-16, -8.621897115333697e-17, 3.208232666296793e-17, 9.820892381030474e-16, -0.2277086529223733, -0.10134729859476972], [-0.010593327121342824, 4.697350469303551e-17, 1.0, 2.5121750714409137e-16, -1.1263879227470274e-16, -2.0398681269046878e-16, 5.024680187208391e-16, 3.966485971893093e-16, -4.413983699818799e-17, -5.728717684247186e-17, -4.782388028758161e-16, 9.468995338458089e-16, -6.588252269838018e-16, 3.8545209124444075e-16, -2.5410356302730153e-16, 2.831060398874419e-16, 4.9340966407057414e-17, -9.88300831623274e-16, 2.6366536758978006e-16, 9.528279876906872e-17, -9.309954234873892e-16, 8.444409270662718e-17, 2.500829887528209e-16, 1.0595623755274829e-16, -8.142353883260877e-18, -4.2618939369731003e-17, 2.6016216813109624e-16, -4.478471686789538e-16, -3.6764149016336483e-16, -0.5314089393279761, 0.09128865034433538], [-0.4196181722115274, -1.4243902059686005e-15, 2.5121750714409137e-16, 1.0, -3.416909563582894e-16, -1.4365139542036057e-15, 1.4315807755940398e-15, 2.168574002566472e-15, 3.43311332136107e-16, -4.2337696756874986e-16, 6.289266548633001e-16, -5.5017576044096325e-17, 2.2065217643485405e-16, -6.883374817728902e-16, 4.2713356664797924e-16, 1.1227556391297603e-16, 1.1833638474388061e-15, 4.5766190576473034e-17, 5.427964933764996e-16, 2.5767730840927773e-16, -9.429297063823965e-16, -2.9719688089311593e-17, 4.64825857532626e-16, 2.1152064352247126e-17, -9.35163727807543e-17, 4.77116409549272e-16, 6.52150102710198e-16, 6.23983163821225e-16, 7.726947968617977e-16, -0.2108804752898809, -0.19296082706681578], [-0.10526020544572907, 1.7553161779289217e-17, -1.1263879227470274e-16, -3.416909563582894e-16, 1.0, -1.9409286439617865e-15, -2.7126586886236714e-16, 1.556329701171321e-16, 5.195643066686186e-16, 3.859584685437448e-16, 6.05549045249224e-16, -2.083600390696615e-16, -5.657963073632406e-16, -1.5061286509824824e-16, -8.522435353909579e-17, -1.5077183944666259e-16, -6.939204446250171e-16, -4.397925045613137e-16, 1.4936674701942726e-16, -2.656938197861949e-16, -3.223122626397701e-16, -9.976949748132026e-17, 2.0999222414130102e-16, 6.002528368080155e-17, 2.229738048262382e-16, 5.394585327676311e-16, -6.179751205718167e-16, -6.403423118940277e-17, -5.863663716792992e-17, 0.09873166631355308, 0.1334474862385853], [0.17307212331039132, 6.391161669471292e-17, -2.0398681269046878e-16, -1.4365139542036057e-15, -1.9409286439617865e-15, 1.0, 7.92636400349042e-16, -4.209851031726028e-16, 7.589187042426899e-16, 4.205205598981968e-16, -6.601715637863726e-16, 7.342758743248868e-16, 3.761032796473548e-16, -9.578658627900394e-16, -3.6348033472491274e-16, -5.13261964319789e-16, -3.5170755100094507e-16, 1.4257292172260904e-16, 1.1095251803361662e-15, -3.1382336312527622e-16, 2.0760476522387344e-16, -1.3687009808916957e-16, 5.060028886806578e-16, 1.6375955892256685e-16, -9.286095241008335e-16, 5.62510173430715e-16, 9.144690397102394e-16, 4.465959872943668e-16, -3.299167045653117e-16, -0.3863562561629983, -0.09497429899115034], [-0.06301647037315185, 2.3980709770418513e-16, 5.024680187208391e-16, 1.4315807755940398e-15, -2.7126586886236714e-16, 7.92636400349042e-16, 1.0, 1.4294258928140596e-16, -1.7074207710631247e-16, 1.1144466036868126e-16, 2.850776088868655e-16, 4.865798820483105e-16, 2.1405887949496597e-16, -2.268061188129328e-16, 3.452800739121104e-16, -6.368110803667889e-18, -2.477917428814335e-16, 3.56758194056749e-16, 2.8114735521402637e-16, 2.717166605431606e-16, 1.89863788859714e-16, -1.5759029882239836e-16, -3.3629021985502797e-16, -7.232186079944992e-17, -1.2618666737393462e-15, 1.0819325397375282e-15, -2.378414330737614e-16, -2.6238176403384213e-16, 4.813154962515046e-16, 0.21598118022524546, -0.04364316069982903], [0.08471437480499064, 1.9915501374737307e-15, 3.966485971893093e-16, 2.168574002566472e-15, 1.556329701171321e-16, -4.209851031726028e-16, 1.4294258928140596e-16, 1.0, -8.691834007321221e-17, 7.933251258248913e-16, 3.0433325508713744e-17, -1.0841048725436476e-15, 1.5100448298714108e-15, -9.892325329273464e-17, -1.7294619304292526e-16, 1.9368323437101253e-17, 2.8936720721427667e-16, 1.1496920729508888e-15, -1.116788768994299e-16, -2.874017355022162e-16, 1.7442418093476607e-16, 1.9386040332758097e-16, -1.0581305571733644e-15, 2.327910850139693e-16, -2.5897271089901555e-17, 1.1741685219656185e-15, -7.334506706505357e-16, -5.886824870718553e-16, -6.836763971408741e-17, 0.3973112781816456, -0.1872565915137108], [-0.036949434690009234, -9.490675007800317e-17, -4.413983699818799e-17, 3.43311332136107e-16, 5.195643066686186e-16, 7.589187042426899e-16, -1.7074207710631247e-16, -8.691834007321221e-17, 1.0, 2.900829164006858e-16, 9.051847046162048e-17, 1.9547468907111642e-16, -6.266057335149056e-17, -2.382948219078945e-16, -1.131098166453681e-16, 2.0214910344084665e-16, 5.027191539695068e-16, -3.508776882047421e-16, -4.0938516593066296e-16, -5.339821294317655e-16, -1.0955343839503754e-16, -2.412439149228703e-16, 5.475558954149982e-16, 3.8971042017378507e-16, -1.8029674162345125e-16, -1.3907907337517785e-16, -1.2099749799703609e-16, 1.7336334457336845e-16, -4.484325128855218e-16, -0.10307909564496406, 0.01987512391473314], [-0.008660433697683826, 2.169581213429927e-16, -5.728717684247186e-17, -4.2337696756874986e-16, 3.859584685437448e-16, 4.205205598981968e-16, 1.1144466036868126e-16, 7.933251258248913e-16, 2.900829164006858e-16, 1.0, -2.771760907024676e-16, 4.682341453502196e-16, -2.445230126531115e-15, -2.650350817714165e-16, 2.3433166957553687e-16, -1.58810520463812e-15, -3.251906339425996e-16, 6.53599218181438e-16, 1.20384303130105e-16, 1.1207517610035042e-16, -4.340941046017256e-16, 4.5783885586743406e-17, 2.87185507390413e-17, 5.929285593829755e-16, -2.3463847260570976e-16, 1.0996453453566545e-15, -1.388725465004255e-15, -2.287413539277934e-16, 9.146778793869368e-16, -0.044245601964438844, -0.09773268607377422], [0.030616628592320998, 7.433820311961892e-17, -4.782388028758161e-16, 6.289266548633001e-16, 6.05549045249224e-16, -6.601715637863726e-16, 2.850776088868655e-16, 3.0433325508713744e-17, 9.051847046162048e-17, -2.771760907024676e-16, 1.0, 2.6244478203421265e-16, 1.4399071956675003e-15, -8.853582292873185e-16, 2.62251313455413e-16, 7.615271975860196e-16, -1.7059225660821137e-15, 3.674182481840675e-15, 3.9867101885812585e-16, 2.6630382605287952e-17, -1.1418883004372414e-15, 8.089504044058091e-16, -6.707597511111739e-16, 3.8097317653039156e-16, -4.032805822808412e-17, -2.863812839160603e-16, -2.554293125824367e-16, -3.1032391006030947e-16, -1.5159343333064705e-16, -0.10150214079141875, -0.21688294364035493], [-0.247689437486676, 2.438579939865168e-16, 9.468995338458089e-16, -5.5017576044096325e-17, -2.083600390696615e-16, 7.342758743248868e-16, 4.865798820483105e-16, -1.0841048725436476e-15, 1.9547468907111642e-16, 4.682341453502196e-16, 2.6244478203421265e-16, 1.0, 3.1760289930647844e-15, 1.9458101918841887e-15, 3.6371603937557764e-17, 4.801345414477026e-16, -6.173867121161474e-16, 8.719713249574576e-16, 5.978229401547032e-16, 3.216337735443194e-16, -2.31018892156596e-16, -3.9118928386087586e-16, -3.8116399467973734e-17, 2.2320067070374305e-16, 1.2198486681987171e-15, -4.567634591202646e-16, -1.11097620127e-16, -2.635826882118173e-16, -3.091913754851766e-16, 0.00010397702176390005, 0.15487564474346413], [0.12434806837193435, 2.422085686197315e-16, -6.588252269838018e-16, 2.2065217643485405e-16, -5.657963073632406e-16, 3.761032796473548e-16, 2.1405887949496597e-16, 1.5100448298714108e-15, -6.266057335149056e-17, -2.445230126531115e-15, 1.4399071956675003e-15, 3.1760289930647844e-15, 1.0, -2.30614867282284e-14, 1.7616523139202088e-16, 8.858185553175463e-16, 3.5304179219174667e-16, -9.86981350565337e-16, -5.881813610718528e-16, 9.282566332879422e-17, 1.2769764319805682e-16, 3.229576349501141e-16, -5.903992319081279e-16, 1.392161909964573e-16, 4.901644218121291e-16, 5.053736216125121e-16, -5.75932134590796e-16, -2.312619227348268e-16, 7.327446176608607e-16, -0.009541802153203993, -0.2605929248764044], [-0.06590202369761745, -2.1154575974358543e-16, 3.8545209124444075e-16, -6.883374817728902e-16, -1.5061286509824824e-16, -9.578658627900394e-16, -2.268061188129328e-16, -9.892325329273464e-17, -2.382948219078945e-16, -2.650350817714165e-16, -8.853582292873185e-16, 1.9458101918841887e-15, -2.30614867282284e-14, 1.0, 2.8414278940572312e-15, -4.728047856632067e-16, 3.361767224109221e-16, -3.18790496639285e-16, 3.192534738009977e-16, -2.5949880172362765e-16, 2.345665429224732e-18, 9.499130222115147e-17, -2.6597099815020735e-17, -5.88430404726872e-16, -5.47054669764163e-16, 8.066738102868638e-17, -2.1215175292340002e-16, -4.520413993295758e-16, 1.0495413404678255e-15, 0.005293409030420574, -0.004569778799447076], [-0.09875681920622573, 9.352582101868325e-16, -2.5410356302730153e-16, 4.2713356664797924e-16, -8.522435353909579e-17, -3.6348033472491274e-16, 3.452800739121104e-16, -1.7294619304292526e-16, -1.131098166453681e-16, 2.3433166957553687e-16, 2.62251313455413e-16, 3.6371603937557764e-17, 1.7616523139202088e-16, 2.8414278940572312e-15, 1.0, 4.165737866592706e-17, 7.910366880885718e-17, 4.62614026314667e-15, 8.980954985521477e-17, -1.0614860979537985e-16, -1.7894327001031818e-16, 1.6341411879944447e-17, 3.4396990290023924e-16, 7.620728041131482e-17, 2.335748697225345e-16, -2.6067831133798455e-16, -6.580254460910154e-18, 1.2857703641311588e-16, 2.5032709535183875e-15, 0.033751171763095715, -0.30254369580346246], [-0.18345327348103926, -3.252450522649766e-16, 2.831060398874419e-16, 1.1227556391297603e-16, -1.5077183944666259e-16, -5.13261964319789e-16, -6.368110803667889e-18, 1.9368323437101253e-17, 2.0214910344084665e-16, -1.58810520463812e-15, 7.615271975860196e-16, 4.801345414477026e-16, 8.858185553175463e-16, -4.728047856632067e-16, 4.165737866592706e-17, 1.0, 1.3359039962288514e-15, 3.208310114843514e-16, 7.538156191279672e-16, -8.556257334752408e-16, 3.2404754077826765e-16, 1.9474583639622415e-17, -8.936817433611573e-16, 1.1198267483250852e-16, -4.589688645071322e-16, 3.86974028599292e-16, 3.7610941948455377e-16, -1.265234759498814e-15, -1.063285849840148e-15, -0.0029858481245596145, -0.004223402267843587], [0.011902867722434169, 6.308789420709271e-16, 4.9340966407057414e-17, 1.1833638474388061e-15, -6.939204446250171e-16, -3.5170755100094507e-16, -2.477917428814335e-16, 2.8936720721427667e-16, 5.027191539695068e-16, -3.251906339425996e-16, -1.7059225660821137e-15, -6.173867121161474e-16, 3.5304179219174667e-16, 3.361767224109221e-16, 7.910366880885718e-17, 1.3359039962288514e-15, 1.0, 1.8542965976048037e-15, -3.0151186901909073e-15, 1.041659426265336e-15, 3.9034563979213206e-16, -3.927400820166545e-16, 3.8783841030638234e-17, 8.519669711724586e-16, -4.2892390537046083e-16, -6.644103895769482e-16, -5.186502709462185e-16, 7.82003813125417e-16, 8.637186332774415e-16, -0.00390952671355957, -0.1965389403034051], [-0.0732972133177982, -5.011523652693261e-16, -9.88300831623274e-16, 4.5766190576473034e-17, -4.397925045613137e-16, 1.4257292172260904e-16, 3.56758194056749e-16, 1.1496920729508888e-15, -3.508776882047421e-16, 6.53599218181438e-16, 3.674182481840675e-15, 8.719713249574576e-16, -9.86981350565337e-16, -3.18790496639285e-16, 4.62614026314667e-15, 3.208310114843514e-16, 1.8542965976048037e-15, 1.0, -5.5847142278321085e-15, -3.9167912841066605e-16, -9.88743100644142e-16, -7.753967320352673e-16, -8.389702985770906e-16, 5.367784007995552e-16, -5.543631193082124e-17, 4.82206756659376e-16, 4.870302476457008e-16, 8.844372917976604e-16, -2.1826917895047174e-16, 0.007309042076999584, -0.32648106724269765], [0.0904381325486108, 2.870125410612712e-16, 2.6366536758978006e-16, 5.427964933764996e-16, 1.4936674701942726e-16, 1.1095251803361662e-15, 2.8114735521402637e-16, -1.116788768994299e-16, -4.0938516593066296e-16, 1.20384303130105e-16, 3.9867101885812585e-16, 5.978229401547032e-16, -5.881813610718528e-16, 3.192534738009977e-16, 8.980954985521477e-17, 7.538156191279672e-16, -3.0151186901909073e-15, -5.5847142278321085e-15, 1.0, -2.4241848837623725e-15, -4.942764229999567e-16, -1.1409725626328734e-15, -8.662635295568186e-17, -3.6242359808456257e-16, -1.1260429012275976e-16, -2.31085578160587e-16, 3.1839636603217856e-16, 2.435169894645409e-16, 8.844995437650056e-16, 0.03565034071999314, -0.11148525388869356], [0.028975302561135702, 1.8181284220979656e-16, 9.528279876906872e-17, 2.5767730840927773e-16, -2.656938197861949e-16, -3.1382336312527622e-16, 2.717166605431606e-16, -2.874017355022162e-16, -5.339821294317655e-16, 1.1207517610035042e-16, 2.6630382605287952e-17, 3.216337735443194e-16, 9.282566332879422e-17, -2.5949880172362765e-16, -1.0614860979537985e-16, -8.556257334752408e-16, 1.041659426265336e-15, -3.9167912841066605e-16, -2.4241848837623725e-15, 1.0, 2.938450393284115e-16, 4.032541118721999e-16, -9.690436133618996e-16, 5.733798477170509e-16, 3.1267155498318856e-17, 7.415355207360278e-16, 5.614353636423969e-16, -1.1130348924995528e-16, -1.3758426994273998e-15, -0.056150787231150925, 0.03478301303640623], [-0.050866018468354125, 1.0369590992129756e-16, -9.309954234873892e-16, -9.429297063823965e-16, -3.223122626397701e-16, 2.0760476522387344e-16, 1.89863788859714e-16, 1.7442418093476607e-16, -1.0955343839503754e-16, -4.340941046017256e-16, -1.1418883004372414e-15, -2.31018892156596e-16, 1.2769764319805682e-16, 2.345665429224732e-18, -1.7894327001031818e-16, 3.2404754077826765e-16, 3.9034563979213206e-16, -9.88743100644142e-16, -4.942764229999567e-16, 2.938450393284115e-16, 1.0, -1.1208279014696702e-15, 1.105842137377626e-15, 4.986738551320919e-16, 1.6374877113131516e-16, -1.51824203691294e-16, -2.975081370539997e-16, -1.4460692304257987e-15, -1.1335786671526752e-16, 0.3394034045461327, 0.020090324196912198], [0.04473572628908131, -1.7550716645972822e-16, 8.444409270662718e-17, -2.9719688089311593e-17, -9.976949748132026e-17, -1.3687009808916957e-16, -1.5759029882239836e-16, 1.9386040332758097e-16, -2.412439149228703e-16, 4.5783885586743406e-17, 8.089504044058091e-16, -3.9118928386087586e-16, 3.229576349501141e-16, 9.499130222115147e-17, 1.6341411879944447e-17, 1.9474583639622415e-17, -3.927400820166545e-16, -7.753967320352673e-16, -1.1409725626328734e-15, 4.032541118721999e-16, -1.1208279014696702e-15, 1.0, 3.905947731585261e-15, 6.127322976607841e-16, 1.298253962240953e-16, -2.826293290019709e-16, -4.907301464167065e-16, -1.033402834335688e-15, 5.132234418316568e-16, 0.10599892763770487, 0.0404133806104527], [0.14405905486146361, 7.477367318608595e-17, 2.500829887528209e-16, 4.64825857532626e-16, 2.0999222414130102e-16, 5.060028886806578e-16, -3.3629021985502797e-16, -1.0581305571733644e-15, 5.475558954149982e-16, 2.87185507390413e-17, -6.707597511111739e-16, -3.8116399467973734e-17, -5.903992319081279e-16, -2.6597099815020735e-17, 3.4396990290023924e-16, -8.936817433611573e-16, 3.8783841030638234e-17, -8.389702985770906e-16, -8.662635295568186e-17, -9.690436133618996e-16, 1.105842137377626e-15, 3.905947731585261e-15, 1.0, 3.130811611743313e-16, 1.1508293277186672e-17, -6.078985686650928e-16, -8.477049529791709e-16, -1.2949098332750935e-16, -3.0213763383560694e-16, -0.06480064637319197, 0.0008053175052959154], [0.05114236494177459, 9.8087050691241e-16, 1.0595623755274829e-16, 2.1152064352247126e-17, 6.002528368080155e-17, 1.6375955892256685e-16, -7.232186079944992e-17, 2.327910850139693e-16, 3.8971042017378507e-16, 5.929285593829755e-16, 3.8097317653039156e-16, 2.2320067070374305e-16, 1.392161909964573e-16, -5.88430404726872e-16, 7.620728041131482e-17, 1.1198267483250852e-16, 8.519669711724586e-16, 5.367784007995552e-16, -3.6242359808456257e-16, 5.733798477170509e-16, 4.986738551320919e-16, 6.127322976607841e-16, 3.130811611743313e-16, 1.0, -4.4112712897152573e-17, -9.93836170323736e-16, 8.848699877795545e-16, 5.524044459353367e-16, 9.029820988356278e-16, -0.11263255363252014, -0.002685155740242337], [-0.01618186845930756, 7.354268947261299e-17, -8.142353883260877e-18, -9.35163727807543e-17, 2.229738048262382e-16, -9.286095241008335e-16, -1.2618666737393462e-15, -2.5897271089901555e-17, -1.8029674162345125e-16, -2.3463847260570976e-16, -4.032805822808412e-17, 1.2198486681987171e-15, 4.901644218121291e-16, -5.47054669764163e-16, 2.335748697225345e-16, -4.589688645071322e-16, -4.2892390537046083e-16, -5.543631193082124e-17, -1.1260429012275976e-16, 3.1267155498318856e-17, 1.6374877113131516e-16, 1.298253962240953e-16, 1.1508293277186672e-17, -4.4112712897152573e-17, 1.0, 1.5573175937621677e-15, 3.1291949759272247e-16, -3.736529028239242e-16, -2.259275263071112e-16, 0.0051462174307666435, -0.0072209067159303], [-0.23308279059831727, -9.80535825835762e-16, -4.2618939369731003e-17, 4.77116409549272e-16, 5.394585327676311e-16, 5.62510173430715e-16, 1.0819325397375282e-15, 1.1741685219656185e-15, -1.3907907337517785e-16, 1.0996453453566545e-15, -2.863812839160603e-16, -4.567634591202646e-16, 5.053736216125121e-16, 8.066738102868638e-17, -2.6067831133798455e-16, 3.86974028599292e-16, -6.644103895769482e-16, 4.82206756659376e-16, -2.31085578160587e-16, 7.415355207360278e-16, -1.51824203691294e-16, -2.826293290019709e-16, -6.078985686650928e-16, -9.93836170323736e-16, 1.5573175937621677e-15, 1.0, 2.8108839756315866e-15, -6.107118183523937e-16, 3.3993749490546135e-16, -0.04783686317613344, 0.0033077055972894065], [-0.04140710060605869, -8.621897115333697e-17, 2.6016216813109624e-16, 6.52150102710198e-16, -6.179751205718167e-16, 9.144690397102394e-16, -2.378414330737614e-16, -7.334506706505357e-16, -1.2099749799703609e-16, -1.388725465004255e-15, -2.554293125824367e-16, -1.11097620127e-16, -5.75932134590796e-16, -2.1215175292340002e-16, -6.580254460910154e-18, 3.7610941948455377e-16, -5.186502709462185e-16, 4.870302476457008e-16, 3.1839636603217856e-16, 5.614353636423969e-16, -2.975081370539997e-16, -4.907301464167065e-16, -8.477049529791709e-16, 8.848699877795545e-16, 3.1291949759272247e-16, 2.8108839756315866e-15, 1.0, -3.383860803125168e-16, -3.7514028339105706e-16, -0.0032080371509785287, 0.004455397501269385], [-0.005134591123997185, 3.208232666296793e-17, -4.478471686789538e-16, 6.23983163821225e-16, -6.403423118940277e-17, 4.465959872943668e-16, -2.6238176403384213e-16, -5.886824870718553e-16, 1.7336334457336845e-16, -2.287413539277934e-16, -3.1032391006030947e-16, -2.635826882118173e-16, -2.312619227348268e-16, -4.520413993295758e-16, 1.2857703641311588e-16, -1.265234759498814e-15, 7.82003813125417e-16, 8.844372917976604e-16, 2.435169894645409e-16, -1.1130348924995528e-16, -1.4460692304257987e-15, -1.033402834335688e-15, -1.2949098332750935e-16, 5.524044459353367e-16, -3.736529028239242e-16, -6.107118183523937e-16, -3.383860803125168e-16, 1.0, -3.7701242306407464e-16, 0.028825463424356136, 0.017579728189458178], [-0.00941268817905229, 9.820892381030474e-16, -3.6764149016336483e-16, 7.726947968617977e-16, -5.863663716792992e-17, -3.299167045653117e-16, 4.813154962515046e-16, -6.836763971408741e-17, -4.484325128855218e-16, 9.146778793869368e-16, -1.5159343333064705e-16, -3.091913754851766e-16, 7.327446176608607e-16, 1.0495413404678255e-15, 2.5032709535183875e-15, -1.063285849840148e-15, 8.637186332774415e-16, -2.1826917895047174e-16, 8.844995437650056e-16, -1.3758426994273998e-15, -1.1335786671526752e-16, 5.132234418316568e-16, -3.0213763383560694e-16, 9.029820988356278e-16, -2.259275263071112e-16, 3.3993749490546135e-16, -3.7514028339105706e-16, -3.7701242306407464e-16, 1.0, 0.010258215893042686, 0.009536040916206127], [-0.010596373389027794, -0.2277086529223733, -0.5314089393279761, -0.2108804752898809, 0.09873166631355308, -0.3863562561629983, 0.21598118022524546, 0.3973112781816456, -0.10307909564496406, -0.044245601964438844, -0.10150214079141875, 0.00010397702176390005, -0.009541802153203993, 0.005293409030420574, 0.033751171763095715, -0.0029858481245596145, -0.00390952671355957, 0.007309042076999584, 0.03565034071999314, -0.056150787231150925, 0.3394034045461327, 0.10599892763770487, -0.06480064637319197, -0.11263255363252014, 0.0051462174307666435, -0.04783686317613344, -0.0032080371509785287, 0.028825463424356136, 0.010258215893042686, 1.0, 0.0056317530067495365], [-0.012322570929207388, -0.10134729859476972, 0.09128865034433538, -0.19296082706681578, 0.1334474862385853, -0.09497429899115034, -0.04364316069982903, -0.1872565915137108, 0.01987512391473314, -0.09773268607377422, -0.21688294364035493, 0.15487564474346413, -0.2605929248764044, -0.004569778799447076, -0.30254369580346246, -0.004223402267843587, -0.1965389403034051, -0.32648106724269765, -0.11148525388869356, 0.03478301303640623, 0.020090324196912198, 0.0404133806104527, 0.0008053175052959154, -0.002685155740242337, -0.0072209067159303, 0.0033077055972894065, 0.004455397501269385, 0.017579728189458178, 0.009536040916206127, 0.0056317530067495365, 1.0]]}],\n",
       "                        {\"autosize\": false, \"height\": 850, \"margin\": {\"b\": 10, \"l\": 110, \"r\": 0, \"t\": 25}, \"template\": {\"data\": {\"bar\": [{\"error_x\": {\"color\": \"#2a3f5f\"}, \"error_y\": {\"color\": \"#2a3f5f\"}, \"marker\": {\"line\": {\"color\": \"#E5ECF6\", \"width\": 0.5}}, \"type\": \"bar\"}], \"barpolar\": [{\"marker\": {\"line\": {\"color\": \"#E5ECF6\", \"width\": 0.5}}, \"type\": \"barpolar\"}], \"carpet\": [{\"aaxis\": {\"endlinecolor\": \"#2a3f5f\", \"gridcolor\": \"white\", \"linecolor\": \"white\", \"minorgridcolor\": \"white\", \"startlinecolor\": \"#2a3f5f\"}, \"baxis\": {\"endlinecolor\": \"#2a3f5f\", \"gridcolor\": \"white\", \"linecolor\": \"white\", \"minorgridcolor\": \"white\", \"startlinecolor\": \"#2a3f5f\"}, \"type\": \"carpet\"}], \"choropleth\": [{\"colorbar\": {\"outlinewidth\": 0, \"ticks\": \"\"}, \"type\": \"choropleth\"}], \"contour\": [{\"colorbar\": {\"outlinewidth\": 0, \"ticks\": \"\"}, \"colorscale\": [[0.0, \"#0d0887\"], [0.1111111111111111, \"#46039f\"], [0.2222222222222222, \"#7201a8\"], [0.3333333333333333, \"#9c179e\"], [0.4444444444444444, \"#bd3786\"], [0.5555555555555556, \"#d8576b\"], [0.6666666666666666, \"#ed7953\"], [0.7777777777777778, \"#fb9f3a\"], [0.8888888888888888, \"#fdca26\"], [1.0, \"#f0f921\"]], \"type\": \"contour\"}], \"contourcarpet\": [{\"colorbar\": {\"outlinewidth\": 0, \"ticks\": \"\"}, \"type\": \"contourcarpet\"}], \"heatmap\": [{\"colorbar\": {\"outlinewidth\": 0, \"ticks\": \"\"}, \"colorscale\": [[0.0, \"#0d0887\"], [0.1111111111111111, \"#46039f\"], [0.2222222222222222, \"#7201a8\"], [0.3333333333333333, \"#9c179e\"], [0.4444444444444444, \"#bd3786\"], [0.5555555555555556, \"#d8576b\"], [0.6666666666666666, \"#ed7953\"], [0.7777777777777778, \"#fb9f3a\"], [0.8888888888888888, \"#fdca26\"], [1.0, \"#f0f921\"]], \"type\": \"heatmap\"}], \"heatmapgl\": [{\"colorbar\": {\"outlinewidth\": 0, \"ticks\": \"\"}, \"colorscale\": [[0.0, \"#0d0887\"], [0.1111111111111111, \"#46039f\"], [0.2222222222222222, \"#7201a8\"], [0.3333333333333333, \"#9c179e\"], [0.4444444444444444, \"#bd3786\"], [0.5555555555555556, \"#d8576b\"], [0.6666666666666666, \"#ed7953\"], [0.7777777777777778, \"#fb9f3a\"], [0.8888888888888888, \"#fdca26\"], [1.0, \"#f0f921\"]], \"type\": \"heatmapgl\"}], \"histogram\": [{\"marker\": {\"colorbar\": {\"outlinewidth\": 0, \"ticks\": \"\"}}, \"type\": \"histogram\"}], \"histogram2d\": [{\"colorbar\": {\"outlinewidth\": 0, \"ticks\": \"\"}, \"colorscale\": [[0.0, \"#0d0887\"], [0.1111111111111111, \"#46039f\"], [0.2222222222222222, \"#7201a8\"], [0.3333333333333333, \"#9c179e\"], [0.4444444444444444, \"#bd3786\"], [0.5555555555555556, \"#d8576b\"], [0.6666666666666666, \"#ed7953\"], [0.7777777777777778, \"#fb9f3a\"], [0.8888888888888888, \"#fdca26\"], [1.0, \"#f0f921\"]], \"type\": \"histogram2d\"}], \"histogram2dcontour\": [{\"colorbar\": {\"outlinewidth\": 0, \"ticks\": \"\"}, \"colorscale\": [[0.0, \"#0d0887\"], [0.1111111111111111, \"#46039f\"], [0.2222222222222222, \"#7201a8\"], [0.3333333333333333, \"#9c179e\"], [0.4444444444444444, \"#bd3786\"], [0.5555555555555556, \"#d8576b\"], [0.6666666666666666, \"#ed7953\"], [0.7777777777777778, \"#fb9f3a\"], [0.8888888888888888, \"#fdca26\"], [1.0, \"#f0f921\"]], \"type\": \"histogram2dcontour\"}], \"mesh3d\": [{\"colorbar\": {\"outlinewidth\": 0, \"ticks\": \"\"}, \"type\": \"mesh3d\"}], \"parcoords\": [{\"line\": {\"colorbar\": {\"outlinewidth\": 0, \"ticks\": \"\"}}, \"type\": \"parcoords\"}], \"pie\": [{\"automargin\": true, \"type\": \"pie\"}], \"scatter\": [{\"marker\": {\"colorbar\": {\"outlinewidth\": 0, \"ticks\": \"\"}}, \"type\": \"scatter\"}], \"scatter3d\": [{\"line\": {\"colorbar\": {\"outlinewidth\": 0, \"ticks\": \"\"}}, \"marker\": {\"colorbar\": {\"outlinewidth\": 0, \"ticks\": \"\"}}, \"type\": \"scatter3d\"}], \"scattercarpet\": [{\"marker\": {\"colorbar\": {\"outlinewidth\": 0, \"ticks\": \"\"}}, \"type\": \"scattercarpet\"}], \"scattergeo\": [{\"marker\": {\"colorbar\": {\"outlinewidth\": 0, \"ticks\": \"\"}}, \"type\": \"scattergeo\"}], \"scattergl\": [{\"marker\": {\"colorbar\": {\"outlinewidth\": 0, \"ticks\": \"\"}}, \"type\": \"scattergl\"}], \"scattermapbox\": [{\"marker\": {\"colorbar\": {\"outlinewidth\": 0, \"ticks\": \"\"}}, \"type\": \"scattermapbox\"}], \"scatterpolar\": [{\"marker\": {\"colorbar\": {\"outlinewidth\": 0, \"ticks\": \"\"}}, \"type\": \"scatterpolar\"}], \"scatterpolargl\": [{\"marker\": {\"colorbar\": {\"outlinewidth\": 0, \"ticks\": \"\"}}, \"type\": \"scatterpolargl\"}], \"scatterternary\": [{\"marker\": {\"colorbar\": {\"outlinewidth\": 0, \"ticks\": \"\"}}, \"type\": \"scatterternary\"}], \"surface\": [{\"colorbar\": {\"outlinewidth\": 0, \"ticks\": \"\"}, \"colorscale\": [[0.0, \"#0d0887\"], [0.1111111111111111, \"#46039f\"], [0.2222222222222222, \"#7201a8\"], [0.3333333333333333, \"#9c179e\"], [0.4444444444444444, \"#bd3786\"], [0.5555555555555556, \"#d8576b\"], [0.6666666666666666, \"#ed7953\"], [0.7777777777777778, \"#fb9f3a\"], [0.8888888888888888, \"#fdca26\"], [1.0, \"#f0f921\"]], \"type\": \"surface\"}], \"table\": [{\"cells\": {\"fill\": {\"color\": \"#EBF0F8\"}, \"line\": {\"color\": \"white\"}}, \"header\": {\"fill\": {\"color\": \"#C8D4E3\"}, \"line\": {\"color\": \"white\"}}, \"type\": \"table\"}]}, \"layout\": {\"annotationdefaults\": {\"arrowcolor\": \"#2a3f5f\", \"arrowhead\": 0, \"arrowwidth\": 1}, \"coloraxis\": {\"colorbar\": {\"outlinewidth\": 0, \"ticks\": \"\"}}, \"colorscale\": {\"diverging\": [[0, \"#8e0152\"], [0.1, \"#c51b7d\"], [0.2, \"#de77ae\"], [0.3, \"#f1b6da\"], [0.4, \"#fde0ef\"], [0.5, \"#f7f7f7\"], [0.6, \"#e6f5d0\"], [0.7, \"#b8e186\"], [0.8, \"#7fbc41\"], [0.9, \"#4d9221\"], [1, \"#276419\"]], \"sequential\": [[0.0, \"#0d0887\"], [0.1111111111111111, \"#46039f\"], [0.2222222222222222, \"#7201a8\"], [0.3333333333333333, \"#9c179e\"], [0.4444444444444444, \"#bd3786\"], [0.5555555555555556, \"#d8576b\"], [0.6666666666666666, \"#ed7953\"], [0.7777777777777778, \"#fb9f3a\"], [0.8888888888888888, \"#fdca26\"], [1.0, \"#f0f921\"]], \"sequentialminus\": [[0.0, \"#0d0887\"], [0.1111111111111111, \"#46039f\"], [0.2222222222222222, \"#7201a8\"], [0.3333333333333333, \"#9c179e\"], [0.4444444444444444, \"#bd3786\"], [0.5555555555555556, \"#d8576b\"], [0.6666666666666666, \"#ed7953\"], [0.7777777777777778, \"#fb9f3a\"], [0.8888888888888888, \"#fdca26\"], [1.0, \"#f0f921\"]]}, \"colorway\": [\"#636efa\", \"#EF553B\", \"#00cc96\", \"#ab63fa\", \"#FFA15A\", \"#19d3f3\", \"#FF6692\", \"#B6E880\", \"#FF97FF\", \"#FECB52\"], \"font\": {\"color\": \"#2a3f5f\"}, \"geo\": {\"bgcolor\": \"white\", \"lakecolor\": \"white\", \"landcolor\": \"#E5ECF6\", \"showlakes\": true, \"showland\": true, \"subunitcolor\": \"white\"}, \"hoverlabel\": {\"align\": \"left\"}, \"hovermode\": \"closest\", \"mapbox\": {\"style\": \"light\"}, \"paper_bgcolor\": \"white\", \"plot_bgcolor\": \"#E5ECF6\", \"polar\": {\"angularaxis\": {\"gridcolor\": \"white\", \"linecolor\": \"white\", \"ticks\": \"\"}, \"bgcolor\": \"#E5ECF6\", \"radialaxis\": {\"gridcolor\": \"white\", \"linecolor\": \"white\", \"ticks\": \"\"}}, \"scene\": {\"xaxis\": {\"backgroundcolor\": \"#E5ECF6\", \"gridcolor\": \"white\", \"gridwidth\": 2, \"linecolor\": \"white\", \"showbackground\": true, \"ticks\": \"\", \"zerolinecolor\": \"white\"}, \"yaxis\": {\"backgroundcolor\": \"#E5ECF6\", \"gridcolor\": \"white\", \"gridwidth\": 2, \"linecolor\": \"white\", \"showbackground\": true, \"ticks\": \"\", \"zerolinecolor\": \"white\"}, \"zaxis\": {\"backgroundcolor\": \"#E5ECF6\", \"gridcolor\": \"white\", \"gridwidth\": 2, \"linecolor\": \"white\", \"showbackground\": true, \"ticks\": \"\", \"zerolinecolor\": \"white\"}}, \"shapedefaults\": {\"line\": {\"color\": \"#2a3f5f\"}}, \"ternary\": {\"aaxis\": {\"gridcolor\": \"white\", \"linecolor\": \"white\", \"ticks\": \"\"}, \"baxis\": {\"gridcolor\": \"white\", \"linecolor\": \"white\", \"ticks\": \"\"}, \"bgcolor\": \"#E5ECF6\", \"caxis\": {\"gridcolor\": \"white\", \"linecolor\": \"white\", \"ticks\": \"\"}}, \"title\": {\"x\": 0.05}, \"xaxis\": {\"automargin\": true, \"gridcolor\": \"white\", \"linecolor\": \"white\", \"ticks\": \"\", \"title\": {\"standoff\": 15}, \"zerolinecolor\": \"white\", \"zerolinewidth\": 2}, \"yaxis\": {\"automargin\": true, \"gridcolor\": \"white\", \"linecolor\": \"white\", \"ticks\": \"\", \"title\": {\"standoff\": 15}, \"zerolinecolor\": \"white\", \"zerolinewidth\": 2}}}, \"title\": {\"text\": \"Correlation Matrix for variables\"}, \"width\": 850, \"xaxis\": {\"tickfont\": {\"size\": 12}}, \"yaxis\": {\"tickfont\": {\"size\": 12}}},\n",
       "                        {\"responsive\": true}\n",
       "                    ).then(function(){\n",
       "                            \n",
       "var gd = document.getElementById('4ada6b65-2aa6-4245-9d8e-79fb7db1b720');\n",
       "var x = new MutationObserver(function (mutations, observer) {{\n",
       "        var display = window.getComputedStyle(gd).display;\n",
       "        if (!display || display === 'none') {{\n",
       "            console.log([gd, 'removed!']);\n",
       "            Plotly.purge(gd);\n",
       "            observer.disconnect();\n",
       "        }}\n",
       "}});\n",
       "\n",
       "// Listen for the removal of the full notebook cells\n",
       "var notebookContainer = gd.closest('#notebook-container');\n",
       "if (notebookContainer) {{\n",
       "    x.observe(notebookContainer, {childList: true});\n",
       "}}\n",
       "\n",
       "// Listen for the clearing of the current output cell\n",
       "var outputEl = gd.closest('.output');\n",
       "if (outputEl) {{\n",
       "    x.observe(outputEl, {childList: true});\n",
       "}}\n",
       "\n",
       "                        })\n",
       "                };\n",
       "                });\n",
       "            </script>\n",
       "        </div>"
      ]
     },
     "metadata": {},
     "output_type": "display_data"
    }
   ],
   "source": [
    "#correlation\n",
    "correlation = df.corr()\n",
    "#tick labels\n",
    "matrix_cols = correlation.columns.tolist()\n",
    "#convert to array\n",
    "corr_array  = np.array(correlation)\n",
    "\n",
    "#Plotting\n",
    "trace = go.Heatmap(z = corr_array,\n",
    "                   x = matrix_cols,\n",
    "                   y = matrix_cols,\n",
    "                   colorscale = \"Viridis\",\n",
    "                   colorbar   = dict(title = \"Pearson Correlation coefficient\",\n",
    "                                     titleside = \"right\"\n",
    "                                    ) ,\n",
    "                  )\n",
    "\n",
    "layout = go.Layout(dict(title = \"Correlation Matrix for variables\",\n",
    "                        autosize = False,\n",
    "                        height  = 850,\n",
    "                        width   = 850,\n",
    "                        margin  = dict(r = 0 ,l = 110,\n",
    "                                       t = 25,b = 10,\n",
    "                                      ),\n",
    "                        yaxis   = dict(tickfont = dict(size = 12)),\n",
    "                        xaxis   = dict(tickfont = dict(size = 12))\n",
    "                       )\n",
    "                  )\n",
    "\n",
    "data = [trace]\n",
    "fig = go.Figure(data=data,layout=layout)\n",
    "py.iplot(fig)"
   ]
  },
  {
   "cell_type": "code",
   "execution_count": 3,
   "metadata": {},
   "outputs": [
    {
     "data": {
      "text/plain": [
       "<matplotlib.axes._subplots.AxesSubplot at 0x20b300876c8>"
      ]
     },
     "execution_count": 3,
     "metadata": {},
     "output_type": "execute_result"
    },
    {
     "data": {
      "image/png": "[encoded data removed]",
      "text/plain": [
       "<Figure size 720x360 with 1 Axes>"
      ]
     },
     "metadata": {
      "needs_background": "light"
     },
     "output_type": "display_data"
    }
   ],
   "source": [
    "plt.figure(figsize=(10,5))\n",
    "sns.countplot(df[\"Class\"])"
   ]
  },
  {
   "cell_type": "code",
   "execution_count": 5,
   "metadata": {},
   "outputs": [
    {
     "data": {
      "text/plain": [
       "((492, 31), (284315, 31))"
      ]
     },
     "execution_count": 5,
     "metadata": {},
     "output_type": "execute_result"
    }
   ],
   "source": [
    "Fraud=df[df['Class']==1]\n",
    "NoFraud=df[df['Class']==0]\n",
    "Fraud.shape,NoFraud.shape"
   ]
  },
  {
   "cell_type": "code",
   "execution_count": 14,
   "metadata": {},
   "outputs": [
    {
     "data": {
      "image/png": "[encoded data removed]",
      "text/plain": [
       "<Figure size 1080x864 with 2 Axes>"
      ]
     },
     "metadata": {
      "needs_background": "light"
     },
     "output_type": "display_data"
    }
   ],
   "source": [
    "fig,(ax1,ax2)=plt.subplots(2,1,figsize=(15,12))\n",
    "fig.suptitle(\"Amoun per transaction by class\")\n",
    "ax1.hist(Fraud.Amount,bins=50,color=\"red\")\n",
    "ax1.set_title(\"Fruad\")\n",
    "ax1.set_xlabel(\"Amount ($)\")\n",
    "ax1.set_ylabel(\"Number of Transactions\")\n",
    "ax2.hist(NoFraud.Amount,color=\"green\",bins=50)\n",
    "ax2.set_title(\"NoFruad\")\n",
    "ax2.set_xlabel(\"Amount ($)\")\n",
    "ax2.set_ylabel(\"Number of Transactions\")\n",
    "# plt.xlim((0,20000))\n",
    "plt.yscale(\"log\")\n"
   ]
  },
  {
   "cell_type": "code",
   "execution_count": 16,
   "metadata": {},
   "outputs": [
    {
     "data": {
      "text/plain": [
       "Text(0, 0.5, 'Amount')"
      ]
     },
     "execution_count": 16,
     "metadata": {},
     "output_type": "execute_result"
    },
    {
     "data": {
      "image/png": "[encoded data removed]",
      "text/plain": [
       "<Figure size 1080x864 with 2 Axes>"
      ]
     },
     "metadata": {
      "needs_background": "light"
     },
     "output_type": "display_data"
    }
   ],
   "source": [
    "fig,(ax1,ax2)=plt.subplots(2,1,sharex=True,figsize=(15,12))\n",
    "fig.suptitle(\"Time of transaction vs Amount by class\")\n",
    "ax1.scatter(Fraud.Time,Fraud.Amount,color=\"red\")\n",
    "ax1.set_title(\"Fruad\")\n",
    "ax1.set_xlabel(\"Time (in Seconds)\")\n",
    "ax1.set_ylabel(\"Amount\")\n",
    "ax2.scatter(NoFraud.Time,NoFraud.Amount,color=\"green\")\n",
    "ax2.set_title(\"NoFruad\")\n",
    "ax2.set_xlabel(\"Time (in Seconds)\")\n",
    "ax2.set_ylabel(\"Amount\")\n",
    "# plt.xlim((0,20000))\n"
   ]
  },
  {
   "cell_type": "markdown",
   "metadata": {},
   "source": [
    "# <a id=\"3\"> 3. Data Preprocessing </a>"
   ]
  },
  {
   "cell_type": "code",
   "execution_count": 185,
   "metadata": {},
   "outputs": [
    {
     "ename": "AttributeError",
     "evalue": "'DataFrame' object has no attribute 'ravel'",
     "output_type": "error",
     "traceback": [
      "\u001b[1;31m---------------------------------------------------------------------------\u001b[0m",
      "\u001b[1;31mAttributeError\u001b[0m                            Traceback (most recent call last)",
      "\u001b[1;32m<ipython-input-185-8c71d1eed6a9>\u001b[0m in \u001b[0;36m<module>\u001b[1;34m\u001b[0m\n\u001b[0;32m      1\u001b[0m \u001b[0mX\u001b[0m\u001b[1;33m=\u001b[0m\u001b[0mdf\u001b[0m\u001b[1;33m.\u001b[0m\u001b[0miloc\u001b[0m\u001b[1;33m[\u001b[0m\u001b[1;33m:\u001b[0m\u001b[1;33m,\u001b[0m\u001b[1;33m:\u001b[0m\u001b[1;33m-\u001b[0m\u001b[1;36m1\u001b[0m\u001b[1;33m]\u001b[0m\u001b[1;33m\u001b[0m\u001b[1;33m\u001b[0m\u001b[0m\n\u001b[1;32m----> 2\u001b[1;33m \u001b[0my\u001b[0m\u001b[1;33m=\u001b[0m\u001b[0mdf\u001b[0m\u001b[1;33m.\u001b[0m\u001b[0miloc\u001b[0m\u001b[1;33m[\u001b[0m\u001b[1;33m:\u001b[0m\u001b[1;33m,\u001b[0m\u001b[1;36m30\u001b[0m\u001b[1;33m:\u001b[0m\u001b[1;36m31\u001b[0m\u001b[1;33m]\u001b[0m\u001b[1;33m.\u001b[0m\u001b[0mravel\u001b[0m\u001b[1;33m(\u001b[0m\u001b[1;33m)\u001b[0m\u001b[1;33m\u001b[0m\u001b[1;33m\u001b[0m\u001b[0m\n\u001b[0m\u001b[0;32m      3\u001b[0m \u001b[0my\u001b[0m\u001b[1;33m.\u001b[0m\u001b[0mshape\u001b[0m\u001b[1;33m\u001b[0m\u001b[1;33m\u001b[0m\u001b[0m\n",
      "\u001b[1;32m~\\Anaconda3\\lib\\site-packages\\pandas\\core\\generic.py\u001b[0m in \u001b[0;36m__getattr__\u001b[1;34m(self, name)\u001b[0m\n\u001b[0;32m   5177\u001b[0m             \u001b[1;32mif\u001b[0m \u001b[0mself\u001b[0m\u001b[1;33m.\u001b[0m\u001b[0m_info_axis\u001b[0m\u001b[1;33m.\u001b[0m\u001b[0m_can_hold_identifiers_and_holds_name\u001b[0m\u001b[1;33m(\u001b[0m\u001b[0mname\u001b[0m\u001b[1;33m)\u001b[0m\u001b[1;33m:\u001b[0m\u001b[1;33m\u001b[0m\u001b[1;33m\u001b[0m\u001b[0m\n\u001b[0;32m   5178\u001b[0m                 \u001b[1;32mreturn\u001b[0m \u001b[0mself\u001b[0m\u001b[1;33m[\u001b[0m\u001b[0mname\u001b[0m\u001b[1;33m]\u001b[0m\u001b[1;33m\u001b[0m\u001b[1;33m\u001b[0m\u001b[0m\n\u001b[1;32m-> 5179\u001b[1;33m             \u001b[1;32mreturn\u001b[0m \u001b[0mobject\u001b[0m\u001b[1;33m.\u001b[0m\u001b[0m__getattribute__\u001b[0m\u001b[1;33m(\u001b[0m\u001b[0mself\u001b[0m\u001b[1;33m,\u001b[0m \u001b[0mname\u001b[0m\u001b[1;33m)\u001b[0m\u001b[1;33m\u001b[0m\u001b[1;33m\u001b[0m\u001b[0m\n\u001b[0m\u001b[0;32m   5180\u001b[0m \u001b[1;33m\u001b[0m\u001b[0m\n\u001b[0;32m   5181\u001b[0m     \u001b[1;32mdef\u001b[0m \u001b[0m__setattr__\u001b[0m\u001b[1;33m(\u001b[0m\u001b[0mself\u001b[0m\u001b[1;33m,\u001b[0m \u001b[0mname\u001b[0m\u001b[1;33m,\u001b[0m \u001b[0mvalue\u001b[0m\u001b[1;33m)\u001b[0m\u001b[1;33m:\u001b[0m\u001b[1;33m\u001b[0m\u001b[1;33m\u001b[0m\u001b[0m\n",
      "\u001b[1;31mAttributeError\u001b[0m: 'DataFrame' object has no attribute 'ravel'"
     ]
    }
   ],
   "source": [
    "X=df.iloc[:,:-1]\n",
    "y=df.iloc[:,30:31].ravel()\n",
    "y.shape"
   ]
  },
  {
   "cell_type": "code",
   "execution_count": 5,
   "metadata": {},
   "outputs": [],
   "source": [
    "sc=StandardScaler()\n",
    "X_std=sc.fit_transform(X)"
   ]
  },
  {
   "cell_type": "code",
   "execution_count": 6,
   "metadata": {},
   "outputs": [],
   "source": [
    "X_train, X_test, y_train, y_test = train_test_split(X, y, test_size=0.30, random_state=42)"
   ]
  },
  {
   "cell_type": "markdown",
   "metadata": {},
   "source": [
    "# <a id=\"4\"> 4. Model Building </a>"
   ]
  },
  {
   "cell_type": "code",
   "execution_count": 197,
   "metadata": {},
   "outputs": [
    {
     "name": "stderr",
     "output_type": "stream",
     "text": [
      "C:\\Users\\sabuh\\Anaconda3\\lib\\site-packages\\sklearn\\linear_model\\logistic.py:432: FutureWarning:\n",
      "\n",
      "Default solver will be changed to 'lbfgs' in 0.22. Specify a solver to silence this warning.\n",
      "\n",
      "C:\\Users\\sabuh\\Anaconda3\\lib\\site-packages\\sklearn\\utils\\validation.py:724: DataConversionWarning:\n",
      "\n",
      "A column-vector y was passed when a 1d array was expected. Please change the shape of y to (n_samples, ), for example using ravel().\n",
      "\n"
     ]
    },
    {
     "name": "stdout",
     "output_type": "stream",
     "text": [
      "Training score:  0.9989416343973837\n",
      "Classification report: \n",
      "               precision    recall  f1-score   support\n",
      "\n",
      "           0       1.00      1.00      1.00     85307\n",
      "           1       0.69      0.60      0.65       136\n",
      "\n",
      "    accuracy                           1.00     85443\n",
      "   macro avg       0.85      0.80      0.82     85443\n",
      "weighted avg       1.00      1.00      1.00     85443\n",
      "\n",
      "Accuracy Score : 0.9989466661985184\n",
      "F1_score : 0.6456692913385826\n",
      "Area under curve :  0.8012595856212061 \n",
      "\n"
     ]
    },
    {
     "data": {
      "application/vnd.plotly.v1+json": {
       "config": {
        "linkText": "Export to plot.ly",
        "plotlyServerURL": "https://plot.ly",
        "showLink": false
       },
       "data": [
        {
         "colorscale": [
          [
           0,
           "red"
          ],
          [
           0.5,
           "green"
          ],
          [
           1,
           "blue"
          ]
         ],
         "name": "matrix",
         "showscale": false,
         "type": "heatmap",
         "x": [
          "Not Fraud",
          "Fraud"
         ],
         "xaxis": "x",
         "y": [
          "Not Fraud",
          "Fraud"
         ],
         "yaxis": "y",
         "z": [
          [
           85271,
           36
          ],
          [
           54,
           82
          ]
         ]
        },
        {
         "line": {
          "color": "rgb(22, 96, 167)",
          "width": 2
         },
         "name": "Roc : 0.8012595856212061",
         "type": "scatter",
         "x": [
          0,
          0,
          0,
          1.1722367449330066e-05,
          1.1722367449330066e-05,
          2.3444734898660133e-05,
          2.3444734898660133e-05,
          4.6889469797320266e-05,
          4.6889469797320266e-05,
          5.861183724665033e-05,
          5.861183724665033e-05,
          7.03342046959804e-05,
          7.03342046959804e-05,
          8.205657214531046e-05,
          8.205657214531046e-05,
          9.377893959464053e-05,
          9.377893959464053e-05,
          0.0001055013070439706,
          0.0001055013070439706,
          0.00012894604194263075,
          0.00012894604194263075,
          0.00015239077684129086,
          0.00015239077684129086,
          0.00015239077684129086,
          0.00016411314429062092,
          0.00016411314429062092,
          0.00018755787918928106,
          0.00018755787918928106,
          0.00019928024663861112,
          0.00019928024663861112,
          0.0002110026140879412,
          0.0002110026140879412,
          0.0002461697164359314,
          0.0002461697164359314,
          0.0002813368187839216,
          0.0002813368187839216,
          0.0003047815536825817,
          0.0003047815536825817,
          0.00033994865603057195,
          0.00033994865603057195,
          0.000351671023479902,
          0.000351671023479902,
          0.00036339339092923207,
          0.00036339339092923207,
          0.0003751157583785621,
          0.0003751157583785621,
          0.0004220052281758824,
          0.0004220052281758824,
          0.000515784167770523,
          0.000515784167770523,
          0.0006681749446118138,
          0.0006681749446118138,
          0.0007502315167571243,
          0.0007502315167571243,
          0.0011370696425850165,
          0.0011370696425850165,
          0.001594241973108889,
          0.001594241973108889,
          0.003352597090508399,
          0.0033760418254070593,
          0.0035167102347990202,
          0.0035167102347990202,
          0.004149718077062843,
          0.004149718077062843,
          0.004606890407586716,
          0.004606890407586716,
          0.004642057509934706,
          0.0046655022448333664,
          0.005134396942806569,
          0.005134396942806569,
          0.005673625845475753,
          0.005673625845475753,
          0.007303034920932631,
          0.007303034920932631,
          0.00883866505679487,
          0.00883866505679487,
          0.009753009717842615,
          0.009776454452741275,
          0.013093884440901685,
          0.013093884440901685,
          0.01589553026129157,
          0.01589553026129157,
          0.0193770733937426,
          0.0193770733937426,
          0.023960519066430656,
          0.023983963801329316,
          0.02491003082982639,
          0.02491003082982639,
          0.025824375490874137,
          0.025847820225772797,
          0.032787461755776195,
          0.032810906490674856,
          0.0343465366265371,
          0.03436998136143576,
          0.04537728439635669,
          0.04540072913125535,
          0.046244739587607116,
          0.046244739587607116,
          0.0533367718944518,
          0.05336021662935046,
          0.0565721453104669,
          0.0565721453104669,
          0.07052176257516968,
          0.07054520731006834,
          0.08380320489526065,
          0.08380320489526065,
          0.084916829802947,
          0.084916829802947,
          0.09146963320712251,
          0.09146963320712251,
          0.10301616514471262,
          0.10301616514471262,
          0.10346161510778717,
          0.10348505984268583,
          0.11060053688442918,
          0.11062398161932784,
          0.11716506265605402,
          0.11718850739095267,
          0.12444465284208799,
          0.12444465284208799,
          0.12595683824305157,
          0.12598028297795022,
          0.12598028297795022,
          0.13153668514893269,
          0.13153668514893269,
          0.13733925703635105,
          0.13733925703635105,
          0.14513463139015556,
          0.14515807612505421,
          0.14776044169880548,
          0.14779560880115347,
          0.1511130387893139,
          0.1511130387893139,
          0.1517812137339257,
          0.1518163808362737,
          0.15593093181098855,
          0.1559543765458872,
          0.17929361013750336,
          0.17931705487240204,
          0.186596645058436,
          0.18662008979333466,
          0.1899961316187417,
          0.1900195763536404,
          0.19715849813028238,
          0.19715849813028238,
          0.19913957822921918,
          0.19916302296411784,
          0.20151921882143317,
          0.20154266355633182,
          0.20378163573915387,
          0.20380508047405255,
          0.21913793709777626,
          0.21916138183267492,
          0.2234400459516804,
          0.22346349068657906,
          0.22465917216641074,
          0.2246826169013094,
          0.22557351682745846,
          0.22559696156235715,
          0.23028590854208916,
          0.23028590854208916,
          0.23515069103356115,
          0.2351741357684598,
          0.2436376850668761,
          0.24368457453667342,
          0.2455835980634649,
          0.24560704279836357,
          0.24968642667073043,
          0.24970987140562909,
          0.2609867888918846,
          0.2609867888918846,
          0.2635188202609399,
          0.2635188202609399,
          0.27751532699544,
          0.277550494097788,
          0.2864946604616268,
          0.2865181051965255,
          0.291828337651072,
          0.29185178238597065,
          0.30989250589048967,
          0.3099159506253883,
          0.32018474451100143,
          0.3202081892459001,
          0.3306293739083545,
          0.3306293739083545,
          0.34034721652384914,
          0.34034721652384914,
          0.34715791201190993,
          0.3471813567468086,
          0.3533824891275042,
          0.3533824891275042,
          0.36029868592260894,
          0.36032213065750757,
          0.3652338026187769,
          0.36525724735367554,
          0.37309951117727735,
          0.37312295591217604,
          0.38103555394047384,
          0.38105899867537246,
          0.38846753490334907,
          0.38849097963824775,
          0.39312131478073314,
          0.39312131478073314,
          0.39415288311627417,
          0.39415288311627417,
          0.3963215210944002,
          0.3963215210944002,
          0.4122873855603878,
          0.4123108302952864,
          0.41714044568441044,
          0.41716389041930907,
          0.4184416284712861,
          0.4184416284712861,
          0.42238034393426094,
          0.42241551103660896,
          0.4286400881522032,
          0.4286400881522032,
          0.44724348529429003,
          0.4472669300291887,
          0.44849777861136836,
          0.44852122334626704,
          0.4494238456398654,
          0.4494590127422134,
          0.45889551853892413,
          0.45889551853892413,
          0.4610289894147022,
          0.46105243414960084,
          0.46179094329890863,
          0.4618143880338073,
          0.4667260599950766,
          0.4667495047299753,
          0.46705428628365786,
          0.4670777310185565,
          0.4740173725485599,
          0.4740408172834586,
          0.47649079208036854,
          0.47649079208036854,
          0.4894205633769796,
          0.48944400811187827,
          0.4905810777544633,
          0.4906045224893619,
          0.49730971667037877,
          0.4973331614052774,
          0.49777861136835194,
          0.49777861136835194,
          0.49789583504284524,
          0.4979192797777439,
          0.5035577385208717,
          0.5035929056232197,
          0.5091024183244048,
          0.5091258630593034,
          0.5098643722086112,
          0.5098878169435099,
          0.5103215445391351,
          0.5103449892740338,
          0.5152801059702018,
          0.5153035507051004,
          0.5184568675489701,
          0.5184803122838688,
          0.5240718815571993,
          0.524095326292098,
          0.5319493124831491,
          0.5319727572180477,
          0.5350791845921202,
          0.5350791845921202,
          0.5581605260998511,
          0.5581839708347498,
          0.5634355914520497,
          0.5634355914520497,
          0.5710316855592156,
          0.5710316855592156,
          0.571758472341074,
          0.5717819170759727,
          0.5758964680506875,
          0.5759199127855862,
          0.5987433622094318,
          0.5987668069443305,
          0.6056947261068846,
          0.6056947261068846,
          0.6265722625341414,
          0.62659570726904,
          0.6270763243344626,
          0.6270997690693613,
          0.638740079946546,
          0.638775247048894,
          0.6624075398267434,
          0.6624309845616421,
          0.66246615166399,
          0.6627357661153247,
          0.6627592108502233,
          0.6754076453280504,
          0.6754076453280504,
          0.6754662571652971,
          0.6754897019001957,
          0.6757710387189797,
          0.6757944834538784,
          0.678373404292731,
          0.6783968490276296,
          0.6838946393613654,
          0.6839180840962641,
          0.6863680588931741,
          0.6863915036280728,
          0.6925340241715217,
          0.6925340241715217,
          0.6958280094247834,
          0.6958514541596821,
          0.7011851313491273,
          0.701208576084026,
          0.7023925351964083,
          0.7024159799313069,
          0.705792021756714,
          0.7058154664916126,
          0.7071752611157349,
          0.7071987058506336,
          0.711934542300163,
          0.7119579870350616,
          0.7164242090332563,
          0.716447653768155,
          0.7165062656054016,
          0.7165297103403003,
          0.7358130047944483,
          0.7358364495293469,
          0.747629151183373,
          0.747629151183373,
          0.7624696683742248,
          0.7625048354765729,
          0.7702767650954787,
          0.7703002098303774,
          0.7710621637145838,
          0.7710856084494825,
          0.7719061741709355,
          0.7719296189058342,
          0.7795022682781014,
          0.7795257130130001,
          0.784566331016212,
          0.7845897757511107,
          0.794331063101504,
          0.7943545078364026,
          0.8288299905048824,
          0.8288299905048824,
          0.8439870116168662,
          0.8440104563517647,
          0.863410974480406,
          0.8634344192153047,
          0.8688618753443446,
          0.8688853200792432,
          0.8918494379124808,
          0.8918728826473795,
          0.898179516335119,
          0.8982029610700177,
          0.9218235314804177,
          0.9218469762153164,
          0.9228316550810601,
          0.9228550998159588,
          0.9255395219618554,
          0.9255629666967541,
          0.9322095490405242,
          0.9322329937754229,
          0.9411654377718124,
          0.9411888825067111,
          0.9474955161944506,
          0.947542405664248,
          0.9560176773301136,
          0.9560411220650122,
          0.9716670378749692,
          0.9716904826098679,
          0.9895905377049949,
          0.9896491495422416,
          0.9898953192586775,
          0.9899773758308228,
          0.9951586622434266,
          0.9951586622434266,
          1
         ],
         "xaxis": "x2",
         "y": [
          0,
          0.007352941176470588,
          0.11764705882352941,
          0.11764705882352941,
          0.15441176470588236,
          0.15441176470588236,
          0.17647058823529413,
          0.17647058823529413,
          0.20588235294117646,
          0.20588235294117646,
          0.21323529411764705,
          0.21323529411764705,
          0.23529411764705882,
          0.23529411764705882,
          0.27205882352941174,
          0.27205882352941174,
          0.27941176470588236,
          0.27941176470588236,
          0.29411764705882354,
          0.29411764705882354,
          0.3014705882352941,
          0.3014705882352941,
          0.33088235294117646,
          0.4632352941176471,
          0.4632352941176471,
          0.5147058823529411,
          0.5147058823529411,
          0.5220588235294118,
          0.5220588235294118,
          0.5294117647058824,
          0.5294117647058824,
          0.5367647058823529,
          0.5367647058823529,
          0.5441176470588235,
          0.5441176470588235,
          0.5514705882352942,
          0.5514705882352942,
          0.5661764705882353,
          0.5661764705882353,
          0.5808823529411765,
          0.5808823529411765,
          0.5882352941176471,
          0.5882352941176471,
          0.5955882352941176,
          0.5955882352941176,
          0.6029411764705882,
          0.6029411764705882,
          0.625,
          0.625,
          0.6323529411764706,
          0.6323529411764706,
          0.6397058823529411,
          0.6397058823529411,
          0.6470588235294118,
          0.6470588235294118,
          0.6544117647058824,
          0.6544117647058824,
          0.6617647058823529,
          0.6617647058823529,
          0.6617647058823529,
          0.6617647058823529,
          0.6691176470588235,
          0.6691176470588235,
          0.6764705882352942,
          0.6764705882352942,
          0.6838235294117647,
          0.6838235294117647,
          0.6838235294117647,
          0.6838235294117647,
          0.6911764705882353,
          0.6911764705882353,
          0.6985294117647058,
          0.6985294117647058,
          0.7058823529411765,
          0.7058823529411765,
          0.7132352941176471,
          0.7132352941176471,
          0.7132352941176471,
          0.7132352941176471,
          0.7205882352941176,
          0.7205882352941176,
          0.7279411764705882,
          0.7279411764705882,
          0.7352941176470589,
          0.7352941176470589,
          0.7352941176470589,
          0.7352941176470589,
          0.7426470588235294,
          0.7426470588235294,
          0.7426470588235294,
          0.7426470588235294,
          0.7426470588235294,
          0.7426470588235294,
          0.7426470588235294,
          0.7426470588235294,
          0.7426470588235294,
          0.7426470588235294,
          0.75,
          0.75,
          0.75,
          0.75,
          0.7573529411764706,
          0.7573529411764706,
          0.7573529411764706,
          0.7573529411764706,
          0.7647058823529411,
          0.7647058823529411,
          0.7720588235294118,
          0.7720588235294118,
          0.7794117647058824,
          0.7794117647058824,
          0.7867647058823529,
          0.7867647058823529,
          0.7867647058823529,
          0.7867647058823529,
          0.7867647058823529,
          0.7867647058823529,
          0.7867647058823529,
          0.7867647058823529,
          0.7941176470588235,
          0.7941176470588235,
          0.7941176470588235,
          0.8014705882352942,
          0.8014705882352942,
          0.8088235294117647,
          0.8088235294117647,
          0.8161764705882353,
          0.8161764705882353,
          0.8161764705882353,
          0.8161764705882353,
          0.8161764705882353,
          0.8161764705882353,
          0.8235294117647058,
          0.8235294117647058,
          0.8235294117647058,
          0.8235294117647058,
          0.8235294117647058,
          0.8235294117647058,
          0.8235294117647058,
          0.8235294117647058,
          0.8235294117647058,
          0.8235294117647058,
          0.8235294117647058,
          0.8235294117647058,
          0.8308823529411765,
          0.8308823529411765,
          0.8308823529411765,
          0.8308823529411765,
          0.8308823529411765,
          0.8308823529411765,
          0.8308823529411765,
          0.8308823529411765,
          0.8308823529411765,
          0.8308823529411765,
          0.8308823529411765,
          0.8308823529411765,
          0.8308823529411765,
          0.8308823529411765,
          0.8308823529411765,
          0.8308823529411765,
          0.8382352941176471,
          0.8382352941176471,
          0.8382352941176471,
          0.8382352941176471,
          0.8382352941176471,
          0.8382352941176471,
          0.8382352941176471,
          0.8382352941176471,
          0.8382352941176471,
          0.8382352941176471,
          0.8455882352941176,
          0.8455882352941176,
          0.8529411764705882,
          0.8529411764705882,
          0.8529411764705882,
          0.8529411764705882,
          0.8529411764705882,
          0.8529411764705882,
          0.8529411764705882,
          0.8529411764705882,
          0.8529411764705882,
          0.8529411764705882,
          0.8529411764705882,
          0.8529411764705882,
          0.8602941176470589,
          0.8602941176470589,
          0.8676470588235294,
          0.8676470588235294,
          0.8676470588235294,
          0.8676470588235294,
          0.875,
          0.875,
          0.875,
          0.875,
          0.875,
          0.875,
          0.875,
          0.875,
          0.875,
          0.875,
          0.875,
          0.875,
          0.8823529411764706,
          0.8823529411764706,
          0.8897058823529411,
          0.8897058823529411,
          0.8970588235294118,
          0.8970588235294118,
          0.8970588235294118,
          0.8970588235294118,
          0.8970588235294118,
          0.8970588235294118,
          0.9044117647058824,
          0.9044117647058824,
          0.9044117647058824,
          0.9044117647058824,
          0.9117647058823529,
          0.9117647058823529,
          0.9117647058823529,
          0.9117647058823529,
          0.9117647058823529,
          0.9117647058823529,
          0.9117647058823529,
          0.9117647058823529,
          0.9191176470588235,
          0.9191176470588235,
          0.9191176470588235,
          0.9191176470588235,
          0.9191176470588235,
          0.9191176470588235,
          0.9191176470588235,
          0.9191176470588235,
          0.9191176470588235,
          0.9191176470588235,
          0.9191176470588235,
          0.9191176470588235,
          0.9264705882352942,
          0.9264705882352942,
          0.9264705882352942,
          0.9264705882352942,
          0.9264705882352942,
          0.9264705882352942,
          0.9264705882352942,
          0.9264705882352942,
          0.9338235294117647,
          0.9338235294117647,
          0.9338235294117647,
          0.9338235294117647,
          0.9338235294117647,
          0.9338235294117647,
          0.9338235294117647,
          0.9338235294117647,
          0.9338235294117647,
          0.9338235294117647,
          0.9338235294117647,
          0.9338235294117647,
          0.9338235294117647,
          0.9338235294117647,
          0.9338235294117647,
          0.9338235294117647,
          0.9338235294117647,
          0.9338235294117647,
          0.9338235294117647,
          0.9338235294117647,
          0.9411764705882353,
          0.9411764705882353,
          0.9411764705882353,
          0.9411764705882353,
          0.9485294117647058,
          0.9485294117647058,
          0.9558823529411765,
          0.9558823529411765,
          0.9558823529411765,
          0.9558823529411765,
          0.9558823529411765,
          0.9558823529411765,
          0.9558823529411765,
          0.9558823529411765,
          0.9632352941176471,
          0.9632352941176471,
          0.9632352941176471,
          0.9632352941176471,
          0.9632352941176471,
          0.9632352941176471,
          0.9632352941176471,
          0.9632352941176471,
          0.9632352941176471,
          0.9632352941176471,
          0.9632352941176471,
          0.9632352941176471,
          0.9632352941176471,
          0.9705882352941176,
          0.9705882352941176,
          0.9705882352941176,
          0.9705882352941176,
          0.9705882352941176,
          0.9705882352941176,
          0.9705882352941176,
          0.9705882352941176,
          0.9705882352941176,
          0.9705882352941176,
          0.9705882352941176,
          0.9705882352941176,
          0.9779411764705882,
          0.9779411764705882,
          0.9779411764705882,
          0.9779411764705882,
          0.9779411764705882,
          0.9779411764705882,
          0.9779411764705882,
          0.9779411764705882,
          0.9779411764705882,
          0.9779411764705882,
          0.9779411764705882,
          0.9779411764705882,
          0.9779411764705882,
          0.9779411764705882,
          0.9779411764705882,
          0.9779411764705882,
          0.9779411764705882,
          0.9779411764705882,
          0.9779411764705882,
          0.9779411764705882,
          0.9852941176470589,
          0.9852941176470589,
          0.9852941176470589,
          0.9852941176470589,
          0.9852941176470589,
          0.9852941176470589,
          0.9852941176470589,
          0.9852941176470589,
          0.9852941176470589,
          0.9852941176470589,
          0.9852941176470589,
          0.9852941176470589,
          0.9852941176470589,
          0.9852941176470589,
          0.9852941176470589,
          0.9852941176470589,
          0.9926470588235294,
          0.9926470588235294,
          0.9926470588235294,
          0.9926470588235294,
          0.9926470588235294,
          0.9926470588235294,
          0.9926470588235294,
          0.9926470588235294,
          0.9926470588235294,
          0.9926470588235294,
          0.9926470588235294,
          0.9926470588235294,
          0.9926470588235294,
          0.9926470588235294,
          0.9926470588235294,
          0.9926470588235294,
          0.9926470588235294,
          0.9926470588235294,
          0.9926470588235294,
          0.9926470588235294,
          0.9926470588235294,
          0.9926470588235294,
          0.9926470588235294,
          0.9926470588235294,
          0.9926470588235294,
          0.9926470588235294,
          0.9926470588235294,
          0.9926470588235294,
          0.9926470588235294,
          0.9926470588235294,
          0.9926470588235294,
          0.9926470588235294,
          1,
          1
         ],
         "yaxis": "y2"
        },
        {
         "line": {
          "color": "rgb(205, 12, 24)",
          "dash": "dot",
          "width": 2
         },
         "type": "scatter",
         "x": [
          0,
          1
         ],
         "xaxis": "x2",
         "y": [
          0,
          1
         ],
         "yaxis": "y2"
        }
       ],
       "layout": {
        "annotations": [
         {
          "font": {
           "size": 16
          },
          "showarrow": false,
          "text": "Confusion Matrix",
          "x": 0.225,
          "xanchor": "center",
          "xref": "paper",
          "y": 1,
          "yanchor": "bottom",
          "yref": "paper"
         },
         {
          "font": {
           "size": 16
          },
          "showarrow": false,
          "text": "Receiver operating characteristic",
          "x": 0.775,
          "xanchor": "center",
          "xref": "paper",
          "y": 1,
          "yanchor": "bottom",
          "yref": "paper"
         }
        ],
        "autosize": true,
        "height": 500,
        "margin": {
         "b": 10
        },
        "paper_bgcolor": "rgba(240,240,240, 0.95)",
        "plot_bgcolor": "rgba(240,240,240, 0.95)",
        "showlegend": false,
        "template": {
         "data": {
          "bar": [
           {
            "error_x": {
             "color": "#2a3f5f"
            },
            "error_y": {
             "color": "#2a3f5f"
            },
            "marker": {
             "line": {
              "color": "#E5ECF6",
              "width": 0.5
             }
            },
            "type": "bar"
           }
          ],
          "barpolar": [
           {
            "marker": {
             "line": {
              "color": "#E5ECF6",
              "width": 0.5
             }
            },
            "type": "barpolar"
           }
          ],
          "carpet": [
           {
            "aaxis": {
             "endlinecolor": "#2a3f5f",
             "gridcolor": "white",
             "linecolor": "white",
             "minorgridcolor": "white",
             "startlinecolor": "#2a3f5f"
            },
            "baxis": {
             "endlinecolor": "#2a3f5f",
             "gridcolor": "white",
             "linecolor": "white",
             "minorgridcolor": "white",
             "startlinecolor": "#2a3f5f"
            },
            "type": "carpet"
           }
          ],
          "choropleth": [
           {
            "colorbar": {
             "outlinewidth": 0,
             "ticks": ""
            },
            "type": "choropleth"
           }
          ],
          "contour": [
           {
            "colorbar": {
             "outlinewidth": 0,
             "ticks": ""
            },
            "colorscale": [
             [
              0,
              "#0d0887"
             ],
             [
              0.1111111111111111,
              "#46039f"
             ],
             [
              0.2222222222222222,
              "#7201a8"
             ],
             [
              0.3333333333333333,
              "#9c179e"
             ],
             [
              0.4444444444444444,
              "#bd3786"
             ],
             [
              0.5555555555555556,
              "#d8576b"
             ],
             [
              0.6666666666666666,
              "#ed7953"
             ],
             [
              0.7777777777777778,
              "#fb9f3a"
             ],
             [
              0.8888888888888888,
              "#fdca26"
             ],
             [
              1,
              "#f0f921"
             ]
            ],
            "type": "contour"
           }
          ],
          "contourcarpet": [
           {
            "colorbar": {
             "outlinewidth": 0,
             "ticks": ""
            },
            "type": "contourcarpet"
           }
          ],
          "heatmap": [
           {
            "colorbar": {
             "outlinewidth": 0,
             "ticks": ""
            },
            "colorscale": [
             [
              0,
              "#0d0887"
             ],
             [
              0.1111111111111111,
              "#46039f"
             ],
             [
              0.2222222222222222,
              "#7201a8"
             ],
             [
              0.3333333333333333,
              "#9c179e"
             ],
             [
              0.4444444444444444,
              "#bd3786"
             ],
             [
              0.5555555555555556,
              "#d8576b"
             ],
             [
              0.6666666666666666,
              "#ed7953"
             ],
             [
              0.7777777777777778,
              "#fb9f3a"
             ],
             [
              0.8888888888888888,
              "#fdca26"
             ],
             [
              1,
              "#f0f921"
             ]
            ],
            "type": "heatmap"
           }
          ],
          "heatmapgl": [
           {
            "colorbar": {
             "outlinewidth": 0,
             "ticks": ""
            },
            "colorscale": [
             [
              0,
              "#0d0887"
             ],
             [
              0.1111111111111111,
              "#46039f"
             ],
             [
              0.2222222222222222,
              "#7201a8"
             ],
             [
              0.3333333333333333,
              "#9c179e"
             ],
             [
              0.4444444444444444,
              "#bd3786"
             ],
             [
              0.5555555555555556,
              "#d8576b"
             ],
             [
              0.6666666666666666,
              "#ed7953"
             ],
             [
              0.7777777777777778,
              "#fb9f3a"
             ],
             [
              0.8888888888888888,
              "#fdca26"
             ],
             [
              1,
              "#f0f921"
             ]
            ],
            "type": "heatmapgl"
           }
          ],
          "histogram": [
           {
            "marker": {
             "colorbar": {
              "outlinewidth": 0,
              "ticks": ""
             }
            },
            "type": "histogram"
           }
          ],
          "histogram2d": [
           {
            "colorbar": {
             "outlinewidth": 0,
             "ticks": ""
            },
            "colorscale": [
             [
              0,
              "#0d0887"
             ],
             [
              0.1111111111111111,
              "#46039f"
             ],
             [
              0.2222222222222222,
              "#7201a8"
             ],
             [
              0.3333333333333333,
              "#9c179e"
             ],
             [
              0.4444444444444444,
              "#bd3786"
             ],
             [
              0.5555555555555556,
              "#d8576b"
             ],
             [
              0.6666666666666666,
              "#ed7953"
             ],
             [
              0.7777777777777778,
              "#fb9f3a"
             ],
             [
              0.8888888888888888,
              "#fdca26"
             ],
             [
              1,
              "#f0f921"
             ]
            ],
            "type": "histogram2d"
           }
          ],
          "histogram2dcontour": [
           {
            "colorbar": {
             "outlinewidth": 0,
             "ticks": ""
            },
            "colorscale": [
             [
              0,
              "#0d0887"
             ],
             [
              0.1111111111111111,
              "#46039f"
             ],
             [
              0.2222222222222222,
              "#7201a8"
             ],
             [
              0.3333333333333333,
              "#9c179e"
             ],
             [
              0.4444444444444444,
              "#bd3786"
             ],
             [
              0.5555555555555556,
              "#d8576b"
             ],
             [
              0.6666666666666666,
              "#ed7953"
             ],
             [
              0.7777777777777778,
              "#fb9f3a"
             ],
             [
              0.8888888888888888,
              "#fdca26"
             ],
             [
              1,
              "#f0f921"
             ]
            ],
            "type": "histogram2dcontour"
           }
          ],
          "mesh3d": [
           {
            "colorbar": {
             "outlinewidth": 0,
             "ticks": ""
            },
            "type": "mesh3d"
           }
          ],
          "parcoords": [
           {
            "line": {
             "colorbar": {
              "outlinewidth": 0,
              "ticks": ""
             }
            },
            "type": "parcoords"
           }
          ],
          "pie": [
           {
            "automargin": true,
            "type": "pie"
           }
          ],
          "scatter": [
           {
            "marker": {
             "colorbar": {
              "outlinewidth": 0,
              "ticks": ""
             }
            },
            "type": "scatter"
           }
          ],
          "scatter3d": [
           {
            "line": {
             "colorbar": {
              "outlinewidth": 0,
              "ticks": ""
             }
            },
            "marker": {
             "colorbar": {
              "outlinewidth": 0,
              "ticks": ""
             }
            },
            "type": "scatter3d"
           }
          ],
          "scattercarpet": [
           {
            "marker": {
             "colorbar": {
              "outlinewidth": 0,
              "ticks": ""
             }
            },
            "type": "scattercarpet"
           }
          ],
          "scattergeo": [
           {
            "marker": {
             "colorbar": {
              "outlinewidth": 0,
              "ticks": ""
             }
            },
            "type": "scattergeo"
           }
          ],
          "scattergl": [
           {
            "marker": {
             "colorbar": {
              "outlinewidth": 0,
              "ticks": ""
             }
            },
            "type": "scattergl"
           }
          ],
          "scattermapbox": [
           {
            "marker": {
             "colorbar": {
              "outlinewidth": 0,
              "ticks": ""
             }
            },
            "type": "scattermapbox"
           }
          ],
          "scatterpolar": [
           {
            "marker": {
             "colorbar": {
              "outlinewidth": 0,
              "ticks": ""
             }
            },
            "type": "scatterpolar"
           }
          ],
          "scatterpolargl": [
           {
            "marker": {
             "colorbar": {
              "outlinewidth": 0,
              "ticks": ""
             }
            },
            "type": "scatterpolargl"
           }
          ],
          "scatterternary": [
           {
            "marker": {
             "colorbar": {
              "outlinewidth": 0,
              "ticks": ""
             }
            },
            "type": "scatterternary"
           }
          ],
          "surface": [
           {
            "colorbar": {
             "outlinewidth": 0,
             "ticks": ""
            },
            "colorscale": [
             [
              0,
              "#0d0887"
             ],
             [
              0.1111111111111111,
              "#46039f"
             ],
             [
              0.2222222222222222,
              "#7201a8"
             ],
             [
              0.3333333333333333,
              "#9c179e"
             ],
             [
              0.4444444444444444,
              "#bd3786"
             ],
             [
              0.5555555555555556,
              "#d8576b"
             ],
             [
              0.6666666666666666,
              "#ed7953"
             ],
             [
              0.7777777777777778,
              "#fb9f3a"
             ],
             [
              0.8888888888888888,
              "#fdca26"
             ],
             [
              1,
              "#f0f921"
             ]
            ],
            "type": "surface"
           }
          ],
          "table": [
           {
            "cells": {
             "fill": {
              "color": "#EBF0F8"
             },
             "line": {
              "color": "white"
             }
            },
            "header": {
             "fill": {
              "color": "#C8D4E3"
             },
             "line": {
              "color": "white"
             }
            },
            "type": "table"
           }
          ]
         },
         "layout": {
          "annotationdefaults": {
           "arrowcolor": "#2a3f5f",
           "arrowhead": 0,
           "arrowwidth": 1
          },
          "coloraxis": {
           "colorbar": {
            "outlinewidth": 0,
            "ticks": ""
           }
          },
          "colorscale": {
           "diverging": [
            [
             0,
             "#8e0152"
            ],
            [
             0.1,
             "#c51b7d"
            ],
            [
             0.2,
             "#de77ae"
            ],
            [
             0.3,
             "#f1b6da"
            ],
            [
             0.4,
             "#fde0ef"
            ],
            [
             0.5,
             "#f7f7f7"
            ],
            [
             0.6,
             "#e6f5d0"
            ],
            [
             0.7,
             "#b8e186"
            ],
            [
             0.8,
             "#7fbc41"
            ],
            [
             0.9,
             "#4d9221"
            ],
            [
             1,
             "#276419"
            ]
           ],
           "sequential": [
            [
             0,
             "#0d0887"
            ],
            [
             0.1111111111111111,
             "#46039f"
            ],
            [
             0.2222222222222222,
             "#7201a8"
            ],
            [
             0.3333333333333333,
             "#9c179e"
            ],
            [
             0.4444444444444444,
             "#bd3786"
            ],
            [
             0.5555555555555556,
             "#d8576b"
            ],
            [
             0.6666666666666666,
             "#ed7953"
            ],
            [
             0.7777777777777778,
             "#fb9f3a"
            ],
            [
             0.8888888888888888,
             "#fdca26"
            ],
            [
             1,
             "#f0f921"
            ]
           ],
           "sequentialminus": [
            [
             0,
             "#0d0887"
            ],
            [
             0.1111111111111111,
             "#46039f"
            ],
            [
             0.2222222222222222,
             "#7201a8"
            ],
            [
             0.3333333333333333,
             "#9c179e"
            ],
            [
             0.4444444444444444,
             "#bd3786"
            ],
            [
             0.5555555555555556,
             "#d8576b"
            ],
            [
             0.6666666666666666,
             "#ed7953"
            ],
            [
             0.7777777777777778,
             "#fb9f3a"
            ],
            [
             0.8888888888888888,
             "#fdca26"
            ],
            [
             1,
             "#f0f921"
            ]
           ]
          },
          "colorway": [
           "#636efa",
           "#EF553B",
           "#00cc96",
           "#ab63fa",
           "#FFA15A",
           "#19d3f3",
           "#FF6692",
           "#B6E880",
           "#FF97FF",
           "#FECB52"
          ],
          "font": {
           "color": "#2a3f5f"
          },
          "geo": {
           "bgcolor": "white",
           "lakecolor": "white",
           "landcolor": "#E5ECF6",
           "showlakes": true,
           "showland": true,
           "subunitcolor": "white"
          },
          "hoverlabel": {
           "align": "left"
          },
          "hovermode": "closest",
          "mapbox": {
           "style": "light"
          },
          "paper_bgcolor": "white",
          "plot_bgcolor": "#E5ECF6",
          "polar": {
           "angularaxis": {
            "gridcolor": "white",
            "linecolor": "white",
            "ticks": ""
           },
           "bgcolor": "#E5ECF6",
           "radialaxis": {
            "gridcolor": "white",
            "linecolor": "white",
            "ticks": ""
           }
          },
          "scene": {
           "xaxis": {
            "backgroundcolor": "#E5ECF6",
            "gridcolor": "white",
            "gridwidth": 2,
            "linecolor": "white",
            "showbackground": true,
            "ticks": "",
            "zerolinecolor": "white"
           },
           "yaxis": {
            "backgroundcolor": "#E5ECF6",
            "gridcolor": "white",
            "gridwidth": 2,
            "linecolor": "white",
            "showbackground": true,
            "ticks": "",
            "zerolinecolor": "white"
           },
           "zaxis": {
            "backgroundcolor": "#E5ECF6",
            "gridcolor": "white",
            "gridwidth": 2,
            "linecolor": "white",
            "showbackground": true,
            "ticks": "",
            "zerolinecolor": "white"
           }
          },
          "shapedefaults": {
           "line": {
            "color": "#2a3f5f"
           }
          },
          "ternary": {
           "aaxis": {
            "gridcolor": "white",
            "linecolor": "white",
            "ticks": ""
           },
           "baxis": {
            "gridcolor": "white",
            "linecolor": "white",
            "ticks": ""
           },
           "bgcolor": "#E5ECF6",
           "caxis": {
            "gridcolor": "white",
            "linecolor": "white",
            "ticks": ""
           }
          },
          "title": {
           "x": 0.05
          },
          "xaxis": {
           "automargin": true,
           "gridcolor": "white",
           "linecolor": "white",
           "ticks": "",
           "title": {
            "standoff": 15
           },
           "zerolinecolor": "white",
           "zerolinewidth": 2
          },
          "yaxis": {
           "automargin": true,
           "gridcolor": "white",
           "linecolor": "white",
           "ticks": "",
           "title": {
            "standoff": 15
           },
           "zerolinecolor": "white",
           "zerolinewidth": 2
          }
         }
        },
        "title": {
         "text": "Model performance"
        },
        "width": 1000,
        "xaxis": {
         "anchor": "y",
         "domain": [
          0,
          0.45
         ]
        },
        "xaxis2": {
         "anchor": "y2",
         "domain": [
          0.55,
          1
         ],
         "title": {
          "text": "False positive rate"
         }
        },
        "yaxis": {
         "anchor": "x",
         "domain": [
          0,
          1
         ]
        },
        "yaxis2": {
         "anchor": "x2",
         "domain": [
          0,
          1
         ],
         "title": {
          "text": "True positive rate"
         }
        }
       }
      },
      "text/html": [
       "<div>\n",
       "        \n",
       "        \n",
       "            <div id=\"edc1e1b2-335c-40f6-b8a2-1b1b0896461d\" class=\"plotly-graph-div\" style=\"height:500px; width:1000px;\"></div>\n",
       "            <script type=\"text/javascript\">\n",
       "                require([\"plotly\"], function(Plotly) {\n",
       "                    window.PLOTLYENV=window.PLOTLYENV || {};\n",
       "                    \n",
       "                if (document.getElementById(\"edc1e1b2-335c-40f6-b8a2-1b1b0896461d\")) {\n",
       "                    Plotly.newPlot(\n",
       "                        'edc1e1b2-335c-40f6-b8a2-1b1b0896461d',\n",
       "                        [{\"colorscale\": [[0, \"red\"], [0.5, \"green\"], [1, \"blue\"]], \"name\": \"matrix\", \"showscale\": false, \"type\": \"heatmap\", \"x\": [\"Not Fraud\", \"Fraud\"], \"xaxis\": \"x\", \"y\": [\"Not Fraud\", \"Fraud\"], \"yaxis\": \"y\", \"z\": [[85271, 36], [54, 82]]}, {\"line\": {\"color\": \"rgb(22, 96, 167)\", \"width\": 2}, \"name\": \"Roc : 0.8012595856212061\", \"type\": \"scatter\", \"x\": [0.0, 0.0, 0.0, 1.1722367449330066e-05, 1.1722367449330066e-05, 2.3444734898660133e-05, 2.3444734898660133e-05, 4.6889469797320266e-05, 4.6889469797320266e-05, 5.861183724665033e-05, 5.861183724665033e-05, 7.03342046959804e-05, 7.03342046959804e-05, 8.205657214531046e-05, 8.205657214531046e-05, 9.377893959464053e-05, 9.377893959464053e-05, 0.0001055013070439706, 0.0001055013070439706, 0.00012894604194263075, 0.00012894604194263075, 0.00015239077684129086, 0.00015239077684129086, 0.00015239077684129086, 0.00016411314429062092, 0.00016411314429062092, 0.00018755787918928106, 0.00018755787918928106, 0.00019928024663861112, 0.00019928024663861112, 0.0002110026140879412, 0.0002110026140879412, 0.0002461697164359314, 0.0002461697164359314, 0.0002813368187839216, 0.0002813368187839216, 0.0003047815536825817, 0.0003047815536825817, 0.00033994865603057195, 0.00033994865603057195, 0.000351671023479902, 0.000351671023479902, 0.00036339339092923207, 0.00036339339092923207, 0.0003751157583785621, 0.0003751157583785621, 0.0004220052281758824, 0.0004220052281758824, 0.000515784167770523, 0.000515784167770523, 0.0006681749446118138, 0.0006681749446118138, 0.0007502315167571243, 0.0007502315167571243, 0.0011370696425850165, 0.0011370696425850165, 0.001594241973108889, 0.001594241973108889, 0.003352597090508399, 0.0033760418254070593, 0.0035167102347990202, 0.0035167102347990202, 0.004149718077062843, 0.004149718077062843, 0.004606890407586716, 0.004606890407586716, 0.004642057509934706, 0.0046655022448333664, 0.005134396942806569, 0.005134396942806569, 0.005673625845475753, 0.005673625845475753, 0.007303034920932631, 0.007303034920932631, 0.00883866505679487, 0.00883866505679487, 0.009753009717842615, 0.009776454452741275, 0.013093884440901685, 0.013093884440901685, 0.01589553026129157, 0.01589553026129157, 0.0193770733937426, 0.0193770733937426, 0.023960519066430656, 0.023983963801329316, 0.02491003082982639, 0.02491003082982639, 0.025824375490874137, 0.025847820225772797, 0.032787461755776195, 0.032810906490674856, 0.0343465366265371, 0.03436998136143576, 0.04537728439635669, 0.04540072913125535, 0.046244739587607116, 0.046244739587607116, 0.0533367718944518, 0.05336021662935046, 0.0565721453104669, 0.0565721453104669, 0.07052176257516968, 0.07054520731006834, 0.08380320489526065, 0.08380320489526065, 0.084916829802947, 0.084916829802947, 0.09146963320712251, 0.09146963320712251, 0.10301616514471262, 0.10301616514471262, 0.10346161510778717, 0.10348505984268583, 0.11060053688442918, 0.11062398161932784, 0.11716506265605402, 0.11718850739095267, 0.12444465284208799, 0.12444465284208799, 0.12595683824305157, 0.12598028297795022, 0.12598028297795022, 0.13153668514893269, 0.13153668514893269, 0.13733925703635105, 0.13733925703635105, 0.14513463139015556, 0.14515807612505421, 0.14776044169880548, 0.14779560880115347, 0.1511130387893139, 0.1511130387893139, 0.1517812137339257, 0.1518163808362737, 0.15593093181098855, 0.1559543765458872, 0.17929361013750336, 0.17931705487240204, 0.186596645058436, 0.18662008979333466, 0.1899961316187417, 0.1900195763536404, 0.19715849813028238, 0.19715849813028238, 0.19913957822921918, 0.19916302296411784, 0.20151921882143317, 0.20154266355633182, 0.20378163573915387, 0.20380508047405255, 0.21913793709777626, 0.21916138183267492, 0.2234400459516804, 0.22346349068657906, 0.22465917216641074, 0.2246826169013094, 0.22557351682745846, 0.22559696156235715, 0.23028590854208916, 0.23028590854208916, 0.23515069103356115, 0.2351741357684598, 0.2436376850668761, 0.24368457453667342, 0.2455835980634649, 0.24560704279836357, 0.24968642667073043, 0.24970987140562909, 0.2609867888918846, 0.2609867888918846, 0.2635188202609399, 0.2635188202609399, 0.27751532699544, 0.277550494097788, 0.2864946604616268, 0.2865181051965255, 0.291828337651072, 0.29185178238597065, 0.30989250589048967, 0.3099159506253883, 0.32018474451100143, 0.3202081892459001, 0.3306293739083545, 0.3306293739083545, 0.34034721652384914, 0.34034721652384914, 0.34715791201190993, 0.3471813567468086, 0.3533824891275042, 0.3533824891275042, 0.36029868592260894, 0.36032213065750757, 0.3652338026187769, 0.36525724735367554, 0.37309951117727735, 0.37312295591217604, 0.38103555394047384, 0.38105899867537246, 0.38846753490334907, 0.38849097963824775, 0.39312131478073314, 0.39312131478073314, 0.39415288311627417, 0.39415288311627417, 0.3963215210944002, 0.3963215210944002, 0.4122873855603878, 0.4123108302952864, 0.41714044568441044, 0.41716389041930907, 0.4184416284712861, 0.4184416284712861, 0.42238034393426094, 0.42241551103660896, 0.4286400881522032, 0.4286400881522032, 0.44724348529429003, 0.4472669300291887, 0.44849777861136836, 0.44852122334626704, 0.4494238456398654, 0.4494590127422134, 0.45889551853892413, 0.45889551853892413, 0.4610289894147022, 0.46105243414960084, 0.46179094329890863, 0.4618143880338073, 0.4667260599950766, 0.4667495047299753, 0.46705428628365786, 0.4670777310185565, 0.4740173725485599, 0.4740408172834586, 0.47649079208036854, 0.47649079208036854, 0.4894205633769796, 0.48944400811187827, 0.4905810777544633, 0.4906045224893619, 0.49730971667037877, 0.4973331614052774, 0.49777861136835194, 0.49777861136835194, 0.49789583504284524, 0.4979192797777439, 0.5035577385208717, 0.5035929056232197, 0.5091024183244048, 0.5091258630593034, 0.5098643722086112, 0.5098878169435099, 0.5103215445391351, 0.5103449892740338, 0.5152801059702018, 0.5153035507051004, 0.5184568675489701, 0.5184803122838688, 0.5240718815571993, 0.524095326292098, 0.5319493124831491, 0.5319727572180477, 0.5350791845921202, 0.5350791845921202, 0.5581605260998511, 0.5581839708347498, 0.5634355914520497, 0.5634355914520497, 0.5710316855592156, 0.5710316855592156, 0.571758472341074, 0.5717819170759727, 0.5758964680506875, 0.5759199127855862, 0.5987433622094318, 0.5987668069443305, 0.6056947261068846, 0.6056947261068846, 0.6265722625341414, 0.62659570726904, 0.6270763243344626, 0.6270997690693613, 0.638740079946546, 0.638775247048894, 0.6624075398267434, 0.6624309845616421, 0.66246615166399, 0.6627357661153247, 0.6627592108502233, 0.6754076453280504, 0.6754076453280504, 0.6754662571652971, 0.6754897019001957, 0.6757710387189797, 0.6757944834538784, 0.678373404292731, 0.6783968490276296, 0.6838946393613654, 0.6839180840962641, 0.6863680588931741, 0.6863915036280728, 0.6925340241715217, 0.6925340241715217, 0.6958280094247834, 0.6958514541596821, 0.7011851313491273, 0.701208576084026, 0.7023925351964083, 0.7024159799313069, 0.705792021756714, 0.7058154664916126, 0.7071752611157349, 0.7071987058506336, 0.711934542300163, 0.7119579870350616, 0.7164242090332563, 0.716447653768155, 0.7165062656054016, 0.7165297103403003, 0.7358130047944483, 0.7358364495293469, 0.747629151183373, 0.747629151183373, 0.7624696683742248, 0.7625048354765729, 0.7702767650954787, 0.7703002098303774, 0.7710621637145838, 0.7710856084494825, 0.7719061741709355, 0.7719296189058342, 0.7795022682781014, 0.7795257130130001, 0.784566331016212, 0.7845897757511107, 0.794331063101504, 0.7943545078364026, 0.8288299905048824, 0.8288299905048824, 0.8439870116168662, 0.8440104563517647, 0.863410974480406, 0.8634344192153047, 0.8688618753443446, 0.8688853200792432, 0.8918494379124808, 0.8918728826473795, 0.898179516335119, 0.8982029610700177, 0.9218235314804177, 0.9218469762153164, 0.9228316550810601, 0.9228550998159588, 0.9255395219618554, 0.9255629666967541, 0.9322095490405242, 0.9322329937754229, 0.9411654377718124, 0.9411888825067111, 0.9474955161944506, 0.947542405664248, 0.9560176773301136, 0.9560411220650122, 0.9716670378749692, 0.9716904826098679, 0.9895905377049949, 0.9896491495422416, 0.9898953192586775, 0.9899773758308228, 0.9951586622434266, 0.9951586622434266, 1.0], \"xaxis\": \"x2\", \"y\": [0.0, 0.007352941176470588, 0.11764705882352941, 0.11764705882352941, 0.15441176470588236, 0.15441176470588236, 0.17647058823529413, 0.17647058823529413, 0.20588235294117646, 0.20588235294117646, 0.21323529411764705, 0.21323529411764705, 0.23529411764705882, 0.23529411764705882, 0.27205882352941174, 0.27205882352941174, 0.27941176470588236, 0.27941176470588236, 0.29411764705882354, 0.29411764705882354, 0.3014705882352941, 0.3014705882352941, 0.33088235294117646, 0.4632352941176471, 0.4632352941176471, 0.5147058823529411, 0.5147058823529411, 0.5220588235294118, 0.5220588235294118, 0.5294117647058824, 0.5294117647058824, 0.5367647058823529, 0.5367647058823529, 0.5441176470588235, 0.5441176470588235, 0.5514705882352942, 0.5514705882352942, 0.5661764705882353, 0.5661764705882353, 0.5808823529411765, 0.5808823529411765, 0.5882352941176471, 0.5882352941176471, 0.5955882352941176, 0.5955882352941176, 0.6029411764705882, 0.6029411764705882, 0.625, 0.625, 0.6323529411764706, 0.6323529411764706, 0.6397058823529411, 0.6397058823529411, 0.6470588235294118, 0.6470588235294118, 0.6544117647058824, 0.6544117647058824, 0.6617647058823529, 0.6617647058823529, 0.6617647058823529, 0.6617647058823529, 0.6691176470588235, 0.6691176470588235, 0.6764705882352942, 0.6764705882352942, 0.6838235294117647, 0.6838235294117647, 0.6838235294117647, 0.6838235294117647, 0.6911764705882353, 0.6911764705882353, 0.6985294117647058, 0.6985294117647058, 0.7058823529411765, 0.7058823529411765, 0.7132352941176471, 0.7132352941176471, 0.7132352941176471, 0.7132352941176471, 0.7205882352941176, 0.7205882352941176, 0.7279411764705882, 0.7279411764705882, 0.7352941176470589, 0.7352941176470589, 0.7352941176470589, 0.7352941176470589, 0.7426470588235294, 0.7426470588235294, 0.7426470588235294, 0.7426470588235294, 0.7426470588235294, 0.7426470588235294, 0.7426470588235294, 0.7426470588235294, 0.7426470588235294, 0.7426470588235294, 0.75, 0.75, 0.75, 0.75, 0.7573529411764706, 0.7573529411764706, 0.7573529411764706, 0.7573529411764706, 0.7647058823529411, 0.7647058823529411, 0.7720588235294118, 0.7720588235294118, 0.7794117647058824, 0.7794117647058824, 0.7867647058823529, 0.7867647058823529, 0.7867647058823529, 0.7867647058823529, 0.7867647058823529, 0.7867647058823529, 0.7867647058823529, 0.7867647058823529, 0.7941176470588235, 0.7941176470588235, 0.7941176470588235, 0.8014705882352942, 0.8014705882352942, 0.8088235294117647, 0.8088235294117647, 0.8161764705882353, 0.8161764705882353, 0.8161764705882353, 0.8161764705882353, 0.8161764705882353, 0.8161764705882353, 0.8235294117647058, 0.8235294117647058, 0.8235294117647058, 0.8235294117647058, 0.8235294117647058, 0.8235294117647058, 0.8235294117647058, 0.8235294117647058, 0.8235294117647058, 0.8235294117647058, 0.8235294117647058, 0.8235294117647058, 0.8308823529411765, 0.8308823529411765, 0.8308823529411765, 0.8308823529411765, 0.8308823529411765, 0.8308823529411765, 0.8308823529411765, 0.8308823529411765, 0.8308823529411765, 0.8308823529411765, 0.8308823529411765, 0.8308823529411765, 0.8308823529411765, 0.8308823529411765, 0.8308823529411765, 0.8308823529411765, 0.8382352941176471, 0.8382352941176471, 0.8382352941176471, 0.8382352941176471, 0.8382352941176471, 0.8382352941176471, 0.8382352941176471, 0.8382352941176471, 0.8382352941176471, 0.8382352941176471, 0.8455882352941176, 0.8455882352941176, 0.8529411764705882, 0.8529411764705882, 0.8529411764705882, 0.8529411764705882, 0.8529411764705882, 0.8529411764705882, 0.8529411764705882, 0.8529411764705882, 0.8529411764705882, 0.8529411764705882, 0.8529411764705882, 0.8529411764705882, 0.8602941176470589, 0.8602941176470589, 0.8676470588235294, 0.8676470588235294, 0.8676470588235294, 0.8676470588235294, 0.875, 0.875, 0.875, 0.875, 0.875, 0.875, 0.875, 0.875, 0.875, 0.875, 0.875, 0.875, 0.8823529411764706, 0.8823529411764706, 0.8897058823529411, 0.8897058823529411, 0.8970588235294118, 0.8970588235294118, 0.8970588235294118, 0.8970588235294118, 0.8970588235294118, 0.8970588235294118, 0.9044117647058824, 0.9044117647058824, 0.9044117647058824, 0.9044117647058824, 0.9117647058823529, 0.9117647058823529, 0.9117647058823529, 0.9117647058823529, 0.9117647058823529, 0.9117647058823529, 0.9117647058823529, 0.9117647058823529, 0.9191176470588235, 0.9191176470588235, 0.9191176470588235, 0.9191176470588235, 0.9191176470588235, 0.9191176470588235, 0.9191176470588235, 0.9191176470588235, 0.9191176470588235, 0.9191176470588235, 0.9191176470588235, 0.9191176470588235, 0.9264705882352942, 0.9264705882352942, 0.9264705882352942, 0.9264705882352942, 0.9264705882352942, 0.9264705882352942, 0.9264705882352942, 0.9264705882352942, 0.9338235294117647, 0.9338235294117647, 0.9338235294117647, 0.9338235294117647, 0.9338235294117647, 0.9338235294117647, 0.9338235294117647, 0.9338235294117647, 0.9338235294117647, 0.9338235294117647, 0.9338235294117647, 0.9338235294117647, 0.9338235294117647, 0.9338235294117647, 0.9338235294117647, 0.9338235294117647, 0.9338235294117647, 0.9338235294117647, 0.9338235294117647, 0.9338235294117647, 0.9411764705882353, 0.9411764705882353, 0.9411764705882353, 0.9411764705882353, 0.9485294117647058, 0.9485294117647058, 0.9558823529411765, 0.9558823529411765, 0.9558823529411765, 0.9558823529411765, 0.9558823529411765, 0.9558823529411765, 0.9558823529411765, 0.9558823529411765, 0.9632352941176471, 0.9632352941176471, 0.9632352941176471, 0.9632352941176471, 0.9632352941176471, 0.9632352941176471, 0.9632352941176471, 0.9632352941176471, 0.9632352941176471, 0.9632352941176471, 0.9632352941176471, 0.9632352941176471, 0.9632352941176471, 0.9705882352941176, 0.9705882352941176, 0.9705882352941176, 0.9705882352941176, 0.9705882352941176, 0.9705882352941176, 0.9705882352941176, 0.9705882352941176, 0.9705882352941176, 0.9705882352941176, 0.9705882352941176, 0.9705882352941176, 0.9779411764705882, 0.9779411764705882, 0.9779411764705882, 0.9779411764705882, 0.9779411764705882, 0.9779411764705882, 0.9779411764705882, 0.9779411764705882, 0.9779411764705882, 0.9779411764705882, 0.9779411764705882, 0.9779411764705882, 0.9779411764705882, 0.9779411764705882, 0.9779411764705882, 0.9779411764705882, 0.9779411764705882, 0.9779411764705882, 0.9779411764705882, 0.9779411764705882, 0.9852941176470589, 0.9852941176470589, 0.9852941176470589, 0.9852941176470589, 0.9852941176470589, 0.9852941176470589, 0.9852941176470589, 0.9852941176470589, 0.9852941176470589, 0.9852941176470589, 0.9852941176470589, 0.9852941176470589, 0.9852941176470589, 0.9852941176470589, 0.9852941176470589, 0.9852941176470589, 0.9926470588235294, 0.9926470588235294, 0.9926470588235294, 0.9926470588235294, 0.9926470588235294, 0.9926470588235294, 0.9926470588235294, 0.9926470588235294, 0.9926470588235294, 0.9926470588235294, 0.9926470588235294, 0.9926470588235294, 0.9926470588235294, 0.9926470588235294, 0.9926470588235294, 0.9926470588235294, 0.9926470588235294, 0.9926470588235294, 0.9926470588235294, 0.9926470588235294, 0.9926470588235294, 0.9926470588235294, 0.9926470588235294, 0.9926470588235294, 0.9926470588235294, 0.9926470588235294, 0.9926470588235294, 0.9926470588235294, 0.9926470588235294, 0.9926470588235294, 0.9926470588235294, 0.9926470588235294, 1.0, 1.0], \"yaxis\": \"y2\"}, {\"line\": {\"color\": \"rgb(205, 12, 24)\", \"dash\": \"dot\", \"width\": 2}, \"type\": \"scatter\", \"x\": [0, 1], \"xaxis\": \"x2\", \"y\": [0, 1], \"yaxis\": \"y2\"}],\n",
       "                        {\"annotations\": [{\"font\": {\"size\": 16}, \"showarrow\": false, \"text\": \"Confusion Matrix\", \"x\": 0.225, \"xanchor\": \"center\", \"xref\": \"paper\", \"y\": 1.0, \"yanchor\": \"bottom\", \"yref\": \"paper\"}, {\"font\": {\"size\": 16}, \"showarrow\": false, \"text\": \"Receiver operating characteristic\", \"x\": 0.775, \"xanchor\": \"center\", \"xref\": \"paper\", \"y\": 1.0, \"yanchor\": \"bottom\", \"yref\": \"paper\"}], \"autosize\": true, \"height\": 500, \"margin\": {\"b\": 10}, \"paper_bgcolor\": \"rgba(240,240,240, 0.95)\", \"plot_bgcolor\": \"rgba(240,240,240, 0.95)\", \"showlegend\": false, \"template\": {\"data\": {\"bar\": [{\"error_x\": {\"color\": \"#2a3f5f\"}, \"error_y\": {\"color\": \"#2a3f5f\"}, \"marker\": {\"line\": {\"color\": \"#E5ECF6\", \"width\": 0.5}}, \"type\": \"bar\"}], \"barpolar\": [{\"marker\": {\"line\": {\"color\": \"#E5ECF6\", \"width\": 0.5}}, \"type\": \"barpolar\"}], \"carpet\": [{\"aaxis\": {\"endlinecolor\": \"#2a3f5f\", \"gridcolor\": \"white\", \"linecolor\": \"white\", \"minorgridcolor\": \"white\", \"startlinecolor\": \"#2a3f5f\"}, \"baxis\": {\"endlinecolor\": \"#2a3f5f\", \"gridcolor\": \"white\", \"linecolor\": \"white\", \"minorgridcolor\": \"white\", \"startlinecolor\": \"#2a3f5f\"}, \"type\": \"carpet\"}], \"choropleth\": [{\"colorbar\": {\"outlinewidth\": 0, \"ticks\": \"\"}, \"type\": \"choropleth\"}], \"contour\": [{\"colorbar\": {\"outlinewidth\": 0, \"ticks\": \"\"}, \"colorscale\": [[0.0, \"#0d0887\"], [0.1111111111111111, \"#46039f\"], [0.2222222222222222, \"#7201a8\"], [0.3333333333333333, \"#9c179e\"], [0.4444444444444444, \"#bd3786\"], [0.5555555555555556, \"#d8576b\"], [0.6666666666666666, \"#ed7953\"], [0.7777777777777778, \"#fb9f3a\"], [0.8888888888888888, \"#fdca26\"], [1.0, \"#f0f921\"]], \"type\": \"contour\"}], \"contourcarpet\": [{\"colorbar\": {\"outlinewidth\": 0, \"ticks\": \"\"}, \"type\": \"contourcarpet\"}], \"heatmap\": [{\"colorbar\": {\"outlinewidth\": 0, \"ticks\": \"\"}, \"colorscale\": [[0.0, \"#0d0887\"], [0.1111111111111111, \"#46039f\"], [0.2222222222222222, \"#7201a8\"], [0.3333333333333333, \"#9c179e\"], [0.4444444444444444, \"#bd3786\"], [0.5555555555555556, \"#d8576b\"], [0.6666666666666666, \"#ed7953\"], [0.7777777777777778, \"#fb9f3a\"], [0.8888888888888888, \"#fdca26\"], [1.0, \"#f0f921\"]], \"type\": \"heatmap\"}], \"heatmapgl\": [{\"colorbar\": {\"outlinewidth\": 0, \"ticks\": \"\"}, \"colorscale\": [[0.0, \"#0d0887\"], [0.1111111111111111, \"#46039f\"], [0.2222222222222222, \"#7201a8\"], [0.3333333333333333, \"#9c179e\"], [0.4444444444444444, \"#bd3786\"], [0.5555555555555556, \"#d8576b\"], [0.6666666666666666, \"#ed7953\"], [0.7777777777777778, \"#fb9f3a\"], [0.8888888888888888, \"#fdca26\"], [1.0, \"#f0f921\"]], \"type\": \"heatmapgl\"}], \"histogram\": [{\"marker\": {\"colorbar\": {\"outlinewidth\": 0, \"ticks\": \"\"}}, \"type\": \"histogram\"}], \"histogram2d\": [{\"colorbar\": {\"outlinewidth\": 0, \"ticks\": \"\"}, \"colorscale\": [[0.0, \"#0d0887\"], [0.1111111111111111, \"#46039f\"], [0.2222222222222222, \"#7201a8\"], [0.3333333333333333, \"#9c179e\"], [0.4444444444444444, \"#bd3786\"], [0.5555555555555556, \"#d8576b\"], [0.6666666666666666, \"#ed7953\"], [0.7777777777777778, \"#fb9f3a\"], [0.8888888888888888, \"#fdca26\"], [1.0, \"#f0f921\"]], \"type\": \"histogram2d\"}], \"histogram2dcontour\": [{\"colorbar\": {\"outlinewidth\": 0, \"ticks\": \"\"}, \"colorscale\": [[0.0, \"#0d0887\"], [0.1111111111111111, \"#46039f\"], [0.2222222222222222, \"#7201a8\"], [0.3333333333333333, \"#9c179e\"], [0.4444444444444444, \"#bd3786\"], [0.5555555555555556, \"#d8576b\"], [0.6666666666666666, \"#ed7953\"], [0.7777777777777778, \"#fb9f3a\"], [0.8888888888888888, \"#fdca26\"], [1.0, \"#f0f921\"]], \"type\": \"histogram2dcontour\"}], \"mesh3d\": [{\"colorbar\": {\"outlinewidth\": 0, \"ticks\": \"\"}, \"type\": \"mesh3d\"}], \"parcoords\": [{\"line\": {\"colorbar\": {\"outlinewidth\": 0, \"ticks\": \"\"}}, \"type\": \"parcoords\"}], \"pie\": [{\"automargin\": true, \"type\": \"pie\"}], \"scatter\": [{\"marker\": {\"colorbar\": {\"outlinewidth\": 0, \"ticks\": \"\"}}, \"type\": \"scatter\"}], \"scatter3d\": [{\"line\": {\"colorbar\": {\"outlinewidth\": 0, \"ticks\": \"\"}}, \"marker\": {\"colorbar\": {\"outlinewidth\": 0, \"ticks\": \"\"}}, \"type\": \"scatter3d\"}], \"scattercarpet\": [{\"marker\": {\"colorbar\": {\"outlinewidth\": 0, \"ticks\": \"\"}}, \"type\": \"scattercarpet\"}], \"scattergeo\": [{\"marker\": {\"colorbar\": {\"outlinewidth\": 0, \"ticks\": \"\"}}, \"type\": \"scattergeo\"}], \"scattergl\": [{\"marker\": {\"colorbar\": {\"outlinewidth\": 0, \"ticks\": \"\"}}, \"type\": \"scattergl\"}], \"scattermapbox\": [{\"marker\": {\"colorbar\": {\"outlinewidth\": 0, \"ticks\": \"\"}}, \"type\": \"scattermapbox\"}], \"scatterpolar\": [{\"marker\": {\"colorbar\": {\"outlinewidth\": 0, \"ticks\": \"\"}}, \"type\": \"scatterpolar\"}], \"scatterpolargl\": [{\"marker\": {\"colorbar\": {\"outlinewidth\": 0, \"ticks\": \"\"}}, \"type\": \"scatterpolargl\"}], \"scatterternary\": [{\"marker\": {\"colorbar\": {\"outlinewidth\": 0, \"ticks\": \"\"}}, \"type\": \"scatterternary\"}], \"surface\": [{\"colorbar\": {\"outlinewidth\": 0, \"ticks\": \"\"}, \"colorscale\": [[0.0, \"#0d0887\"], [0.1111111111111111, \"#46039f\"], [0.2222222222222222, \"#7201a8\"], [0.3333333333333333, \"#9c179e\"], [0.4444444444444444, \"#bd3786\"], [0.5555555555555556, \"#d8576b\"], [0.6666666666666666, \"#ed7953\"], [0.7777777777777778, \"#fb9f3a\"], [0.8888888888888888, \"#fdca26\"], [1.0, \"#f0f921\"]], \"type\": \"surface\"}], \"table\": [{\"cells\": {\"fill\": {\"color\": \"#EBF0F8\"}, \"line\": {\"color\": \"white\"}}, \"header\": {\"fill\": {\"color\": \"#C8D4E3\"}, \"line\": {\"color\": \"white\"}}, \"type\": \"table\"}]}, \"layout\": {\"annotationdefaults\": {\"arrowcolor\": \"#2a3f5f\", \"arrowhead\": 0, \"arrowwidth\": 1}, \"coloraxis\": {\"colorbar\": {\"outlinewidth\": 0, \"ticks\": \"\"}}, \"colorscale\": {\"diverging\": [[0, \"#8e0152\"], [0.1, \"#c51b7d\"], [0.2, \"#de77ae\"], [0.3, \"#f1b6da\"], [0.4, \"#fde0ef\"], [0.5, \"#f7f7f7\"], [0.6, \"#e6f5d0\"], [0.7, \"#b8e186\"], [0.8, \"#7fbc41\"], [0.9, \"#4d9221\"], [1, \"#276419\"]], \"sequential\": [[0.0, \"#0d0887\"], [0.1111111111111111, \"#46039f\"], [0.2222222222222222, \"#7201a8\"], [0.3333333333333333, \"#9c179e\"], [0.4444444444444444, \"#bd3786\"], [0.5555555555555556, \"#d8576b\"], [0.6666666666666666, \"#ed7953\"], [0.7777777777777778, \"#fb9f3a\"], [0.8888888888888888, \"#fdca26\"], [1.0, \"#f0f921\"]], \"sequentialminus\": [[0.0, \"#0d0887\"], [0.1111111111111111, \"#46039f\"], [0.2222222222222222, \"#7201a8\"], [0.3333333333333333, \"#9c179e\"], [0.4444444444444444, \"#bd3786\"], [0.5555555555555556, \"#d8576b\"], [0.6666666666666666, \"#ed7953\"], [0.7777777777777778, \"#fb9f3a\"], [0.8888888888888888, \"#fdca26\"], [1.0, \"#f0f921\"]]}, \"colorway\": [\"#636efa\", \"#EF553B\", \"#00cc96\", \"#ab63fa\", \"#FFA15A\", \"#19d3f3\", \"#FF6692\", \"#B6E880\", \"#FF97FF\", \"#FECB52\"], \"font\": {\"color\": \"#2a3f5f\"}, \"geo\": {\"bgcolor\": \"white\", \"lakecolor\": \"white\", \"landcolor\": \"#E5ECF6\", \"showlakes\": true, \"showland\": true, \"subunitcolor\": \"white\"}, \"hoverlabel\": {\"align\": \"left\"}, \"hovermode\": \"closest\", \"mapbox\": {\"style\": \"light\"}, \"paper_bgcolor\": \"white\", \"plot_bgcolor\": \"#E5ECF6\", \"polar\": {\"angularaxis\": {\"gridcolor\": \"white\", \"linecolor\": \"white\", \"ticks\": \"\"}, \"bgcolor\": \"#E5ECF6\", \"radialaxis\": {\"gridcolor\": \"white\", \"linecolor\": \"white\", \"ticks\": \"\"}}, \"scene\": {\"xaxis\": {\"backgroundcolor\": \"#E5ECF6\", \"gridcolor\": \"white\", \"gridwidth\": 2, \"linecolor\": \"white\", \"showbackground\": true, \"ticks\": \"\", \"zerolinecolor\": \"white\"}, \"yaxis\": {\"backgroundcolor\": \"#E5ECF6\", \"gridcolor\": \"white\", \"gridwidth\": 2, \"linecolor\": \"white\", \"showbackground\": true, \"ticks\": \"\", \"zerolinecolor\": \"white\"}, \"zaxis\": {\"backgroundcolor\": \"#E5ECF6\", \"gridcolor\": \"white\", \"gridwidth\": 2, \"linecolor\": \"white\", \"showbackground\": true, \"ticks\": \"\", \"zerolinecolor\": \"white\"}}, \"shapedefaults\": {\"line\": {\"color\": \"#2a3f5f\"}}, \"ternary\": {\"aaxis\": {\"gridcolor\": \"white\", \"linecolor\": \"white\", \"ticks\": \"\"}, \"baxis\": {\"gridcolor\": \"white\", \"linecolor\": \"white\", \"ticks\": \"\"}, \"bgcolor\": \"#E5ECF6\", \"caxis\": {\"gridcolor\": \"white\", \"linecolor\": \"white\", \"ticks\": \"\"}}, \"title\": {\"x\": 0.05}, \"xaxis\": {\"automargin\": true, \"gridcolor\": \"white\", \"linecolor\": \"white\", \"ticks\": \"\", \"title\": {\"standoff\": 15}, \"zerolinecolor\": \"white\", \"zerolinewidth\": 2}, \"yaxis\": {\"automargin\": true, \"gridcolor\": \"white\", \"linecolor\": \"white\", \"ticks\": \"\", \"title\": {\"standoff\": 15}, \"zerolinecolor\": \"white\", \"zerolinewidth\": 2}}}, \"title\": {\"text\": \"Model performance\"}, \"width\": 1000, \"xaxis\": {\"anchor\": \"y\", \"domain\": [0.0, 0.45]}, \"xaxis2\": {\"anchor\": \"y2\", \"domain\": [0.55, 1.0], \"title\": {\"text\": \"False positive rate\"}}, \"yaxis\": {\"anchor\": \"x\", \"domain\": [0.0, 1.0]}, \"yaxis2\": {\"anchor\": \"x2\", \"domain\": [0.0, 1.0], \"title\": {\"text\": \"True positive rate\"}}},\n",
       "                        {\"responsive\": true}\n",
       "                    ).then(function(){\n",
       "                            \n",
       "var gd = document.getElementById('edc1e1b2-335c-40f6-b8a2-1b1b0896461d');\n",
       "var x = new MutationObserver(function (mutations, observer) {{\n",
       "        var display = window.getComputedStyle(gd).display;\n",
       "        if (!display || display === 'none') {{\n",
       "            console.log([gd, 'removed!']);\n",
       "            Plotly.purge(gd);\n",
       "            observer.disconnect();\n",
       "        }}\n",
       "}});\n",
       "\n",
       "// Listen for the removal of the full notebook cells\n",
       "var notebookContainer = gd.closest('#notebook-container');\n",
       "if (notebookContainer) {{\n",
       "    x.observe(notebookContainer, {childList: true});\n",
       "}}\n",
       "\n",
       "// Listen for the clearing of the current output cell\n",
       "var outputEl = gd.closest('.output');\n",
       "if (outputEl) {{\n",
       "    x.observe(outputEl, {childList: true});\n",
       "}}\n",
       "\n",
       "                        })\n",
       "                };\n",
       "                });\n",
       "            </script>\n",
       "        </div>"
      ]
     },
     "metadata": {},
     "output_type": "display_data"
    },
    {
     "data": {
      "application/vnd.plotly.v1+json": {
       "config": {
        "plotlyServerURL": "https://plot.ly"
       },
       "data": [
        {
         "alignmentgroup": "True",
         "hovertemplate": "Columns=%{x}<br>Coef=%{y}<extra></extra>",
         "legendgroup": "",
         "marker": {
          "color": "#636efa"
         },
         "name": "",
         "offsetgroup": "",
         "orientation": "v",
         "showlegend": false,
         "textposition": "auto",
         "type": "bar",
         "x": [
          "V28",
          "V2",
          "V14",
          "V23",
          "V15",
          "V26",
          "Time",
          "V4",
          "V19",
          "V21",
          "V3",
          "V22",
          "Amount",
          "V13",
          "V6",
          "V20",
          "V1",
          "V16",
          "V10",
          "V8",
          "V7",
          "V11",
          "V12",
          "V5",
          "V27",
          "V17",
          "V25",
          "V18",
          "V24",
          "V9"
         ],
         "xaxis": "x",
         "y": [
          0.19555940343268358,
          0.1625885588321898,
          0.16022745451273568,
          0.14077714128094218,
          0.05141012110403032,
          0.04214959183126965,
          0.04103852459829684,
          0.03611321246783901,
          0.02815623106846774,
          0.02376318995230953,
          -8.997478542928639e-05,
          -0.007848889524693769,
          -0.017513297437855613,
          -0.01831474591398659,
          -0.02346650719650407,
          -0.024835798545753466,
          -0.051562266860682306,
          -0.06810696150369895,
          -0.14151022435486932,
          -0.14601631855049071,
          -0.16376772195465833,
          -0.21166126926240245,
          -0.21652097608004636,
          -0.25526819286090474,
          -0.26082535302902066,
          -0.3497393093764967,
          -0.3852151098066607,
          -0.4480699348563701,
          -0.7305584279309061,
          -0.783100853920895
         ],
         "yaxis": "y"
        }
       ],
       "layout": {
        "barmode": "relative",
        "legend": {
         "tracegroupgap": 0
        },
        "margin": {
         "t": 60
        },
        "template": {
         "data": {
          "bar": [
           {
            "error_x": {
             "color": "#2a3f5f"
            },
            "error_y": {
             "color": "#2a3f5f"
            },
            "marker": {
             "line": {
              "color": "#E5ECF6",
              "width": 0.5
             }
            },
            "type": "bar"
           }
          ],
          "barpolar": [
           {
            "marker": {
             "line": {
              "color": "#E5ECF6",
              "width": 0.5
             }
            },
            "type": "barpolar"
           }
          ],
          "carpet": [
           {
            "aaxis": {
             "endlinecolor": "#2a3f5f",
             "gridcolor": "white",
             "linecolor": "white",
             "minorgridcolor": "white",
             "startlinecolor": "#2a3f5f"
            },
            "baxis": {
             "endlinecolor": "#2a3f5f",
             "gridcolor": "white",
             "linecolor": "white",
             "minorgridcolor": "white",
             "startlinecolor": "#2a3f5f"
            },
            "type": "carpet"
           }
          ],
          "choropleth": [
           {
            "colorbar": {
             "outlinewidth": 0,
             "ticks": ""
            },
            "type": "choropleth"
           }
          ],
          "contour": [
           {
            "colorbar": {
             "outlinewidth": 0,
             "ticks": ""
            },
            "colorscale": [
             [
              0,
              "#0d0887"
             ],
             [
              0.1111111111111111,
              "#46039f"
             ],
             [
              0.2222222222222222,
              "#7201a8"
             ],
             [
              0.3333333333333333,
              "#9c179e"
             ],
             [
              0.4444444444444444,
              "#bd3786"
             ],
             [
              0.5555555555555556,
              "#d8576b"
             ],
             [
              0.6666666666666666,
              "#ed7953"
             ],
             [
              0.7777777777777778,
              "#fb9f3a"
             ],
             [
              0.8888888888888888,
              "#fdca26"
             ],
             [
              1,
              "#f0f921"
             ]
            ],
            "type": "contour"
           }
          ],
          "contourcarpet": [
           {
            "colorbar": {
             "outlinewidth": 0,
             "ticks": ""
            },
            "type": "contourcarpet"
           }
          ],
          "heatmap": [
           {
            "colorbar": {
             "outlinewidth": 0,
             "ticks": ""
            },
            "colorscale": [
             [
              0,
              "#0d0887"
             ],
             [
              0.1111111111111111,
              "#46039f"
             ],
             [
              0.2222222222222222,
              "#7201a8"
             ],
             [
              0.3333333333333333,
              "#9c179e"
             ],
             [
              0.4444444444444444,
              "#bd3786"
             ],
             [
              0.5555555555555556,
              "#d8576b"
             ],
             [
              0.6666666666666666,
              "#ed7953"
             ],
             [
              0.7777777777777778,
              "#fb9f3a"
             ],
             [
              0.8888888888888888,
              "#fdca26"
             ],
             [
              1,
              "#f0f921"
             ]
            ],
            "type": "heatmap"
           }
          ],
          "heatmapgl": [
           {
            "colorbar": {
             "outlinewidth": 0,
             "ticks": ""
            },
            "colorscale": [
             [
              0,
              "#0d0887"
             ],
             [
              0.1111111111111111,
              "#46039f"
             ],
             [
              0.2222222222222222,
              "#7201a8"
             ],
             [
              0.3333333333333333,
              "#9c179e"
             ],
             [
              0.4444444444444444,
              "#bd3786"
             ],
             [
              0.5555555555555556,
              "#d8576b"
             ],
             [
              0.6666666666666666,
              "#ed7953"
             ],
             [
              0.7777777777777778,
              "#fb9f3a"
             ],
             [
              0.8888888888888888,
              "#fdca26"
             ],
             [
              1,
              "#f0f921"
             ]
            ],
            "type": "heatmapgl"
           }
          ],
          "histogram": [
           {
            "marker": {
             "colorbar": {
              "outlinewidth": 0,
              "ticks": ""
             }
            },
            "type": "histogram"
           }
          ],
          "histogram2d": [
           {
            "colorbar": {
             "outlinewidth": 0,
             "ticks": ""
            },
            "colorscale": [
             [
              0,
              "#0d0887"
             ],
             [
              0.1111111111111111,
              "#46039f"
             ],
             [
              0.2222222222222222,
              "#7201a8"
             ],
             [
              0.3333333333333333,
              "#9c179e"
             ],
             [
              0.4444444444444444,
              "#bd3786"
             ],
             [
              0.5555555555555556,
              "#d8576b"
             ],
             [
              0.6666666666666666,
              "#ed7953"
             ],
             [
              0.7777777777777778,
              "#fb9f3a"
             ],
             [
              0.8888888888888888,
              "#fdca26"
             ],
             [
              1,
              "#f0f921"
             ]
            ],
            "type": "histogram2d"
           }
          ],
          "histogram2dcontour": [
           {
            "colorbar": {
             "outlinewidth": 0,
             "ticks": ""
            },
            "colorscale": [
             [
              0,
              "#0d0887"
             ],
             [
              0.1111111111111111,
              "#46039f"
             ],
             [
              0.2222222222222222,
              "#7201a8"
             ],
             [
              0.3333333333333333,
              "#9c179e"
             ],
             [
              0.4444444444444444,
              "#bd3786"
             ],
             [
              0.5555555555555556,
              "#d8576b"
             ],
             [
              0.6666666666666666,
              "#ed7953"
             ],
             [
              0.7777777777777778,
              "#fb9f3a"
             ],
             [
              0.8888888888888888,
              "#fdca26"
             ],
             [
              1,
              "#f0f921"
             ]
            ],
            "type": "histogram2dcontour"
           }
          ],
          "mesh3d": [
           {
            "colorbar": {
             "outlinewidth": 0,
             "ticks": ""
            },
            "type": "mesh3d"
           }
          ],
          "parcoords": [
           {
            "line": {
             "colorbar": {
              "outlinewidth": 0,
              "ticks": ""
             }
            },
            "type": "parcoords"
           }
          ],
          "pie": [
           {
            "automargin": true,
            "type": "pie"
           }
          ],
          "scatter": [
           {
            "marker": {
             "colorbar": {
              "outlinewidth": 0,
              "ticks": ""
             }
            },
            "type": "scatter"
           }
          ],
          "scatter3d": [
           {
            "line": {
             "colorbar": {
              "outlinewidth": 0,
              "ticks": ""
             }
            },
            "marker": {
             "colorbar": {
              "outlinewidth": 0,
              "ticks": ""
             }
            },
            "type": "scatter3d"
           }
          ],
          "scattercarpet": [
           {
            "marker": {
             "colorbar": {
              "outlinewidth": 0,
              "ticks": ""
             }
            },
            "type": "scattercarpet"
           }
          ],
          "scattergeo": [
           {
            "marker": {
             "colorbar": {
              "outlinewidth": 0,
              "ticks": ""
             }
            },
            "type": "scattergeo"
           }
          ],
          "scattergl": [
           {
            "marker": {
             "colorbar": {
              "outlinewidth": 0,
              "ticks": ""
             }
            },
            "type": "scattergl"
           }
          ],
          "scattermapbox": [
           {
            "marker": {
             "colorbar": {
              "outlinewidth": 0,
              "ticks": ""
             }
            },
            "type": "scattermapbox"
           }
          ],
          "scatterpolar": [
           {
            "marker": {
             "colorbar": {
              "outlinewidth": 0,
              "ticks": ""
             }
            },
            "type": "scatterpolar"
           }
          ],
          "scatterpolargl": [
           {
            "marker": {
             "colorbar": {
              "outlinewidth": 0,
              "ticks": ""
             }
            },
            "type": "scatterpolargl"
           }
          ],
          "scatterternary": [
           {
            "marker": {
             "colorbar": {
              "outlinewidth": 0,
              "ticks": ""
             }
            },
            "type": "scatterternary"
           }
          ],
          "surface": [
           {
            "colorbar": {
             "outlinewidth": 0,
             "ticks": ""
            },
            "colorscale": [
             [
              0,
              "#0d0887"
             ],
             [
              0.1111111111111111,
              "#46039f"
             ],
             [
              0.2222222222222222,
              "#7201a8"
             ],
             [
              0.3333333333333333,
              "#9c179e"
             ],
             [
              0.4444444444444444,
              "#bd3786"
             ],
             [
              0.5555555555555556,
              "#d8576b"
             ],
             [
              0.6666666666666666,
              "#ed7953"
             ],
             [
              0.7777777777777778,
              "#fb9f3a"
             ],
             [
              0.8888888888888888,
              "#fdca26"
             ],
             [
              1,
              "#f0f921"
             ]
            ],
            "type": "surface"
           }
          ],
          "table": [
           {
            "cells": {
             "fill": {
              "color": "#EBF0F8"
             },
             "line": {
              "color": "white"
             }
            },
            "header": {
             "fill": {
              "color": "#C8D4E3"
             },
             "line": {
              "color": "white"
             }
            },
            "type": "table"
           }
          ]
         },
         "layout": {
          "annotationdefaults": {
           "arrowcolor": "#2a3f5f",
           "arrowhead": 0,
           "arrowwidth": 1
          },
          "coloraxis": {
           "colorbar": {
            "outlinewidth": 0,
            "ticks": ""
           }
          },
          "colorscale": {
           "diverging": [
            [
             0,
             "#8e0152"
            ],
            [
             0.1,
             "#c51b7d"
            ],
            [
             0.2,
             "#de77ae"
            ],
            [
             0.3,
             "#f1b6da"
            ],
            [
             0.4,
             "#fde0ef"
            ],
            [
             0.5,
             "#f7f7f7"
            ],
            [
             0.6,
             "#e6f5d0"
            ],
            [
             0.7,
             "#b8e186"
            ],
            [
             0.8,
             "#7fbc41"
            ],
            [
             0.9,
             "#4d9221"
            ],
            [
             1,
             "#276419"
            ]
           ],
           "sequential": [
            [
             0,
             "#0d0887"
            ],
            [
             0.1111111111111111,
             "#46039f"
            ],
            [
             0.2222222222222222,
             "#7201a8"
            ],
            [
             0.3333333333333333,
             "#9c179e"
            ],
            [
             0.4444444444444444,
             "#bd3786"
            ],
            [
             0.5555555555555556,
             "#d8576b"
            ],
            [
             0.6666666666666666,
             "#ed7953"
            ],
            [
             0.7777777777777778,
             "#fb9f3a"
            ],
            [
             0.8888888888888888,
             "#fdca26"
            ],
            [
             1,
             "#f0f921"
            ]
           ],
           "sequentialminus": [
            [
             0,
             "#0d0887"
            ],
            [
             0.1111111111111111,
             "#46039f"
            ],
            [
             0.2222222222222222,
             "#7201a8"
            ],
            [
             0.3333333333333333,
             "#9c179e"
            ],
            [
             0.4444444444444444,
             "#bd3786"
            ],
            [
             0.5555555555555556,
             "#d8576b"
            ],
            [
             0.6666666666666666,
             "#ed7953"
            ],
            [
             0.7777777777777778,
             "#fb9f3a"
            ],
            [
             0.8888888888888888,
             "#fdca26"
            ],
            [
             1,
             "#f0f921"
            ]
           ]
          },
          "colorway": [
           "#636efa",
           "#EF553B",
           "#00cc96",
           "#ab63fa",
           "#FFA15A",
           "#19d3f3",
           "#FF6692",
           "#B6E880",
           "#FF97FF",
           "#FECB52"
          ],
          "font": {
           "color": "#2a3f5f"
          },
          "geo": {
           "bgcolor": "white",
           "lakecolor": "white",
           "landcolor": "#E5ECF6",
           "showlakes": true,
           "showland": true,
           "subunitcolor": "white"
          },
          "hoverlabel": {
           "align": "left"
          },
          "hovermode": "closest",
          "mapbox": {
           "style": "light"
          },
          "paper_bgcolor": "white",
          "plot_bgcolor": "#E5ECF6",
          "polar": {
           "angularaxis": {
            "gridcolor": "white",
            "linecolor": "white",
            "ticks": ""
           },
           "bgcolor": "#E5ECF6",
           "radialaxis": {
            "gridcolor": "white",
            "linecolor": "white",
            "ticks": ""
           }
          },
          "scene": {
           "xaxis": {
            "backgroundcolor": "#E5ECF6",
            "gridcolor": "white",
            "gridwidth": 2,
            "linecolor": "white",
            "showbackground": true,
            "ticks": "",
            "zerolinecolor": "white"
           },
           "yaxis": {
            "backgroundcolor": "#E5ECF6",
            "gridcolor": "white",
            "gridwidth": 2,
            "linecolor": "white",
            "showbackground": true,
            "ticks": "",
            "zerolinecolor": "white"
           },
           "zaxis": {
            "backgroundcolor": "#E5ECF6",
            "gridcolor": "white",
            "gridwidth": 2,
            "linecolor": "white",
            "showbackground": true,
            "ticks": "",
            "zerolinecolor": "white"
           }
          },
          "shapedefaults": {
           "line": {
            "color": "#2a3f5f"
           }
          },
          "ternary": {
           "aaxis": {
            "gridcolor": "white",
            "linecolor": "white",
            "ticks": ""
           },
           "baxis": {
            "gridcolor": "white",
            "linecolor": "white",
            "ticks": ""
           },
           "bgcolor": "#E5ECF6",
           "caxis": {
            "gridcolor": "white",
            "linecolor": "white",
            "ticks": ""
           }
          },
          "title": {
           "x": 0.05
          },
          "xaxis": {
           "automargin": true,
           "gridcolor": "white",
           "linecolor": "white",
           "ticks": "",
           "title": {
            "standoff": 15
           },
           "zerolinecolor": "white",
           "zerolinewidth": 2
          },
          "yaxis": {
           "automargin": true,
           "gridcolor": "white",
           "linecolor": "white",
           "ticks": "",
           "title": {
            "standoff": 15
           },
           "zerolinecolor": "white",
           "zerolinewidth": 2
          }
         }
        },
        "xaxis": {
         "anchor": "y",
         "domain": [
          0,
          1
         ],
         "title": {
          "text": "Columns"
         }
        },
        "yaxis": {
         "anchor": "x",
         "domain": [
          0,
          1
         ],
         "title": {
          "text": "Coef"
         }
        }
       }
      },
      "text/html": [
       "<div>\n",
       "        \n",
       "        \n",
       "            <div id=\"b6bc6876-00bc-4c6c-9c03-f514e6f6cde3\" class=\"plotly-graph-div\" style=\"height:525px; width:100%;\"></div>\n",
       "            <script type=\"text/javascript\">\n",
       "                require([\"plotly\"], function(Plotly) {\n",
       "                    window.PLOTLYENV=window.PLOTLYENV || {};\n",
       "                    \n",
       "                if (document.getElementById(\"b6bc6876-00bc-4c6c-9c03-f514e6f6cde3\")) {\n",
       "                    Plotly.newPlot(\n",
       "                        'b6bc6876-00bc-4c6c-9c03-f514e6f6cde3',\n",
       "                        [{\"alignmentgroup\": \"True\", \"hovertemplate\": \"Columns=%{x}<br>Coef=%{y}<extra></extra>\", \"legendgroup\": \"\", \"marker\": {\"color\": \"#636efa\"}, \"name\": \"\", \"offsetgroup\": \"\", \"orientation\": \"v\", \"showlegend\": false, \"textposition\": \"auto\", \"type\": \"bar\", \"x\": [\"V28\", \"V2\", \"V14\", \"V23\", \"V15\", \"V26\", \"Time\", \"V4\", \"V19\", \"V21\", \"V3\", \"V22\", \"Amount\", \"V13\", \"V6\", \"V20\", \"V1\", \"V16\", \"V10\", \"V8\", \"V7\", \"V11\", \"V12\", \"V5\", \"V27\", \"V17\", \"V25\", \"V18\", \"V24\", \"V9\"], \"xaxis\": \"x\", \"y\": [0.19555940343268358, 0.1625885588321898, 0.16022745451273568, 0.14077714128094218, 0.05141012110403032, 0.04214959183126965, 0.04103852459829684, 0.03611321246783901, 0.02815623106846774, 0.02376318995230953, -8.997478542928639e-05, -0.007848889524693769, -0.017513297437855613, -0.01831474591398659, -0.02346650719650407, -0.024835798545753466, -0.051562266860682306, -0.06810696150369895, -0.14151022435486932, -0.14601631855049071, -0.16376772195465833, -0.21166126926240245, -0.21652097608004636, -0.25526819286090474, -0.26082535302902066, -0.3497393093764967, -0.3852151098066607, -0.4480699348563701, -0.7305584279309061, -0.783100853920895], \"yaxis\": \"y\"}],\n",
       "                        {\"barmode\": \"relative\", \"legend\": {\"tracegroupgap\": 0}, \"margin\": {\"t\": 60}, \"template\": {\"data\": {\"bar\": [{\"error_x\": {\"color\": \"#2a3f5f\"}, \"error_y\": {\"color\": \"#2a3f5f\"}, \"marker\": {\"line\": {\"color\": \"#E5ECF6\", \"width\": 0.5}}, \"type\": \"bar\"}], \"barpolar\": [{\"marker\": {\"line\": {\"color\": \"#E5ECF6\", \"width\": 0.5}}, \"type\": \"barpolar\"}], \"carpet\": [{\"aaxis\": {\"endlinecolor\": \"#2a3f5f\", \"gridcolor\": \"white\", \"linecolor\": \"white\", \"minorgridcolor\": \"white\", \"startlinecolor\": \"#2a3f5f\"}, \"baxis\": {\"endlinecolor\": \"#2a3f5f\", \"gridcolor\": \"white\", \"linecolor\": \"white\", \"minorgridcolor\": \"white\", \"startlinecolor\": \"#2a3f5f\"}, \"type\": \"carpet\"}], \"choropleth\": [{\"colorbar\": {\"outlinewidth\": 0, \"ticks\": \"\"}, \"type\": \"choropleth\"}], \"contour\": [{\"colorbar\": {\"outlinewidth\": 0, \"ticks\": \"\"}, \"colorscale\": [[0.0, \"#0d0887\"], [0.1111111111111111, \"#46039f\"], [0.2222222222222222, \"#7201a8\"], [0.3333333333333333, \"#9c179e\"], [0.4444444444444444, \"#bd3786\"], [0.5555555555555556, \"#d8576b\"], [0.6666666666666666, \"#ed7953\"], [0.7777777777777778, \"#fb9f3a\"], [0.8888888888888888, \"#fdca26\"], [1.0, \"#f0f921\"]], \"type\": \"contour\"}], \"contourcarpet\": [{\"colorbar\": {\"outlinewidth\": 0, \"ticks\": \"\"}, \"type\": \"contourcarpet\"}], \"heatmap\": [{\"colorbar\": {\"outlinewidth\": 0, \"ticks\": \"\"}, \"colorscale\": [[0.0, \"#0d0887\"], [0.1111111111111111, \"#46039f\"], [0.2222222222222222, \"#7201a8\"], [0.3333333333333333, \"#9c179e\"], [0.4444444444444444, \"#bd3786\"], [0.5555555555555556, \"#d8576b\"], [0.6666666666666666, \"#ed7953\"], [0.7777777777777778, \"#fb9f3a\"], [0.8888888888888888, \"#fdca26\"], [1.0, \"#f0f921\"]], \"type\": \"heatmap\"}], \"heatmapgl\": [{\"colorbar\": {\"outlinewidth\": 0, \"ticks\": \"\"}, \"colorscale\": [[0.0, \"#0d0887\"], [0.1111111111111111, \"#46039f\"], [0.2222222222222222, \"#7201a8\"], [0.3333333333333333, \"#9c179e\"], [0.4444444444444444, \"#bd3786\"], [0.5555555555555556, \"#d8576b\"], [0.6666666666666666, \"#ed7953\"], [0.7777777777777778, \"#fb9f3a\"], [0.8888888888888888, \"#fdca26\"], [1.0, \"#f0f921\"]], \"type\": \"heatmapgl\"}], \"histogram\": [{\"marker\": {\"colorbar\": {\"outlinewidth\": 0, \"ticks\": \"\"}}, \"type\": \"histogram\"}], \"histogram2d\": [{\"colorbar\": {\"outlinewidth\": 0, \"ticks\": \"\"}, \"colorscale\": [[0.0, \"#0d0887\"], [0.1111111111111111, \"#46039f\"], [0.2222222222222222, \"#7201a8\"], [0.3333333333333333, \"#9c179e\"], [0.4444444444444444, \"#bd3786\"], [0.5555555555555556, \"#d8576b\"], [0.6666666666666666, \"#ed7953\"], [0.7777777777777778, \"#fb9f3a\"], [0.8888888888888888, \"#fdca26\"], [1.0, \"#f0f921\"]], \"type\": \"histogram2d\"}], \"histogram2dcontour\": [{\"colorbar\": {\"outlinewidth\": 0, \"ticks\": \"\"}, \"colorscale\": [[0.0, \"#0d0887\"], [0.1111111111111111, \"#46039f\"], [0.2222222222222222, \"#7201a8\"], [0.3333333333333333, \"#9c179e\"], [0.4444444444444444, \"#bd3786\"], [0.5555555555555556, \"#d8576b\"], [0.6666666666666666, \"#ed7953\"], [0.7777777777777778, \"#fb9f3a\"], [0.8888888888888888, \"#fdca26\"], [1.0, \"#f0f921\"]], \"type\": \"histogram2dcontour\"}], \"mesh3d\": [{\"colorbar\": {\"outlinewidth\": 0, \"ticks\": \"\"}, \"type\": \"mesh3d\"}], \"parcoords\": [{\"line\": {\"colorbar\": {\"outlinewidth\": 0, \"ticks\": \"\"}}, \"type\": \"parcoords\"}], \"pie\": [{\"automargin\": true, \"type\": \"pie\"}], \"scatter\": [{\"marker\": {\"colorbar\": {\"outlinewidth\": 0, \"ticks\": \"\"}}, \"type\": \"scatter\"}], \"scatter3d\": [{\"line\": {\"colorbar\": {\"outlinewidth\": 0, \"ticks\": \"\"}}, \"marker\": {\"colorbar\": {\"outlinewidth\": 0, \"ticks\": \"\"}}, \"type\": \"scatter3d\"}], \"scattercarpet\": [{\"marker\": {\"colorbar\": {\"outlinewidth\": 0, \"ticks\": \"\"}}, \"type\": \"scattercarpet\"}], \"scattergeo\": [{\"marker\": {\"colorbar\": {\"outlinewidth\": 0, \"ticks\": \"\"}}, \"type\": \"scattergeo\"}], \"scattergl\": [{\"marker\": {\"colorbar\": {\"outlinewidth\": 0, \"ticks\": \"\"}}, \"type\": \"scattergl\"}], \"scattermapbox\": [{\"marker\": {\"colorbar\": {\"outlinewidth\": 0, \"ticks\": \"\"}}, \"type\": \"scattermapbox\"}], \"scatterpolar\": [{\"marker\": {\"colorbar\": {\"outlinewidth\": 0, \"ticks\": \"\"}}, \"type\": \"scatterpolar\"}], \"scatterpolargl\": [{\"marker\": {\"colorbar\": {\"outlinewidth\": 0, \"ticks\": \"\"}}, \"type\": \"scatterpolargl\"}], \"scatterternary\": [{\"marker\": {\"colorbar\": {\"outlinewidth\": 0, \"ticks\": \"\"}}, \"type\": \"scatterternary\"}], \"surface\": [{\"colorbar\": {\"outlinewidth\": 0, \"ticks\": \"\"}, \"colorscale\": [[0.0, \"#0d0887\"], [0.1111111111111111, \"#46039f\"], [0.2222222222222222, \"#7201a8\"], [0.3333333333333333, \"#9c179e\"], [0.4444444444444444, \"#bd3786\"], [0.5555555555555556, \"#d8576b\"], [0.6666666666666666, \"#ed7953\"], [0.7777777777777778, \"#fb9f3a\"], [0.8888888888888888, \"#fdca26\"], [1.0, \"#f0f921\"]], \"type\": \"surface\"}], \"table\": [{\"cells\": {\"fill\": {\"color\": \"#EBF0F8\"}, \"line\": {\"color\": \"white\"}}, \"header\": {\"fill\": {\"color\": \"#C8D4E3\"}, \"line\": {\"color\": \"white\"}}, \"type\": \"table\"}]}, \"layout\": {\"annotationdefaults\": {\"arrowcolor\": \"#2a3f5f\", \"arrowhead\": 0, \"arrowwidth\": 1}, \"coloraxis\": {\"colorbar\": {\"outlinewidth\": 0, \"ticks\": \"\"}}, \"colorscale\": {\"diverging\": [[0, \"#8e0152\"], [0.1, \"#c51b7d\"], [0.2, \"#de77ae\"], [0.3, \"#f1b6da\"], [0.4, \"#fde0ef\"], [0.5, \"#f7f7f7\"], [0.6, \"#e6f5d0\"], [0.7, \"#b8e186\"], [0.8, \"#7fbc41\"], [0.9, \"#4d9221\"], [1, \"#276419\"]], \"sequential\": [[0.0, \"#0d0887\"], [0.1111111111111111, \"#46039f\"], [0.2222222222222222, \"#7201a8\"], [0.3333333333333333, \"#9c179e\"], [0.4444444444444444, \"#bd3786\"], [0.5555555555555556, \"#d8576b\"], [0.6666666666666666, \"#ed7953\"], [0.7777777777777778, \"#fb9f3a\"], [0.8888888888888888, \"#fdca26\"], [1.0, \"#f0f921\"]], \"sequentialminus\": [[0.0, \"#0d0887\"], [0.1111111111111111, \"#46039f\"], [0.2222222222222222, \"#7201a8\"], [0.3333333333333333, \"#9c179e\"], [0.4444444444444444, \"#bd3786\"], [0.5555555555555556, \"#d8576b\"], [0.6666666666666666, \"#ed7953\"], [0.7777777777777778, \"#fb9f3a\"], [0.8888888888888888, \"#fdca26\"], [1.0, \"#f0f921\"]]}, \"colorway\": [\"#636efa\", \"#EF553B\", \"#00cc96\", \"#ab63fa\", \"#FFA15A\", \"#19d3f3\", \"#FF6692\", \"#B6E880\", \"#FF97FF\", \"#FECB52\"], \"font\": {\"color\": \"#2a3f5f\"}, \"geo\": {\"bgcolor\": \"white\", \"lakecolor\": \"white\", \"landcolor\": \"#E5ECF6\", \"showlakes\": true, \"showland\": true, \"subunitcolor\": \"white\"}, \"hoverlabel\": {\"align\": \"left\"}, \"hovermode\": \"closest\", \"mapbox\": {\"style\": \"light\"}, \"paper_bgcolor\": \"white\", \"plot_bgcolor\": \"#E5ECF6\", \"polar\": {\"angularaxis\": {\"gridcolor\": \"white\", \"linecolor\": \"white\", \"ticks\": \"\"}, \"bgcolor\": \"#E5ECF6\", \"radialaxis\": {\"gridcolor\": \"white\", \"linecolor\": \"white\", \"ticks\": \"\"}}, \"scene\": {\"xaxis\": {\"backgroundcolor\": \"#E5ECF6\", \"gridcolor\": \"white\", \"gridwidth\": 2, \"linecolor\": \"white\", \"showbackground\": true, \"ticks\": \"\", \"zerolinecolor\": \"white\"}, \"yaxis\": {\"backgroundcolor\": \"#E5ECF6\", \"gridcolor\": \"white\", \"gridwidth\": 2, \"linecolor\": \"white\", \"showbackground\": true, \"ticks\": \"\", \"zerolinecolor\": \"white\"}, \"zaxis\": {\"backgroundcolor\": \"#E5ECF6\", \"gridcolor\": \"white\", \"gridwidth\": 2, \"linecolor\": \"white\", \"showbackground\": true, \"ticks\": \"\", \"zerolinecolor\": \"white\"}}, \"shapedefaults\": {\"line\": {\"color\": \"#2a3f5f\"}}, \"ternary\": {\"aaxis\": {\"gridcolor\": \"white\", \"linecolor\": \"white\", \"ticks\": \"\"}, \"baxis\": {\"gridcolor\": \"white\", \"linecolor\": \"white\", \"ticks\": \"\"}, \"bgcolor\": \"#E5ECF6\", \"caxis\": {\"gridcolor\": \"white\", \"linecolor\": \"white\", \"ticks\": \"\"}}, \"title\": {\"x\": 0.05}, \"xaxis\": {\"automargin\": true, \"gridcolor\": \"white\", \"linecolor\": \"white\", \"ticks\": \"\", \"title\": {\"standoff\": 15}, \"zerolinecolor\": \"white\", \"zerolinewidth\": 2}, \"yaxis\": {\"automargin\": true, \"gridcolor\": \"white\", \"linecolor\": \"white\", \"ticks\": \"\", \"title\": {\"standoff\": 15}, \"zerolinecolor\": \"white\", \"zerolinewidth\": 2}}}, \"xaxis\": {\"anchor\": \"y\", \"domain\": [0.0, 1.0], \"title\": {\"text\": \"Columns\"}}, \"yaxis\": {\"anchor\": \"x\", \"domain\": [0.0, 1.0], \"title\": {\"text\": \"Coef\"}}},\n",
       "                        {\"responsive\": true}\n",
       "                    ).then(function(){\n",
       "                            \n",
       "var gd = document.getElementById('b6bc6876-00bc-4c6c-9c03-f514e6f6cde3');\n",
       "var x = new MutationObserver(function (mutations, observer) {{\n",
       "        var display = window.getComputedStyle(gd).display;\n",
       "        if (!display || display === 'none') {{\n",
       "            console.log([gd, 'removed!']);\n",
       "            Plotly.purge(gd);\n",
       "            observer.disconnect();\n",
       "        }}\n",
       "}});\n",
       "\n",
       "// Listen for the removal of the full notebook cells\n",
       "var notebookContainer = gd.closest('#notebook-container');\n",
       "if (notebookContainer) {{\n",
       "    x.observe(notebookContainer, {childList: true});\n",
       "}}\n",
       "\n",
       "// Listen for the clearing of the current output cell\n",
       "var outputEl = gd.closest('.output');\n",
       "if (outputEl) {{\n",
       "    x.observe(outputEl, {childList: true});\n",
       "}}\n",
       "\n",
       "                        })\n",
       "                };\n",
       "                });\n",
       "            </script>\n",
       "        </div>"
      ]
     },
     "metadata": {},
     "output_type": "display_data"
    }
   ],
   "source": [
    "def Fraud(algorithm,X_train,X_test,y_train,y_test):\n",
    "    algorithm.fit(X_train,y_train)\n",
    "    training_score=algorithm.score(X_train,y_train)\n",
    "    pred=algorithm.predict(X_test)\n",
    "    probablities=algorithm.predict_proba(X_test)\n",
    "    print(\"Training score: \",training_score)\n",
    "    print(\"Classification report: \\n\",classification_report(y_test,pred))\n",
    "    print(\"Accuracy Score :\",accuracy_score(y_test,pred))\n",
    "    print('F1_score :', f1_score(y_test,pred))\n",
    "#     plot confusion matrix\n",
    "    cm=confusion_matrix(y_test,pred)\n",
    "     #plot roc_auc_score\n",
    "    model_roc_auc = roc_auc_score(y_test,pred) \n",
    "    print (\"Area under curve : \",model_roc_auc,\"\\n\")\n",
    "    fpr,tpr,thresholds = roc_curve(y_test,probablities[:,1])\n",
    "    \n",
    "    #     plot confusion matrix\n",
    "    trace1 = go.Heatmap(z = cm ,\n",
    "                        x = [\"Not Fraud\",\"Fraud\"],\n",
    "                        y = [\"Not Fraud\",\"Fraud\"],\n",
    "                        showscale  = False,colorscale = [(0, \"red\"), (0.5, \"green\"), (1, \"blue\")],\n",
    "                        name = \"matrix\")\n",
    "    #plot roc_auc_score\n",
    "    trace2 = go.Scatter(x = fpr,y = tpr,\n",
    "                        name = \"Roc : \" + str(model_roc_auc),\n",
    "                        line = dict(color = ('rgb(22, 96, 167)'),width = 2))\n",
    "    trace3 = go.Scatter(x = [0,1],y=[0,1],\n",
    "                        line = dict(color = ('rgb(205, 12, 24)'),width = 2,\n",
    "                        dash = 'dot'))\n",
    "    \n",
    "    fig = tls.make_subplots(rows=1, cols=2,\n",
    "                            subplot_titles=('Confusion Matrix',\n",
    "                                            'Receiver operating characteristic'))\n",
    "    fig['layout'].update(showlegend=False, title=\"Model performance\" ,\n",
    "                         autosize = True,height = 500,width = 1000,\n",
    "                         plot_bgcolor = 'rgba(240,240,240, 0.95)',\n",
    "                         paper_bgcolor = 'rgba(240,240,240, 0.95)',\n",
    "                         margin = dict(b = 10))\n",
    "    fig[\"layout\"][\"xaxis2\"].update(dict(title = \"False positive rate\"))\n",
    "    fig[\"layout\"][\"yaxis2\"].update(dict(title = \"True positive rate\"))\n",
    "    \n",
    "    fig.append_trace(trace1,1,1)\n",
    "    fig.append_trace(trace2,1,2)\n",
    "    fig.append_trace(trace3,1,2)\n",
    "\n",
    "    py.iplot(fig)\n",
    "        \n",
    "    coefs =algorithm.coef_.reshape(30,1)\n",
    "    coefs1=pd.DataFrame(coefs).rename(columns={0:\"Coef\"})\n",
    "    col=X_train.columns[algorithm.coef_.argsort().reshape(30,1)]\n",
    "    columns=pd.DataFrame(col).rename(columns={0:\"Columns\"})\n",
    "    imp=pd.concat([columns,coefs1],axis=1)\n",
    "    imp=imp.sort_values(by=[\"Coef\"],ascending=False)\n",
    "    fig=px.bar(imp, x='Columns', y='Coef')\n",
    "    fig.show()\n",
    "    \n",
    "    \n",
    "logit=LogisticRegression()\n",
    "Fraud(logit,X_train,X_test,y_train,y_test)"
   ]
  },
  {
   "cell_type": "code",
   "execution_count": 178,
   "metadata": {},
   "outputs": [],
   "source": [
    "# col_sorted_by_importance=forest.feature_importances_.argsort()[::-1]\n",
    "# feat_imp=pd.DataFrame({\n",
    "#     'cols':X_train.columns[col_sorted_by_importance],\n",
    "#     'imps':forest.feature_importances_[col_sorted_by_importance]\n",
    "\n",
    "# })\n",
    "# import plotly_express as px\n",
    "# px.bar(feat_imp, x='cols', y='imps')\n",
    "\n",
    "#     coefs = np.abs(algorithm.coef_[0])\n",
    "#     indices = np.argsort(coefs)[::-1]\n",
    "#     plt.figure(figsize=(12,7))\n",
    "#     plt.title(\"Feature importances (Logistic Regression)\")\n",
    "#     plt.bar(range(30), coefs[indices[:30]],color=\"r\", align=\"center\")\n",
    "#     plt.xticks(range(30), X_train.columns, rotation=45, ha='right')\n",
    "#     plt.subplots_adjust(bottom=0.3)"
   ]
  },
  {
   "cell_type": "code",
   "execution_count": null,
   "metadata": {},
   "outputs": [],
   "source": []
  },
  {
   "cell_type": "code",
   "execution_count": null,
   "metadata": {},
   "outputs": [],
   "source": []
  }
 ],
 "metadata": {
  "kernelspec": {
   "display_name": "Python 3",
   "language": "python",
   "name": "python3"
  },
  "language_info": {
   "codemirror_mode": {
    "name": "ipython",
    "version": 3
   },
   "file_extension": ".py",
   "mimetype": "text/x-python",
   "name": "python",
   "nbconvert_exporter": "python",
   "pygments_lexer": "ipython3",
   "version": "3.7.4"
  }
 },
 "nbformat": 4,
 "nbformat_minor": 2
}
