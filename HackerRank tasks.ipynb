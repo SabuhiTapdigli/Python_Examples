{
 "cells": [
  {
   "cell_type": "code",
   "execution_count": 37,
   "metadata": {},
   "outputs": [
    {
     "name": "stdout",
     "output_type": "stream",
     "text": [
      "24\n",
      "Not weird\n"
     ]
    }
   ],
   "source": [
    "# Python If-Else\n",
    "# Given an integer, n , perform the following conditional actions:\n",
    "\n",
    "# If n is odd, print Weird\n",
    "# If n is even and in the inclusive range of 2 to 5,  print Not Weird\n",
    "# If n is even and in the inclusive range of 6 to 20, print Weird\n",
    "# If n is even and greater than 20, print Not Weird\n",
    "# Sample Input 0\n",
    "\n",
    "# 3\n",
    "# Sample Output 0\n",
    "\n",
    "# Weird\n",
    "\n",
    "a=input()\n",
    "a=int(a)\n",
    "\n",
    "if a%2==1:\n",
    "    print('weird')\n",
    "elif a%2==0 and 2<=a<=5:\n",
    "    print(\"not weird\")\n",
    "elif a%2==0 and 6<=a<=20:\n",
    "    print(\"Weird\")\n",
    "else:\n",
    "    print(\"Not weird\")\n",
    "\n",
    "\n"
   ]
  },
  {
   "cell_type": "code",
   "execution_count": 3,
   "metadata": {},
   "outputs": [
    {
     "name": "stdout",
     "output_type": "stream",
     "text": [
      "10\n",
      "4\n",
      "14\n",
      "6\n",
      "20\n"
     ]
    }
   ],
   "source": [
    "# Arithmetic Operators\n",
    "# Task\n",
    "# Read two integers from STDIN and print three lines where:\n",
    "\n",
    "# The first line contains the sum of the two numbers.\n",
    "# The second line contains the difference of the two numbers (first - second).\n",
    "# The third line contains the product of the two numbers.\n",
    "# Sample Input 0\n",
    "\n",
    "# 3\n",
    "# 2\n",
    "# Sample Output 0\n",
    "\n",
    "# 5\n",
    "# 1\n",
    "# 6\n",
    "\n",
    "\"\"\"a, b = int(input())\n",
    "print(a + b,a - b,a * b,sep=\"\\n\")\"\"\"\n",
    "\n",
    "def myfunc(a,b):\n",
    "    first= a+b\n",
    "    second= a-b\n",
    "    third =first+second\n",
    "    return first,second,third\n",
    "a=input()\n",
    "a=int(a)\n",
    "b=input()\n",
    "b=int(b)\n",
    "x=myfunc(a,b)\n",
    "print(x[0],x[1],x[2],sep=\"\\n\")"
   ]
  },
  {
   "cell_type": "code",
   "execution_count": 4,
   "metadata": {
    "scrolled": true
   },
   "outputs": [
    {
     "name": "stdout",
     "output_type": "stream",
     "text": [
      "4\n",
      "2\n",
      "2\n",
      "2.0\n"
     ]
    }
   ],
   "source": [
    "# Python: Division\n",
    "#     Task\n",
    "# Read two integers and print two lines. The first line should contain integer division,  // . The second line should contain float division,  / .\n",
    "\n",
    "# You don't need to perform any rounding or formatting operations.\n",
    "# Sample Input 0\n",
    "\n",
    "# 4\n",
    "# 3\n",
    "# Sample Output 0\n",
    "\n",
    "1\n",
    "1.33333333333\n",
    "a=int(input())\n",
    "b=int(input())\n",
    "x=int(a/b)\n",
    "y=a/b\n",
    "print(x,y,sep=\"\\n\")\n",
    "\n",
    "\n"
   ]
  },
  {
   "cell_type": "code",
   "execution_count": 5,
   "metadata": {},
   "outputs": [
    {
     "name": "stdout",
     "output_type": "stream",
     "text": [
      "5\n",
      "0\n",
      "1\n",
      "4\n",
      "9\n",
      "16\n"
     ]
    }
   ],
   "source": [
    "# Loops\n",
    "# Task\n",
    "# Read an integer . For all non-negative integers , print . See the sample for details.\n",
    "# Sample Input 0\n",
    "\n",
    "# 5\n",
    "# Sample Output 0\n",
    "\n",
    "# 0\n",
    "# 1\n",
    "# 4\n",
    "# 9\n",
    "# 16\n",
    "\n",
    "x=int(input())\n",
    "i=0\n",
    "while i<=20:\n",
    "    print(i**2)\n",
    "    if i==x-1:\n",
    "        break\n",
    "    i+=1"
   ]
  },
  {
   "cell_type": "code",
   "execution_count": 6,
   "metadata": {},
   "outputs": [
    {
     "name": "stdout",
     "output_type": "stream",
     "text": [
      "2000\n",
      "True\n"
     ]
    }
   ],
   "source": [
    "# We add a Leap Day on February 29, almost every four years. The leap day is an extra, or intercalary day and we add it to the shortest month of the year, February.\n",
    "# In the Gregorian calendar three criteria must be taken into account to identify leap years:\n",
    "\n",
    "# The year can be evenly divided by 4, is a leap year, unless:\n",
    "# The year can be evenly divided by 100, it is NOT a leap year, unless:\n",
    "# The year is also evenly divisible by 400. Then it is a leap year.\n",
    "# This means that in the Gregorian calendar, the years 2000 and 2400 are leap years, while 1800, 1900, 2100, 2200, 2300 and 2500 are NOT leap years.Source\n",
    "\n",
    "# Task\n",
    "# You are given the year, and you have to write a function to check if the year is leap or not.\n",
    "\n",
    "# Note that you have to complete the function and remaining code is given as template.\n",
    "# Sample Input 0\n",
    "\n",
    "# 1990\n",
    "# Sample Output 0\n",
    "\n",
    "# False\n",
    "\n",
    "\"\"\"def is_leap(year):\n",
    "    \n",
    "\n",
    "    if 1900<=year<=10**5 and year%4==0 and year%400==0:\n",
    "        return True\n",
    "    elif 1900<=year<=10**5:\n",
    "        return False\n",
    "        \n",
    "year = int(input())\n",
    "print(is_leap(year))\"\"\"\n",
    "def is_leap(year):\n",
    "    if year%400==0:\n",
    "        return True\n",
    "    elif year%100==0:\n",
    "        return False\n",
    "    elif year%4==0:\n",
    "        return True\n",
    "    else:\n",
    "        return False\n",
    "\n",
    "year = int(input())\n",
    "print(is_leap(year))\n",
    "\n",
    "\n"
   ]
  },
  {
   "cell_type": "code",
   "execution_count": 7,
   "metadata": {},
   "outputs": [
    {
     "name": "stdout",
     "output_type": "stream",
     "text": [
      "4\n",
      "1234"
     ]
    }
   ],
   "source": [
    "# Print Function\n",
    "# Read an integer N .\n",
    "\n",
    "# Without using any string methods, try to print the following:\n",
    "\n",
    "# 123...N\n",
    "\n",
    "# Note that \"...\" represents the values in between.\n",
    "# Sample Input 0\n",
    "\n",
    "# 3\n",
    "# Sample Output 0\n",
    "\n",
    "# 123\n",
    "\n",
    "i=1\n",
    "x=int(input())\n",
    "while i<=x:\n",
    "    print(i,end=\"\")\n",
    "    i+=1\n",
    "    \n"
   ]
  },
  {
   "cell_type": "code",
   "execution_count": 10,
   "metadata": {},
   "outputs": [
    {
     "name": "stdout",
     "output_type": "stream",
     "text": [
      "3\n",
      "3 5 6 7 8\n",
      "7\n"
     ]
    }
   ],
   "source": [
    "# Find the Runner-Up Score!\n",
    "# Given the participants' score sheet for your University Sports Day, you are required to find the runner-up score. You are given  scores. Store them in a list and find the score of the runner-up.\n",
    "\n",
    "# Input Format\n",
    "\n",
    "# The first line contains . The second line contains an array A[] of n integers each separated by a space.\n",
    "# Sample Input 0\n",
    "\n",
    "# 5\n",
    "# 2 3 6 6 5\n",
    "# Sample Output 0\n",
    "\n",
    "# 5\n",
    "\n",
    "n = int(input())\n",
    "arr = list(map(int, input().split()))\n",
    "largest = max(arr)\n",
    "\n",
    "for i in range(n):\n",
    "    if largest == max(arr):\n",
    "        arr.remove(max(arr))\n",
    "\n",
    "print(max(arr))"
   ]
  },
  {
   "cell_type": "code",
   "execution_count": 61,
   "metadata": {},
   "outputs": [
    {
     "name": "stdout",
     "output_type": "stream",
     "text": [
      "this is a string\n",
      "['this', 'is', 'a', 'string']\n",
      "this-is-a-string\n"
     ]
    }
   ],
   "source": [
    "\"\"\"Task\n",
    "You are given a string. Split the string on a \" \" (space) delimiter and join using a - hyphen.\n",
    "\n",
    "Input Format\n",
    "The first line contains a string consisting of space separated words.\n",
    "\n",
    "Output Format\n",
    "Print the formatted string as explained above.\n",
    "\n",
    "Sample Input\n",
    "\n",
    "this is a string   \n",
    "Sample Output\n",
    "\n",
    "this-is-a-string\"\"\"\n",
    "def split_and_join(line):\n",
    "    line=line.split(\" \")    \n",
    "    print(line)\n",
    "    s=\"-\"\n",
    "    s=s.join(line)\n",
    "    return s\n",
    "\n",
    "\n",
    "if __name__ == '__main__':\n",
    "    line = input()\n",
    "    result = split_and_join(line)\n",
    "    print(result)"
   ]
  },
  {
   "cell_type": "code",
   "execution_count": 67,
   "metadata": {},
   "outputs": [
    {
     "name": "stdout",
     "output_type": "stream",
     "text": [
      "1\n",
      "1\n",
      "1\n",
      "2\n"
     ]
    },
    {
     "ename": "NameError",
     "evalue": "name 'k' is not defined",
     "output_type": "error",
     "traceback": [
      "\u001b[1;31m---------------------------------------------------------------------------\u001b[0m",
      "\u001b[1;31mNameError\u001b[0m                                 Traceback (most recent call last)",
      "\u001b[1;32m<ipython-input-67-9962ad574a29>\u001b[0m in \u001b[0;36m<module>\u001b[1;34m\u001b[0m\n\u001b[0;32m      9\u001b[0m     \u001b[1;32mif\u001b[0m \u001b[0mitem\u001b[0m\u001b[1;33m==\u001b[0m\u001b[0mj\u001b[0m \u001b[1;32mand\u001b[0m  \u001b[1;36m0\u001b[0m\u001b[1;33m<=\u001b[0m\u001b[0mj\u001b[0m\u001b[1;33m<=\u001b[0m\u001b[0mY\u001b[0m\u001b[1;33m:\u001b[0m\u001b[1;33m\u001b[0m\u001b[1;33m\u001b[0m\u001b[0m\n\u001b[0;32m     10\u001b[0m         \u001b[0marray\u001b[0m\u001b[1;33m.\u001b[0m\u001b[0mappend\u001b[0m\u001b[1;33m(\u001b[0m\u001b[0mj\u001b[0m\u001b[1;33m)\u001b[0m\u001b[1;33m\u001b[0m\u001b[1;33m\u001b[0m\u001b[0m\n\u001b[1;32m---> 11\u001b[1;33m     \u001b[1;32mif\u001b[0m \u001b[0mitem\u001b[0m\u001b[1;33m==\u001b[0m\u001b[0mk\u001b[0m \u001b[1;32mand\u001b[0m \u001b[1;36m0\u001b[0m\u001b[1;33m<=\u001b[0m\u001b[0mk\u001b[0m\u001b[1;33m<=\u001b[0m\u001b[0mZ\u001b[0m\u001b[1;33m:\u001b[0m\u001b[1;33m\u001b[0m\u001b[1;33m\u001b[0m\u001b[0m\n\u001b[0m\u001b[0;32m     12\u001b[0m         \u001b[0marray\u001b[0m\u001b[1;33m.\u001b[0m\u001b[0mappend\u001b[0m\u001b[1;33m(\u001b[0m\u001b[0mk\u001b[0m\u001b[1;33m)\u001b[0m\u001b[1;33m\u001b[0m\u001b[1;33m\u001b[0m\u001b[0m\n\u001b[0;32m     13\u001b[0m \u001b[0mprint\u001b[0m\u001b[1;33m(\u001b[0m\u001b[0marray\u001b[0m\u001b[1;33m)\u001b[0m\u001b[1;33m\u001b[0m\u001b[1;33m\u001b[0m\u001b[0m\n",
      "\u001b[1;31mNameError\u001b[0m: name 'k' is not defined"
     ]
    }
   ],
   "source": [
    "X=int(input())\n",
    "Y=int(input())\n",
    "Z=int(input())\n",
    "N=int(input())\n",
    "array=[]\n",
    "for item in range(X+1):\n",
    "    for i in item:\n",
    "    if item==i and 0<=i<=X:\n",
    "        array.append(i)\n",
    "    if item==j and  0<=j<=Y:\n",
    "        array.append(j)\n",
    "    if item==k and 0<=k<=Z:\n",
    "        array.append(k)\n",
    "print(array)\n",
    "\n",
    "        \n",
    "0<=j<=Y\n",
    "0<=k<=Z\n",
    "i+j+k!=N\n"
   ]
  },
  {
   "cell_type": "code",
   "execution_count": 97,
   "metadata": {
    "scrolled": true
   },
   "outputs": [
    {
     "name": "stdout",
     "output_type": "stream",
     "text": [
      "osososo\n",
      "oso\n"
     ]
    },
    {
     "data": {
      "text/plain": [
       "3"
      ]
     },
     "execution_count": 97,
     "metadata": {},
     "output_type": "execute_result"
    }
   ],
   "source": [
    "word=list(input().upper())\n",
    "sub=list(input().upper())\n",
    "count=0\n",
    "\n",
    "for i in range(len(word)):\n",
    "    for j in range(1):\n",
    "        if word[i:i+len(sub)]==sub:\n",
    "            count+=1\n",
    "count"
   ]
  },
  {
   "cell_type": "code",
   "execution_count": 24,
   "metadata": {},
   "outputs": [
    {
     "name": "stdout",
     "output_type": "stream",
     "text": [
      "AABCAAADA\n",
      "3\n",
      "AB\n",
      "CA\n",
      "AD\n",
      "\n"
     ]
    }
   ],
   "source": [
    "#Merge the Tools!\n",
    "def merge_the_tools(string, k):\n",
    "    a=0\n",
    "    t=k\n",
    "    arr=[]\n",
    "    new=[]\n",
    "    f=\"\"\n",
    "    j=0\n",
    "    for i in range(len(string)):\n",
    "        u=string[a:t]\n",
    "        if u[j] not in arr:\n",
    "            arr+=[u[j]]\n",
    "        j+=1\n",
    "        if i==t-1:\n",
    "            new+=arr\n",
    "            del arr[:]\n",
    "            new+=[\"\\n\"]\n",
    "            a+=k\n",
    "            t+=k\n",
    "            j=0\n",
    "    for i in new:\n",
    "        f+=i\n",
    "    print(f)\n",
    "\n",
    "string, k = input(), int(input())\n",
    "merge_the_tools(string, k)"
   ]
  },
  {
   "cell_type": "code",
   "execution_count": 137,
   "metadata": {},
   "outputs": [
    {
     "name": "stdout",
     "output_type": "stream",
     "text": [
      "banana\n",
      "Stuart 12\n"
     ]
    }
   ],
   "source": [
    "# minion_game\n",
    "def minion_game(string):\n",
    "    string=string.upper()\n",
    "    vowel=[\"A\",\"O\",\"U\",\"I\",\"E\"]\n",
    "    Stuart=0\n",
    "    Kevin=0\n",
    "    for i in range(len(string)):\n",
    "        if string[i] in vowel:\n",
    "            Kevin+=len(string)-i\n",
    "        else:\n",
    "            Stuart+=len(string)-i\n",
    "    if Stuart>Kevin:\n",
    "        print(\"Stuart\",Stuart)\n",
    "    elif Stuart<Kevin:\n",
    "        print(\"Kevin\",Kevin)\n",
    "    else: print(\"Draw\")\n",
    "s = input()\n",
    "minion_game(s)"
   ]
  },
  {
   "cell_type": "code",
   "execution_count": 97,
   "metadata": {},
   "outputs": [
    {
     "name": "stdout",
     "output_type": "stream",
     "text": [
      "salam\n",
      "2 k\n",
      "sakam\n"
     ]
    }
   ],
   "source": [
    "#Mutations\n",
    "def mutate_string(string, position, character):\n",
    "    string=list(string)\n",
    "    string[position]=character\n",
    "    a=\"\".join(string)\n",
    "    return a\n",
    "\n",
    "s = input()\n",
    "i, c = input().split()\n",
    "s_new = mutate_string(s, int(i), c)\n",
    "print(s_new)\n"
   ]
  },
  {
   "cell_type": "code",
   "execution_count": 103,
   "metadata": {},
   "outputs": [
    {
     "name": "stdout",
     "output_type": "stream",
     "text": [
      "ABCDCDC\n",
      "CDC\n",
      "ABC\n",
      "BCD\n",
      "CDC\n",
      "DCD\n",
      "CDC\n",
      "2\n"
     ]
    }
   ],
   "source": [
    "#Find a string\n",
    "def count_substring(string, sub_string):\n",
    "    sub=len(sub_string)\n",
    "    count=0\n",
    "    for i in range(len(string)-sub+1):\n",
    "        print(string[i:i+sub])\n",
    "        if string[i:i+sub]==sub_string:\n",
    "            count+=1\n",
    "    return count\n",
    "string = input().strip()\n",
    "sub_string = input().strip()\n",
    "\n",
    "count = count_substring(string, sub_string)\n",
    "print(count)\n",
    "\n",
    "\n"
   ]
  },
  {
   "cell_type": "code",
   "execution_count": 132,
   "metadata": {},
   "outputs": [
    {
     "name": "stdout",
     "output_type": "stream",
     "text": [
      "sabuhi tapdigli\n"
     ]
    },
    {
     "data": {
      "text/plain": [
       "'Sabuhi Tapdigli'"
      ]
     },
     "execution_count": 132,
     "metadata": {},
     "output_type": "execute_result"
    }
   ],
   "source": [
    "#Capitalize\n",
    "def solve(s):\n",
    "    st=\"\"\n",
    "    for i in range(len(s)):\n",
    "        if i==0:\n",
    "            st+=s[i].capitalize()\n",
    "        elif s[i-1]==\" \":\n",
    "            st+=s[i].capitalize()\n",
    "        else:\n",
    "            st+=s[i]\n",
    "    return st\n",
    "s = input()\n",
    "result = solve(s)\n",
    "result"
   ]
  },
  {
   "cell_type": "code",
   "execution_count": 2,
   "metadata": {},
   "outputs": [
    {
     "name": "stdout",
     "output_type": "stream",
     "text": [
      "s\n"
     ]
    },
    {
     "ename": "ValueError",
     "evalue": "invalid literal for int() with base 10: 's'",
     "output_type": "error",
     "traceback": [
      "\u001b[1;31m---------------------------------------------------------------------------\u001b[0m",
      "\u001b[1;31mValueError\u001b[0m                                Traceback (most recent call last)",
      "\u001b[1;32m<ipython-input-2-a2f3d91a7fc9>\u001b[0m in \u001b[0;36m<module>\u001b[1;34m\u001b[0m\n\u001b[0;32m      1\u001b[0m \u001b[1;32mimport\u001b[0m \u001b[0mre\u001b[0m\u001b[1;33m\u001b[0m\u001b[1;33m\u001b[0m\u001b[0m\n\u001b[1;32m----> 2\u001b[1;33m \u001b[0mnum\u001b[0m\u001b[1;33m=\u001b[0m\u001b[0mint\u001b[0m\u001b[1;33m(\u001b[0m\u001b[0minput\u001b[0m\u001b[1;33m(\u001b[0m\u001b[1;33m)\u001b[0m\u001b[1;33m)\u001b[0m\u001b[1;33m\u001b[0m\u001b[1;33m\u001b[0m\u001b[0m\n\u001b[0m\u001b[0;32m      3\u001b[0m \u001b[0marr\u001b[0m\u001b[1;33m=\u001b[0m\u001b[1;33m[\u001b[0m\u001b[1;33m]\u001b[0m\u001b[1;33m\u001b[0m\u001b[1;33m\u001b[0m\u001b[0m\n\u001b[0;32m      4\u001b[0m \u001b[1;32mfor\u001b[0m \u001b[0mi\u001b[0m \u001b[1;32min\u001b[0m \u001b[0mrange\u001b[0m\u001b[1;33m(\u001b[0m\u001b[0mnum\u001b[0m\u001b[1;33m)\u001b[0m\u001b[1;33m:\u001b[0m\u001b[1;33m\u001b[0m\u001b[1;33m\u001b[0m\u001b[0m\n\u001b[0;32m      5\u001b[0m     \u001b[0mcode\u001b[0m\u001b[1;33m=\u001b[0m\u001b[0minput\u001b[0m\u001b[1;33m(\u001b[0m\u001b[1;33m)\u001b[0m\u001b[1;33m\u001b[0m\u001b[1;33m\u001b[0m\u001b[0m\n",
      "\u001b[1;31mValueError\u001b[0m: invalid literal for int() with base 10: 's'"
     ]
    }
   ],
   "source": [
    "import re\n",
    "num=int(input())\n",
    "arr=[]\n",
    "for i in range(num):\n",
    "    code=input()\n",
    "    a=re.findall(\"^#\\w{3}\")"
   ]
  },
  {
   "cell_type": "code",
   "execution_count": 5,
   "metadata": {},
   "outputs": [
    {
     "data": {
      "text/plain": [
       "['#AED', '#BED']"
      ]
     },
     "execution_count": 5,
     "metadata": {},
     "output_type": "execute_result"
    }
   ],
   "source": [
    "a=\"# ,#AEDA #BED,#ffff, #abcd\"\n",
    "b=\"color: #FfFdF8; background-color:#aef;\"\n",
    "t=re.findall(\"#[a-f]{3}\",a)\n",
    "k=re.findall(\"#[A-F]{3}\",a)\n",
    "k"
   ]
  },
  {
   "cell_type": "code",
   "execution_count": 45,
   "metadata": {},
   "outputs": [
    {
     "name": "stdout",
     "output_type": "stream",
     "text": [
      "5\n",
      "sabuhi\n",
      "30\n",
      "emil\n",
      "23.4\n",
      "tumu\n",
      "12.2\n",
      "fuad\n",
      "12.2\n",
      "isi\n",
      "12\n",
      "fuad\n",
      "tumu\n"
     ]
    }
   ],
   "source": [
    "num=int(input())\n",
    "arr=[]\n",
    "min1=100000\n",
    "min2=100000\n",
    "new=[]\n",
    "for i in range(num):\n",
    "    name=input()\n",
    "    mark=float(input())\n",
    "    arr+=[[name,mark]]\n",
    "    if mark<min1:\n",
    "        min1=mark\n",
    "for i in range(len(arr)):\n",
    "    if arr[i][1]<min2 and arr[i][1]>min1:\n",
    "        min2=arr[i][1]\n",
    "for i in range(len(arr)):\n",
    "    if arr[i][1]==min2:\n",
    "        new+=[arr[i][0]]\n",
    "new.sort()\n",
    "for i in new:\n",
    "    print(i)"
   ]
  },
  {
   "cell_type": "code",
   "execution_count": 62,
   "metadata": {},
   "outputs": [
    {
     "name": "stdout",
     "output_type": "stream",
     "text": [
      "10000000\n"
     ]
    },
    {
     "data": {
      "text/plain": [
       "(0, 10000000)"
      ]
     },
     "execution_count": 62,
     "metadata": {},
     "output_type": "execute_result"
    }
   ],
   "source": [
    "arr=[0,4,5,6,10,1]\n",
    "min1=10000000\n",
    "min2=10000000\n",
    "for i in range(len(arr)):\n",
    "    if arr[i]<min1:\n",
    "        min1,min2=arr[i],min1\n",
    "        print(min2)\n",
    "    elif arr[i]<min2 and arr[i]<min1:\n",
    "        min2=arr[i]\n",
    "        \n",
    "min1,min2"
   ]
  },
  {
   "cell_type": "code",
   "execution_count": 81,
   "metadata": {
    "scrolled": true
   },
   "outputs": [
    {
     "name": "stdout",
     "output_type": "stream",
     "text": [
      "10\n",
      "sebuhi\n",
      "sebuhi\n",
      "sebuhi\n",
      "emil\n",
      "sebuhi\n",
      "emil\n",
      "emil\n",
      "sebuhi\n",
      "tumu\n",
      "tumu\n",
      "3\n",
      "5 3 2\n"
     ]
    }
   ],
   "source": [
    "##Word Order\n",
    "dic={}\n",
    "a=1\n",
    "for i in range(int(input())):\n",
    "    word=input()\n",
    "    if word not in dic:\n",
    "        dic[word]=1\n",
    "    else:\n",
    "        dic[word]=dic[word]+1\n",
    "print(len(dic))\n",
    "print(*dic.values())\n",
    "\n"
   ]
  },
  {
   "cell_type": "code",
   "execution_count": 135,
   "metadata": {},
   "outputs": [
    {
     "name": "stdout",
     "output_type": "stream",
     "text": [
      "sabuhiTAPDIGLI5674716\n",
      "abhisuADGIILPT1577466\n"
     ]
    }
   ],
   "source": [
    "##ginortS\n",
    "string=list(input())\n",
    "arr1=[]\n",
    "arr2=[]\n",
    "arr3=[]\n",
    "\n",
    "for i in string:\n",
    "    if i.isdigit():\n",
    "        arr1+=[i]\n",
    "    elif i.isupper():\n",
    "        arr2+=[i]\n",
    "    else: arr3+=[i]\n",
    "arr1.sort()\n",
    "arr2.sort()\n",
    "arr3.sort()\n",
    "for i in range(len(arr1)):\n",
    "    for j in range(len(arr1)-1):\n",
    "        if int(arr1[j])%2==0 and int(arr1[j+1])%2==1:\n",
    "            arr1[j],arr1[j+1]=arr1[j+1],arr1[j]\n",
    "\n",
    "arr3+=arr2\n",
    "arr3+=arr1\n",
    "print(\"\".join(arr3))"
   ]
  },
  {
   "cell_type": "code",
   "execution_count": 192,
   "metadata": {},
   "outputs": [
    {
     "name": "stdout",
     "output_type": "stream",
     "text": [
      "7 21\n",
      "---------.|.---------\n",
      "------.|..|..|.------\n",
      "---.|..|..|..|..|.---\n",
      "-------WELCOME-------\n",
      "---.|..|..|..|..|.---\n",
      "------.|..|..|.------\n",
      "---------.|.---------\n"
     ]
    }
   ],
   "source": [
    "\n",
    "matrix=list(input().split(\" \"))\n",
    "row=int(matrix[0])\n",
    "col=int(matrix[1])\n",
    "t=1\n",
    "spe=\"WELCOME\"\n",
    "for i in range(row+1):\n",
    "    w0=\".|.\"\n",
    "    w0*=t\n",
    "    if i<row//2:\n",
    "        print(w0.center(col,\"-\"))\n",
    "        t+=2\n",
    "    if i==(row//2+1):\n",
    "        print(spe.center(col,\"-\"))\n",
    "        t-=2\n",
    "    if i>(row//2+1):\n",
    "        print(w0.center(col,\"-\"))\n",
    "        t-=2"
   ]
  },
  {
   "cell_type": "code",
   "execution_count": 3,
   "metadata": {},
   "outputs": [
    {
     "name": "stdout",
     "output_type": "stream",
     "text": [
      "5\n",
      "    H     \n",
      "   HHH    \n",
      "  HHHHH   \n",
      " HHHHHHH  \n",
      "HHHHHHHHH \n",
      "  HHHHH                HHHHH\n",
      "  HHHHH                HHHHH\n",
      "  HHHHH                HHHHH\n",
      "  HHHHH                HHHHH\n",
      "  HHHHH                HHHHH\n",
      "  HHHHH                HHHHH\n",
      "  HHHHHHHHHHHHHHHHHHHHHHHHH\n",
      "  HHHHHHHHHHHHHHHHHHHHHHHHH\n",
      "  HHHHHHHHHHHHHHHHHHHHHHHHH\n",
      "  HHHHH                HHHHH\n",
      "  HHHHH                HHHHH\n",
      "  HHHHH                HHHHH\n",
      "  HHHHH                HHHHH\n",
      "  HHHHH                HHHHH\n",
      "  HHHHH                HHHHH\n",
      "                    HHHHHHHHH                     \n",
      "                     HHHHHHH                      \n",
      "                      HHHHH                       \n",
      "                       HHH                        \n",
      "                        H                         \n"
     ]
    }
   ],
   "source": [
    "width=int(input())\n",
    "t=1\n",
    "#top\n",
    "for i in range(width):\n",
    "    w=\"H\"\n",
    "    w*=t\n",
    "    print(w.center(width*2,\" \"))\n",
    "    t+=2\n",
    "#left and right\n",
    "for i in range(width+1):\n",
    "    w=\"H\"\n",
    "    w*=width\n",
    "    l=\"H\"\n",
    "    l*=width\n",
    "    lr=width*3+2\n",
    "    print(w.center(width*2,\" \"),end=\" \")\n",
    "    print(l.rjust(lr,\" \"))\n",
    "#middle\n",
    "for i in range(width-2):\n",
    "    w=\"H\"\n",
    "    w*=width*5\n",
    "    print(w.rjust(width*5+2,\" \"))\n",
    "#lef and right\n",
    "for i in range(width+1):\n",
    "    w=\"H\"\n",
    "    w*=width\n",
    "    l=\"H\"\n",
    "    l*=width\n",
    "    lr=width*3+2\n",
    "    print(w.center(width*2,\" \"),end=\" \")\n",
    "    print(l.rjust(lr,\" \"))\n",
    "#bottom\n",
    "t=width*2-1    \n",
    "for i in range(width):\n",
    "    w=\"H\"\n",
    "    w*=t\n",
    "    print(w.center(width*9+width,\" \"))\n",
    "    t-=2"
   ]
  },
  {
   "cell_type": "code",
   "execution_count": 23,
   "metadata": {},
   "outputs": [
    {
     "name": "stdout",
     "output_type": "stream",
     "text": [
      "1 2\n",
      "3 4\n",
      "(1, 3) (1, 4) (2, 3) (2, 4) "
     ]
    }
   ],
   "source": [
    "num1=list(map(int,input().split(\" \")))\n",
    "num2=list(map(int,input().split(\" \")))\n",
    "lis=[]\n",
    "for i in num1:\n",
    "    for j in num2:\n",
    "        lis+=[(i,j)]\n",
    "print(*lis)"
   ]
  },
  {
   "cell_type": "code",
   "execution_count": 31,
   "metadata": {},
   "outputs": [
    {
     "name": "stdout",
     "output_type": "stream",
     "text": [
      "10\n",
      "2 3 4 5 6 8 7 6 5 18\n",
      "6\n",
      "6 55\n",
      "6 45\n",
      "6 55\n",
      "4 40\n",
      "18 60\n",
      "10 50\n",
      "155\n",
      "[['6', '55'], ['4', '40'], ['18', '60']]\n"
     ]
    }
   ],
   "source": [
    "num=int(input())\n",
    "size=list(input().split(\" \"))\n",
    "cost=[]\n",
    "add=[]\n",
    "for i in range(int(input())):\n",
    "    cust=list(input().split(\" \"))\n",
    "    if cust[0] in size:\n",
    "        if cust[0] not in add:\n",
    "            cost+=[cust]\n",
    "            add+=cust[0]\n",
    "count=0\n",
    "for i in range(len(cost)):\n",
    "    count+=int(cost[i][1])\n",
    "print(count)\n",
    "    \n",
    "    \n",
    "    "
   ]
  },
  {
   "cell_type": "code",
   "execution_count": 44,
   "metadata": {},
   "outputs": [
    {
     "name": "stdout",
     "output_type": "stream",
     "text": [
      "ABCD 3\n"
     ]
    },
    {
     "data": {
      "text/plain": [
       "['ABC', 'BAC', 'CAB', 'CAB', 'DAB']"
      ]
     },
     "execution_count": 44,
     "metadata": {},
     "output_type": "execute_result"
    }
   ],
   "source": [
    "inp=list(input().split(\" \"))\n",
    "string=inp[0]\n",
    "num=int(inp[1])\n",
    "arr=[]\n",
    "for i in range(len(string)):\n",
    "    t=[]\n",
    "    t+=[string[i]]\n",
    "    for j in range(len(string)):\n",
    "        if string[i]!=string[j]:\n",
    "            t+=string[j]\n",
    "        if len(t)==num:\n",
    "            tr=\"\".join(t)\n",
    "            if t not in arr:\n",
    "                arr+=[tr]\n",
    "arr"
   ]
  },
  {
   "cell_type": "code",
   "execution_count": 120,
   "metadata": {},
   "outputs": [
    {
     "name": "stdout",
     "output_type": "stream",
     "text": [
      "1222311\n",
      "1\n",
      "2\n",
      "3\n",
      "4\n",
      "5\n"
     ]
    },
    {
     "data": {
      "text/plain": [
       "[(1, 1), (3, 2), (1, 2), (1, 3)]"
      ]
     },
     "execution_count": 120,
     "metadata": {},
     "output_type": "execute_result"
    }
   ],
   "source": [
    "#Compress the String!\n",
    "num=list(map(int,list(input())))\n",
    "arr=[]\n",
    "i=0\n",
    "arr=[]\n",
    "while i<len(arr):\n",
    "    count=1\n",
    "    if arr[i]==arr[i+1]:\n",
    "        count+=1\n",
    "        i+=1\n",
    "    "
   ]
  },
  {
   "cell_type": "code",
   "execution_count": 47,
   "metadata": {},
   "outputs": [
    {
     "data": {
      "text/plain": [
       "[(1, 1)]"
      ]
     },
     "execution_count": 47,
     "metadata": {},
     "output_type": "execute_result"
    }
   ],
   "source": [
    "#Company Logo\n",
    "# aabbbccde\n",
    "s = input()\n",
    "for i in range"
   ]
  },
  {
   "cell_type": "code",
   "execution_count": 107,
   "metadata": {},
   "outputs": [
    {
     "name": "stdout",
     "output_type": "stream",
     "text": [
      "a 2\n",
      "a 2\n",
      "b 3\n",
      "b 3\n",
      "b 3\n",
      "c 3\n",
      "c 3\n",
      "c 3\n"
     ]
    }
   ],
   "source": [
    "a=\"aabbbcccde\"\n",
    "b=list(a)\n",
    "dic={}\n",
    "\n",
    "for i in range(len(b)):\n",
    "    dic[b[i]]=b.count(b[i])\n",
    "t=sorted(dic.values(),reverse=True)[0:3]\n",
    "for i in range(len(b)):\n",
    "    if t[k]=="
   ]
  },
  {
   "cell_type": "code",
   "execution_count": 72,
   "metadata": {},
   "outputs": [
    {
     "data": {
      "text/plain": [
       "['b', 3, 'c', 3]"
      ]
     },
     "execution_count": 72,
     "metadata": {},
     "output_type": "execute_result"
    }
   ],
   "source": [
    "a={'a': 2, 'b': 3, 'c': 3, 'd': 1, 'e': 1}\n",
    "b={'a': 2, 'b': 3, 'c': 3, 'd': 1, 'e': 1}\n",
    "arr=[]\n",
    "for i in b:\n",
    "    if a[i]==max(a.values()):\n",
    "        arr+=[i,a[i]]\n",
    "        a.pop(i)\n",
    "    \n",
    "arr"
   ]
  }
 ],
 "metadata": {
  "celltoolbar": "Raw Cell Format",
  "kernelspec": {
   "display_name": "Python 3",
   "language": "python",
   "name": "python3"
  },
  "language_info": {
   "codemirror_mode": {
    "name": "ipython",
    "version": 3
   },
   "file_extension": ".py",
   "mimetype": "text/x-python",
   "name": "python",
   "nbconvert_exporter": "python",
   "pygments_lexer": "ipython3",
   "version": "3.7.4"
  }
 },
 "nbformat": 4,
 "nbformat_minor": 2
}
