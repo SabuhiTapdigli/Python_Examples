{
 "cells": [
  {
   "cell_type": "code",
   "execution_count": 37,
   "metadata": {},
   "outputs": [
    {
     "name": "stdout",
     "output_type": "stream",
     "text": [
      "24\n",
      "Not weird\n"
     ]
    }
   ],
   "source": [
    "# Python If-Else\n",
    "# Given an integer, n , perform the following conditional actions:\n",
    "\n",
    "# If n is odd, print Weird\n",
    "# If n is even and in the inclusive range of 2 to 5,  print Not Weird\n",
    "# If n is even and in the inclusive range of 6 to 20, print Weird\n",
    "# If n is even and greater than 20, print Not Weird\n",
    "# Sample Input 0\n",
    "\n",
    "# 3\n",
    "# Sample Output 0\n",
    "\n",
    "# Weird\n",
    "\n",
    "a=input()\n",
    "a=int(a)\n",
    "\n",
    "if a%2==1:\n",
    "    print('weird')\n",
    "elif a%2==0 and 2<=a<=5:\n",
    "    print(\"not weird\")\n",
    "elif a%2==0 and 6<=a<=20:\n",
    "    print(\"Weird\")\n",
    "else:\n",
    "    print(\"Not weird\")\n",
    "\n",
    "\n"
   ]
  },
  {
   "cell_type": "code",
   "execution_count": 11,
   "metadata": {},
   "outputs": [
    {
     "name": "stdout",
     "output_type": "stream",
     "text": [
      "10\n",
      "10\n",
      "20\n",
      "0\n",
      "20\n"
     ]
    }
   ],
   "source": [
    "# Arithmetic Operators\n",
    "# Task\n",
    "# Read two integers from STDIN and print three lines where:\n",
    "\n",
    "# The first line contains the sum of the two numbers.\n",
    "# The second line contains the difference of the two numbers (first - second).\n",
    "# The third line contains the product of the two numbers.\n",
    "# Sample Input 0\n",
    "\n",
    "# 3\n",
    "# 2\n",
    "# Sample Output 0\n",
    "\n",
    "# 5\n",
    "# 1\n",
    "# 6\n",
    "\n",
    "\n",
    "\"\"\"a, b = int(input())\n",
    "print(a + b,a - b,a * b,sep=\"\\n\")\"\"\"\n",
    "\n",
    "def myfunc(a,b):\n",
    "    first= a+b\n",
    "    second= a-b\n",
    "    third =first+second\n",
    "    return first,second,third\n",
    "a=input()\n",
    "a=int(a)\n",
    "b=input()\n",
    "b=int(b)\n",
    "x=myfunc(a,b)\n",
    "print(x[0],x[1],x[2], sep=\"\\n\")\n",
    "    "
   ]
  },
  {
   "cell_type": "code",
   "execution_count": 4,
   "metadata": {
    "scrolled": true
   },
   "outputs": [
    {
     "name": "stdout",
     "output_type": "stream",
     "text": [
      "4\n",
      "2\n",
      "2\n",
      "2.0\n"
     ]
    }
   ],
   "source": [
    "# Python: Division\n",
    "#     Task\n",
    "# Read two integers and print two lines. The first line should contain integer division,  // . The second line should contain float division,  / .\n",
    "\n",
    "# You don't need to perform any rounding or formatting operations.\n",
    "# Sample Input 0\n",
    "\n",
    "# 4\n",
    "# 3\n",
    "# Sample Output 0\n",
    "\n",
    "1\n",
    "1.33333333333\n",
    "a=int(input())\n",
    "b=int(input())\n",
    "x=int(a/b)\n",
    "y=a/b\n",
    "print(x,y,sep=\"\\n\")\n",
    "\n",
    "\n"
   ]
  },
  {
   "cell_type": "code",
   "execution_count": 5,
   "metadata": {},
   "outputs": [
    {
     "name": "stdout",
     "output_type": "stream",
     "text": [
      "5\n",
      "0\n",
      "1\n",
      "4\n",
      "9\n",
      "16\n"
     ]
    }
   ],
   "source": [
    "# Loops\n",
    "# Task\n",
    "# Read an integer . For all non-negative integers , print . See the sample for details.\n",
    "# Sample Input 0\n",
    "\n",
    "# 5\n",
    "# Sample Output 0\n",
    "\n",
    "# 0\n",
    "# 1\n",
    "# 4\n",
    "# 9\n",
    "# 16\n",
    "\n",
    "x=int(input())\n",
    "i=0\n",
    "while i<=20:\n",
    "    print(i**2)\n",
    "    if i==x-1:\n",
    "        break\n",
    "    i+=1"
   ]
  },
  {
   "cell_type": "code",
   "execution_count": 6,
   "metadata": {},
   "outputs": [
    {
     "name": "stdout",
     "output_type": "stream",
     "text": [
      "2000\n",
      "True\n"
     ]
    }
   ],
   "source": [
    "# We add a Leap Day on February 29, almost every four years. The leap day is an extra, or intercalary day and we add it to the shortest month of the year, February.\n",
    "# In the Gregorian calendar three criteria must be taken into account to identify leap years:\n",
    "\n",
    "# The year can be evenly divided by 4, is a leap year, unless:\n",
    "# The year can be evenly divided by 100, it is NOT a leap year, unless:\n",
    "# The year is also evenly divisible by 400. Then it is a leap year.\n",
    "# This means that in the Gregorian calendar, the years 2000 and 2400 are leap years, while 1800, 1900, 2100, 2200, 2300 and 2500 are NOT leap years.Source\n",
    "\n",
    "# Task\n",
    "# You are given the year, and you have to write a function to check if the year is leap or not.\n",
    "\n",
    "# Note that you have to complete the function and remaining code is given as template.\n",
    "# Sample Input 0\n",
    "\n",
    "# 1990\n",
    "# Sample Output 0\n",
    "\n",
    "# False\n",
    "\n",
    "\"\"\"def is_leap(year):\n",
    "    \n",
    "\n",
    "    if 1900<=year<=10**5 and year%4==0 and year%400==0:\n",
    "        return True\n",
    "    elif 1900<=year<=10**5:\n",
    "        return False\n",
    "        \n",
    "year = int(input())\n",
    "print(is_leap(year))\"\"\"\n",
    "def is_leap(year):\n",
    "    if year%400==0:\n",
    "        return True\n",
    "    elif year%100==0:\n",
    "        return False\n",
    "    elif year%4==0:\n",
    "        return True\n",
    "    else:\n",
    "        return False\n",
    "\n",
    "year = int(input())\n",
    "print(is_leap(year))\n",
    "\n",
    "\n"
   ]
  },
  {
   "cell_type": "code",
   "execution_count": 7,
   "metadata": {},
   "outputs": [
    {
     "name": "stdout",
     "output_type": "stream",
     "text": [
      "4\n",
      "1234"
     ]
    }
   ],
   "source": [
    "# Print Function\n",
    "# Read an integer N .\n",
    "\n",
    "# Without using any string methods, try to print the following:\n",
    "\n",
    "# 123...N\n",
    "\n",
    "# Note that \"...\" represents the values in between.\n",
    "# Sample Input 0\n",
    "\n",
    "# 3\n",
    "# Sample Output 0\n",
    "\n",
    "# 123\n",
    "\n",
    "i=1\n",
    "x=int(input())\n",
    "while i<=x:\n",
    "    print(i,end=\"\")\n",
    "    i+=1\n",
    "    \n"
   ]
  },
  {
   "cell_type": "code",
   "execution_count": 10,
   "metadata": {},
   "outputs": [
    {
     "name": "stdout",
     "output_type": "stream",
     "text": [
      "3\n",
      "3 5 6 7 8\n",
      "7\n"
     ]
    }
   ],
   "source": [
    "# Find the Runner-Up Score!\n",
    "# Given the participants' score sheet for your University Sports Day, you are required to find the runner-up score. You are given  scores. Store them in a list and find the score of the runner-up.\n",
    "\n",
    "# Input Format\n",
    "\n",
    "# The first line contains . The second line contains an array A[] of n integers each separated by a space.\n",
    "# Sample Input 0\n",
    "\n",
    "# 5\n",
    "# 2 3 6 6 5\n",
    "# Sample Output 0\n",
    "\n",
    "# 5\n",
    "\n",
    "n = int(input())\n",
    "arr = list(map(int, input().split()))\n",
    "largest = max(arr)\n",
    "\n",
    "for i in range(n):\n",
    "    if largest == max(arr):\n",
    "        arr.remove(max(arr))\n",
    "\n",
    "print(max(arr))"
   ]
  }
 ],
 "metadata": {
  "kernelspec": {
   "display_name": "Python 3",
   "language": "python",
   "name": "python3"
  },
  "language_info": {
   "codemirror_mode": {
    "name": "ipython",
    "version": 3
   },
   "file_extension": ".py",
   "mimetype": "text/x-python",
   "name": "python",
   "nbconvert_exporter": "python",
   "pygments_lexer": "ipython3",
   "version": "3.7.4"
  }
 },
 "nbformat": 4,
 "nbformat_minor": 2
}
