{
 "cells": [
  {
   "cell_type": "code",
   "execution_count": 23,
   "metadata": {},
   "outputs": [],
   "source": [
    "import timeit"
   ]
  },
  {
   "cell_type": "code",
   "execution_count": 25,
   "metadata": {},
   "outputs": [],
   "source": [
    " t = timeit.Timer()"
   ]
  },
  {
   "cell_type": "code",
   "execution_count": 40,
   "metadata": {},
   "outputs": [
    {
     "name": "stdout",
     "output_type": "stream",
     "text": [
      "Iteration 9\n",
      "My guess is 5.000037942835659 sqrt of125\n",
      "0.02441709999948216\n"
     ]
    }
   ],
   "source": [
    "#Newton Rapson\n",
    "epsilon=0.01\n",
    "y=125\n",
    "guess=1\n",
    "numGuess=0\n",
    "while abs(guess**3-y)>=epsilon: \n",
    "    numGuess+=1\n",
    "    guess=guess-(((guess**3)-y)/(3*guess**2)) # 1-(1*1-24)/2 =12.5\n",
    "print(\"Iteration \"+str(numGuess))\n",
    "print(\"My guess is \" +str(guess), \"sqrt of\" +str(y))\n",
    "print(t.timeit())"
   ]
  },
  {
   "cell_type": "code",
   "execution_count": 38,
   "metadata": {},
   "outputs": [
    {
     "name": "stdout",
     "output_type": "stream",
     "text": [
      "Iteration  400\n",
      "4.999999999999937 close to 125\n",
      "0.017049999999471765\n"
     ]
    }
   ],
   "source": [
    "#Approximate Solution\n",
    "cube=125\n",
    "epsilon=0.01\n",
    "guess=1\n",
    "increment=0.01\n",
    "num_guess=0\n",
    "while abs(guess**3-cube)>=epsilon and guess<=cube:\n",
    "    guess+=increment\n",
    "    num_guess+=1\n",
    "print(\"Iteration \", num_guess)\n",
    "if abs(guess**3-cube)>=epsilon:\n",
    "    print(\"Failed on cube root of\",cube)\n",
    "else:\n",
    "    print(guess,\"close to\", cube)\n",
    "print(t.timeit())"
   ]
  },
  {
   "cell_type": "code",
   "execution_count": 20,
   "metadata": {},
   "outputs": [
    {
     "name": "stdout",
     "output_type": "stream",
     "text": [
      "Please think of a number between 0 and 100!\n",
      "Enter 'h' to indicate the guess is too high. Enter 'l' to indicate the guess is too low. Enter 'c' to indicate I guessed correctly.\n",
      "Is your secret number 50h\n",
      "Is your secret number 25l\n",
      "Is your secret number 37h\n",
      "Is your secret number 31h\n",
      "Is your secret number 28h\n",
      "Is your secret number 26l\n",
      "Is your secret number 27c\n",
      "I guessed correctly\n"
     ]
    }
   ],
   "source": [
    "#Binary Search\n",
    "\n",
    "print(\"Please think of a number between 0 and 100!\")\n",
    "print(\"Enter 'h' to indicate the guess is too high. Enter 'l' to indicate the guess is too low. Enter 'c' to indicate I guessed correctly.\")\n",
    "Secret_num=input(\"Is your secret number 50\")\n",
    "high=100\n",
    "low=0\n",
    "ans=(high+low)/2 \n",
    "while True:\n",
    "    if Secret_num==\"h\":  \n",
    "        high=ans\n",
    "        ans=int((high+low)/2) \n",
    "        Secret_num=input(\"Is your secret number \"+str(ans)) \n",
    "    elif Secret_num==\"l\":\n",
    "        low= ans \n",
    "        ans=int((high+low)/2)\n",
    "        Secret_num=input(\"Is your secret number \"+str(ans))\n",
    "    elif Secret_num==\"c\":\n",
    "        print(\"I guessed correctly\")\n",
    "        break\n",
    "    else:\n",
    "        print(\"Sorry, I did not understand your input\")\n",
    "        Secret_num=input(\"Is your secret number 50\")\n",
    "        low = 0 \n",
    "        high = 100\n",
    "        ans = int((high + low)/2)"
   ]
  }
 ],
 "metadata": {
  "kernelspec": {
   "display_name": "Python 3",
   "language": "python",
   "name": "python3"
  },
  "language_info": {
   "codemirror_mode": {
    "name": "ipython",
    "version": 3
   },
   "file_extension": ".py",
   "mimetype": "text/x-python",
   "name": "python",
   "nbconvert_exporter": "python",
   "pygments_lexer": "ipython3",
   "version": "3.7.4"
  }
 },
 "nbformat": 4,
 "nbformat_minor": 2
}
